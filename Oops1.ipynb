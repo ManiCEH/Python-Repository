{
  "nbformat": 4,
  "nbformat_minor": 0,
  "metadata": {
    "colab": {
      "provenance": [],
      "authorship_tag": "ABX9TyN+0sYZ3tug+lby+9eWc4Nz",
      "include_colab_link": true
    },
    "kernelspec": {
      "name": "python3",
      "display_name": "Python 3"
    },
    "language_info": {
      "name": "python"
    }
  },
  "cells": [
    {
      "cell_type": "markdown",
      "metadata": {
        "id": "view-in-github",
        "colab_type": "text"
      },
      "source": [
        "<a href=\"https://colab.research.google.com/github/scaleracademy/BeginnersNovMon2-2022/blob/main/Oops1.ipynb\" target=\"_parent\"><img src=\"https://colab.research.google.com/assets/colab-badge.svg\" alt=\"Open In Colab\"/></a>"
      ]
    },
    {
      "cell_type": "code",
      "execution_count": 1,
      "metadata": {
        "id": "-ogkvV7FzDfT"
      },
      "outputs": [],
      "source": [
        "class Car:\n",
        "  model = 'sedan'\n",
        "  color = 'Red'\n",
        "  price = 1000000\n",
        "  def drive():\n",
        "    print('zoom zoom zoom')\n",
        "  def lock():\n",
        "    print('your car is locked')  \n",
        "  def unlock():\n",
        "    print('your car is unlocked')  "
      ]
    },
    {
      "cell_type": "code",
      "source": [
        "c1 = Car()"
      ],
      "metadata": {
        "id": "kE5okhJ0zQU7"
      },
      "execution_count": 2,
      "outputs": []
    },
    {
      "cell_type": "code",
      "source": [
        "c2 = Car()"
      ],
      "metadata": {
        "id": "V1XvP_nVzQSP"
      },
      "execution_count": 3,
      "outputs": []
    },
    {
      "cell_type": "code",
      "source": [
        "c1.model"
      ],
      "metadata": {
        "colab": {
          "base_uri": "https://localhost:8080/",
          "height": 36
        },
        "id": "lF387O3QzQPa",
        "outputId": "047e3737-ae38-466a-c07b-e25d077e48a4"
      },
      "execution_count": 4,
      "outputs": [
        {
          "output_type": "execute_result",
          "data": {
            "text/plain": [
              "'sedan'"
            ],
            "application/vnd.google.colaboratory.intrinsic+json": {
              "type": "string"
            }
          },
          "metadata": {},
          "execution_count": 4
        }
      ]
    },
    {
      "cell_type": "code",
      "source": [
        "c2.model"
      ],
      "metadata": {
        "colab": {
          "base_uri": "https://localhost:8080/",
          "height": 36
        },
        "id": "fRJqFsyRzQMm",
        "outputId": "142e56c6-8165-4c55-b292-00220af79463"
      },
      "execution_count": 5,
      "outputs": [
        {
          "output_type": "execute_result",
          "data": {
            "text/plain": [
              "'sedan'"
            ],
            "application/vnd.google.colaboratory.intrinsic+json": {
              "type": "string"
            }
          },
          "metadata": {},
          "execution_count": 5
        }
      ]
    },
    {
      "cell_type": "code",
      "source": [
        "print(c1.model,c1.color,c1.price)"
      ],
      "metadata": {
        "colab": {
          "base_uri": "https://localhost:8080/"
        },
        "id": "aMM4x4nKzQKK",
        "outputId": "6039faf0-f17a-4dee-b763-caa121c7dede"
      },
      "execution_count": 6,
      "outputs": [
        {
          "output_type": "stream",
          "name": "stdout",
          "text": [
            "sedan Red 1000000\n"
          ]
        }
      ]
    },
    {
      "cell_type": "code",
      "source": [
        "#What is the ouput of the following code?\n",
        "class Car:\n",
        "    model = 'Hashback'\n",
        "    color = 'Red'\n",
        "    price = 1000000\n",
        "\n",
        "    def drive(self):\n",
        "        print(\"zoom zoom\")\n",
        "c1 = Car()\n",
        "c2 = Car()\n",
        "print(c2.model, c2.color, c2.price)"
      ],
      "metadata": {
        "colab": {
          "base_uri": "https://localhost:8080/"
        },
        "id": "JMrNa7orzQH3",
        "outputId": "71d92f3c-5d46-4a7f-a4b7-59ce3cfd39e7"
      },
      "execution_count": 8,
      "outputs": [
        {
          "output_type": "stream",
          "name": "stdout",
          "text": [
            "Hashback Red 1000000\n"
          ]
        }
      ]
    },
    {
      "cell_type": "code",
      "source": [
        "#What is the ouput of following code?\n",
        "class Car:\n",
        "    model = 'Hashback'\n",
        "    color = 'Red'\n",
        "    price = 1000000\n",
        "\n",
        "    def drive(self):\n",
        "        print(\"zoom zoom\")\n",
        "c1 = Car()\n",
        "c2 = Car()\n",
        "c2.color = 'Black'\n",
        "print(c1.color, c2.color)"
      ],
      "metadata": {
        "colab": {
          "base_uri": "https://localhost:8080/"
        },
        "id": "M-WjcLDCzQFL",
        "outputId": "94aa4687-6006-4367-ddf8-d201c32e2a6e"
      },
      "execution_count": 7,
      "outputs": [
        {
          "output_type": "stream",
          "name": "stdout",
          "text": [
            "Red Black\n"
          ]
        }
      ]
    },
    {
      "cell_type": "code",
      "source": [
        "# What is the ouput of the following code?\n",
        "class Car:\n",
        "    model = 'Hashback'\n",
        "    color = 'Red'\n",
        "    price = 1000000\n",
        "\n",
        "    def drive(self):\n",
        "        print(\"zoom zoom\")\n",
        "c1 = Car()\n",
        "c2 = Car()\n",
        "c2.fuel = 'Diesel'\n",
        "print(c2.fuel)"
      ],
      "metadata": {
        "colab": {
          "base_uri": "https://localhost:8080/"
        },
        "id": "AM6a78TxzQCh",
        "outputId": "d9f41a5a-205a-4e61-bd98-4933669c7adf"
      },
      "execution_count": 9,
      "outputs": [
        {
          "output_type": "stream",
          "name": "stdout",
          "text": [
            "Diesel\n"
          ]
        }
      ]
    },
    {
      "cell_type": "code",
      "source": [
        "c1.fuel"
      ],
      "metadata": {
        "colab": {
          "base_uri": "https://localhost:8080/",
          "height": 168
        },
        "id": "NIJV5tavCxlT",
        "outputId": "c2940d76-5869-464b-8234-b9c51691b89b"
      },
      "execution_count": 10,
      "outputs": [
        {
          "output_type": "error",
          "ename": "AttributeError",
          "evalue": "ignored",
          "traceback": [
            "\u001b[0;31m---------------------------------------------------------------------------\u001b[0m",
            "\u001b[0;31mAttributeError\u001b[0m                            Traceback (most recent call last)",
            "\u001b[0;32m<ipython-input-10-a27aaf563612>\u001b[0m in \u001b[0;36m<module>\u001b[0;34m\u001b[0m\n\u001b[0;32m----> 1\u001b[0;31m \u001b[0mc1\u001b[0m\u001b[0;34m.\u001b[0m\u001b[0mfuel\u001b[0m\u001b[0;34m\u001b[0m\u001b[0;34m\u001b[0m\u001b[0m\n\u001b[0m",
            "\u001b[0;31mAttributeError\u001b[0m: 'Car' object has no attribute 'fuel'"
          ]
        }
      ]
    },
    {
      "cell_type": "code",
      "source": [
        "c1.fuel = 'cng'"
      ],
      "metadata": {
        "id": "XpwrvDVcC68u"
      },
      "execution_count": 11,
      "outputs": []
    },
    {
      "cell_type": "code",
      "source": [
        "c1.fuel"
      ],
      "metadata": {
        "colab": {
          "base_uri": "https://localhost:8080/",
          "height": 36
        },
        "id": "rC6Rp0-ADBnN",
        "outputId": "a77fa17f-3377-46d5-9359-c4892bdaec0c"
      },
      "execution_count": 12,
      "outputs": [
        {
          "output_type": "execute_result",
          "data": {
            "text/plain": [
              "'cng'"
            ],
            "application/vnd.google.colaboratory.intrinsic+json": {
              "type": "string"
            }
          },
          "metadata": {},
          "execution_count": 12
        }
      ]
    },
    {
      "cell_type": "code",
      "source": [
        "class Car:\n",
        "  model = 'sedan'\n",
        "  color = 'Red'\n",
        "  price = 1000000\n",
        "  def drive(self):\n",
        "    print('zoom zoom zoom')\n",
        "  def lock(meghana):\n",
        "    print('your car is locked')  \n",
        "  def unlock(self):\n",
        "    print('your car is unlocked')  "
      ],
      "metadata": {
        "id": "-Gws96gvEQMR"
      },
      "execution_count": 31,
      "outputs": []
    },
    {
      "cell_type": "code",
      "source": [
        "c1 = Car()\n",
        "c1.drive()"
      ],
      "metadata": {
        "colab": {
          "base_uri": "https://localhost:8080/"
        },
        "id": "jz01UH7JERVU",
        "outputId": "ed38ee9e-3415-4fb9-92b0-0f1f7dc7687c"
      },
      "execution_count": 28,
      "outputs": [
        {
          "output_type": "stream",
          "name": "stdout",
          "text": [
            "zoom zoom zoom\n"
          ]
        }
      ]
    },
    {
      "cell_type": "code",
      "source": [
        "Car.drive(c1)"
      ],
      "metadata": {
        "colab": {
          "base_uri": "https://localhost:8080/"
        },
        "id": "WYIaHcX8J1AY",
        "outputId": "980d042e-a838-4144-ac12-46dcb9e6a67c"
      },
      "execution_count": 29,
      "outputs": [
        {
          "output_type": "stream",
          "name": "stdout",
          "text": [
            "zoom zoom zoom\n"
          ]
        }
      ]
    },
    {
      "cell_type": "code",
      "source": [
        "c1.lock()"
      ],
      "metadata": {
        "colab": {
          "base_uri": "https://localhost:8080/"
        },
        "id": "LdJV1r7WHMy_",
        "outputId": "9dc625b8-af10-41f7-c88d-e6b2a03067b2"
      },
      "execution_count": 19,
      "outputs": [
        {
          "output_type": "stream",
          "name": "stdout",
          "text": [
            "your car is locked\n"
          ]
        }
      ]
    },
    {
      "cell_type": "code",
      "source": [
        "c3 = Car()"
      ],
      "metadata": {
        "id": "uQkp5zcpHa46"
      },
      "execution_count": 34,
      "outputs": []
    },
    {
      "cell_type": "code",
      "source": [
        "c3.unlock()"
      ],
      "metadata": {
        "colab": {
          "base_uri": "https://localhost:8080/"
        },
        "id": "jVxmfs1FHUX5",
        "outputId": "973d0c0a-1edb-4048-bc2a-fb0164c7fd2e"
      },
      "execution_count": 35,
      "outputs": [
        {
          "output_type": "stream",
          "name": "stdout",
          "text": [
            "your car is unlocked\n"
          ]
        }
      ]
    },
    {
      "cell_type": "code",
      "source": [
        "Car.unlock(c3)"
      ],
      "metadata": {
        "colab": {
          "base_uri": "https://localhost:8080/"
        },
        "id": "KXaRpjpSJ_c1",
        "outputId": "ca1461b0-aca0-47a8-a719-c2c6ac80be2a"
      },
      "execution_count": 32,
      "outputs": [
        {
          "output_type": "stream",
          "name": "stdout",
          "text": [
            "your car is unlocked\n"
          ]
        }
      ]
    },
    {
      "cell_type": "code",
      "source": [
        "class Car:\n",
        "  model = 'sedan'\n",
        "  color = 'Red'\n",
        "  price = 1000000\n",
        "  def drive(self):\n",
        "    print('zoom zoom zoom')\n",
        "  def lock(self):\n",
        "    print('your car is locked')  \n",
        "  def unlock(self):\n",
        "    print('your car is unlocked') \n",
        "  def printdetails(self):\n",
        "     print(self.model)\n",
        "     print(self.color)\n",
        "     print(self.price)   \n",
        "     print(id(self))"
      ],
      "metadata": {
        "id": "3pekLZeIKMiP"
      },
      "execution_count": 43,
      "outputs": []
    },
    {
      "cell_type": "code",
      "source": [
        "c1 = Car()\n",
        "c1.printdetails()\n"
      ],
      "metadata": {
        "colab": {
          "base_uri": "https://localhost:8080/"
        },
        "id": "lV-2JeptKf-k",
        "outputId": "68316e5f-da51-4476-9d9c-9afe9eb6b12d"
      },
      "execution_count": 42,
      "outputs": [
        {
          "output_type": "stream",
          "name": "stdout",
          "text": [
            "sedan\n",
            "Red\n",
            "1000000\n",
            "139623311463712\n"
          ]
        }
      ]
    },
    {
      "cell_type": "code",
      "source": [
        "print(id(c1))"
      ],
      "metadata": {
        "colab": {
          "base_uri": "https://localhost:8080/"
        },
        "id": "AF1J8lksL70y",
        "outputId": "be579135-1590-4006-f594-942cd5981278"
      },
      "execution_count": 44,
      "outputs": [
        {
          "output_type": "stream",
          "name": "stdout",
          "text": [
            "139623311463712\n"
          ]
        }
      ]
    },
    {
      "cell_type": "code",
      "source": [
        "Car.printdetails(c1)"
      ],
      "metadata": {
        "colab": {
          "base_uri": "https://localhost:8080/"
        },
        "id": "gFdgG90sL_ta",
        "outputId": "0cbd2393-fce6-44ca-a91b-175c07dde056"
      },
      "execution_count": 45,
      "outputs": [
        {
          "output_type": "stream",
          "name": "stdout",
          "text": [
            "sedan\n",
            "Red\n",
            "1000000\n",
            "139623311463712\n"
          ]
        }
      ]
    },
    {
      "cell_type": "code",
      "source": [
        "c1.model"
      ],
      "metadata": {
        "colab": {
          "base_uri": "https://localhost:8080/",
          "height": 36
        },
        "id": "vV2G_52YLGGg",
        "outputId": "05d7bc76-8f13-4ba0-9b51-c97148f63cbd"
      },
      "execution_count": 40,
      "outputs": [
        {
          "output_type": "execute_result",
          "data": {
            "text/plain": [
              "'sedan'"
            ],
            "application/vnd.google.colaboratory.intrinsic+json": {
              "type": "string"
            }
          },
          "metadata": {},
          "execution_count": 40
        }
      ]
    },
    {
      "cell_type": "code",
      "source": [
        "c1.color"
      ],
      "metadata": {
        "colab": {
          "base_uri": "https://localhost:8080/",
          "height": 36
        },
        "id": "GycXxEeMLJ9j",
        "outputId": "f52522b8-7c97-4f19-edc1-4b639fc81db0"
      },
      "execution_count": 41,
      "outputs": [
        {
          "output_type": "execute_result",
          "data": {
            "text/plain": [
              "'Red'"
            ],
            "application/vnd.google.colaboratory.intrinsic+json": {
              "type": "string"
            }
          },
          "metadata": {},
          "execution_count": 41
        }
      ]
    },
    {
      "cell_type": "code",
      "source": [
        "class Car:\n",
        "  model = 'sedan'\n",
        "  color = 'Red'\n",
        "  price = 1000000\n",
        "  def drive(self):\n",
        "    print('zoom zoom zoom')\n",
        "  def lock(self):\n",
        "    print('your car is locked')  \n",
        "  def unlock(self):\n",
        "    print('your car is unlocked') \n",
        "  def printdetails(self):\n",
        "     print(self.model)\n",
        "     print(self.color)\n",
        "     print(self.price) \n",
        "     print(id(self))  \n",
        "     "
      ],
      "metadata": {
        "id": "IvB-5TEpMRMu"
      },
      "execution_count": 49,
      "outputs": []
    },
    {
      "cell_type": "code",
      "source": [
        "c2 = Car()\n",
        "c2.color = 'Black'\n",
        "c2.printdetails()"
      ],
      "metadata": {
        "colab": {
          "base_uri": "https://localhost:8080/"
        },
        "id": "QHf5Mc_eMTGN",
        "outputId": "59f111db-7281-4f0c-ce4f-02b6f176484e"
      },
      "execution_count": 50,
      "outputs": [
        {
          "output_type": "stream",
          "name": "stdout",
          "text": [
            "sedan\n",
            "Black\n",
            "1000000\n",
            "139623311465968\n"
          ]
        }
      ]
    },
    {
      "cell_type": "code",
      "source": [
        "print(id(c2))"
      ],
      "metadata": {
        "colab": {
          "base_uri": "https://localhost:8080/"
        },
        "id": "m3qmZ6WQMr2Q",
        "outputId": "cc7d2917-cac3-46e2-ad5d-df349b648b89"
      },
      "execution_count": 51,
      "outputs": [
        {
          "output_type": "stream",
          "name": "stdout",
          "text": [
            "139623311465968\n"
          ]
        }
      ]
    },
    {
      "cell_type": "code",
      "source": [
        "class Car:\n",
        "  model = 'sedan'\n",
        "  color = 'Red'\n",
        "  price = 1000000\n",
        "  def drive(self):\n",
        "    print('zoom zoom zoom')\n",
        "  def lock(self):\n",
        "    print('your car is locked')  \n",
        "  def unlock(self):\n",
        "    print('your car is unlocked') \n",
        "  def printdetails(self,a,b,c=100):\n",
        "     print(self.model)\n",
        "     print(self.color)\n",
        "     print(self.price) \n",
        "     print(a,b,c)\n",
        "   "
      ],
      "metadata": {
        "id": "kfhkn2ShNCV4"
      },
      "execution_count": 59,
      "outputs": []
    },
    {
      "cell_type": "code",
      "source": [
        "c1 = Car()"
      ],
      "metadata": {
        "id": "VFM-X_PtN1iz"
      },
      "execution_count": 60,
      "outputs": []
    },
    {
      "cell_type": "code",
      "source": [
        "c1.printdetails(10,40)"
      ],
      "metadata": {
        "colab": {
          "base_uri": "https://localhost:8080/"
        },
        "id": "A_4u7aGdN_8i",
        "outputId": "edc6daa2-27ab-41ae-d025-2a9981dad1f1"
      },
      "execution_count": 61,
      "outputs": [
        {
          "output_type": "stream",
          "name": "stdout",
          "text": [
            "sedan\n",
            "Red\n",
            "1000000\n",
            "10 40 100\n"
          ]
        }
      ]
    },
    {
      "cell_type": "code",
      "source": [
        "\n",
        "c1.printdetails()"
      ],
      "metadata": {
        "colab": {
          "base_uri": "https://localhost:8080/",
          "height": 186
        },
        "id": "9SFpKL5SNQ6r",
        "outputId": "90593baf-31b6-40b0-e528-cb8ade096a73"
      },
      "execution_count": 53,
      "outputs": [
        {
          "output_type": "error",
          "ename": "TypeError",
          "evalue": "ignored",
          "traceback": [
            "\u001b[0;31m---------------------------------------------------------------------------\u001b[0m",
            "\u001b[0;31mTypeError\u001b[0m                                 Traceback (most recent call last)",
            "\u001b[0;32m<ipython-input-53-991d720aece6>\u001b[0m in \u001b[0;36m<module>\u001b[0;34m\u001b[0m\n\u001b[1;32m      1\u001b[0m \u001b[0mc1\u001b[0m \u001b[0;34m=\u001b[0m \u001b[0mCar\u001b[0m\u001b[0;34m(\u001b[0m\u001b[0;34m)\u001b[0m\u001b[0;34m\u001b[0m\u001b[0;34m\u001b[0m\u001b[0m\n\u001b[0;32m----> 2\u001b[0;31m \u001b[0mc1\u001b[0m\u001b[0;34m.\u001b[0m\u001b[0mprintdetails\u001b[0m\u001b[0;34m(\u001b[0m\u001b[0;34m)\u001b[0m\u001b[0;34m\u001b[0m\u001b[0;34m\u001b[0m\u001b[0m\n\u001b[0m",
            "\u001b[0;31mTypeError\u001b[0m: printdetails() missing 3 required positional arguments: 'a', 'b', and 'c'"
          ]
        }
      ]
    },
    {
      "cell_type": "code",
      "source": [
        "c1.printdetails(10,40,'aasma')"
      ],
      "metadata": {
        "colab": {
          "base_uri": "https://localhost:8080/"
        },
        "id": "4Hhbl2qnNmUr",
        "outputId": "19ad20b9-bb3b-4570-fb07-fe1982b9f127"
      },
      "execution_count": 58,
      "outputs": [
        {
          "output_type": "stream",
          "name": "stdout",
          "text": [
            "sedan\n",
            "Red\n",
            "1000000\n",
            "10 40 aasma\n"
          ]
        }
      ]
    },
    {
      "cell_type": "code",
      "source": [
        "class Car:\n",
        "  model = 'sedan'\n",
        "  color = 'Red'\n",
        "  price = 1000000\n",
        "  def drive():\n",
        "    print('zoom zoom zoom')\n",
        "  def lock():\n",
        "    print('your car is locked')  \n",
        "  def unlock():\n",
        "    print('your car is unlocked')  "
      ],
      "metadata": {
        "id": "ZWzBYlqtRDMq"
      },
      "execution_count": 66,
      "outputs": []
    },
    {
      "cell_type": "code",
      "source": [
        "c1 = Car()\n",
        "c1.model"
      ],
      "metadata": {
        "colab": {
          "base_uri": "https://localhost:8080/",
          "height": 36
        },
        "id": "mmYR1gEbRENE",
        "outputId": "8461be53-4335-47c2-a611-dcf4f5cafb1f"
      },
      "execution_count": 67,
      "outputs": [
        {
          "output_type": "execute_result",
          "data": {
            "text/plain": [
              "'sedan'"
            ],
            "application/vnd.google.colaboratory.intrinsic+json": {
              "type": "string"
            }
          },
          "metadata": {},
          "execution_count": 67
        }
      ]
    },
    {
      "cell_type": "code",
      "source": [
        "class Car:\n",
        "  def __init__(self):\n",
        "    self.model = 'sedan'\n",
        "    self.color = 'Red'\n",
        "    self.price = 1000000\n",
        "  def drive(self):\n",
        "    print('zoom zoom zoom')\n",
        "  def lock(self):\n",
        "    print('your car is locked')  \n",
        "  def unlock(self):\n",
        "    print('your car is unlocked') \n",
        "  def printdetails(self,a,b,c=100):\n",
        "     print(self.model)\n",
        "     print(self.color)\n",
        "     print(self.price) \n",
        "     print(a,b,c)"
      ],
      "metadata": {
        "id": "JB2-DFkxPqBQ"
      },
      "execution_count": 62,
      "outputs": []
    },
    {
      "cell_type": "code",
      "source": [
        "c = Car()"
      ],
      "metadata": {
        "id": "nPgwAOWYQ4oC"
      },
      "execution_count": 63,
      "outputs": []
    },
    {
      "cell_type": "code",
      "source": [
        "c.model"
      ],
      "metadata": {
        "colab": {
          "base_uri": "https://localhost:8080/",
          "height": 36
        },
        "id": "dp3se7sLQ76x",
        "outputId": "29786fa7-0586-4858-f36d-2db95e297cf3"
      },
      "execution_count": 64,
      "outputs": [
        {
          "output_type": "execute_result",
          "data": {
            "text/plain": [
              "'sedan'"
            ],
            "application/vnd.google.colaboratory.intrinsic+json": {
              "type": "string"
            }
          },
          "metadata": {},
          "execution_count": 64
        }
      ]
    },
    {
      "cell_type": "code",
      "source": [
        "class Car:\n",
        "  def __init__(self,model,color,price):\n",
        "    self.model = model\n",
        "    self.color = color\n",
        "    self.price = price\n",
        "  def drive(self):\n",
        "    print('zoom zoom zoom')\n",
        "  def lock(self):\n",
        "    print('your car is locked')  \n",
        "  def unlock(self):\n",
        "    print('your car is unlocked') \n",
        "  def printdetails(self,a,b,c=100):\n",
        "     print(self.model)\n",
        "     print(self.color)\n",
        "     print(self.price) \n",
        "     print(a,b,c)"
      ],
      "metadata": {
        "id": "smcsPM9lRX7f"
      },
      "execution_count": 70,
      "outputs": []
    },
    {
      "cell_type": "code",
      "source": [
        "c2 = Car('sedan','red',1000)"
      ],
      "metadata": {
        "id": "kxWUUQiARvxG"
      },
      "execution_count": 72,
      "outputs": []
    },
    {
      "cell_type": "code",
      "source": [
        "c3 = Car('Suv','black',5000)"
      ],
      "metadata": {
        "id": "qxWL_pzxR1BU"
      },
      "execution_count": 73,
      "outputs": []
    },
    {
      "cell_type": "code",
      "source": [
        "c2.model"
      ],
      "metadata": {
        "colab": {
          "base_uri": "https://localhost:8080/",
          "height": 36
        },
        "id": "geAg7bbtS3NH",
        "outputId": "055bee0d-4883-4b2c-b091-94a3b4e8eb71"
      },
      "execution_count": 74,
      "outputs": [
        {
          "output_type": "execute_result",
          "data": {
            "text/plain": [
              "'sedan'"
            ],
            "application/vnd.google.colaboratory.intrinsic+json": {
              "type": "string"
            }
          },
          "metadata": {},
          "execution_count": 74
        }
      ]
    },
    {
      "cell_type": "code",
      "source": [
        "c3.model"
      ],
      "metadata": {
        "colab": {
          "base_uri": "https://localhost:8080/",
          "height": 36
        },
        "id": "EM-i3v3RS7lg",
        "outputId": "66c74829-ae95-49ce-eb2e-ee9012832fef"
      },
      "execution_count": 75,
      "outputs": [
        {
          "output_type": "execute_result",
          "data": {
            "text/plain": [
              "'Suv'"
            ],
            "application/vnd.google.colaboratory.intrinsic+json": {
              "type": "string"
            }
          },
          "metadata": {},
          "execution_count": 75
        }
      ]
    },
    {
      "cell_type": "code",
      "source": [
        "#quiz\n",
        "# What is correct way to instansiate the Vehicle class:\n",
        "class Vehicle:\n",
        "    def __init__(self, name):\n",
        "        self.name = name"
      ],
      "metadata": {
        "id": "P6xd0B8iTOiJ"
      },
      "execution_count": 76,
      "outputs": []
    },
    {
      "cell_type": "code",
      "source": [
        "v =  Vehicle()"
      ],
      "metadata": {
        "colab": {
          "base_uri": "https://localhost:8080/",
          "height": 168
        },
        "id": "kMJTKk28TcIf",
        "outputId": "b71e5614-7dd2-4b37-e835-dda5336abb9d"
      },
      "execution_count": 77,
      "outputs": [
        {
          "output_type": "error",
          "ename": "TypeError",
          "evalue": "ignored",
          "traceback": [
            "\u001b[0;31m---------------------------------------------------------------------------\u001b[0m",
            "\u001b[0;31mTypeError\u001b[0m                                 Traceback (most recent call last)",
            "\u001b[0;32m<ipython-input-77-2d1b5ba89816>\u001b[0m in \u001b[0;36m<module>\u001b[0;34m\u001b[0m\n\u001b[0;32m----> 1\u001b[0;31m \u001b[0mv\u001b[0m \u001b[0;34m=\u001b[0m  \u001b[0mVehicle\u001b[0m\u001b[0;34m(\u001b[0m\u001b[0;34m)\u001b[0m\u001b[0;34m\u001b[0m\u001b[0;34m\u001b[0m\u001b[0m\n\u001b[0m",
            "\u001b[0;31mTypeError\u001b[0m: __init__() missing 1 required positional argument: 'name'"
          ]
        }
      ]
    },
    {
      "cell_type": "code",
      "source": [
        "v = Vehicle('tesla')"
      ],
      "metadata": {
        "id": "9xVFXNgoTsZq"
      },
      "execution_count": 78,
      "outputs": []
    },
    {
      "cell_type": "code",
      "source": [
        "v.name"
      ],
      "metadata": {
        "colab": {
          "base_uri": "https://localhost:8080/",
          "height": 36
        },
        "id": "ReZZZk4zTxhC",
        "outputId": "937a992c-ee29-4c30-d8b0-0f70beeba7e3"
      },
      "execution_count": 79,
      "outputs": [
        {
          "output_type": "execute_result",
          "data": {
            "text/plain": [
              "'tesla'"
            ],
            "application/vnd.google.colaboratory.intrinsic+json": {
              "type": "string"
            }
          },
          "metadata": {},
          "execution_count": 79
        }
      ]
    },
    {
      "cell_type": "code",
      "source": [
        "class Vehicle:\n",
        "    def __init__(self):\n",
        "        self.name = 'hello'"
      ],
      "metadata": {
        "id": "OvilMPVyT9H9"
      },
      "execution_count": 85,
      "outputs": []
    },
    {
      "cell_type": "code",
      "source": [
        "x = Vehicle()"
      ],
      "metadata": {
        "id": "NkVdgH33UArp"
      },
      "execution_count": 86,
      "outputs": []
    },
    {
      "cell_type": "code",
      "source": [
        "x.name"
      ],
      "metadata": {
        "colab": {
          "base_uri": "https://localhost:8080/",
          "height": 36
        },
        "id": "LHvL-2zTUWMX",
        "outputId": "b25490f4-7e2c-41ed-f5cf-f7e677cba691"
      },
      "execution_count": 87,
      "outputs": [
        {
          "output_type": "execute_result",
          "data": {
            "text/plain": [
              "'hello'"
            ],
            "application/vnd.google.colaboratory.intrinsic+json": {
              "type": "string"
            }
          },
          "metadata": {},
          "execution_count": 87
        }
      ]
    },
    {
      "cell_type": "code",
      "source": [
        "# In Python, what is the proper syntax to create an \n",
        "# object that is an instance of the Dog class which is defined below?\n",
        "class Dog:\n",
        "    def __init__(self, name, age):\n",
        "        self.name = name\n",
        "        self.age = age"
      ],
      "metadata": {
        "id": "DJ8d92tiU-f0"
      },
      "execution_count": 88,
      "outputs": []
    },
    {
      "cell_type": "code",
      "source": [
        "obj = Dog()"
      ],
      "metadata": {
        "colab": {
          "base_uri": "https://localhost:8080/",
          "height": 168
        },
        "id": "p7zhDZa4VxMM",
        "outputId": "82d334d4-b329-434a-9772-746f56ab90e4"
      },
      "execution_count": 89,
      "outputs": [
        {
          "output_type": "error",
          "ename": "TypeError",
          "evalue": "ignored",
          "traceback": [
            "\u001b[0;31m---------------------------------------------------------------------------\u001b[0m",
            "\u001b[0;31mTypeError\u001b[0m                                 Traceback (most recent call last)",
            "\u001b[0;32m<ipython-input-89-8ceebe1e6f3d>\u001b[0m in \u001b[0;36m<module>\u001b[0;34m\u001b[0m\n\u001b[0;32m----> 1\u001b[0;31m \u001b[0mobj\u001b[0m \u001b[0;34m=\u001b[0m \u001b[0mDog\u001b[0m\u001b[0;34m(\u001b[0m\u001b[0;34m)\u001b[0m\u001b[0;34m\u001b[0m\u001b[0;34m\u001b[0m\u001b[0m\n\u001b[0m",
            "\u001b[0;31mTypeError\u001b[0m: __init__() missing 2 required positional arguments: 'name' and 'age'"
          ]
        }
      ]
    },
    {
      "cell_type": "code",
      "source": [
        "obj = Dog('tommy',10)"
      ],
      "metadata": {
        "id": "drCg7SapV1Hq"
      },
      "execution_count": 90,
      "outputs": []
    },
    {
      "cell_type": "code",
      "source": [
        "obj.name"
      ],
      "metadata": {
        "colab": {
          "base_uri": "https://localhost:8080/",
          "height": 36
        },
        "id": "_exynJDVV6LV",
        "outputId": "87da115c-6265-484d-9986-b4afb1ffa65e"
      },
      "execution_count": 91,
      "outputs": [
        {
          "output_type": "execute_result",
          "data": {
            "text/plain": [
              "'tommy'"
            ],
            "application/vnd.google.colaboratory.intrinsic+json": {
              "type": "string"
            }
          },
          "metadata": {},
          "execution_count": 91
        }
      ]
    },
    {
      "cell_type": "code",
      "source": [
        "obj.age"
      ],
      "metadata": {
        "colab": {
          "base_uri": "https://localhost:8080/"
        },
        "id": "tX4MEYOMV8h8",
        "outputId": "0695d028-acc3-41b9-af65-5149f03a5ad3"
      },
      "execution_count": 92,
      "outputs": [
        {
          "output_type": "execute_result",
          "data": {
            "text/plain": [
              "10"
            ]
          },
          "metadata": {},
          "execution_count": 92
        }
      ]
    },
    {
      "cell_type": "code",
      "source": [
        "class Car:\n",
        "  def __init__(self,model,color,price=500):\n",
        "    self.model = model\n",
        "    self.color = color\n",
        "    self.price = price\n",
        "  def drive(self):\n",
        "    print('zoom zoom zoom')\n",
        "  def lock(self):\n",
        "    print('your car is locked')  \n",
        "  def unlock(self):\n",
        "    print('your car is unlocked') \n",
        "  def printdetails(self,a,b,c=100):\n",
        "     print(self.model)\n",
        "     print(self.color)\n",
        "     print(self.price) \n",
        "     print(a,b,c)"
      ],
      "metadata": {
        "id": "VYmmS0-_XpBZ"
      },
      "execution_count": 93,
      "outputs": []
    },
    {
      "cell_type": "code",
      "source": [
        "c = Car('suv','black')"
      ],
      "metadata": {
        "id": "6g12A0JXXq1M"
      },
      "execution_count": 94,
      "outputs": []
    },
    {
      "cell_type": "code",
      "source": [
        "c.model"
      ],
      "metadata": {
        "colab": {
          "base_uri": "https://localhost:8080/",
          "height": 36
        },
        "id": "R9xnpQRgXwEs",
        "outputId": "bf6a6ca4-bf8e-4491-a461-2e7059b6f4b9"
      },
      "execution_count": 95,
      "outputs": [
        {
          "output_type": "execute_result",
          "data": {
            "text/plain": [
              "'suv'"
            ],
            "application/vnd.google.colaboratory.intrinsic+json": {
              "type": "string"
            }
          },
          "metadata": {},
          "execution_count": 95
        }
      ]
    },
    {
      "cell_type": "code",
      "source": [
        "c.price"
      ],
      "metadata": {
        "colab": {
          "base_uri": "https://localhost:8080/"
        },
        "id": "WOg8rgSFXxaI",
        "outputId": "32c9bf3b-0283-441e-a7f8-b8e7463fbb38"
      },
      "execution_count": 96,
      "outputs": [
        {
          "output_type": "execute_result",
          "data": {
            "text/plain": [
              "500"
            ]
          },
          "metadata": {},
          "execution_count": 96
        }
      ]
    },
    {
      "cell_type": "code",
      "source": [
        "c = Car('suv','black',5000)"
      ],
      "metadata": {
        "id": "9hPX2knfX1GG"
      },
      "execution_count": 97,
      "outputs": []
    },
    {
      "cell_type": "code",
      "source": [
        "c.price"
      ],
      "metadata": {
        "colab": {
          "base_uri": "https://localhost:8080/"
        },
        "id": "cSpuTnraX3KR",
        "outputId": "6a55f340-c874-4a73-9d81-f91508a19c84"
      },
      "execution_count": 98,
      "outputs": [
        {
          "output_type": "execute_result",
          "data": {
            "text/plain": [
              "5000"
            ]
          },
          "metadata": {},
          "execution_count": 98
        }
      ]
    }
  ]
}