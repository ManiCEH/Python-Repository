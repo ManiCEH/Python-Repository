{
  "nbformat": 4,
  "nbformat_minor": 0,
  "metadata": {
    "colab": {
      "provenance": [],
      "authorship_tag": "ABX9TyNlRe/vtwzPWDVpu7LSjr1s",
      "include_colab_link": true
    },
    "kernelspec": {
      "name": "python3",
      "display_name": "Python 3"
    },
    "language_info": {
      "name": "python"
    }
  },
  "cells": [
    {
      "cell_type": "markdown",
      "metadata": {
        "id": "view-in-github",
        "colab_type": "text"
      },
      "source": [
        "<a href=\"https://colab.research.google.com/github/scaleracademy/BeginnersNovMon2-2022/blob/main/L5_ControlStatements_2.ipynb\" target=\"_parent\"><img src=\"https://colab.research.google.com/assets/colab-badge.svg\" alt=\"Open In Colab\"/></a>"
      ]
    },
    {
      "cell_type": "markdown",
      "source": [
        "<img src='https://media.makeameme.org/created/problems-problems-everywhere-x8mnbl.jpg' height=200 width=350>"
      ],
      "metadata": {
        "id": "oW8z8Hh2FY1p"
      }
    },
    {
      "cell_type": "markdown",
      "source": [
        "## Problem #1:\n",
        "WAP to determine whether a given input number is positive or not "
      ],
      "metadata": {
        "id": "_o94fIsgft9X"
      }
    },
    {
      "cell_type": "code",
      "source": [
        "n = int(input())\n",
        "if n>0:\n",
        "  print(\"n is positive\")\n",
        "else:\n",
        "  print(\"n is negative\")  "
      ],
      "metadata": {
        "id": "uVMJArwvhEzr",
        "colab": {
          "base_uri": "https://localhost:8080/"
        },
        "outputId": "ddaeb283-ef91-4a28-f4ee-651b8657dd70"
      },
      "execution_count": 1,
      "outputs": [
        {
          "output_type": "stream",
          "name": "stdout",
          "text": [
            "-10\n",
            "n is negative\n"
          ]
        }
      ]
    },
    {
      "cell_type": "code",
      "source": [
        "n = int(input())\n",
        "if n>0:\n",
        "  print(\"n is positive\")\n",
        "else:\n",
        "  print(\"n is negative\")"
      ],
      "metadata": {
        "id": "c-E5281fqL1M",
        "colab": {
          "base_uri": "https://localhost:8080/",
          "height": 257
        },
        "outputId": "1de5ff51-9c0c-48a9-87a9-623e7ba60c36"
      },
      "execution_count": 2,
      "outputs": [
        {
          "name": "stdout",
          "output_type": "stream",
          "text": [
            "5.0\n"
          ]
        },
        {
          "output_type": "error",
          "ename": "ValueError",
          "evalue": "ignored",
          "traceback": [
            "\u001b[0;31m---------------------------------------------------------------------------\u001b[0m",
            "\u001b[0;31mValueError\u001b[0m                                Traceback (most recent call last)",
            "\u001b[0;32m<ipython-input-2-8ecf1fcbe8dd>\u001b[0m in \u001b[0;36m<module>\u001b[0;34m\u001b[0m\n\u001b[0;32m----> 1\u001b[0;31m \u001b[0mn\u001b[0m \u001b[0;34m=\u001b[0m \u001b[0mint\u001b[0m\u001b[0;34m(\u001b[0m\u001b[0minput\u001b[0m\u001b[0;34m(\u001b[0m\u001b[0;34m)\u001b[0m\u001b[0;34m)\u001b[0m\u001b[0;34m\u001b[0m\u001b[0;34m\u001b[0m\u001b[0m\n\u001b[0m\u001b[1;32m      2\u001b[0m \u001b[0;32mif\u001b[0m \u001b[0mn\u001b[0m\u001b[0;34m>\u001b[0m\u001b[0;36m0\u001b[0m\u001b[0;34m:\u001b[0m\u001b[0;34m\u001b[0m\u001b[0;34m\u001b[0m\u001b[0m\n\u001b[1;32m      3\u001b[0m   \u001b[0mprint\u001b[0m\u001b[0;34m(\u001b[0m\u001b[0;34m\"n is positive\"\u001b[0m\u001b[0;34m)\u001b[0m\u001b[0;34m\u001b[0m\u001b[0;34m\u001b[0m\u001b[0m\n\u001b[1;32m      4\u001b[0m \u001b[0;32melse\u001b[0m\u001b[0;34m:\u001b[0m\u001b[0;34m\u001b[0m\u001b[0;34m\u001b[0m\u001b[0m\n\u001b[1;32m      5\u001b[0m   \u001b[0mprint\u001b[0m\u001b[0;34m(\u001b[0m\u001b[0;34m\"n is negative\"\u001b[0m\u001b[0;34m)\u001b[0m\u001b[0;34m\u001b[0m\u001b[0;34m\u001b[0m\u001b[0m\n",
            "\u001b[0;31mValueError\u001b[0m: invalid literal for int() with base 10: '5.0'"
          ]
        }
      ]
    },
    {
      "cell_type": "code",
      "source": [
        "n = int(input())\n",
        "if n>0:\n",
        "  print(\"n is positive\")\n",
        "else:\n",
        "  print(\"n is not positive number\")"
      ],
      "metadata": {
        "id": "vzEylak5ioEb",
        "colab": {
          "base_uri": "https://localhost:8080/"
        },
        "outputId": "d800a7ac-427c-4787-d4c5-23ec84072ec1"
      },
      "execution_count": 5,
      "outputs": [
        {
          "output_type": "stream",
          "name": "stdout",
          "text": [
            "0\n",
            "n is not positive number\n"
          ]
        }
      ]
    },
    {
      "cell_type": "code",
      "source": [
        "n = float(input())\n",
        "if n>0:\n",
        "  print(\"n is positive\")\n",
        "else:\n",
        "  print(\"n is not positive number\")"
      ],
      "metadata": {
        "id": "7wiJ3cMFioBq",
        "colab": {
          "base_uri": "https://localhost:8080/"
        },
        "outputId": "bdc833a6-d2bd-430e-fc9c-2e4503fe7261"
      },
      "execution_count": 7,
      "outputs": [
        {
          "output_type": "stream",
          "name": "stdout",
          "text": [
            "11\n",
            "n is positive\n"
          ]
        }
      ]
    },
    {
      "cell_type": "code",
      "source": [],
      "metadata": {
        "id": "xfcan824hi0T"
      },
      "execution_count": null,
      "outputs": []
    },
    {
      "cell_type": "code",
      "source": [],
      "metadata": {
        "id": "_e739w3ahixm"
      },
      "execution_count": null,
      "outputs": []
    },
    {
      "cell_type": "code",
      "source": [],
      "metadata": {
        "id": "EAZmUOQfhiuy"
      },
      "execution_count": null,
      "outputs": []
    },
    {
      "cell_type": "code",
      "source": [],
      "metadata": {
        "id": "b5ZceAadhisH"
      },
      "execution_count": null,
      "outputs": []
    },
    {
      "cell_type": "markdown",
      "source": [
        "## Problem #2:\n",
        "WAP to check whether the movie is HIT/FLOP based on rating in BookMyShow:<br>\n",
        "[assume if the rating is more than 3.5 => HIT ]"
      ],
      "metadata": {
        "id": "ZYl9LoGAg04l"
      }
    },
    {
      "cell_type": "code",
      "source": [
        "rating = float(input('enter the ratings'))\n",
        "if rating>=3.5:\n",
        "  print(\"HIT\")\n",
        "else:\n",
        "  print('FLOP')  "
      ],
      "metadata": {
        "id": "W0O31v3chPDy",
        "colab": {
          "base_uri": "https://localhost:8080/"
        },
        "outputId": "f67f735e-fa13-42c0-91a7-62ee988934b6"
      },
      "execution_count": 9,
      "outputs": [
        {
          "output_type": "stream",
          "name": "stdout",
          "text": [
            "enter the ratings2\n",
            "FLOP\n"
          ]
        }
      ]
    },
    {
      "cell_type": "code",
      "source": [
        "rating = float(input('enter the ratings'))\n",
        "if rating>=3.5:\n",
        "  print(\"HIT\")\n",
        "else:\n",
        "   print('FLOP') "
      ],
      "metadata": {
        "id": "nPfi1727qKI1",
        "colab": {
          "base_uri": "https://localhost:8080/"
        },
        "outputId": "f1d0239d-dc54-4d85-d498-a4385200c543"
      },
      "execution_count": 12,
      "outputs": [
        {
          "output_type": "stream",
          "name": "stdout",
          "text": [
            "enter the ratings1.3\n",
            "FLOP\n"
          ]
        }
      ]
    },
    {
      "cell_type": "code",
      "source": [],
      "metadata": {
        "id": "ZaoDhA2sqKF9"
      },
      "execution_count": null,
      "outputs": []
    },
    {
      "cell_type": "code",
      "source": [],
      "metadata": {
        "id": "_nqJVylHqKCt"
      },
      "execution_count": null,
      "outputs": []
    },
    {
      "cell_type": "markdown",
      "source": [
        "##Problem #3:\n",
        "\n",
        "- A bartender is trying to determine whether he should serve drinks to someone. \n",
        "- He only servers drink to people 18 and older and when\n",
        "he is not on break. \n",
        "- Given the person's age, and whether the break time is in session."
      ],
      "metadata": {
        "id": "VhQroAVPhv5D"
      }
    },
    {
      "cell_type": "code",
      "source": [
        "age  = int(input())\n",
        "on_break = int(input())\n",
        "if age>=18 and on_break == 0:\n",
        "  print('Serve the drinks')\n",
        "else:\n",
        "  print('Dont serve')  "
      ],
      "metadata": {
        "id": "HOqLk19ZqJg9",
        "colab": {
          "base_uri": "https://localhost:8080/"
        },
        "outputId": "2f0072a3-6bd3-4378-866d-62f967ffd1c8"
      },
      "execution_count": 14,
      "outputs": [
        {
          "output_type": "stream",
          "name": "stdout",
          "text": [
            "27\n",
            "0\n",
            "Serve the drinks\n"
          ]
        }
      ]
    },
    {
      "cell_type": "code",
      "source": [
        "age  = int(input())\n",
        "on_break = input()\n",
        "if age>=18 and on_break == '0':\n",
        "  print('Serve the drinks')\n",
        "else:\n",
        "  print('Dont serve') "
      ],
      "metadata": {
        "id": "06ftPcWzqJeN",
        "colab": {
          "base_uri": "https://localhost:8080/"
        },
        "outputId": "82fb4f9e-8be9-4c37-a3a5-5763f59d7840"
      },
      "execution_count": 16,
      "outputs": [
        {
          "output_type": "stream",
          "name": "stdout",
          "text": [
            "20\n",
            "0\n",
            "Serve the drinks\n"
          ]
        }
      ]
    },
    {
      "cell_type": "code",
      "source": [
        "print(0=='0')"
      ],
      "metadata": {
        "id": "_V8MmgvKVOBT",
        "colab": {
          "base_uri": "https://localhost:8080/"
        },
        "outputId": "a53c87c7-f00d-45a9-ef28-29c8b5bc5db5"
      },
      "execution_count": 17,
      "outputs": [
        {
          "output_type": "stream",
          "name": "stdout",
          "text": [
            "False\n"
          ]
        }
      ]
    },
    {
      "cell_type": "code",
      "source": [],
      "metadata": {
        "id": "WX9lS8noVN-g"
      },
      "execution_count": null,
      "outputs": []
    },
    {
      "cell_type": "code",
      "source": [],
      "metadata": {
        "id": "LvvwHwdwVN7i"
      },
      "execution_count": null,
      "outputs": []
    },
    {
      "cell_type": "code",
      "source": [],
      "metadata": {
        "id": "M92iwJcBVN41"
      },
      "execution_count": null,
      "outputs": []
    },
    {
      "cell_type": "code",
      "source": [],
      "metadata": {
        "id": "8JeTjDgbVN1r"
      },
      "execution_count": null,
      "outputs": []
    },
    {
      "cell_type": "markdown",
      "source": [
        "## Problem #4: Level1\n",
        "\n",
        "Favourite programming Language:\n",
        "\n",
        "\n",
        "- You have to ask user his favourite programming Language if its \n",
        "    - python => \"Nice Choice\" \n",
        "    - otherwise => \"I don't know that language\""
      ],
      "metadata": {
        "id": "7qZMXz5Ykpci"
      }
    },
    {
      "cell_type": "code",
      "source": [
        "lang = input()\n",
        "if lang == 'python':\n",
        "  print(\"Nice Choice\")\n",
        "else:\n",
        "  print('I dont know that language')  "
      ],
      "metadata": {
        "id": "CiD-Tiwh5868",
        "colab": {
          "base_uri": "https://localhost:8080/"
        },
        "outputId": "801ab86f-27a8-4c51-fc22-32fd997e8017"
      },
      "execution_count": 19,
      "outputs": [
        {
          "output_type": "stream",
          "name": "stdout",
          "text": [
            "Python\n",
            "I dont know that language\n"
          ]
        }
      ]
    },
    {
      "cell_type": "code",
      "source": [
        "lang = input()\n",
        "if lang == 'python' or lang == 'Python':\n",
        "  print(\"Nice Choice\")\n",
        "else:\n",
        "  print('I dont know that language') "
      ],
      "metadata": {
        "id": "PhqPI2om584b",
        "colab": {
          "base_uri": "https://localhost:8080/"
        },
        "outputId": "12a0072f-7e7a-4245-f832-3c1c92630684"
      },
      "execution_count": 21,
      "outputs": [
        {
          "output_type": "stream",
          "name": "stdout",
          "text": [
            "PYTHON\n",
            "I dont know that language\n"
          ]
        }
      ]
    },
    {
      "cell_type": "code",
      "source": [
        "lang = input()\n",
        "if lang == 'python' and lang == 'Python':\n",
        "  print(\"Nice Choice\")\n",
        "else:\n",
        "  print('I dont know that language') "
      ],
      "metadata": {
        "id": "zIbT1pkUVB_V",
        "colab": {
          "base_uri": "https://localhost:8080/"
        },
        "outputId": "001a0326-da59-4a91-8d9f-9e363940225c"
      },
      "execution_count": 22,
      "outputs": [
        {
          "output_type": "stream",
          "name": "stdout",
          "text": [
            "Python\n",
            "I dont know that language\n"
          ]
        }
      ]
    },
    {
      "cell_type": "code",
      "source": [
        "#quiz\n",
        "x = 5\n",
        "if x < 5 or x > -1:\n",
        "    x = x - 3\n",
        "else:\n",
        "    x = x + 3"
      ],
      "metadata": {
        "id": "N_chEAWxVB7u"
      },
      "execution_count": 23,
      "outputs": []
    },
    {
      "cell_type": "code",
      "source": [
        "print(x)"
      ],
      "metadata": {
        "id": "dEkigFZHVB4y",
        "colab": {
          "base_uri": "https://localhost:8080/"
        },
        "outputId": "15b61550-c99e-4c19-aabb-41e2e0d2b03e"
      },
      "execution_count": 24,
      "outputs": [
        {
          "output_type": "stream",
          "name": "stdout",
          "text": [
            "2\n"
          ]
        }
      ]
    },
    {
      "cell_type": "code",
      "source": [],
      "metadata": {
        "id": "xYiFGpq8VB10"
      },
      "execution_count": null,
      "outputs": []
    },
    {
      "cell_type": "code",
      "source": [],
      "metadata": {
        "id": "7WTFsJ-nVBzE"
      },
      "execution_count": null,
      "outputs": []
    },
    {
      "cell_type": "markdown",
      "source": [
        "## Problem #4: Level2\n",
        "\n",
        "Favourite programming Language:\n",
        "\n",
        "\n",
        "- You have to ask user his favourite programming Language if its \n",
        "    - python or java => \"Nice Choice\" \n",
        "    - otherwise => \"I don't know that language\""
      ],
      "metadata": {
        "id": "k94azJrnm8Gp"
      }
    },
    {
      "cell_type": "code",
      "source": [
        "lang = input()\n",
        "if lang=='python' or lang=='java':\n",
        "  print('nice choice')\n",
        "else:\n",
        "  print('i dont know that language')  "
      ],
      "metadata": {
        "id": "Xo9RJPy0qGn1",
        "colab": {
          "base_uri": "https://localhost:8080/"
        },
        "outputId": "1db2f4f7-0d98-42c2-fd25-67fcc2f27ba0"
      },
      "execution_count": 27,
      "outputs": [
        {
          "output_type": "stream",
          "name": "stdout",
          "text": [
            "JAVA\n",
            "i dont know that language\n"
          ]
        }
      ]
    },
    {
      "cell_type": "code",
      "source": [],
      "metadata": {
        "id": "RnhnNlopqGlH"
      },
      "execution_count": null,
      "outputs": []
    },
    {
      "cell_type": "code",
      "source": [],
      "metadata": {
        "id": "MxAMSeybVD9S"
      },
      "execution_count": null,
      "outputs": []
    },
    {
      "cell_type": "code",
      "source": [],
      "metadata": {
        "id": "x-AieMk3VD6X"
      },
      "execution_count": null,
      "outputs": []
    },
    {
      "cell_type": "code",
      "source": [],
      "metadata": {
        "id": "PvEKEHBUVD3i"
      },
      "execution_count": null,
      "outputs": []
    },
    {
      "cell_type": "code",
      "source": [],
      "metadata": {
        "id": "3kEUWXw_VD0V"
      },
      "execution_count": null,
      "outputs": []
    },
    {
      "cell_type": "code",
      "source": [],
      "metadata": {
        "id": "lpxKUb0BVDxz"
      },
      "execution_count": null,
      "outputs": []
    },
    {
      "cell_type": "markdown",
      "source": [
        "## Problem #4: Level3\n",
        "\n",
        "Favourite programming Language:\n",
        "\n",
        "\n",
        "- You have to ask user his favourite programming Language if its \n",
        "    - python or java => \"Nice Choice\" \n",
        "    - C++ => \"Too old school !!\"\n",
        "    - otherwise => \"I don't know that language\""
      ],
      "metadata": {
        "id": "hV9R_cA8nX2h"
      }
    },
    {
      "cell_type": "code",
      "source": [
        "lang = input()\n",
        "if lang == 'python' or lang == 'java':\n",
        "  print('nice choice')\n",
        "else:\n",
        "  if lang == 'c++':\n",
        "    print(\"too old school!!\")\n",
        "  else:\n",
        "    print('I dont know that Language')    "
      ],
      "metadata": {
        "id": "_CCQv05aVJXA",
        "colab": {
          "base_uri": "https://localhost:8080/"
        },
        "outputId": "65f172a6-ebf4-495d-e48d-fdb5f728268f"
      },
      "execution_count": 29,
      "outputs": [
        {
          "output_type": "stream",
          "name": "stdout",
          "text": [
            "java\n",
            "nice choice\n"
          ]
        }
      ]
    },
    {
      "cell_type": "code",
      "source": [
        "lang = input()\n",
        "if lang == 'python' or lang == 'java':\n",
        "  print('nice choice')\n",
        "if lang == 'c++':\n",
        "  print(\"too old school!!\")\n",
        "else:\n",
        "  print('I dont know that Language')"
      ],
      "metadata": {
        "id": "LILJeBumVJUc",
        "colab": {
          "base_uri": "https://localhost:8080/"
        },
        "outputId": "28914ae2-6e59-42d0-a99d-c82ebc6069e0"
      },
      "execution_count": 31,
      "outputs": [
        {
          "output_type": "stream",
          "name": "stdout",
          "text": [
            "java\n",
            "nice choice\n",
            "I dont know that Language\n"
          ]
        }
      ]
    },
    {
      "cell_type": "code",
      "source": [
        "lang = input()\n",
        "if lang == 'python' or lang == 'java':\n",
        "   print('nice choice')\n",
        "if lang == 'c++':\n",
        "  print('too old school')\n",
        "else:\n",
        "  print('I dont know that language')"
      ],
      "metadata": {
        "id": "QGzQqpdaVJRg",
        "colab": {
          "base_uri": "https://localhost:8080/"
        },
        "outputId": "d2d0c46f-2d13-474d-f728-74ab7d18cf0b"
      },
      "execution_count": 32,
      "outputs": [
        {
          "output_type": "stream",
          "name": "stdout",
          "text": [
            "python\n",
            "nice choice\n",
            "I dont know that language\n"
          ]
        }
      ]
    },
    {
      "cell_type": "code",
      "source": [],
      "metadata": {
        "id": "PJJO1iUyVJOl"
      },
      "execution_count": null,
      "outputs": []
    },
    {
      "cell_type": "code",
      "source": [],
      "metadata": {
        "id": "k-G8uTrhVJLu"
      },
      "execution_count": null,
      "outputs": []
    },
    {
      "cell_type": "code",
      "source": [],
      "metadata": {
        "id": "1Cqe7VZJVJI6"
      },
      "execution_count": null,
      "outputs": []
    },
    {
      "cell_type": "code",
      "source": [],
      "metadata": {
        "id": "6IehxfxvVJGR"
      },
      "execution_count": null,
      "outputs": []
    },
    {
      "cell_type": "code",
      "source": [],
      "metadata": {
        "id": "GSIVFulJVK2o"
      },
      "execution_count": null,
      "outputs": []
    },
    {
      "cell_type": "markdown",
      "source": [
        "## Problem #4: Level4\n",
        "\n",
        "Favourite programming Language:\n",
        "\n",
        "\n",
        "- You have to ask user his favourite programming Language if its \n",
        "    - python or java => \"Nice Choice\" \n",
        "    - Golang => \"You are cool\"\n",
        "    - Javascript => \"You are our web developer\"\n",
        "    - C++ => \"Too old school !!\"\n",
        "    - otherwise => \"I don't know that language\""
      ],
      "metadata": {
        "id": "6-ppNLLRpdBU"
      }
    },
    {
      "cell_type": "code",
      "source": [
        "lang = input()\n",
        "if lang == 'python' or lang=='java':\n",
        "  print('nice choice')\n",
        "else:\n",
        "  if lang=='Golang':\n",
        "    print('You are cool')\n",
        "  else:\n",
        "    if lang == 'javascript':\n",
        "      print('you are our web developer')\n",
        "    else:\n",
        "      if lang=='c++':\n",
        "        print(\"too old school\")\n",
        "      else:\n",
        "        print('i dont know that language')        "
      ],
      "metadata": {
        "id": "gYF-fqXWqOA5",
        "colab": {
          "base_uri": "https://localhost:8080/"
        },
        "outputId": "17c42fd2-b3cd-413e-cc10-71e3c4e4814e"
      },
      "execution_count": 34,
      "outputs": [
        {
          "output_type": "stream",
          "name": "stdout",
          "text": [
            "c++\n",
            "too old school\n"
          ]
        }
      ]
    },
    {
      "cell_type": "code",
      "source": [
        "lang = input()\n",
        "if lang == 'python' or lang=='java':\n",
        "  print('nice choice')\n",
        "elif lang=='Golang':\n",
        "    print('You are cool')\n",
        "elif lang == 'javascript':\n",
        "    print('you are our web developer')\n",
        "elif lang=='c++':\n",
        "    print(\"too old school\")\n",
        "else:\n",
        "    print('i dont know that language')  "
      ],
      "metadata": {
        "id": "OKcfAzPQVMfn",
        "colab": {
          "base_uri": "https://localhost:8080/"
        },
        "outputId": "92de6ac2-20d5-4e05-db08-52b283e3cfac"
      },
      "execution_count": 35,
      "outputs": [
        {
          "output_type": "stream",
          "name": "stdout",
          "text": [
            "c++\n",
            "too old school\n"
          ]
        }
      ]
    },
    {
      "cell_type": "code",
      "source": [
        "#quiz\n",
        "x = 0\n",
        "if x > 0:\n",
        "    print('positive')\n",
        "elif _____:\n",
        "    print('zero')\n",
        "else:\n",
        "    print('negative')\n"
      ],
      "metadata": {
        "id": "ZcAgB_wHVMch"
      },
      "execution_count": null,
      "outputs": []
    },
    {
      "cell_type": "code",
      "source": [
        "#quiz\n",
        "if False:\n",
        "    print(\"Artificial Intelligence\")\n",
        "elif True:\n",
        "    print(\"Machine Learning\")\n",
        "elif True:\n",
        "    print(\"Data Science\")\n",
        "else:\n",
        "    print(\"Deep Learning\")"
      ],
      "metadata": {
        "id": "Co7DUV0hVMZv"
      },
      "execution_count": null,
      "outputs": []
    },
    {
      "cell_type": "code",
      "source": [
        "#quiz\n",
        "if True:\n",
        "    print(\"Artificial Intelligence\")\n",
        "elif False:\n",
        "    print(\"Machine Learning\")\n",
        "elif False:\n",
        "    print(\"Data Science\")\n",
        "else:\n",
        "    print(\"Deep Learning\")"
      ],
      "metadata": {
        "id": "u4cWVXf6VMW7",
        "colab": {
          "base_uri": "https://localhost:8080/"
        },
        "outputId": "ef1a8d02-6553-42ad-a088-22af1c3afaa2"
      },
      "execution_count": 37,
      "outputs": [
        {
          "output_type": "stream",
          "name": "stdout",
          "text": [
            "Artificial Intelligence\n"
          ]
        }
      ]
    },
    {
      "cell_type": "code",
      "source": [
        "if False:\n",
        "    print(\"Artificial Intelligence\")\n",
        "if True:\n",
        "    print(\"Machine Learning\")\n",
        "if True:\n",
        "    print(\"Data Science\")\n",
        "else:\n",
        "    print(\"Deep Learning\")"
      ],
      "metadata": {
        "id": "GJmav2hIVMUA",
        "colab": {
          "base_uri": "https://localhost:8080/"
        },
        "outputId": "4db7f289-f079-46bf-ed7a-c069590c84e8"
      },
      "execution_count": 38,
      "outputs": [
        {
          "output_type": "stream",
          "name": "stdout",
          "text": [
            "Machine Learning\n",
            "Data Science\n"
          ]
        }
      ]
    },
    {
      "cell_type": "code",
      "source": [
        "a = 1\n",
        "b = 0\n",
        "c = 1\n",
        "if (a and b):\n",
        "    print(\"Scaler is awesome\")\n",
        "elif (a and c):\n",
        "    print(\"ML is fun\")\n",
        "if (a and b and c):\n",
        "    print(\"Python is amazing\")\n",
        "if (a or b or c):\n",
        "    print(\"I love DS\")"
      ],
      "metadata": {
        "id": "WPWBtp43FSZO",
        "colab": {
          "base_uri": "https://localhost:8080/"
        },
        "outputId": "2ebdf60e-bf0d-4d0c-8d74-9ec25f0498e0"
      },
      "execution_count": 39,
      "outputs": [
        {
          "output_type": "stream",
          "name": "stdout",
          "text": [
            "ML is fun\n",
            "I love DS\n"
          ]
        }
      ]
    },
    {
      "cell_type": "code",
      "source": [
        "a = 1\n",
        "b = 0\n",
        "c = 1\n",
        "if (a and b):\n",
        "    print(\"Scaler is awesome\")\n",
        "elif (a and c):\n",
        "    print(\"ML is fun\")\n",
        "elif (a and b and c):\n",
        "    print(\"Python is amazing\")\n",
        "else:\n",
        "    print(\"I love DS\")"
      ],
      "metadata": {
        "id": "bpLHiIdjVWJX",
        "colab": {
          "base_uri": "https://localhost:8080/"
        },
        "outputId": "7a5cd999-1c5b-4386-f5f4-46caa4c16e46"
      },
      "execution_count": 40,
      "outputs": [
        {
          "output_type": "stream",
          "name": "stdout",
          "text": [
            "ML is fun\n"
          ]
        }
      ]
    },
    {
      "cell_type": "code",
      "source": [],
      "metadata": {
        "id": "eHQPi2ToVWGV"
      },
      "execution_count": null,
      "outputs": []
    },
    {
      "cell_type": "markdown",
      "source": [
        "##Problem #5:\n",
        "\n",
        "#FizzBuzz:\n",
        "\n",
        "WAP that takes a no.'n' as input and does the following:\n",
        "- If n is a mutliple of 3, print Fizz\n",
        "- If n is a multiple of 5, print Buzz\n",
        "- If n is a multiple of both 3 and 5 print Fizz Buzz"
      ],
      "metadata": {
        "id": "cJcjexy0qd5g"
      }
    },
    {
      "cell_type": "code",
      "source": [
        "num = int(input('enter a no.:'))\n",
        "if num%3 == 0:\n",
        "  print('Fizz')\n",
        "if num%5 == 0:\n",
        "  print('Buzz')\n",
        "if num%3==0 and num%5==0:\n",
        "  print('FizzBuzz')    "
      ],
      "metadata": {
        "id": "2J2V1_KgJy9g",
        "colab": {
          "base_uri": "https://localhost:8080/"
        },
        "outputId": "0131de65-e713-4923-dca1-2f454c51a87a"
      },
      "execution_count": 43,
      "outputs": [
        {
          "output_type": "stream",
          "name": "stdout",
          "text": [
            "enter a no.:15\n",
            "Fizz\n",
            "Buzz\n",
            "FizzBuzz\n"
          ]
        }
      ]
    },
    {
      "cell_type": "code",
      "source": [
        "num = int(input('enter a no.:'))\n",
        "if num%3 == 0:\n",
        "  print('Fizz')\n",
        "if num%5 == 0:\n",
        "  print('Buzz')\n",
        "if num%3==0 and num%5==0:\n",
        "  print('FizzBuzz') "
      ],
      "metadata": {
        "id": "mzxePiI3Vfny",
        "colab": {
          "base_uri": "https://localhost:8080/"
        },
        "outputId": "004f560e-bb16-48c4-fcfc-70a78297c10a"
      },
      "execution_count": 45,
      "outputs": [
        {
          "output_type": "stream",
          "name": "stdout",
          "text": [
            "enter a no.:51\n",
            "Fizz\n"
          ]
        }
      ]
    },
    {
      "cell_type": "code",
      "source": [
        "num = int(input('enter a no.:'))\n",
        "if num%3 == 0:\n",
        "  print('Fizz')\n",
        "elif num%5 == 0:\n",
        "  print('Buzz')\n",
        "elif num%3==0 and num%5==0:\n",
        "  print('FizzBuzz')"
      ],
      "metadata": {
        "id": "DpdhFGoVVfk1",
        "colab": {
          "base_uri": "https://localhost:8080/"
        },
        "outputId": "1d46dfb8-044a-4601-8699-142ea745f712"
      },
      "execution_count": 48,
      "outputs": [
        {
          "output_type": "stream",
          "name": "stdout",
          "text": [
            "enter a no.:15\n",
            "Fizz\n"
          ]
        }
      ]
    },
    {
      "cell_type": "code",
      "source": [
        "num = int(input('enter a no.:'))\n",
        "if num%3==0 and num%5==0:\n",
        "   print('FizzBuzz')\n",
        "elif num%3 == 0:\n",
        "  print('Fizz')\n",
        "elif num%5 == 0:\n",
        "  print('Buzz')\n"
      ],
      "metadata": {
        "id": "AE-blZjhVfhx",
        "colab": {
          "base_uri": "https://localhost:8080/"
        },
        "outputId": "f17593fe-5ae3-46fc-bc1b-5d3a745e5ce7"
      },
      "execution_count": 51,
      "outputs": [
        {
          "output_type": "stream",
          "name": "stdout",
          "text": [
            "enter a no.:15\n",
            "FizzBuzz\n"
          ]
        }
      ]
    },
    {
      "cell_type": "code",
      "source": [
        "#quiz\n",
        "if 5 > 10:\n",
        "    print(\"fan\")\n",
        "elif 8 != 9:\n",
        "    print(\"glass\")\n",
        "else:\n",
        "    print(\"cream\")"
      ],
      "metadata": {
        "id": "oL9Fxwg-VffG",
        "colab": {
          "base_uri": "https://localhost:8080/"
        },
        "outputId": "6b67db2e-6b47-4b68-83fd-fa8a577222e8"
      },
      "execution_count": 52,
      "outputs": [
        {
          "output_type": "stream",
          "name": "stdout",
          "text": [
            "glass\n"
          ]
        }
      ]
    },
    {
      "cell_type": "markdown",
      "source": [
        "#Assignment problem:\n",
        "\n",
        "Set the values\n",
        "\n",
        "Set the value of variable a, b and c such that the following condition evaluates to true:\n",
        "\n",
        "\n",
        "\n",
        "```\n",
        "a = -1 # change this\n",
        "b = -1 # change this\n",
        "c = -1 # change this\n",
        "\n",
        "# DO NOT CHANGE THIS\n",
        "x = a < b + c\n",
        "\n",
        "print(x) # this should be True\n",
        "```\n",
        "\n"
      ],
      "metadata": {
        "id": "Eb2GLBUNEHkS"
      }
    },
    {
      "cell_type": "code",
      "source": [
        "a = 1\n",
        "b = 2\n",
        "c = 3\n",
        "\n",
        "# DO NOT CHANGE THIS\n",
        "x = a < b + c\n",
        "\n",
        "print(x)"
      ],
      "metadata": {
        "id": "zqJBS_m5EHTY",
        "colab": {
          "base_uri": "https://localhost:8080/"
        },
        "outputId": "3ed59af8-bfba-4a29-901a-fbb8e041ab00"
      },
      "execution_count": 53,
      "outputs": [
        {
          "output_type": "stream",
          "name": "stdout",
          "text": [
            "True\n"
          ]
        }
      ]
    },
    {
      "cell_type": "code",
      "source": [
        "#\n",
        "a=5\n",
        "if a<5 or a>-1:\n",
        "    a=a+3\n",
        "print(a)"
      ],
      "metadata": {
        "colab": {
          "base_uri": "https://localhost:8080/"
        },
        "id": "BaTxgZyhaUbA",
        "outputId": "a6efe08f-06d5-4096-fb67-e3ea55e8a275"
      },
      "execution_count": 54,
      "outputs": [
        {
          "output_type": "stream",
          "name": "stdout",
          "text": [
            "8\n"
          ]
        }
      ]
    },
    {
      "cell_type": "code",
      "source": [
        "age=int(input(\"enterage\"))\n",
        "Break =int(input(\"break\"))\n",
        "if age>=18and Break == 0:\n",
        "  print(\"serve\")\n",
        "else:\n",
        "  print(\"dont serve\")"
      ],
      "metadata": {
        "colab": {
          "base_uri": "https://localhost:8080/"
        },
        "id": "wwigbJOXaUXj",
        "outputId": "a7bd938a-4fda-4e89-bc18-153cbdb18d5b"
      },
      "execution_count": 55,
      "outputs": [
        {
          "output_type": "stream",
          "name": "stdout",
          "text": [
            "enterage19\n",
            "break0\n",
            "serve\n"
          ]
        }
      ]
    },
    {
      "cell_type": "code",
      "source": [
        "favourite_prog_language = input()\n",
        "if favourite_prog_language==\"python\" or favourite_prog_language==\"java\":\n",
        "  print(\"nice choice\")\n",
        "if favourite_prog_language==\"Golang\":\n",
        "  print(\"You are cool\")\n",
        "if favourite_prog_language==\"javascript\":\n",
        "  print(\"You are our web developer\")\n",
        "if favourite_prog_language==\"C++\" or favourite_prog_language==\"c++\":\n",
        "  print(\"too old school!!\")\n",
        "else:\n",
        "  print(\"dont know that language\") "
      ],
      "metadata": {
        "colab": {
          "base_uri": "https://localhost:8080/"
        },
        "id": "gNOdCRBmaUT_",
        "outputId": "0df0933c-f2f0-4292-8b03-7f3c29164397"
      },
      "execution_count": 58,
      "outputs": [
        {
          "output_type": "stream",
          "name": "stdout",
          "text": [
            "java\n",
            "nice choice\n",
            "dont know that language\n"
          ]
        }
      ]
    }
  ]
}