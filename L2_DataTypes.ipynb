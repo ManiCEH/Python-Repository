{
  "nbformat": 4,
  "nbformat_minor": 0,
  "metadata": {
    "colab": {
      "provenance": [],
      "authorship_tag": "ABX9TyPZbi4l/puNz7uCuD34ESsN",
      "include_colab_link": true
    },
    "kernelspec": {
      "name": "python3",
      "display_name": "Python 3"
    },
    "language_info": {
      "name": "python"
    }
  },
  "cells": [
    {
      "cell_type": "markdown",
      "metadata": {
        "id": "view-in-github",
        "colab_type": "text"
      },
      "source": [
        "<a href=\"https://colab.research.google.com/github/scaleracademy/BeginnersNovMon2-2022/blob/main/L2_DataTypes.ipynb\" target=\"_parent\"><img src=\"https://colab.research.google.com/assets/colab-badge.svg\" alt=\"Open In Colab\"/></a>"
      ]
    },
    {
      "cell_type": "code",
      "source": [
        "# Which of the following values are of type float in Python?\n",
        "# a. 0.3\n",
        "# b. .2\n",
        "# c. \"2.3\"\n",
        "# d. 1.0\n",
        "# e. \"3.14\"\n",
        "# f. -3\n",
        "# g. 5."
      ],
      "metadata": {
        "id": "x0nhkD1Rnnub"
      },
      "execution_count": 6,
      "outputs": []
    },
    {
      "cell_type": "code",
      "source": [
        "#10 in int data type\n",
        "print(10)"
      ],
      "metadata": {
        "id": "VTq-4l9jnnkK",
        "colab": {
          "base_uri": "https://localhost:8080/"
        },
        "outputId": "e525cdf8-4475-4dd3-b215-58075d327655"
      },
      "execution_count": 8,
      "outputs": [
        {
          "output_type": "stream",
          "name": "stdout",
          "text": [
            "10\n"
          ]
        }
      ]
    },
    {
      "cell_type": "code",
      "source": [
        "print(\"2+2\")"
      ],
      "metadata": {
        "id": "DiG1dSUsnnhn",
        "colab": {
          "base_uri": "https://localhost:8080/"
        },
        "outputId": "732d0882-14f3-45f8-ee3d-bea512eeb357"
      },
      "execution_count": 9,
      "outputs": [
        {
          "output_type": "stream",
          "name": "stdout",
          "text": [
            "2+2\n"
          ]
        }
      ]
    },
    {
      "cell_type": "code",
      "source": [
        "print(2+3)\n",
        "print(2*3)\n",
        "print(2-3)"
      ],
      "metadata": {
        "id": "a0ZPj4ADnnez",
        "colab": {
          "base_uri": "https://localhost:8080/"
        },
        "outputId": "a419e8d8-2b66-46e1-c5d9-9c08f47f4228"
      },
      "execution_count": 11,
      "outputs": [
        {
          "output_type": "stream",
          "name": "stdout",
          "text": [
            "5\n",
            "6\n",
            "-1\n"
          ]
        }
      ]
    },
    {
      "cell_type": "code",
      "source": [],
      "metadata": {
        "id": "azmFgxiOCDZg"
      },
      "execution_count": null,
      "outputs": []
    },
    {
      "cell_type": "code",
      "source": [],
      "metadata": {
        "id": "EWVbmqieCDWf"
      },
      "execution_count": null,
      "outputs": []
    },
    {
      "cell_type": "markdown",
      "source": [
        "#Data Types:\n",
        "\n"
      ],
      "metadata": {
        "id": "R6V8szwoK2oa"
      }
    },
    {
      "cell_type": "code",
      "source": [
        "type(10)"
      ],
      "metadata": {
        "id": "zh-OQzli2Vd8",
        "colab": {
          "base_uri": "https://localhost:8080/"
        },
        "outputId": "eceb198c-6531-4b59-8ccb-1186f34a9291"
      },
      "execution_count": 12,
      "outputs": [
        {
          "output_type": "execute_result",
          "data": {
            "text/plain": [
              "int"
            ]
          },
          "metadata": {},
          "execution_count": 12
        }
      ]
    },
    {
      "cell_type": "code",
      "source": [
        "type('arpana')"
      ],
      "metadata": {
        "id": "ynfqvtH02Vlc",
        "colab": {
          "base_uri": "https://localhost:8080/"
        },
        "outputId": "6ec1304d-f823-49a1-f5d9-a821f3a2057c"
      },
      "execution_count": 13,
      "outputs": [
        {
          "output_type": "execute_result",
          "data": {
            "text/plain": [
              "str"
            ]
          },
          "metadata": {},
          "execution_count": 13
        }
      ]
    },
    {
      "cell_type": "code",
      "source": [
        "type(0.0)"
      ],
      "metadata": {
        "id": "1sY4UZmF2TvH",
        "colab": {
          "base_uri": "https://localhost:8080/"
        },
        "outputId": "57db364e-e56d-424a-b133-04a4ce804551"
      },
      "execution_count": 14,
      "outputs": [
        {
          "output_type": "execute_result",
          "data": {
            "text/plain": [
              "float"
            ]
          },
          "metadata": {},
          "execution_count": 14
        }
      ]
    },
    {
      "cell_type": "code",
      "source": [
        "type(-12.0)"
      ],
      "metadata": {
        "id": "Eougf9w9CFfv",
        "colab": {
          "base_uri": "https://localhost:8080/"
        },
        "outputId": "92f01551-6f0e-423e-ed7e-e293d6bfc36a"
      },
      "execution_count": 15,
      "outputs": [
        {
          "output_type": "execute_result",
          "data": {
            "text/plain": [
              "float"
            ]
          },
          "metadata": {},
          "execution_count": 15
        }
      ]
    },
    {
      "cell_type": "code",
      "source": [
        "type(True)"
      ],
      "metadata": {
        "id": "wt-wcupHCFb8",
        "colab": {
          "base_uri": "https://localhost:8080/"
        },
        "outputId": "9d27f186-bb53-428a-f2c1-b639c0676f7b"
      },
      "execution_count": 16,
      "outputs": [
        {
          "output_type": "execute_result",
          "data": {
            "text/plain": [
              "bool"
            ]
          },
          "metadata": {},
          "execution_count": 16
        }
      ]
    },
    {
      "cell_type": "code",
      "source": [
        "#quiz\n",
        "print(type(true))"
      ],
      "metadata": {
        "id": "BvxkE2spCGJi",
        "colab": {
          "base_uri": "https://localhost:8080/",
          "height": 186
        },
        "outputId": "4f5212cc-13f4-47e3-d93c-f96345ea00d9"
      },
      "execution_count": 17,
      "outputs": [
        {
          "output_type": "error",
          "ename": "NameError",
          "evalue": "ignored",
          "traceback": [
            "\u001b[0;31m---------------------------------------------------------------------------\u001b[0m",
            "\u001b[0;31mNameError\u001b[0m                                 Traceback (most recent call last)",
            "\u001b[0;32m<ipython-input-17-a14563f7501c>\u001b[0m in \u001b[0;36m<module>\u001b[0;34m\u001b[0m\n\u001b[1;32m      1\u001b[0m \u001b[0;31m#quiz\u001b[0m\u001b[0;34m\u001b[0m\u001b[0;34m\u001b[0m\u001b[0;34m\u001b[0m\u001b[0m\n\u001b[0;32m----> 2\u001b[0;31m \u001b[0mprint\u001b[0m\u001b[0;34m(\u001b[0m\u001b[0mtype\u001b[0m\u001b[0;34m(\u001b[0m\u001b[0mtrue\u001b[0m\u001b[0;34m)\u001b[0m\u001b[0;34m)\u001b[0m\u001b[0;34m\u001b[0m\u001b[0;34m\u001b[0m\u001b[0m\n\u001b[0m",
            "\u001b[0;31mNameError\u001b[0m: name 'true' is not defined"
          ]
        }
      ]
    },
    {
      "cell_type": "code",
      "source": [
        "print(type(10))"
      ],
      "metadata": {
        "colab": {
          "base_uri": "https://localhost:8080/"
        },
        "id": "uJWlIQTZRKfx",
        "outputId": "446453af-f8f8-4997-9c73-87a2c404ee0e"
      },
      "execution_count": 18,
      "outputs": [
        {
          "output_type": "stream",
          "name": "stdout",
          "text": [
            "<class 'int'>\n"
          ]
        }
      ]
    },
    {
      "cell_type": "code",
      "source": [
        "type(10)"
      ],
      "metadata": {
        "colab": {
          "base_uri": "https://localhost:8080/"
        },
        "id": "I22sXZSiRKc1",
        "outputId": "44153b3a-c5fa-4f06-d58b-74f138a77d76"
      },
      "execution_count": 19,
      "outputs": [
        {
          "output_type": "execute_result",
          "data": {
            "text/plain": [
              "int"
            ]
          },
          "metadata": {},
          "execution_count": 19
        }
      ]
    },
    {
      "cell_type": "markdown",
      "source": [
        "# Variable \n",
        "\n",
        "<img src='https://miro.medium.com/max/1400/0*D3naWsFttP5BrEAy.jpg' height=250 width=350>"
      ],
      "metadata": {
        "id": "jypQsQH9NQq6"
      }
    },
    {
      "cell_type": "code",
      "source": [
        "x = 2\n",
        "print(x)"
      ],
      "metadata": {
        "id": "Fnh_iAWkCLmv",
        "colab": {
          "base_uri": "https://localhost:8080/"
        },
        "outputId": "1dd69e01-40ff-4c2e-f8cd-c4db1f851068"
      },
      "execution_count": 20,
      "outputs": [
        {
          "output_type": "stream",
          "name": "stdout",
          "text": [
            "2\n"
          ]
        }
      ]
    },
    {
      "cell_type": "code",
      "source": [
        "type(x)"
      ],
      "metadata": {
        "id": "cjiG6be3CLi5",
        "colab": {
          "base_uri": "https://localhost:8080/"
        },
        "outputId": "19293833-6a2f-45b3-fa05-1078b2b8d63a"
      },
      "execution_count": 21,
      "outputs": [
        {
          "output_type": "execute_result",
          "data": {
            "text/plain": [
              "int"
            ]
          },
          "metadata": {},
          "execution_count": 21
        }
      ]
    },
    {
      "cell_type": "code",
      "source": [
        "x =3\n",
        "x=5\n",
        "print(x)"
      ],
      "metadata": {
        "id": "IhJ9KM3-CLgO",
        "colab": {
          "base_uri": "https://localhost:8080/"
        },
        "outputId": "33620c74-a95c-4f12-c75b-a7283c224376"
      },
      "execution_count": 22,
      "outputs": [
        {
          "output_type": "stream",
          "name": "stdout",
          "text": [
            "5\n"
          ]
        }
      ]
    },
    {
      "cell_type": "code",
      "source": [
        "# quiz\n",
        "x = 3\n",
        "y = \"Hello\"\n",
        "print(x)\n",
        "print(y)"
      ],
      "metadata": {
        "id": "AJyWWJgcCLdg",
        "colab": {
          "base_uri": "https://localhost:8080/"
        },
        "outputId": "90032dfd-5a8c-4b27-8396-86e65cb14495"
      },
      "execution_count": 23,
      "outputs": [
        {
          "output_type": "stream",
          "name": "stdout",
          "text": [
            "3\n",
            "Hello\n"
          ]
        }
      ]
    },
    {
      "cell_type": "code",
      "source": [
        "print(x,y)"
      ],
      "metadata": {
        "colab": {
          "base_uri": "https://localhost:8080/"
        },
        "id": "ieaaJSimYTs-",
        "outputId": "bd7716c9-038b-4ca1-bb17-6e2e09846a3f"
      },
      "execution_count": 26,
      "outputs": [
        {
          "output_type": "stream",
          "name": "stdout",
          "text": [
            "3 Hello\n"
          ]
        }
      ]
    },
    {
      "cell_type": "code",
      "source": [
        "S = 'Raja\"\n",
        "print(S)"
      ],
      "metadata": {
        "id": "L1XByidbCLa0",
        "colab": {
          "base_uri": "https://localhost:8080/",
          "height": 132
        },
        "outputId": "76cbebc7-0b59-4283-e6e2-4d98fadd489c"
      },
      "execution_count": 24,
      "outputs": [
        {
          "output_type": "error",
          "ename": "SyntaxError",
          "evalue": "ignored",
          "traceback": [
            "\u001b[0;36m  File \u001b[0;32m\"<ipython-input-24-9185890510a3>\"\u001b[0;36m, line \u001b[0;32m1\u001b[0m\n\u001b[0;31m    s = 'Raja\"\u001b[0m\n\u001b[0m              ^\u001b[0m\n\u001b[0;31mSyntaxError\u001b[0m\u001b[0;31m:\u001b[0m EOL while scanning string literal\n"
          ]
        }
      ]
    },
    {
      "cell_type": "code",
      "source": [
        "S = 'Raja'\n",
        "print(S)"
      ],
      "metadata": {
        "id": "PtJ9weiHCLYQ",
        "colab": {
          "base_uri": "https://localhost:8080/"
        },
        "outputId": "1eb27ee2-a783-4b6d-9113-84d22d5443d2"
      },
      "execution_count": 25,
      "outputs": [
        {
          "output_type": "stream",
          "name": "stdout",
          "text": [
            "Raja\n"
          ]
        }
      ]
    },
    {
      "cell_type": "code",
      "source": [
        "print(1,'utkarsh',2.0,'2022')"
      ],
      "metadata": {
        "id": "cznoN0_uCLVk",
        "colab": {
          "base_uri": "https://localhost:8080/"
        },
        "outputId": "402db34c-388f-4261-df6d-ee503f8db2f0"
      },
      "execution_count": 27,
      "outputs": [
        {
          "output_type": "stream",
          "name": "stdout",
          "text": [
            "1 utkarsh 2.0 2022\n"
          ]
        }
      ]
    },
    {
      "cell_type": "code",
      "source": [
        "print(1,'utkarsh',2.0,'2022',sep='@')"
      ],
      "metadata": {
        "id": "jie1NqN8CLSo",
        "colab": {
          "base_uri": "https://localhost:8080/"
        },
        "outputId": "61cebd34-de0f-464c-906a-6923c4ff58dc"
      },
      "execution_count": 28,
      "outputs": [
        {
          "output_type": "stream",
          "name": "stdout",
          "text": [
            "1@utkarsh@2.0@2022\n"
          ]
        }
      ]
    },
    {
      "cell_type": "code",
      "source": [
        "print(1,'utkarsh',2.0,'2022',sep='')"
      ],
      "metadata": {
        "colab": {
          "base_uri": "https://localhost:8080/"
        },
        "id": "ZVU7XQ-mYrKV",
        "outputId": "f3982afe-c66e-487f-8f7a-787ec4dc8e9a"
      },
      "execution_count": 29,
      "outputs": [
        {
          "output_type": "stream",
          "name": "stdout",
          "text": [
            "1utkarsh2.02022\n"
          ]
        }
      ]
    },
    {
      "cell_type": "code",
      "source": [
        "print(1,'utkarsh',2.0,'2022',sep=\"%&$*\")"
      ],
      "metadata": {
        "colab": {
          "base_uri": "https://localhost:8080/"
        },
        "id": "1I9k88o5YrHi",
        "outputId": "a2f5d3fc-e847-4bb9-fd12-fc5811ba45f3"
      },
      "execution_count": 31,
      "outputs": [
        {
          "output_type": "stream",
          "name": "stdout",
          "text": [
            "1%&$*utkarsh%&$*2.0%&$*2022\n"
          ]
        }
      ]
    },
    {
      "cell_type": "code",
      "source": [
        "print(1,'utkarsh',sep=\"%&$*\",2.0,'2022')"
      ],
      "metadata": {
        "colab": {
          "base_uri": "https://localhost:8080/",
          "height": 132
        },
        "id": "icHBSQN2YrE4",
        "outputId": "58f830ac-1cb5-4c99-8967-51269ef535b8"
      },
      "execution_count": 32,
      "outputs": [
        {
          "output_type": "error",
          "ename": "SyntaxError",
          "evalue": "ignored",
          "traceback": [
            "\u001b[0;36m  File \u001b[0;32m\"<ipython-input-32-3979c3490a49>\"\u001b[0;36m, line \u001b[0;32m1\u001b[0m\n\u001b[0;31m    print(1,'utkarsh',sep=\"%&$*\",2.0,'2022')\u001b[0m\n\u001b[0m                                ^\u001b[0m\n\u001b[0;31mSyntaxError\u001b[0m\u001b[0;31m:\u001b[0m positional argument follows keyword argument\n"
          ]
        }
      ]
    },
    {
      "cell_type": "code",
      "source": [
        "print(1, 'utkarsh' ,2.0  ,'2022',sep=' ')"
      ],
      "metadata": {
        "colab": {
          "base_uri": "https://localhost:8080/",
          "height": 132
        },
        "id": "MT-EnCEkaG9O",
        "outputId": "7f01d63b-2aa4-4d26-a63e-68f476a05356"
      },
      "execution_count": 37,
      "outputs": [
        {
          "output_type": "error",
          "ename": "SyntaxError",
          "evalue": "ignored",
          "traceback": [
            "\u001b[0;36m  File \u001b[0;32m\"<ipython-input-37-64e0b5975a82>\"\u001b[0;36m, line \u001b[0;32m1\u001b[0m\n\u001b[0;31m    print(1 'utkarsh' 2.0  '2022',sep=' ')\u001b[0m\n\u001b[0m                    ^\u001b[0m\n\u001b[0;31mSyntaxError\u001b[0m\u001b[0;31m:\u001b[0m invalid syntax\n"
          ]
        }
      ]
    },
    {
      "cell_type": "code",
      "source": [
        "1name = 'gajendra'\n",
        "print(1name)"
      ],
      "metadata": {
        "colab": {
          "base_uri": "https://localhost:8080/",
          "height": 132
        },
        "id": "okwDRJtfahgf",
        "outputId": "cf7ef40b-f83a-4362-8af2-d1b8b7ee07cb"
      },
      "execution_count": 38,
      "outputs": [
        {
          "output_type": "error",
          "ename": "SyntaxError",
          "evalue": "ignored",
          "traceback": [
            "\u001b[0;36m  File \u001b[0;32m\"<ipython-input-38-ec8c30ba76ca>\"\u001b[0;36m, line \u001b[0;32m1\u001b[0m\n\u001b[0;31m    1name = 'gajendra'\u001b[0m\n\u001b[0m        ^\u001b[0m\n\u001b[0;31mSyntaxError\u001b[0m\u001b[0;31m:\u001b[0m invalid syntax\n"
          ]
        }
      ]
    },
    {
      "cell_type": "code",
      "source": [
        "ONE2.0 = 10\n",
        "print(ONE2.0)"
      ],
      "metadata": {
        "colab": {
          "base_uri": "https://localhost:8080/",
          "height": 132
        },
        "id": "asT--eA8ahdd",
        "outputId": "c2f4f14f-6520-40e5-d3f3-4a409b481fc8"
      },
      "execution_count": 39,
      "outputs": [
        {
          "output_type": "error",
          "ename": "SyntaxError",
          "evalue": "ignored",
          "traceback": [
            "\u001b[0;36m  File \u001b[0;32m\"<ipython-input-39-8b0bdcf340a4>\"\u001b[0;36m, line \u001b[0;32m1\u001b[0m\n\u001b[0;31m    ONE2.0 = 10\u001b[0m\n\u001b[0m         ^\u001b[0m\n\u001b[0;31mSyntaxError\u001b[0m\u001b[0;31m:\u001b[0m invalid syntax\n"
          ]
        }
      ]
    },
    {
      "cell_type": "code",
      "source": [
        "\n",
        "# hELLO\n",
        "\n",
        "\n",
        "# 1_name_Input\n",
        "\n",
        "# a+b+c\n",
        "\n",
        "# Cod3$#"
      ],
      "metadata": {
        "id": "DpcfG2nIaha3"
      },
      "execution_count": null,
      "outputs": []
    },
    {
      "cell_type": "code",
      "source": [
        "X = 3\n",
        "y = 'hello'\n",
        "num = y\n",
        "print(num)"
      ],
      "metadata": {
        "colab": {
          "base_uri": "https://localhost:8080/"
        },
        "id": "S-qi5wRZahYj",
        "outputId": "6da05f86-6669-44d8-d9d0-3a8624db75d6"
      },
      "execution_count": 40,
      "outputs": [
        {
          "output_type": "stream",
          "name": "stdout",
          "text": [
            "hello\n"
          ]
        }
      ]
    },
    {
      "cell_type": "code",
      "source": [
        "#quiz\n",
        "x = 3\n",
        "y = 'hello'\n",
        "num = y\n",
        "y = 5\n",
        "print(num, y)"
      ],
      "metadata": {
        "colab": {
          "base_uri": "https://localhost:8080/"
        },
        "id": "kNy-g3RvahV5",
        "outputId": "e570c256-1786-4bb1-e704-0ccd56c87846"
      },
      "execution_count": 41,
      "outputs": [
        {
          "output_type": "stream",
          "name": "stdout",
          "text": [
            "hello 5\n"
          ]
        }
      ]
    },
    {
      "cell_type": "code",
      "source": [
        "print(num, y,sep='_')"
      ],
      "metadata": {
        "colab": {
          "base_uri": "https://localhost:8080/"
        },
        "id": "e2_pC8Ihcye-",
        "outputId": "d492170e-45ad-490d-f6fd-e2c9d6008c63"
      },
      "execution_count": 42,
      "outputs": [
        {
          "output_type": "stream",
          "name": "stdout",
          "text": [
            "hello_5\n"
          ]
        }
      ]
    },
    {
      "cell_type": "code",
      "source": [
        "x = 3\n",
        "y = x\n",
        "print(x,y)"
      ],
      "metadata": {
        "colab": {
          "base_uri": "https://localhost:8080/"
        },
        "id": "L_h7Ku13cycq",
        "outputId": "6941dd14-39dd-4ee4-8408-6a296c815174"
      },
      "execution_count": 43,
      "outputs": [
        {
          "output_type": "stream",
          "name": "stdout",
          "text": [
            "3 3\n"
          ]
        }
      ]
    },
    {
      "cell_type": "code",
      "source": [
        "y =5\n",
        "print(x,y)"
      ],
      "metadata": {
        "colab": {
          "base_uri": "https://localhost:8080/"
        },
        "id": "HOAdIsOLcyaK",
        "outputId": "4b0dd4ee-c3ce-4d01-86d1-70f664a25298"
      },
      "execution_count": 44,
      "outputs": [
        {
          "output_type": "stream",
          "name": "stdout",
          "text": [
            "3 5\n"
          ]
        }
      ]
    },
    {
      "cell_type": "code",
      "source": [
        "x = 7\n",
        "print(x,y)\n",
        "print(y,x)"
      ],
      "metadata": {
        "colab": {
          "base_uri": "https://localhost:8080/"
        },
        "id": "V8Yxc0eJcyXO",
        "outputId": "e93b4416-924f-4f54-ae75-ee70e5cf18be"
      },
      "execution_count": 46,
      "outputs": [
        {
          "output_type": "stream",
          "name": "stdout",
          "text": [
            "7 5\n",
            "5 7\n"
          ]
        }
      ]
    },
    {
      "cell_type": "markdown",
      "source": [
        "# Input from the user: \n",
        "\n",
        "<img src='https://files.realpython.com/media/Basic-Input-Output-and-String-Formatting-in-Python_Watermarked.65ba5b535841.jpg' height=300 width=300>\n",
        "\n",
        "\n"
      ],
      "metadata": {
        "id": "a-uOnd2MQbbQ"
      }
    },
    {
      "cell_type": "code",
      "source": [
        "input()"
      ],
      "metadata": {
        "id": "_y-Obax2C6jP",
        "colab": {
          "base_uri": "https://localhost:8080/",
          "height": 53
        },
        "outputId": "88c884be-1628-452c-da24-2170cb66cab4"
      },
      "execution_count": 47,
      "outputs": [
        {
          "name": "stdout",
          "output_type": "stream",
          "text": [
            "aswini\n"
          ]
        },
        {
          "output_type": "execute_result",
          "data": {
            "text/plain": [
              "'aswini'"
            ],
            "application/vnd.google.colaboratory.intrinsic+json": {
              "type": "string"
            }
          },
          "metadata": {},
          "execution_count": 47
        }
      ]
    },
    {
      "cell_type": "code",
      "source": [
        "input()"
      ],
      "metadata": {
        "id": "7gGM24e-CO_Z",
        "colab": {
          "base_uri": "https://localhost:8080/",
          "height": 53
        },
        "outputId": "fa91b457-74bd-49d9-e8de-07d98d1a35ad"
      },
      "execution_count": 49,
      "outputs": [
        {
          "name": "stdout",
          "output_type": "stream",
          "text": [
            "10\n"
          ]
        },
        {
          "output_type": "execute_result",
          "data": {
            "text/plain": [
              "'10'"
            ],
            "application/vnd.google.colaboratory.intrinsic+json": {
              "type": "string"
            }
          },
          "metadata": {},
          "execution_count": 49
        }
      ]
    },
    {
      "cell_type": "code",
      "source": [
        "name = input()\n",
        "print(name)"
      ],
      "metadata": {
        "id": "2W4akoN0CO5R",
        "colab": {
          "base_uri": "https://localhost:8080/"
        },
        "outputId": "99321198-3439-46ba-f53b-df014c97abc5"
      },
      "execution_count": 50,
      "outputs": [
        {
          "output_type": "stream",
          "name": "stdout",
          "text": [
            "madhu\n",
            "madhu\n"
          ]
        }
      ]
    },
    {
      "cell_type": "code",
      "source": [
        "name = input()\n",
        "print('hello',name)"
      ],
      "metadata": {
        "id": "EZONSgHdCOz_",
        "colab": {
          "base_uri": "https://localhost:8080/"
        },
        "outputId": "b1083468-82bf-4f62-c05d-106f1435d7a2"
      },
      "execution_count": 51,
      "outputs": [
        {
          "output_type": "stream",
          "name": "stdout",
          "text": [
            "sai\n",
            "hello sai\n"
          ]
        }
      ]
    },
    {
      "cell_type": "code",
      "source": [
        "name = input('enter your age:')\n",
        "print('hello',name)"
      ],
      "metadata": {
        "id": "TlucdIirCOxV",
        "colab": {
          "base_uri": "https://localhost:8080/"
        },
        "outputId": "082a1c47-6cd7-48f6-bd65-4a3edbc2e3ac"
      },
      "execution_count": 52,
      "outputs": [
        {
          "output_type": "stream",
          "name": "stdout",
          "text": [
            "enter your age:29\n",
            "hello 29\n"
          ]
        }
      ]
    },
    {
      "cell_type": "code",
      "source": [
        "num1 = input('enter a number')\n",
        "num2 = input('enter a number')\n",
        "print(num1 + num2)"
      ],
      "metadata": {
        "id": "rj8F-WXzCOuf",
        "colab": {
          "base_uri": "https://localhost:8080/"
        },
        "outputId": "8a4e1863-7330-4378-a7eb-21ce53b011ac"
      },
      "execution_count": 53,
      "outputs": [
        {
          "output_type": "stream",
          "name": "stdout",
          "text": [
            "enter a number10\n",
            "enter a number20\n",
            "1020\n"
          ]
        }
      ]
    },
    {
      "cell_type": "code",
      "source": [
        "age = input('enter your age')\n",
        "print(age)\n",
        "#input will always take str as datatype by default"
      ],
      "metadata": {
        "id": "CcL_f1zmCOrb",
        "colab": {
          "base_uri": "https://localhost:8080/"
        },
        "outputId": "ea28ee1e-64d8-41e8-d580-a5c6a231c79a"
      },
      "execution_count": 56,
      "outputs": [
        {
          "output_type": "stream",
          "name": "stdout",
          "text": [
            "enter your age10.90\n",
            "10.90\n"
          ]
        }
      ]
    },
    {
      "cell_type": "code",
      "source": [
        "type(age)"
      ],
      "metadata": {
        "colab": {
          "base_uri": "https://localhost:8080/"
        },
        "id": "gLDFRzBZgw7l",
        "outputId": "71e71a01-13d5-4e65-bf20-9d3534c03048"
      },
      "execution_count": 57,
      "outputs": [
        {
          "output_type": "execute_result",
          "data": {
            "text/plain": [
              "str"
            ]
          },
          "metadata": {},
          "execution_count": 57
        }
      ]
    },
    {
      "cell_type": "code",
      "source": [
        "print('hello'+'mandeep')"
      ],
      "metadata": {
        "colab": {
          "base_uri": "https://localhost:8080/"
        },
        "id": "eV-9C53Fgw4g",
        "outputId": "cb036b26-5959-42c9-869f-5dfbcd8b23c9"
      },
      "execution_count": 58,
      "outputs": [
        {
          "output_type": "stream",
          "name": "stdout",
          "text": [
            "hellomandeep\n"
          ]
        }
      ]
    },
    {
      "cell_type": "code",
      "source": [],
      "metadata": {
        "id": "stZ1R1rOgw11"
      },
      "execution_count": null,
      "outputs": []
    },
    {
      "cell_type": "markdown",
      "source": [
        "#Type Casting:\n",
        "\n",
        "<img src = 'https://drive.google.com/uc?\n",
        "id=15vz_NzkhhcRuAMvlenFOm4CMfEx10SBo' width=300 height=200>\n",
        "\n",
        "\n"
      ],
      "metadata": {
        "id": "dt_t4aZKPPbS"
      }
    },
    {
      "cell_type": "code",
      "source": [
        "num1 = int(input('enter a number'))\n",
        "num2 = int(input('enter a number'))\n",
        "print(num1 + num2)"
      ],
      "metadata": {
        "id": "0qQFWphBQtDR",
        "colab": {
          "base_uri": "https://localhost:8080/"
        },
        "outputId": "91e31257-1909-4503-a309-7e47d29feede"
      },
      "execution_count": 59,
      "outputs": [
        {
          "output_type": "stream",
          "name": "stdout",
          "text": [
            "enter a number10\n",
            "enter a number20\n",
            "30\n"
          ]
        }
      ]
    },
    {
      "cell_type": "code",
      "source": [
        "int('10')"
      ],
      "metadata": {
        "id": "C5ZIA6HiQtAX",
        "colab": {
          "base_uri": "https://localhost:8080/"
        },
        "outputId": "2091e43e-d041-4edd-f408-0bd8368a2924"
      },
      "execution_count": 60,
      "outputs": [
        {
          "output_type": "execute_result",
          "data": {
            "text/plain": [
              "10"
            ]
          },
          "metadata": {},
          "execution_count": 60
        }
      ]
    },
    {
      "cell_type": "code",
      "source": [
        "int('20')"
      ],
      "metadata": {
        "id": "GdQN4hz3mDx_",
        "colab": {
          "base_uri": "https://localhost:8080/"
        },
        "outputId": "3948a1a5-dfd7-4851-81a2-d5b5779e98e1"
      },
      "execution_count": 61,
      "outputs": [
        {
          "output_type": "execute_result",
          "data": {
            "text/plain": [
              "20"
            ]
          },
          "metadata": {},
          "execution_count": 61
        }
      ]
    },
    {
      "cell_type": "code",
      "source": [
        "num1 = input('enter a number')\n",
        "num2 = input('enter a number')\n",
        "print(type(num1))\n",
        "print(type(num2))\n",
        "print(int(num1) + int(num2))"
      ],
      "metadata": {
        "id": "3vII7QK5mDvG",
        "colab": {
          "base_uri": "https://localhost:8080/"
        },
        "outputId": "bb811915-bc55-4722-88a2-b3961e6b1ddb"
      },
      "execution_count": 63,
      "outputs": [
        {
          "output_type": "stream",
          "name": "stdout",
          "text": [
            "enter a number10\n",
            "enter a number20\n",
            "<class 'str'>\n",
            "<class 'str'>\n",
            "30\n"
          ]
        }
      ]
    },
    {
      "cell_type": "code",
      "source": [
        "num1 = input()\n",
        "num2 = input()\n",
        "print(type(num1))\n",
        "print(type(num2))\n",
        "print(int(num1) + int(num2))"
      ],
      "metadata": {
        "id": "4fQbEpBPCT66",
        "colab": {
          "base_uri": "https://localhost:8080/"
        },
        "outputId": "c9ff5d9d-d2c2-4fd7-8237-dc668593ba9b"
      },
      "execution_count": 64,
      "outputs": [
        {
          "output_type": "stream",
          "name": "stdout",
          "text": [
            "10\n",
            "50\n",
            "<class 'str'>\n",
            "<class 'str'>\n",
            "60\n"
          ]
        }
      ]
    },
    {
      "cell_type": "code",
      "source": [
        "print(5>4)"
      ],
      "metadata": {
        "colab": {
          "base_uri": "https://localhost:8080/"
        },
        "id": "MftjS5xKlcf6",
        "outputId": "90da0e6c-f7d1-426d-ccb1-11f5d55e3f17"
      },
      "execution_count": 65,
      "outputs": [
        {
          "output_type": "stream",
          "name": "stdout",
          "text": [
            "True\n"
          ]
        }
      ]
    },
    {
      "cell_type": "code",
      "source": [
        "x = input('Enter')"
      ],
      "metadata": {
        "colab": {
          "base_uri": "https://localhost:8080/"
        },
        "id": "VvJmO8aGqLco",
        "outputId": "8d4002ca-50a1-40e0-a338-a8feb3532380"
      },
      "execution_count": 66,
      "outputs": [
        {
          "name": "stdout",
          "output_type": "stream",
          "text": [
            "Enterhello\n"
          ]
        }
      ]
    },
    {
      "cell_type": "code",
      "source": [
        "print(x)"
      ],
      "metadata": {
        "colab": {
          "base_uri": "https://localhost:8080/"
        },
        "id": "QVB9HZ25qPOa",
        "outputId": "dd7ee392-fd64-4001-e0be-30e5e8481be9"
      },
      "execution_count": 67,
      "outputs": [
        {
          "output_type": "stream",
          "name": "stdout",
          "text": [
            "hello\n"
          ]
        }
      ]
    },
    {
      "cell_type": "code",
      "source": [
        "print('Hello')\n",
        "print('World !')"
      ],
      "metadata": {
        "colab": {
          "base_uri": "https://localhost:8080/"
        },
        "id": "9Q20CfparRuW",
        "outputId": "48955c14-1840-4bf9-d7b7-960e699ca645"
      },
      "execution_count": 68,
      "outputs": [
        {
          "output_type": "stream",
          "name": "stdout",
          "text": [
            "Hello\n",
            "World !\n"
          ]
        }
      ]
    }
  ]
}