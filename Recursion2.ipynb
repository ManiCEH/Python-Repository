{
  "nbformat": 4,
  "nbformat_minor": 0,
  "metadata": {
    "colab": {
      "provenance": [],
      "authorship_tag": "ABX9TyNSbZ/voHT8RENwbCV9bo3A",
      "include_colab_link": true
    },
    "kernelspec": {
      "name": "python3",
      "display_name": "Python 3"
    },
    "language_info": {
      "name": "python"
    }
  },
  "cells": [
    {
      "cell_type": "markdown",
      "metadata": {
        "id": "view-in-github",
        "colab_type": "text"
      },
      "source": [
        "<a href=\"https://colab.research.google.com/github/scaleracademy/BeginnersNovMon2-2022/blob/main/Recursion2.ipynb\" target=\"_parent\"><img src=\"https://colab.research.google.com/assets/colab-badge.svg\" alt=\"Open In Colab\"/></a>"
      ]
    },
    {
      "cell_type": "code",
      "execution_count": 1,
      "metadata": {
        "id": "qzuXIv54fI43"
      },
      "outputs": [],
      "source": [
        "def merge(A,B,m,n):\n",
        "  i,j = 0,0\n",
        "  c = []\n",
        "  while i<m and j<n:\n",
        "    if A[i]<B[j]:\n",
        "      c.append(A[i])\n",
        "      i=i+1\n",
        "    else:\n",
        "      c.append(B[j])\n",
        "      j=j+1\n",
        "  while i<m:\n",
        "    c.append(A[i])\n",
        "    i=i+1\n",
        "  while j<n:\n",
        "    c.append(B[j])\n",
        "    j=j+1\n",
        "  return c        \n",
        "      \n"
      ]
    },
    {
      "cell_type": "code",
      "source": [
        "A = [2,8,8]\n",
        "B = [2,5,9,12,17]\n",
        "merge(A,B,len(A),len(B))"
      ],
      "metadata": {
        "colab": {
          "base_uri": "https://localhost:8080/"
        },
        "id": "_U-Ae3gVfLkk",
        "outputId": "d3faf054-1455-4756-8211-69f52000b9d9"
      },
      "execution_count": 5,
      "outputs": [
        {
          "output_type": "execute_result",
          "data": {
            "text/plain": [
              "[2, 2, 5, 8, 8, 9, 12, 17]"
            ]
          },
          "metadata": {},
          "execution_count": 5
        }
      ]
    },
    {
      "cell_type": "code",
      "source": [],
      "metadata": {
        "id": "-eoyXYrmfLh6"
      },
      "execution_count": null,
      "outputs": []
    },
    {
      "cell_type": "code",
      "source": [],
      "metadata": {
        "id": "3O1jjIiefLfU"
      },
      "execution_count": null,
      "outputs": []
    },
    {
      "cell_type": "code",
      "source": [],
      "metadata": {
        "id": "ZJEcMtqrfLcv"
      },
      "execution_count": null,
      "outputs": []
    },
    {
      "cell_type": "code",
      "source": [],
      "metadata": {
        "id": "JEP8tTc6fLaF"
      },
      "execution_count": null,
      "outputs": []
    },
    {
      "cell_type": "code",
      "source": [],
      "metadata": {
        "id": "_z1_8X0ffLXb"
      },
      "execution_count": null,
      "outputs": []
    }
  ]
}