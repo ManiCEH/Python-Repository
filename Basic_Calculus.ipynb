{
  "nbformat": 4,
  "nbformat_minor": 0,
  "metadata": {
    "colab": {
      "provenance": [],
      "authorship_tag": "ABX9TyO/mr5zyZ0Q/BwGqdGoTzoJ",
      "include_colab_link": true
    },
    "kernelspec": {
      "name": "python3",
      "display_name": "Python 3"
    },
    "language_info": {
      "name": "python"
    }
  },
  "cells": [
    {
      "cell_type": "markdown",
      "metadata": {
        "id": "view-in-github",
        "colab_type": "text"
      },
      "source": [
        "<a href=\"https://colab.research.google.com/github/scaleracademy/BeginnersNovMon2-2022/blob/main/Basic_Calculus.ipynb\" target=\"_parent\"><img src=\"https://colab.research.google.com/assets/colab-badge.svg\" alt=\"Open In Colab\"/></a>"
      ]
    },
    {
      "cell_type": "code",
      "execution_count": null,
      "metadata": {
        "id": "bWjZaa9pCo0k"
      },
      "outputs": [],
      "source": [
        "def f(x):\n",
        "  return x**2"
      ]
    },
    {
      "cell_type": "code",
      "source": [
        "inputs = list(range(10))\n",
        "outputs = [f(i) for i in inputs]\n",
        "print(inputs)\n",
        "print(outputs)"
      ],
      "metadata": {
        "colab": {
          "base_uri": "https://localhost:8080/"
        },
        "id": "CLtGSlijGrfS",
        "outputId": "1667ea3f-dfdd-4541-c07b-f72901fdc8cc"
      },
      "execution_count": null,
      "outputs": [
        {
          "output_type": "stream",
          "name": "stdout",
          "text": [
            "[0, 1, 2, 3, 4, 5, 6, 7, 8, 9]\n",
            "[0, 1, 4, 9, 16, 25, 36, 49, 64, 81]\n"
          ]
        }
      ]
    },
    {
      "cell_type": "code",
      "source": [
        "def f(x):\n",
        "  return 4*x**2 - 3*x+2\n",
        "x = int(input())\n",
        "\n",
        "print(f(x))  "
      ],
      "metadata": {
        "colab": {
          "base_uri": "https://localhost:8080/"
        },
        "id": "83aAzYCNOGRx",
        "outputId": "7e63c8f6-d6eb-4889-c74f-673245fc9d5f"
      },
      "execution_count": null,
      "outputs": [
        {
          "output_type": "stream",
          "name": "stdout",
          "text": [
            "10\n",
            "372\n"
          ]
        }
      ]
    },
    {
      "cell_type": "code",
      "source": [
        "import math"
      ],
      "metadata": {
        "id": "vLQmi63hR3Au"
      },
      "execution_count": null,
      "outputs": []
    },
    {
      "cell_type": "code",
      "source": [
        "print(math.exp(-11))"
      ],
      "metadata": {
        "colab": {
          "base_uri": "https://localhost:8080/"
        },
        "id": "wxh7lRn8R54H",
        "outputId": "931c6b67-f0eb-4d12-9994-1979219c146c"
      },
      "execution_count": null,
      "outputs": [
        {
          "output_type": "stream",
          "name": "stdout",
          "text": [
            "1.670170079024566e-05\n"
          ]
        }
      ]
    },
    {
      "cell_type": "code",
      "source": [
        "y = lambda x: math.log(math.exp(x))"
      ],
      "metadata": {
        "id": "KsGPZGhtWvP6"
      },
      "execution_count": null,
      "outputs": []
    },
    {
      "cell_type": "code",
      "source": [
        "print(y(2))"
      ],
      "metadata": {
        "colab": {
          "base_uri": "https://localhost:8080/"
        },
        "id": "OI6sJpqoWz6h",
        "outputId": "d50f2235-8711-4ab9-d715-f2092d20716e"
      },
      "execution_count": null,
      "outputs": [
        {
          "output_type": "stream",
          "name": "stdout",
          "text": [
            "2.0\n"
          ]
        }
      ]
    },
    {
      "cell_type": "code",
      "source": [
        "print(y(1.5))"
      ],
      "metadata": {
        "colab": {
          "base_uri": "https://localhost:8080/"
        },
        "id": "3CvgztBqW4vr",
        "outputId": "d2731b60-b00f-482f-f9ab-7137c225bb57"
      },
      "execution_count": null,
      "outputs": [
        {
          "output_type": "stream",
          "name": "stdout",
          "text": [
            "1.5\n"
          ]
        }
      ]
    },
    {
      "cell_type": "code",
      "source": [
        "def f(x):\n",
        "  return x**2"
      ],
      "metadata": {
        "id": "pBIxZ6L4Y9fp"
      },
      "execution_count": null,
      "outputs": []
    },
    {
      "cell_type": "code",
      "source": [
        "inputs = [2.9,2.99,2.999,2.9999,2.99999]\n",
        "outputs = [f(i) for i in inputs]\n",
        "print(inputs)\n",
        "print(outputs)"
      ],
      "metadata": {
        "colab": {
          "base_uri": "https://localhost:8080/"
        },
        "id": "JkqBOI-7Y_wL",
        "outputId": "55df23a8-8ee5-4585-ff25-5aaff2e1db44"
      },
      "execution_count": null,
      "outputs": [
        {
          "output_type": "stream",
          "name": "stdout",
          "text": [
            "[2.9, 2.99, 2.999, 2.9999, 2.99999]\n",
            "[8.41, 8.940100000000001, 8.994001, 8.999400009999999, 8.999940000099999]\n"
          ]
        }
      ]
    },
    {
      "cell_type": "code",
      "source": [
        "inputs = [3.1,3.01,3.001,3.0001,3.00001]\n",
        "outputs = [f(i) for i in inputs]\n",
        "print(inputs)\n",
        "print(outputs)"
      ],
      "metadata": {
        "colab": {
          "base_uri": "https://localhost:8080/"
        },
        "id": "6Li0Xl4HaIP3",
        "outputId": "713dd0ee-46a8-4ed9-f7b9-fc4b7edc48d8"
      },
      "execution_count": null,
      "outputs": [
        {
          "output_type": "stream",
          "name": "stdout",
          "text": [
            "[3.1, 3.01, 3.001, 3.0001, 3.00001]\n",
            "[9.610000000000001, 9.060099999999998, 9.006001, 9.000600010000001, 9.0000600001]\n"
          ]
        }
      ]
    },
    {
      "cell_type": "markdown",
      "source": [
        "#derivation"
      ],
      "metadata": {
        "id": "URrL6XPbcJT3"
      }
    },
    {
      "cell_type": "code",
      "source": [
        "def derivative(f,x):\n",
        "  h = 0.0001\n",
        "  return (f(x+h)-f(x))/h"
      ],
      "metadata": {
        "id": "05LtTML9cK47"
      },
      "execution_count": 18,
      "outputs": []
    },
    {
      "cell_type": "code",
      "source": [
        "f = lambda x: x**2\n",
        "print(derivative(f,2))"
      ],
      "metadata": {
        "colab": {
          "base_uri": "https://localhost:8080/"
        },
        "id": "tUsudt5IcBWn",
        "outputId": "5834447e-1b2e-4f2f-9bd7-0a42b26841d3"
      },
      "execution_count": 19,
      "outputs": [
        {
          "output_type": "stream",
          "name": "stdout",
          "text": [
            "4.0001000000078335\n"
          ]
        }
      ]
    },
    {
      "cell_type": "code",
      "source": [
        "type(f)"
      ],
      "metadata": {
        "colab": {
          "base_uri": "https://localhost:8080/"
        },
        "id": "CumM1L_SxOnJ",
        "outputId": "6a1c4253-62c1-42d6-9998-4329bb0fd56d"
      },
      "execution_count": 20,
      "outputs": [
        {
          "output_type": "execute_result",
          "data": {
            "text/plain": [
              "function"
            ]
          },
          "metadata": {},
          "execution_count": 20
        }
      ]
    },
    {
      "cell_type": "code",
      "source": [
        "f = lambda x:x\n",
        "print(derivative(f,1))"
      ],
      "metadata": {
        "colab": {
          "base_uri": "https://localhost:8080/"
        },
        "id": "tE9pGhgidqAU",
        "outputId": "f23c3b55-e9b1-4b5b-d099-c5eba3274b13"
      },
      "execution_count": 15,
      "outputs": [
        {
          "output_type": "stream",
          "name": "stdout",
          "text": [
            "0.9999999999998899\n"
          ]
        }
      ]
    },
    {
      "cell_type": "code",
      "source": [
        "min = -999999999999\n",
        "min = float('-inf')"
      ],
      "metadata": {
        "id": "4XuSXSxCwCHY"
      },
      "execution_count": null,
      "outputs": []
    },
    {
      "cell_type": "code",
      "source": [
        "#exlore with this one\n",
        "min = float('-inf')"
      ],
      "metadata": {
        "id": "5Rcu_JKHwOHm"
      },
      "execution_count": 16,
      "outputs": []
    },
    {
      "cell_type": "code",
      "source": [
        "min"
      ],
      "metadata": {
        "colab": {
          "base_uri": "https://localhost:8080/"
        },
        "id": "5IhNrow-wRVu",
        "outputId": "05ba18ec-e42a-4194-865e-4f90d40cf39b"
      },
      "execution_count": 17,
      "outputs": [
        {
          "output_type": "execute_result",
          "data": {
            "text/plain": [
              "-inf"
            ]
          },
          "metadata": {},
          "execution_count": 17
        }
      ]
    }
  ]
}