{
  "nbformat": 4,
  "nbformat_minor": 0,
  "metadata": {
    "colab": {
      "provenance": [],
      "authorship_tag": "ABX9TyOwQ8QYRWDv0WgXltv4TYmQ",
      "include_colab_link": true
    },
    "kernelspec": {
      "name": "python3",
      "display_name": "Python 3"
    },
    "language_info": {
      "name": "python"
    }
  },
  "cells": [
    {
      "cell_type": "markdown",
      "metadata": {
        "id": "view-in-github",
        "colab_type": "text"
      },
      "source": [
        "<a href=\"https://colab.research.google.com/github/scaleracademy/BeginnersNovMon2-2022/blob/main/OOPS2.ipynb\" target=\"_parent\"><img src=\"https://colab.research.google.com/assets/colab-badge.svg\" alt=\"Open In Colab\"/></a>"
      ]
    },
    {
      "cell_type": "code",
      "source": [
        "class Car:\n",
        "  model = 'suv'\n",
        "  color = 'black'\n",
        "\n"
      ],
      "metadata": {
        "id": "s7DJ_CkLHzxj"
      },
      "execution_count": 20,
      "outputs": []
    },
    {
      "cell_type": "code",
      "source": [
        "c1 = Car()\n",
        "c2 = Car()"
      ],
      "metadata": {
        "id": "8m6fUtIbHzuq"
      },
      "execution_count": 21,
      "outputs": []
    },
    {
      "cell_type": "code",
      "source": [
        "c2.model"
      ],
      "metadata": {
        "colab": {
          "base_uri": "https://localhost:8080/",
          "height": 36
        },
        "id": "F8m8ei4tQP-W",
        "outputId": "ff777bd7-4cc4-4227-8458-e94dffb0f28e"
      },
      "execution_count": 22,
      "outputs": [
        {
          "output_type": "execute_result",
          "data": {
            "text/plain": [
              "'suv'"
            ],
            "application/vnd.google.colaboratory.intrinsic+json": {
              "type": "string"
            }
          },
          "metadata": {},
          "execution_count": 22
        }
      ]
    },
    {
      "cell_type": "code",
      "source": [
        "c2.color"
      ],
      "metadata": {
        "colab": {
          "base_uri": "https://localhost:8080/",
          "height": 36
        },
        "id": "weaJ66DQQTiJ",
        "outputId": "21675a8a-7174-4c17-834b-98167e7c447f"
      },
      "execution_count": 23,
      "outputs": [
        {
          "output_type": "execute_result",
          "data": {
            "text/plain": [
              "'black'"
            ],
            "application/vnd.google.colaboratory.intrinsic+json": {
              "type": "string"
            }
          },
          "metadata": {},
          "execution_count": 23
        }
      ]
    },
    {
      "cell_type": "code",
      "source": [
        "Car.model"
      ],
      "metadata": {
        "colab": {
          "base_uri": "https://localhost:8080/",
          "height": 36
        },
        "id": "ryRBou6kPdC2",
        "outputId": "78786455-4a78-4ad1-c803-6bd06fe84020"
      },
      "execution_count": 12,
      "outputs": [
        {
          "output_type": "execute_result",
          "data": {
            "text/plain": [
              "'suv'"
            ],
            "application/vnd.google.colaboratory.intrinsic+json": {
              "type": "string"
            }
          },
          "metadata": {},
          "execution_count": 12
        }
      ]
    },
    {
      "cell_type": "code",
      "source": [
        "Car.color"
      ],
      "metadata": {
        "colab": {
          "base_uri": "https://localhost:8080/",
          "height": 36
        },
        "id": "SeOiee0uPiU-",
        "outputId": "07882f45-a2e5-465a-8ca0-59e55b2555a5"
      },
      "execution_count": 13,
      "outputs": [
        {
          "output_type": "execute_result",
          "data": {
            "text/plain": [
              "'black'"
            ],
            "application/vnd.google.colaboratory.intrinsic+json": {
              "type": "string"
            }
          },
          "metadata": {},
          "execution_count": 13
        }
      ]
    },
    {
      "cell_type": "code",
      "source": [
        "c1.model"
      ],
      "metadata": {
        "colab": {
          "base_uri": "https://localhost:8080/",
          "height": 36
        },
        "id": "A_r6dSrwHzry",
        "outputId": "3eb912eb-bd01-4a7c-9881-7f85a348204a"
      },
      "execution_count": 10,
      "outputs": [
        {
          "output_type": "execute_result",
          "data": {
            "text/plain": [
              "'suv'"
            ],
            "application/vnd.google.colaboratory.intrinsic+json": {
              "type": "string"
            }
          },
          "metadata": {},
          "execution_count": 10
        }
      ]
    },
    {
      "cell_type": "code",
      "source": [
        "c1.color"
      ],
      "metadata": {
        "colab": {
          "base_uri": "https://localhost:8080/",
          "height": 36
        },
        "id": "URrAc1rcHzoy",
        "outputId": "5bba1a47-479c-48e8-92e4-bad359a0f3af"
      },
      "execution_count": 11,
      "outputs": [
        {
          "output_type": "execute_result",
          "data": {
            "text/plain": [
              "'black'"
            ],
            "application/vnd.google.colaboratory.intrinsic+json": {
              "type": "string"
            }
          },
          "metadata": {},
          "execution_count": 11
        }
      ]
    },
    {
      "cell_type": "code",
      "source": [
        "class Car:\n",
        "  def __init__(self,model,color):\n",
        "    self.model = model\n",
        "    self.color = color"
      ],
      "metadata": {
        "id": "bsBr8WlVHzl6"
      },
      "execution_count": 24,
      "outputs": []
    },
    {
      "cell_type": "code",
      "source": [
        "Car.model"
      ],
      "metadata": {
        "colab": {
          "base_uri": "https://localhost:8080/",
          "height": 168
        },
        "id": "SBcl-MhEQwYX",
        "outputId": "34235400-d839-4d7c-b864-e165ab9e6199"
      },
      "execution_count": 27,
      "outputs": [
        {
          "output_type": "error",
          "ename": "AttributeError",
          "evalue": "ignored",
          "traceback": [
            "\u001b[0;31m---------------------------------------------------------------------------\u001b[0m",
            "\u001b[0;31mAttributeError\u001b[0m                            Traceback (most recent call last)",
            "\u001b[0;32m<ipython-input-27-5bf86859be22>\u001b[0m in \u001b[0;36m<module>\u001b[0;34m\u001b[0m\n\u001b[0;32m----> 1\u001b[0;31m \u001b[0mCar\u001b[0m\u001b[0;34m.\u001b[0m\u001b[0mmodel\u001b[0m\u001b[0;34m\u001b[0m\u001b[0;34m\u001b[0m\u001b[0m\n\u001b[0m",
            "\u001b[0;31mAttributeError\u001b[0m: type object 'Car' has no attribute 'model'"
          ]
        }
      ]
    },
    {
      "cell_type": "code",
      "source": [
        "c1 = Car('suv','black')\n"
      ],
      "metadata": {
        "id": "u3meHoEzItOw"
      },
      "execution_count": 16,
      "outputs": []
    },
    {
      "cell_type": "code",
      "source": [
        "c1.model"
      ],
      "metadata": {
        "colab": {
          "base_uri": "https://localhost:8080/",
          "height": 36
        },
        "id": "W3MeVKmBItL9",
        "outputId": "127d1d43-6140-4e5e-8f3d-662b21727588"
      },
      "execution_count": 17,
      "outputs": [
        {
          "output_type": "execute_result",
          "data": {
            "text/plain": [
              "'suv'"
            ],
            "application/vnd.google.colaboratory.intrinsic+json": {
              "type": "string"
            }
          },
          "metadata": {},
          "execution_count": 17
        }
      ]
    },
    {
      "cell_type": "code",
      "source": [
        "c1.color"
      ],
      "metadata": {
        "colab": {
          "base_uri": "https://localhost:8080/",
          "height": 36
        },
        "id": "sLa6tn4nItJE",
        "outputId": "dafdf45f-61b5-44eb-854f-8fdc0c3d2de7"
      },
      "execution_count": 18,
      "outputs": [
        {
          "output_type": "execute_result",
          "data": {
            "text/plain": [
              "'black'"
            ],
            "application/vnd.google.colaboratory.intrinsic+json": {
              "type": "string"
            }
          },
          "metadata": {},
          "execution_count": 18
        }
      ]
    },
    {
      "cell_type": "code",
      "source": [
        "c2 = Car('sedan','blue')"
      ],
      "metadata": {
        "id": "Cv4WRbO4ItGV"
      },
      "execution_count": 25,
      "outputs": []
    },
    {
      "cell_type": "code",
      "source": [
        "c2.model"
      ],
      "metadata": {
        "colab": {
          "base_uri": "https://localhost:8080/",
          "height": 36
        },
        "id": "kciP9h2MItDW",
        "outputId": "6bc4c27d-388e-4076-a0d3-723afecc81a3"
      },
      "execution_count": 26,
      "outputs": [
        {
          "output_type": "execute_result",
          "data": {
            "text/plain": [
              "'sedan'"
            ],
            "application/vnd.google.colaboratory.intrinsic+json": {
              "type": "string"
            }
          },
          "metadata": {},
          "execution_count": 26
        }
      ]
    },
    {
      "cell_type": "code",
      "source": [
        "class Car:\n",
        "  def __init__(self,model,color,price):\n",
        "    self.model = model\n",
        "    self.color = color\n",
        "    self.price = price\n",
        "  def drive(self):\n",
        "    print('zoom zoom zoom')  \n",
        "    \n",
        " "
      ],
      "metadata": {
        "id": "Y8z2woDZQusF"
      },
      "execution_count": 28,
      "outputs": []
    },
    {
      "cell_type": "code",
      "source": [
        "c1 = Car('suv','red',1000000)"
      ],
      "metadata": {
        "id": "u1UPp3IDTawv"
      },
      "execution_count": 29,
      "outputs": []
    },
    {
      "cell_type": "code",
      "source": [
        "c1.price"
      ],
      "metadata": {
        "colab": {
          "base_uri": "https://localhost:8080/"
        },
        "id": "Flmb8E2dThLC",
        "outputId": "67c22359-89d8-4f62-b3d5-5c4e6ff52506"
      },
      "execution_count": 30,
      "outputs": [
        {
          "output_type": "execute_result",
          "data": {
            "text/plain": [
              "1000000"
            ]
          },
          "metadata": {},
          "execution_count": 30
        }
      ]
    },
    {
      "cell_type": "code",
      "source": [
        "c1.price = 12000000"
      ],
      "metadata": {
        "id": "8dvqtWDcTj2c"
      },
      "execution_count": 31,
      "outputs": []
    },
    {
      "cell_type": "code",
      "source": [
        "c1.price"
      ],
      "metadata": {
        "colab": {
          "base_uri": "https://localhost:8080/"
        },
        "id": "28fKoscVTsSA",
        "outputId": "df49a5eb-e81e-42dd-e0a3-12d580e3d22f"
      },
      "execution_count": 32,
      "outputs": [
        {
          "output_type": "execute_result",
          "data": {
            "text/plain": [
              "12000000"
            ]
          },
          "metadata": {},
          "execution_count": 32
        }
      ]
    },
    {
      "cell_type": "code",
      "source": [
        "c1.price = 10000"
      ],
      "metadata": {
        "id": "OZvTUbDITvFW"
      },
      "execution_count": 33,
      "outputs": []
    },
    {
      "cell_type": "code",
      "source": [
        "c1.price"
      ],
      "metadata": {
        "colab": {
          "base_uri": "https://localhost:8080/"
        },
        "id": "aS42GVESUC-9",
        "outputId": "195c9eb1-6cdd-441b-ff85-9bed7fb7fc06"
      },
      "execution_count": 34,
      "outputs": [
        {
          "output_type": "execute_result",
          "data": {
            "text/plain": [
              "10000"
            ]
          },
          "metadata": {},
          "execution_count": 34
        }
      ]
    },
    {
      "cell_type": "markdown",
      "source": [
        "# public variables"
      ],
      "metadata": {
        "id": "fJ68hVnCV9TU"
      }
    },
    {
      "cell_type": "code",
      "source": [
        "class Employee:\n",
        "  def __init__(self,name,salary,project):\n",
        "    self.name = name\n",
        "    self.salary = salary\n",
        "    self.project = project\n",
        "  def intro(self):\n",
        "    print(self.name,self.salary)\n",
        "  def work(self):\n",
        "    print(self.name,self.project)  \n",
        "\n"
      ],
      "metadata": {
        "id": "FpezGi7BVHAg"
      },
      "execution_count": 35,
      "outputs": []
    },
    {
      "cell_type": "code",
      "source": [
        "emp = Employee('arjun',10000000,'DRDO')\n",
        "emp.salary"
      ],
      "metadata": {
        "colab": {
          "base_uri": "https://localhost:8080/"
        },
        "id": "9yXGtIX8VkX8",
        "outputId": "388326a3-6218-49ed-c90a-9084cb4ce2c8"
      },
      "execution_count": 36,
      "outputs": [
        {
          "output_type": "execute_result",
          "data": {
            "text/plain": [
              "10000000"
            ]
          },
          "metadata": {},
          "execution_count": 36
        }
      ]
    },
    {
      "cell_type": "code",
      "source": [
        "emp.salary = 'xyz'"
      ],
      "metadata": {
        "id": "vVvVdktiV0-Y"
      },
      "execution_count": 37,
      "outputs": []
    },
    {
      "cell_type": "code",
      "source": [
        "emp.salary"
      ],
      "metadata": {
        "colab": {
          "base_uri": "https://localhost:8080/",
          "height": 36
        },
        "id": "z2oohzifV5OR",
        "outputId": "0e367b16-fd8d-4d38-b75b-ad4c0e00e3f6"
      },
      "execution_count": 38,
      "outputs": [
        {
          "output_type": "execute_result",
          "data": {
            "text/plain": [
              "'xyz'"
            ],
            "application/vnd.google.colaboratory.intrinsic+json": {
              "type": "string"
            }
          },
          "metadata": {},
          "execution_count": 38
        }
      ]
    },
    {
      "cell_type": "markdown",
      "source": [
        "# privaTE VARIABLES"
      ],
      "metadata": {
        "id": "PyYyAZy-WAS1"
      }
    },
    {
      "cell_type": "code",
      "source": [
        "class Employee:\n",
        "  def __init__(self,name,salary,project):\n",
        "    self.name = name\n",
        "    self.__salary = salary\n",
        "    self.project = project\n",
        "  def intro(self):\n",
        "    print(self.name,self.__salary)\n",
        "  def work(self):\n",
        "    print(self.name,self.project) "
      ],
      "metadata": {
        "id": "kQKKeVs8WOa6"
      },
      "execution_count": 43,
      "outputs": []
    },
    {
      "cell_type": "code",
      "source": [
        "emp = Employee('arjun',10000000,'DRDO')\n"
      ],
      "metadata": {
        "id": "53NgVNZVWWvD"
      },
      "execution_count": 44,
      "outputs": []
    },
    {
      "cell_type": "code",
      "source": [
        "emp1 = Employee('arjun',20000000,'DRDO')"
      ],
      "metadata": {
        "id": "NtUo6u1eXTPY"
      },
      "execution_count": 47,
      "outputs": []
    },
    {
      "cell_type": "code",
      "source": [
        "emp1.intro()"
      ],
      "metadata": {
        "colab": {
          "base_uri": "https://localhost:8080/"
        },
        "id": "voMJPBkYXWaY",
        "outputId": "744a43fb-9ee5-4e60-8f44-2c7bc752fee5"
      },
      "execution_count": 48,
      "outputs": [
        {
          "output_type": "stream",
          "name": "stdout",
          "text": [
            "arjun 20000000\n"
          ]
        }
      ]
    },
    {
      "cell_type": "code",
      "source": [
        "emp.salary"
      ],
      "metadata": {
        "colab": {
          "base_uri": "https://localhost:8080/",
          "height": 168
        },
        "id": "SrdnfdUIWaB5",
        "outputId": "68ce8bfd-b9d1-4553-a6f4-e9ae0af714af"
      },
      "execution_count": 45,
      "outputs": [
        {
          "output_type": "error",
          "ename": "AttributeError",
          "evalue": "ignored",
          "traceback": [
            "\u001b[0;31m---------------------------------------------------------------------------\u001b[0m",
            "\u001b[0;31mAttributeError\u001b[0m                            Traceback (most recent call last)",
            "\u001b[0;32m<ipython-input-45-f28392b5175a>\u001b[0m in \u001b[0;36m<module>\u001b[0;34m\u001b[0m\n\u001b[0;32m----> 1\u001b[0;31m \u001b[0memp\u001b[0m\u001b[0;34m.\u001b[0m\u001b[0msalary\u001b[0m\u001b[0;34m\u001b[0m\u001b[0;34m\u001b[0m\u001b[0m\n\u001b[0m",
            "\u001b[0;31mAttributeError\u001b[0m: 'Employee' object has no attribute 'salary'"
          ]
        }
      ]
    },
    {
      "cell_type": "code",
      "source": [
        "emp.intro()"
      ],
      "metadata": {
        "colab": {
          "base_uri": "https://localhost:8080/"
        },
        "id": "LDqkYQ4qWu7X",
        "outputId": "8d45a5cd-a601-45a1-a8ae-8b1909fa4adc"
      },
      "execution_count": 46,
      "outputs": [
        {
          "output_type": "stream",
          "name": "stdout",
          "text": [
            "arjun 10000000\n"
          ]
        }
      ]
    },
    {
      "cell_type": "code",
      "source": [
        "class Employee:\n",
        "  def __init__(self,name,salary,project):\n",
        "    self.name = name\n",
        "    self.__salary = salary\n",
        "    self.project = project\n",
        "  def get_salary(self):\n",
        "    return self.__salary\n",
        "  def set_salary(self,new_salary):\n",
        "    self.__salary = new_salary"
      ],
      "metadata": {
        "id": "Sdl76tUAXMEe"
      },
      "execution_count": 68,
      "outputs": []
    },
    {
      "cell_type": "code",
      "source": [
        "emp = Employee('sai',5000000,'cv')\n"
      ],
      "metadata": {
        "id": "9lCiGkyNXrD2"
      },
      "execution_count": 69,
      "outputs": []
    },
    {
      "cell_type": "code",
      "source": [
        "emp.__salary"
      ],
      "metadata": {
        "colab": {
          "base_uri": "https://localhost:8080/",
          "height": 168
        },
        "id": "Vn_gNIjbX7DG",
        "outputId": "e3e03bcc-aee3-4b85-c6a6-c05eb3e3be9c"
      },
      "execution_count": 65,
      "outputs": [
        {
          "output_type": "error",
          "ename": "AttributeError",
          "evalue": "ignored",
          "traceback": [
            "\u001b[0;31m---------------------------------------------------------------------------\u001b[0m",
            "\u001b[0;31mAttributeError\u001b[0m                            Traceback (most recent call last)",
            "\u001b[0;32m<ipython-input-65-43602724f83f>\u001b[0m in \u001b[0;36m<module>\u001b[0;34m\u001b[0m\n\u001b[0;32m----> 1\u001b[0;31m \u001b[0memp\u001b[0m\u001b[0;34m.\u001b[0m\u001b[0m__salary\u001b[0m\u001b[0;34m\u001b[0m\u001b[0;34m\u001b[0m\u001b[0m\n\u001b[0m",
            "\u001b[0;31mAttributeError\u001b[0m: 'Employee' object has no attribute '__salary'"
          ]
        }
      ]
    },
    {
      "cell_type": "code",
      "source": [
        "emp._Employee__salary = 100"
      ],
      "metadata": {
        "id": "Fjda1_S2driR"
      },
      "execution_count": 70,
      "outputs": []
    },
    {
      "cell_type": "code",
      "source": [
        "emp.get_salary()"
      ],
      "metadata": {
        "colab": {
          "base_uri": "https://localhost:8080/"
        },
        "id": "PXJ1plwzd6Mg",
        "outputId": "01beb884-85e4-4675-f5a6-572298167ad4"
      },
      "execution_count": 71,
      "outputs": [
        {
          "output_type": "execute_result",
          "data": {
            "text/plain": [
              "100"
            ]
          },
          "metadata": {},
          "execution_count": 71
        }
      ]
    },
    {
      "cell_type": "code",
      "source": [
        "emp.__salary = 1000"
      ],
      "metadata": {
        "id": "nqVORJM2engy"
      },
      "execution_count": 72,
      "outputs": []
    },
    {
      "cell_type": "code",
      "source": [
        "emp.__salary"
      ],
      "metadata": {
        "colab": {
          "base_uri": "https://localhost:8080/"
        },
        "id": "4hd3h0tAeufr",
        "outputId": "c9bc3a38-c7bd-4854-ea27-7e43ba9d40ba"
      },
      "execution_count": 73,
      "outputs": [
        {
          "output_type": "execute_result",
          "data": {
            "text/plain": [
              "1000"
            ]
          },
          "metadata": {},
          "execution_count": 73
        }
      ]
    },
    {
      "cell_type": "code",
      "source": [
        "emp.__dict__"
      ],
      "metadata": {
        "colab": {
          "base_uri": "https://localhost:8080/"
        },
        "id": "FO4CZachezsh",
        "outputId": "22ec68c1-aeb4-4954-aa0c-1c80130b3fd6"
      },
      "execution_count": 74,
      "outputs": [
        {
          "output_type": "execute_result",
          "data": {
            "text/plain": [
              "{'name': 'sai', '_Employee__salary': 100, 'project': 'cv', '__salary': 1000}"
            ]
          },
          "metadata": {},
          "execution_count": 74
        }
      ]
    },
    {
      "cell_type": "code",
      "source": [
        "emp.get_salary()"
      ],
      "metadata": {
        "colab": {
          "base_uri": "https://localhost:8080/"
        },
        "id": "EfB22nDkX_fy",
        "outputId": "eb3cb114-9178-4d7a-c610-44ba79c6d11a"
      },
      "execution_count": 52,
      "outputs": [
        {
          "output_type": "execute_result",
          "data": {
            "text/plain": [
              "5000000"
            ]
          },
          "metadata": {},
          "execution_count": 52
        }
      ]
    },
    {
      "cell_type": "code",
      "source": [
        "emp.set_salary(10000000)"
      ],
      "metadata": {
        "id": "hkoJoKx1YDw1"
      },
      "execution_count": 53,
      "outputs": []
    },
    {
      "cell_type": "code",
      "source": [
        "emp.get_salary()"
      ],
      "metadata": {
        "colab": {
          "base_uri": "https://localhost:8080/"
        },
        "id": "C3_EkDR7YMfE",
        "outputId": "8a45d98a-659a-4fc2-cf79-9178ddad4f25"
      },
      "execution_count": 55,
      "outputs": [
        {
          "output_type": "execute_result",
          "data": {
            "text/plain": [
              "10000000"
            ]
          },
          "metadata": {},
          "execution_count": 55
        }
      ]
    },
    {
      "cell_type": "code",
      "source": [
        "emp.__salary"
      ],
      "metadata": {
        "colab": {
          "base_uri": "https://localhost:8080/",
          "height": 168
        },
        "id": "SJPTV9pyYIPU",
        "outputId": "7d69a90a-9070-48d4-db04-09469a75d8d6"
      },
      "execution_count": 54,
      "outputs": [
        {
          "output_type": "error",
          "ename": "AttributeError",
          "evalue": "ignored",
          "traceback": [
            "\u001b[0;31m---------------------------------------------------------------------------\u001b[0m",
            "\u001b[0;31mAttributeError\u001b[0m                            Traceback (most recent call last)",
            "\u001b[0;32m<ipython-input-54-43602724f83f>\u001b[0m in \u001b[0;36m<module>\u001b[0;34m\u001b[0m\n\u001b[0;32m----> 1\u001b[0;31m \u001b[0memp\u001b[0m\u001b[0;34m.\u001b[0m\u001b[0m__salary\u001b[0m\u001b[0;34m\u001b[0m\u001b[0;34m\u001b[0m\u001b[0m\n\u001b[0m",
            "\u001b[0;31mAttributeError\u001b[0m: 'Employee' object has no attribute '__salary'"
          ]
        }
      ]
    },
    {
      "cell_type": "code",
      "source": [
        "#quiz\n",
        "# What will be the output of the following Python code?\n",
        "\n",
        "class Test:\n",
        "     def __init__(self):\n",
        "         self.p = 1\n",
        "         self.__q = 1\n",
        "\n",
        "     def get(self):\n",
        "         return self.__q\n",
        "\n",
        "     def set(self,value):\n",
        "       self.__q += value\n",
        "       return self.__q   \n",
        "\n",
        "t = Test()\n",
        "print(t.get())"
      ],
      "metadata": {
        "colab": {
          "base_uri": "https://localhost:8080/"
        },
        "id": "_kjhLY7sZHhN",
        "outputId": "e37f0b67-133a-4db9-cab6-5996cd890401"
      },
      "execution_count": 62,
      "outputs": [
        {
          "output_type": "stream",
          "name": "stdout",
          "text": [
            "1\n"
          ]
        }
      ]
    },
    {
      "cell_type": "code",
      "source": [],
      "metadata": {
        "id": "grFw2pjrdldG"
      },
      "execution_count": null,
      "outputs": []
    },
    {
      "cell_type": "code",
      "source": [
        "print(t.set(100))"
      ],
      "metadata": {
        "colab": {
          "base_uri": "https://localhost:8080/"
        },
        "id": "LWMBtMieZ_wO",
        "outputId": "a479d8d4-7a7e-4f0b-d90e-e71fc26f4011"
      },
      "execution_count": 61,
      "outputs": [
        {
          "output_type": "stream",
          "name": "stdout",
          "text": [
            "101\n"
          ]
        }
      ]
    },
    {
      "cell_type": "markdown",
      "source": [
        "#Inheritance"
      ],
      "metadata": {
        "id": "L8MMpiizgwdV"
      }
    },
    {
      "cell_type": "code",
      "source": [
        "class Vehicle:\n",
        "  def Vehicle_info(self):\n",
        "    print('inside the vehicle class')\n",
        "class Car(Vehicle):\n",
        "  def Car_info(self):\n",
        "    print('inside the car class')        "
      ],
      "metadata": {
        "id": "NlIu1c3JdGmh"
      },
      "execution_count": 75,
      "outputs": []
    },
    {
      "cell_type": "code",
      "source": [
        "c = Car()\n",
        "c.Vehicle_info()"
      ],
      "metadata": {
        "colab": {
          "base_uri": "https://localhost:8080/"
        },
        "id": "wE_mScjkhKUe",
        "outputId": "a723f1e7-3616-4231-e6da-476588b819f0"
      },
      "execution_count": 76,
      "outputs": [
        {
          "output_type": "stream",
          "name": "stdout",
          "text": [
            "inside the vehicle class\n"
          ]
        }
      ]
    },
    {
      "cell_type": "code",
      "source": [
        "class Person:\n",
        "  def person_info(self):\n",
        "    print('inside the person class')\n",
        "class Company:\n",
        "  def company_info(self):\n",
        "    print('inside the company class')\n",
        "class Employee(Person,Company):\n",
        "  def employee_info(self):\n",
        "    print('inside the employee class')        "
      ],
      "metadata": {
        "id": "W32gbzZXiBY-"
      },
      "execution_count": 77,
      "outputs": []
    },
    {
      "cell_type": "code",
      "source": [
        "emp = Employee()\n",
        "emp.person_info()"
      ],
      "metadata": {
        "colab": {
          "base_uri": "https://localhost:8080/"
        },
        "id": "yzNTzIIcifZ3",
        "outputId": "21109646-67ac-4091-d9c6-ee1b80ca253f"
      },
      "execution_count": 79,
      "outputs": [
        {
          "output_type": "stream",
          "name": "stdout",
          "text": [
            "inside the person class\n"
          ]
        }
      ]
    },
    {
      "cell_type": "code",
      "source": [
        "emp.company_info()"
      ],
      "metadata": {
        "colab": {
          "base_uri": "https://localhost:8080/"
        },
        "id": "KeEY-rrgioLF",
        "outputId": "3a2bc8e0-4621-48a7-ddf5-d942c9fe326c"
      },
      "execution_count": 80,
      "outputs": [
        {
          "output_type": "stream",
          "name": "stdout",
          "text": [
            "inside the company class\n"
          ]
        }
      ]
    },
    {
      "cell_type": "code",
      "source": [
        "class Vehicle:\n",
        "  def Vehicle_info(self):\n",
        "    print('inside the vehicle class')\n",
        "class Car(Vehicle):\n",
        "  def Car_info(self):\n",
        "    print('inside the car class')\n",
        "\n",
        "class Sportscar(Car):\n",
        "  def sportscar_info(self):\n",
        "    print('inside the sportscar class')    "
      ],
      "metadata": {
        "id": "AAVi-Q1njYaN"
      },
      "execution_count": 81,
      "outputs": []
    },
    {
      "cell_type": "code",
      "source": [
        "s = Sportscar()\n",
        "s.Vehicle_info()"
      ],
      "metadata": {
        "colab": {
          "base_uri": "https://localhost:8080/"
        },
        "id": "K4S9Dbw7jj8e",
        "outputId": "14f40f77-3e71-4978-9770-9933f22e4a66"
      },
      "execution_count": 82,
      "outputs": [
        {
          "output_type": "stream",
          "name": "stdout",
          "text": [
            "inside the vehicle class\n"
          ]
        }
      ]
    },
    {
      "cell_type": "code",
      "source": [
        "s.Car_info()"
      ],
      "metadata": {
        "colab": {
          "base_uri": "https://localhost:8080/"
        },
        "id": "F00q6hMfjvZR",
        "outputId": "8e108600-3462-49ca-85f0-e6a329e6082d"
      },
      "execution_count": 84,
      "outputs": [
        {
          "output_type": "stream",
          "name": "stdout",
          "text": [
            "inside the car class\n"
          ]
        }
      ]
    },
    {
      "cell_type": "code",
      "source": [
        "class Vehicle:\n",
        "  def Vehicle_info(self):\n",
        "    print('inside the vehicle class')\n",
        "class Car(Vehicle):\n",
        "  def Car_info(self):\n",
        "    print('inside the car class')\n",
        "class Truck(Vehicle):\n",
        "  def truck_info(self):\n",
        "    print('inside the truck class')    "
      ],
      "metadata": {
        "id": "SRzP8qxNj4Ku"
      },
      "execution_count": 85,
      "outputs": []
    },
    {
      "cell_type": "code",
      "source": [
        "t = Truck()\n",
        "t.Vehicle_info()"
      ],
      "metadata": {
        "colab": {
          "base_uri": "https://localhost:8080/"
        },
        "id": "XDD0csvzkWUf",
        "outputId": "32c5cbd1-92ab-4333-a61e-3b075ee4ab8b"
      },
      "execution_count": 86,
      "outputs": [
        {
          "output_type": "stream",
          "name": "stdout",
          "text": [
            "inside the vehicle class\n"
          ]
        }
      ]
    },
    {
      "cell_type": "code",
      "source": [
        "t.Car_info()"
      ],
      "metadata": {
        "colab": {
          "base_uri": "https://localhost:8080/",
          "height": 168
        },
        "id": "0hzjsg83khGs",
        "outputId": "22ac43df-a974-46e8-bd64-105e0323c4b3"
      },
      "execution_count": 87,
      "outputs": [
        {
          "output_type": "error",
          "ename": "AttributeError",
          "evalue": "ignored",
          "traceback": [
            "\u001b[0;31m---------------------------------------------------------------------------\u001b[0m",
            "\u001b[0;31mAttributeError\u001b[0m                            Traceback (most recent call last)",
            "\u001b[0;32m<ipython-input-87-a970a96a6101>\u001b[0m in \u001b[0;36m<module>\u001b[0;34m\u001b[0m\n\u001b[0;32m----> 1\u001b[0;31m \u001b[0mt\u001b[0m\u001b[0;34m.\u001b[0m\u001b[0mCar_info\u001b[0m\u001b[0;34m(\u001b[0m\u001b[0;34m)\u001b[0m\u001b[0;34m\u001b[0m\u001b[0;34m\u001b[0m\u001b[0m\n\u001b[0m",
            "\u001b[0;31mAttributeError\u001b[0m: 'Truck' object has no attribute 'Car_info'"
          ]
        }
      ]
    },
    {
      "cell_type": "code",
      "source": [
        "class Vehicle:\n",
        "  def Vehicle_info(self):\n",
        "    print('inside the vehicle class')\n",
        "class Car(Vehicle):\n",
        "  def Car_info(self):\n",
        "    print('inside the car class')\n",
        "class Truck(Vehicle):\n",
        "  def truck_info(self):\n",
        "    print('inside the truck class') \n",
        "\n",
        "class Sportcar(Vehicle,Car):\n",
        "  def sportscar_info(self):\n",
        "    print('inside the sports car')\n"
      ],
      "metadata": {
        "colab": {
          "base_uri": "https://localhost:8080/",
          "height": 257
        },
        "id": "2r6Rqch6lGFD",
        "outputId": "37eb874b-85ac-4d5b-af1f-72c91548e5dd"
      },
      "execution_count": 89,
      "outputs": [
        {
          "output_type": "error",
          "ename": "TypeError",
          "evalue": "ignored",
          "traceback": [
            "\u001b[0;31m---------------------------------------------------------------------------\u001b[0m",
            "\u001b[0;31mTypeError\u001b[0m                                 Traceback (most recent call last)",
            "\u001b[0;32m<ipython-input-89-c724bb97ad09>\u001b[0m in \u001b[0;36m<module>\u001b[0;34m\u001b[0m\n\u001b[1;32m      9\u001b[0m     \u001b[0mprint\u001b[0m\u001b[0;34m(\u001b[0m\u001b[0;34m'inside the truck class'\u001b[0m\u001b[0;34m)\u001b[0m\u001b[0;34m\u001b[0m\u001b[0;34m\u001b[0m\u001b[0m\n\u001b[1;32m     10\u001b[0m \u001b[0;34m\u001b[0m\u001b[0m\n\u001b[0;32m---> 11\u001b[0;31m \u001b[0;32mclass\u001b[0m \u001b[0mSportscar\u001b[0m\u001b[0;34m(\u001b[0m\u001b[0mVehicle\u001b[0m\u001b[0;34m,\u001b[0m\u001b[0mCar\u001b[0m\u001b[0;34m)\u001b[0m\u001b[0;34m:\u001b[0m\u001b[0;34m\u001b[0m\u001b[0;34m\u001b[0m\u001b[0m\n\u001b[0m\u001b[1;32m     12\u001b[0m   \u001b[0;32mdef\u001b[0m \u001b[0msportscar_info\u001b[0m\u001b[0;34m(\u001b[0m\u001b[0mself\u001b[0m\u001b[0;34m)\u001b[0m\u001b[0;34m:\u001b[0m\u001b[0;34m\u001b[0m\u001b[0;34m\u001b[0m\u001b[0m\n\u001b[1;32m     13\u001b[0m     \u001b[0mprint\u001b[0m\u001b[0;34m(\u001b[0m\u001b[0;34m'inside the sports car'\u001b[0m\u001b[0;34m)\u001b[0m\u001b[0;34m\u001b[0m\u001b[0;34m\u001b[0m\u001b[0m\n",
            "\u001b[0;31mTypeError\u001b[0m: Cannot create a consistent method resolution\norder (MRO) for bases Vehicle, Car"
          ]
        }
      ]
    },
    {
      "cell_type": "code",
      "source": [
        "class Vehicle:\n",
        "  def Vehicle_info(self):\n",
        "    print('inside the vehicle class')\n",
        "class Car(Vehicle):\n",
        "  def Car_info(self):\n",
        "    print('inside the car class')\n",
        "class Truck(Vehicle):\n",
        "  def truck_info(self):\n",
        "    print('inside the truck class') \n",
        "\n",
        "class Sportcar(Car,Vehicle):\n",
        "  def sportscar_info(self):\n",
        "    print('inside the sports car')"
      ],
      "metadata": {
        "id": "sei6B4TNlqjc"
      },
      "execution_count": 90,
      "outputs": []
    },
    {
      "cell_type": "code",
      "source": [
        "s = Sportscar()\n",
        "s.Car_info()"
      ],
      "metadata": {
        "colab": {
          "base_uri": "https://localhost:8080/"
        },
        "id": "XXkbr1ZaluxR",
        "outputId": "5aa3423d-145c-4f56-a5b2-de7e9726f6a6"
      },
      "execution_count": 91,
      "outputs": [
        {
          "output_type": "stream",
          "name": "stdout",
          "text": [
            "inside the car class\n"
          ]
        }
      ]
    },
    {
      "cell_type": "code",
      "source": [
        "s.Vehicle_info()"
      ],
      "metadata": {
        "colab": {
          "base_uri": "https://localhost:8080/"
        },
        "id": "xlQTwBMZlz4g",
        "outputId": "699883fe-b1ee-48f1-d3e7-88aded52f265"
      },
      "execution_count": 92,
      "outputs": [
        {
          "output_type": "stream",
          "name": "stdout",
          "text": [
            "inside the vehicle class\n"
          ]
        }
      ]
    },
    {
      "cell_type": "markdown",
      "source": [
        "#Method overriding"
      ],
      "metadata": {
        "id": "v6zdjUBom2RJ"
      }
    },
    {
      "cell_type": "code",
      "source": [
        "class Vehicle:\n",
        "  def max_speed(self):\n",
        "    print('max speed is 100km/hr')\n",
        "class Car(Vehicle):\n",
        "  def max_speed(self):\n",
        "    print('max speed is 200km/hr')"
      ],
      "metadata": {
        "id": "DpkWXDT3mbzj"
      },
      "execution_count": 93,
      "outputs": []
    },
    {
      "cell_type": "code",
      "source": [
        "c = Car()\n",
        "c.max_speed()"
      ],
      "metadata": {
        "colab": {
          "base_uri": "https://localhost:8080/"
        },
        "id": "QHam9QjpmnAU",
        "outputId": "84eb0a73-bb83-4400-e1e0-e360a0685354"
      },
      "execution_count": 94,
      "outputs": [
        {
          "output_type": "stream",
          "name": "stdout",
          "text": [
            "max speed is 200km/hr\n"
          ]
        }
      ]
    },
    {
      "cell_type": "code",
      "source": [
        "d = Vehicle()\n",
        "d.max_speed()"
      ],
      "metadata": {
        "colab": {
          "base_uri": "https://localhost:8080/"
        },
        "id": "Jw3b36pimwyw",
        "outputId": "e1a1eb95-02a1-44c9-c260-e8bd559824dd"
      },
      "execution_count": 95,
      "outputs": [
        {
          "output_type": "stream",
          "name": "stdout",
          "text": [
            "max speed is 100km/hr\n"
          ]
        }
      ]
    },
    {
      "cell_type": "markdown",
      "source": [
        "Method resolution order"
      ],
      "metadata": {
        "id": "EmoMKtOrnyiY"
      }
    },
    {
      "cell_type": "code",
      "source": [
        "class A:\n",
        "  def process(self):\n",
        "    print('in class a')\n",
        "class B(A):\n",
        "  def process(self):\n",
        "    print('in class b')\n",
        "class C(B):\n",
        "  def process(self):\n",
        "    print('in class C')         "
      ],
      "metadata": {
        "id": "KDC84HHhn0xu"
      },
      "execution_count": 101,
      "outputs": []
    },
    {
      "cell_type": "code",
      "source": [
        "c = C()\n",
        "# c.process()"
      ],
      "metadata": {
        "id": "qLVck81VoEwj"
      },
      "execution_count": 102,
      "outputs": []
    },
    {
      "cell_type": "code",
      "source": [
        "c.process()"
      ],
      "metadata": {
        "colab": {
          "base_uri": "https://localhost:8080/"
        },
        "id": "8o53Ss_RoTdY",
        "outputId": "bb4f60a4-c4ec-4076-becf-3e44bee043bd"
      },
      "execution_count": 104,
      "outputs": [
        {
          "output_type": "stream",
          "name": "stdout",
          "text": [
            "in class C\n"
          ]
        }
      ]
    },
    {
      "cell_type": "code",
      "source": [
        "C.mro()"
      ],
      "metadata": {
        "colab": {
          "base_uri": "https://localhost:8080/"
        },
        "id": "MfoyerkQoLnc",
        "outputId": "11b25487-c18d-4448-f161-81bbbf38b305"
      },
      "execution_count": 99,
      "outputs": [
        {
          "output_type": "execute_result",
          "data": {
            "text/plain": [
              "[__main__.C, __main__.B, __main__.A, object]"
            ]
          },
          "metadata": {},
          "execution_count": 99
        }
      ]
    }
  ]
}