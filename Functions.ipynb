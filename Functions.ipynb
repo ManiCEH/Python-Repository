{
  "nbformat": 4,
  "nbformat_minor": 0,
  "metadata": {
    "colab": {
      "provenance": [],
      "authorship_tag": "ABX9TyNN+klootcL1qmsw4Z6qEnj",
      "include_colab_link": true
    },
    "kernelspec": {
      "name": "python3",
      "display_name": "Python 3"
    },
    "language_info": {
      "name": "python"
    }
  },
  "cells": [
    {
      "cell_type": "markdown",
      "metadata": {
        "id": "view-in-github",
        "colab_type": "text"
      },
      "source": [
        "<a href=\"https://colab.research.google.com/github/scaleracademy/BeginnersNovMon2-2022/blob/main/Functions.ipynb\" target=\"_parent\"><img src=\"https://colab.research.google.com/assets/colab-badge.svg\" alt=\"Open In Colab\"/></a>"
      ]
    },
    {
      "cell_type": "markdown",
      "source": [
        "# Function\n",
        " <img src='https://www.scaler.com/topics/media/python-functions-1024x495.webp' height=350 width=500>"
      ],
      "metadata": {
        "id": "6SoPmprE6NUi"
      }
    },
    {
      "cell_type": "markdown",
      "source": [
        "# Problem 1:\n",
        "\n",
        "Write a piece of code which cooks tea 3 times.\n"
      ],
      "metadata": {
        "id": "xASJFRsYIFab"
      }
    },
    {
      "cell_type": "code",
      "source": [
        "#1st time\n",
        "print('boil water')\n",
        "print(\"add tea powder\")\n",
        "print(\"add sugar and add milk\")\n",
        "print(\"stir\")\n",
        "print(\"boil the mixture\")\n",
        "#2 nd time\n",
        "print('boil water')\n",
        "print(\"add tea powder\")\n",
        "print(\"add sugar and add milk\")\n",
        "print(\"stir\")\n",
        "print(\"boil the mixture\")\n",
        "#3rd time\n",
        "print('boil water')\n",
        "print(\"add tea powder\")\n",
        "print(\"add sugar and add milk\")\n",
        "print(\"stir\")\n",
        "print(\"boil the mixture\")"
      ],
      "metadata": {
        "id": "VsrQgqX3aUry",
        "colab": {
          "base_uri": "https://localhost:8080/"
        },
        "outputId": "6d19d367-92ef-4fb4-81d9-160a446e62a8"
      },
      "execution_count": 1,
      "outputs": [
        {
          "output_type": "stream",
          "name": "stdout",
          "text": [
            "boil water\n",
            "add tea powder\n",
            "add sugar and add milk\n",
            "stir\n",
            "boil the mixture\n"
          ]
        }
      ]
    },
    {
      "cell_type": "code",
      "source": [
        "def make_tea():\n",
        "  print('boil water')\n",
        "  print(\"add tea powder\")\n",
        "  print(\"add sugar and add milk\")\n",
        "  print(\"stir\")\n",
        "  print(\"boil the mixture\")\n"
      ],
      "metadata": {
        "id": "L4AX74f2aUpG"
      },
      "execution_count": 2,
      "outputs": []
    },
    {
      "cell_type": "code",
      "source": [
        "for i in range(3):\n",
        "  make_tea()"
      ],
      "metadata": {
        "id": "4l7piyNcmbzH",
        "colab": {
          "base_uri": "https://localhost:8080/"
        },
        "outputId": "fce331d8-311d-4ba1-904a-a43a5856ebe2"
      },
      "execution_count": 3,
      "outputs": [
        {
          "output_type": "stream",
          "name": "stdout",
          "text": [
            "boil water\n",
            "add tea powder\n",
            "add sugar and add milk\n",
            "stir\n",
            "boil the mixture\n",
            "boil water\n",
            "add tea powder\n",
            "add sugar and add milk\n",
            "stir\n",
            "boil the mixture\n",
            "boil water\n",
            "add tea powder\n",
            "add sugar and add milk\n",
            "stir\n",
            "boil the mixture\n"
          ]
        }
      ]
    },
    {
      "cell_type": "code",
      "source": [],
      "metadata": {
        "id": "2_c7Vaegb3co"
      },
      "execution_count": null,
      "outputs": []
    },
    {
      "cell_type": "code",
      "source": [],
      "metadata": {
        "id": "u0mJyZaGb3Z6"
      },
      "execution_count": null,
      "outputs": []
    },
    {
      "cell_type": "code",
      "source": [],
      "metadata": {
        "id": "M_hr5SR2b3XP"
      },
      "execution_count": null,
      "outputs": []
    },
    {
      "cell_type": "code",
      "source": [],
      "metadata": {
        "id": "I8ZX5SsLb3UO"
      },
      "execution_count": null,
      "outputs": []
    },
    {
      "cell_type": "code",
      "source": [],
      "metadata": {
        "id": "fIcSmFfbb3RC"
      },
      "execution_count": null,
      "outputs": []
    },
    {
      "cell_type": "markdown",
      "source": [
        "## Syntax of function:"
      ],
      "metadata": {
        "id": "P1-rpteYK3uB"
      }
    },
    {
      "cell_type": "markdown",
      "source": [
        "<img src='https://k21academy.com/wp-content/uploads/2021/10/Python-Function-Syntax.png'>"
      ],
      "metadata": {
        "id": "Tha6OhywdcwQ"
      }
    },
    {
      "cell_type": "code",
      "source": [],
      "metadata": {
        "id": "KgJAYf8vmbwC"
      },
      "execution_count": null,
      "outputs": []
    },
    {
      "cell_type": "markdown",
      "source": [
        "#Problem 2: Greet Someone\n",
        "\n",
        "'''\n",
        "Take a name as input.\n",
        "Write a greeter function which prints \"Hello name!\"\n",
        "after accepting a name as argument.\n",
        "'''"
      ],
      "metadata": {
        "id": "VmQCI8JM6-1P"
      }
    },
    {
      "cell_type": "code",
      "source": [
        "name = input()\n",
        "print('hello',name)"
      ],
      "metadata": {
        "id": "S3Xo00AfdvWe",
        "colab": {
          "base_uri": "https://localhost:8080/"
        },
        "outputId": "94506794-6c9f-424c-90ae-fee8eca203c3"
      },
      "execution_count": 4,
      "outputs": [
        {
          "output_type": "stream",
          "name": "stdout",
          "text": [
            "ajaykumar\n",
            "hello ajaykumar\n"
          ]
        }
      ]
    },
    {
      "cell_type": "code",
      "source": [
        "name = input()\n",
        "print('hello',name,'happy new year')"
      ],
      "metadata": {
        "id": "-Dl7PqUsdvTi",
        "colab": {
          "base_uri": "https://localhost:8080/"
        },
        "outputId": "463332b9-89d2-4d0f-d76c-9ed4bc46c1a6"
      },
      "execution_count": 5,
      "outputs": [
        {
          "output_type": "stream",
          "name": "stdout",
          "text": [
            "utkarsh\n",
            "hello utkarsh happy new year\n"
          ]
        }
      ]
    },
    {
      "cell_type": "code",
      "source": [
        "def greet(name):\n",
        "  print('hello',name)\n",
        "  print('happy new year!')"
      ],
      "metadata": {
        "id": "oSs-qfLRdvQp"
      },
      "execution_count": 6,
      "outputs": []
    },
    {
      "cell_type": "code",
      "source": [
        "greet()"
      ],
      "metadata": {
        "colab": {
          "base_uri": "https://localhost:8080/",
          "height": 168
        },
        "id": "bNphVa1Db6N3",
        "outputId": "12b2f063-a852-4302-fd8c-c95df4923711"
      },
      "execution_count": 7,
      "outputs": [
        {
          "output_type": "error",
          "ename": "TypeError",
          "evalue": "ignored",
          "traceback": [
            "\u001b[0;31m---------------------------------------------------------------------------\u001b[0m",
            "\u001b[0;31mTypeError\u001b[0m                                 Traceback (most recent call last)",
            "\u001b[0;32m<ipython-input-7-db845682bfe7>\u001b[0m in \u001b[0;36m<module>\u001b[0;34m\u001b[0m\n\u001b[0;32m----> 1\u001b[0;31m \u001b[0mgreet\u001b[0m\u001b[0;34m(\u001b[0m\u001b[0;34m)\u001b[0m\u001b[0;34m\u001b[0m\u001b[0;34m\u001b[0m\u001b[0m\n\u001b[0m",
            "\u001b[0;31mTypeError\u001b[0m: greet() missing 1 required positional argument: 'name'"
          ]
        }
      ]
    },
    {
      "cell_type": "code",
      "source": [
        "def greet(name):\n",
        "  print('hello',name)\n",
        "  print('happy new year!')"
      ],
      "metadata": {
        "id": "l5Lt-K6jb6Ku"
      },
      "execution_count": 8,
      "outputs": []
    },
    {
      "cell_type": "code",
      "source": [
        "greet('arpana')"
      ],
      "metadata": {
        "colab": {
          "base_uri": "https://localhost:8080/"
        },
        "id": "m65EpRUWb6H3",
        "outputId": "b0b2fcd7-33f6-4116-dd3c-7493857bfabe"
      },
      "execution_count": 9,
      "outputs": [
        {
          "output_type": "stream",
          "name": "stdout",
          "text": [
            "hello arpana\n",
            "happy new year!\n"
          ]
        }
      ]
    },
    {
      "cell_type": "code",
      "source": [
        "greet('agasti')"
      ],
      "metadata": {
        "colab": {
          "base_uri": "https://localhost:8080/"
        },
        "id": "eTh39tP0O5WW",
        "outputId": "5d9865d2-24c2-4db6-dcf4-50cde49558f4"
      },
      "execution_count": 10,
      "outputs": [
        {
          "output_type": "stream",
          "name": "stdout",
          "text": [
            "hello agasti\n",
            "happy new year!\n"
          ]
        }
      ]
    },
    {
      "cell_type": "code",
      "source": [
        "#take input from user\n",
        "name = input()\n",
        "greet(name)"
      ],
      "metadata": {
        "colab": {
          "base_uri": "https://localhost:8080/"
        },
        "id": "mxzTq7LJO5Rk",
        "outputId": "cd63b955-d61f-4e23-9db5-93000b9b2889"
      },
      "execution_count": 11,
      "outputs": [
        {
          "output_type": "stream",
          "name": "stdout",
          "text": [
            "deepakkumar\n",
            "hello deepakkumar\n",
            "happy new year!\n"
          ]
        }
      ]
    },
    {
      "cell_type": "code",
      "source": [
        "help(len)"
      ],
      "metadata": {
        "colab": {
          "base_uri": "https://localhost:8080/"
        },
        "id": "3F0euh8yO5Hz",
        "outputId": "246d7806-eebe-4181-fa80-f1a7cde11a71"
      },
      "execution_count": 12,
      "outputs": [
        {
          "output_type": "stream",
          "name": "stdout",
          "text": [
            "Help on built-in function len in module builtins:\n",
            "\n",
            "len(obj, /)\n",
            "    Return the number of items in a container.\n",
            "\n"
          ]
        }
      ]
    },
    {
      "cell_type": "code",
      "source": [
        "help(print)"
      ],
      "metadata": {
        "colab": {
          "base_uri": "https://localhost:8080/"
        },
        "id": "E9-S9ZEyO5DS",
        "outputId": "b706240c-4c22-43e4-eec5-a1645de7fd1b"
      },
      "execution_count": 13,
      "outputs": [
        {
          "output_type": "stream",
          "name": "stdout",
          "text": [
            "Help on built-in function print in module builtins:\n",
            "\n",
            "print(...)\n",
            "    print(value, ..., sep=' ', end='\\n', file=sys.stdout, flush=False)\n",
            "    \n",
            "    Prints the values to a stream, or to sys.stdout by default.\n",
            "    Optional keyword arguments:\n",
            "    file:  a file-like object (stream); defaults to the current sys.stdout.\n",
            "    sep:   string inserted between values, default a space.\n",
            "    end:   string appended after the last value, default a newline.\n",
            "    flush: whether to forcibly flush the stream.\n",
            "\n"
          ]
        }
      ]
    },
    {
      "cell_type": "code",
      "source": [],
      "metadata": {
        "id": "rDWbmMrRb6FG"
      },
      "execution_count": null,
      "outputs": []
    },
    {
      "cell_type": "markdown",
      "source": [
        "# Introduce Family"
      ],
      "metadata": {
        "id": "s7LAMfpWb7Wk"
      }
    },
    {
      "cell_type": "code",
      "source": [
        "def introduce_family(father,mother,sibling):\n",
        "  ''' introducing family names'''\n",
        "  print(\"father is\",father)\n",
        "  print(\"mother is\",mother)\n",
        "  print(\"sibling is\",sibling)"
      ],
      "metadata": {
        "id": "5jlKCSm3reta"
      },
      "execution_count": 15,
      "outputs": []
    },
    {
      "cell_type": "code",
      "source": [
        "introduce_family('A','B','C')#positional arguments"
      ],
      "metadata": {
        "colab": {
          "base_uri": "https://localhost:8080/"
        },
        "id": "evWboEy7SChn",
        "outputId": "175fa5f6-9d35-47e8-c1ab-77e3b0a6acfb"
      },
      "execution_count": 18,
      "outputs": [
        {
          "output_type": "stream",
          "name": "stdout",
          "text": [
            "father is A\n",
            "mother is B\n",
            "sibling is C\n"
          ]
        }
      ]
    },
    {
      "cell_type": "code",
      "source": [
        "introduce_family('A','C','B')"
      ],
      "metadata": {
        "colab": {
          "base_uri": "https://localhost:8080/"
        },
        "id": "MsymFtxoSRNf",
        "outputId": "1b2cca74-1893-4fae-a1e7-01501bd54635"
      },
      "execution_count": 19,
      "outputs": [
        {
          "output_type": "stream",
          "name": "stdout",
          "text": [
            "father is A\n",
            "mother is C\n",
            "sibling is B\n"
          ]
        }
      ]
    },
    {
      "cell_type": "code",
      "source": [
        "introduce_family('A','C')"
      ],
      "metadata": {
        "colab": {
          "base_uri": "https://localhost:8080/",
          "height": 168
        },
        "id": "PuTxw6BqS6NA",
        "outputId": "e567699b-df32-4737-c3a4-40817daca454"
      },
      "execution_count": 20,
      "outputs": [
        {
          "output_type": "error",
          "ename": "TypeError",
          "evalue": "ignored",
          "traceback": [
            "\u001b[0;31m---------------------------------------------------------------------------\u001b[0m",
            "\u001b[0;31mTypeError\u001b[0m                                 Traceback (most recent call last)",
            "\u001b[0;32m<ipython-input-20-599686245666>\u001b[0m in \u001b[0;36m<module>\u001b[0;34m\u001b[0m\n\u001b[0;32m----> 1\u001b[0;31m \u001b[0mintroduce_family\u001b[0m\u001b[0;34m(\u001b[0m\u001b[0;34m'A'\u001b[0m\u001b[0;34m,\u001b[0m\u001b[0;34m'C'\u001b[0m\u001b[0;34m)\u001b[0m\u001b[0;34m\u001b[0m\u001b[0;34m\u001b[0m\u001b[0m\n\u001b[0m",
            "\u001b[0;31mTypeError\u001b[0m: introduce_family() missing 1 required positional argument: 'sibling'"
          ]
        }
      ]
    },
    {
      "cell_type": "code",
      "source": [
        "introduce_family('A','B','C','D')"
      ],
      "metadata": {
        "colab": {
          "base_uri": "https://localhost:8080/",
          "height": 168
        },
        "id": "hjCbm9S9TOv_",
        "outputId": "d6a71297-6166-407c-f7d3-ed70ea1926eb"
      },
      "execution_count": 21,
      "outputs": [
        {
          "output_type": "error",
          "ename": "TypeError",
          "evalue": "ignored",
          "traceback": [
            "\u001b[0;31m---------------------------------------------------------------------------\u001b[0m",
            "\u001b[0;31mTypeError\u001b[0m                                 Traceback (most recent call last)",
            "\u001b[0;32m<ipython-input-21-56cc3a692d5d>\u001b[0m in \u001b[0;36m<module>\u001b[0;34m\u001b[0m\n\u001b[0;32m----> 1\u001b[0;31m \u001b[0mintroduce_family\u001b[0m\u001b[0;34m(\u001b[0m\u001b[0;34m'A'\u001b[0m\u001b[0;34m,\u001b[0m\u001b[0;34m'B'\u001b[0m\u001b[0;34m,\u001b[0m\u001b[0;34m'C'\u001b[0m\u001b[0;34m,\u001b[0m\u001b[0;34m'D'\u001b[0m\u001b[0;34m)\u001b[0m\u001b[0;34m\u001b[0m\u001b[0;34m\u001b[0m\u001b[0m\n\u001b[0m",
            "\u001b[0;31mTypeError\u001b[0m: introduce_family() takes 3 positional arguments but 4 were given"
          ]
        }
      ]
    },
    {
      "cell_type": "code",
      "source": [
        "help(introduce_family)"
      ],
      "metadata": {
        "colab": {
          "base_uri": "https://localhost:8080/"
        },
        "id": "yTeqGLyScCVq",
        "outputId": "5aac8ecd-a424-45a8-fec7-ed237ab176a9"
      },
      "execution_count": 16,
      "outputs": [
        {
          "output_type": "stream",
          "name": "stdout",
          "text": [
            "Help on function introduce_family in module __main__:\n",
            "\n",
            "introduce_family(father, mother, sibling)\n",
            "    introducing family names\n",
            "\n"
          ]
        }
      ]
    },
    {
      "cell_type": "code",
      "source": [
        "introduce_family()"
      ],
      "metadata": {
        "colab": {
          "base_uri": "https://localhost:8080/",
          "height": 168
        },
        "id": "VjIVN0FAcCSt",
        "outputId": "d2dc0062-af9b-4be8-ba3a-1b65fb567235"
      },
      "execution_count": 17,
      "outputs": [
        {
          "output_type": "error",
          "ename": "TypeError",
          "evalue": "ignored",
          "traceback": [
            "\u001b[0;31m---------------------------------------------------------------------------\u001b[0m",
            "\u001b[0;31mTypeError\u001b[0m                                 Traceback (most recent call last)",
            "\u001b[0;32m<ipython-input-17-f52bb8a3ab94>\u001b[0m in \u001b[0;36m<module>\u001b[0;34m\u001b[0m\n\u001b[0;32m----> 1\u001b[0;31m \u001b[0mintroduce_family\u001b[0m\u001b[0;34m(\u001b[0m\u001b[0;34m)\u001b[0m\u001b[0;34m\u001b[0m\u001b[0;34m\u001b[0m\u001b[0m\n\u001b[0m",
            "\u001b[0;31mTypeError\u001b[0m: introduce_family() missing 3 required positional arguments: 'father', 'mother', and 'sibling'"
          ]
        }
      ]
    },
    {
      "cell_type": "code",
      "source": [],
      "metadata": {
        "id": "IFa45on5cCQF"
      },
      "execution_count": null,
      "outputs": []
    },
    {
      "cell_type": "code",
      "source": [],
      "metadata": {
        "id": "ZhmvSm5EcCNZ"
      },
      "execution_count": null,
      "outputs": []
    },
    {
      "cell_type": "code",
      "source": [],
      "metadata": {
        "id": "EYlMgUEIcCKl"
      },
      "execution_count": null,
      "outputs": []
    },
    {
      "cell_type": "code",
      "source": [],
      "metadata": {
        "id": "oh26gYzkcCH2"
      },
      "execution_count": null,
      "outputs": []
    },
    {
      "cell_type": "markdown",
      "source": [
        "# Problem 3:\n",
        "Write a function to add 2 numbers"
      ],
      "metadata": {
        "id": "EAyT0uKgB_Gz"
      }
    },
    {
      "cell_type": "code",
      "source": [
        "def add(a,b):\n",
        "  ''' this fucntion takes two arguments\n",
        "  a and b & adds them'''\n",
        "  print(a+b)"
      ],
      "metadata": {
        "id": "DW0VxLerMgPV"
      },
      "execution_count": 22,
      "outputs": []
    },
    {
      "cell_type": "code",
      "source": [
        "add(3.5,5.5)"
      ],
      "metadata": {
        "colab": {
          "base_uri": "https://localhost:8080/"
        },
        "id": "OREk8W9bYR5g",
        "outputId": "e593e915-fe9c-462e-ad30-d580597ee116"
      },
      "execution_count": 25,
      "outputs": [
        {
          "output_type": "stream",
          "name": "stdout",
          "text": [
            "9.0\n"
          ]
        }
      ]
    },
    {
      "cell_type": "code",
      "source": [
        "add('hello','everyone')"
      ],
      "metadata": {
        "colab": {
          "base_uri": "https://localhost:8080/"
        },
        "id": "fq-xpnYxYcIW",
        "outputId": "442acdd6-ad1a-4e95-b27e-3024376c02f3"
      },
      "execution_count": 26,
      "outputs": [
        {
          "output_type": "stream",
          "name": "stdout",
          "text": [
            "helloeveryone\n"
          ]
        }
      ]
    },
    {
      "cell_type": "code",
      "source": [
        "add(2,3)"
      ],
      "metadata": {
        "id": "g4ddKQUjMgMt",
        "colab": {
          "base_uri": "https://localhost:8080/"
        },
        "outputId": "f6177a9d-01a2-4dbe-e95b-0af68686cd8a"
      },
      "execution_count": 23,
      "outputs": [
        {
          "output_type": "stream",
          "name": "stdout",
          "text": [
            "5\n"
          ]
        }
      ]
    },
    {
      "cell_type": "code",
      "source": [
        "add(3,5.5)"
      ],
      "metadata": {
        "colab": {
          "base_uri": "https://localhost:8080/"
        },
        "id": "A9z5Vy3HY5k6",
        "outputId": "21584546-1468-4a2a-e1e6-d2c7b508be08"
      },
      "execution_count": 28,
      "outputs": [
        {
          "output_type": "stream",
          "name": "stdout",
          "text": [
            "8.5\n"
          ]
        }
      ]
    },
    {
      "cell_type": "code",
      "source": [
        "add(3,'hello')"
      ],
      "metadata": {
        "colab": {
          "base_uri": "https://localhost:8080/",
          "height": 257
        },
        "id": "wz0hzWAoYq08",
        "outputId": "b7592e89-dcf0-4bf7-bf4b-5e6d27a74b5f"
      },
      "execution_count": 27,
      "outputs": [
        {
          "output_type": "error",
          "ename": "TypeError",
          "evalue": "ignored",
          "traceback": [
            "\u001b[0;31m---------------------------------------------------------------------------\u001b[0m",
            "\u001b[0;31mTypeError\u001b[0m                                 Traceback (most recent call last)",
            "\u001b[0;32m<ipython-input-27-bf7d935086e9>\u001b[0m in \u001b[0;36m<module>\u001b[0;34m\u001b[0m\n\u001b[0;32m----> 1\u001b[0;31m \u001b[0madd\u001b[0m\u001b[0;34m(\u001b[0m\u001b[0;36m3\u001b[0m\u001b[0;34m,\u001b[0m\u001b[0;34m'hello'\u001b[0m\u001b[0;34m)\u001b[0m\u001b[0;34m\u001b[0m\u001b[0;34m\u001b[0m\u001b[0m\n\u001b[0m",
            "\u001b[0;32m<ipython-input-22-d61b44527fd2>\u001b[0m in \u001b[0;36madd\u001b[0;34m(a, b)\u001b[0m\n\u001b[1;32m      2\u001b[0m   ''' this fucntion takes two arguments\n\u001b[1;32m      3\u001b[0m   a and b & adds them'''\n\u001b[0;32m----> 4\u001b[0;31m   \u001b[0mprint\u001b[0m\u001b[0;34m(\u001b[0m\u001b[0ma\u001b[0m\u001b[0;34m+\u001b[0m\u001b[0mb\u001b[0m\u001b[0;34m)\u001b[0m\u001b[0;34m\u001b[0m\u001b[0;34m\u001b[0m\u001b[0m\n\u001b[0m",
            "\u001b[0;31mTypeError\u001b[0m: unsupported operand type(s) for +: 'int' and 'str'"
          ]
        }
      ]
    },
    {
      "cell_type": "code",
      "source": [
        "help(add)"
      ],
      "metadata": {
        "colab": {
          "base_uri": "https://localhost:8080/"
        },
        "id": "jBAArzZQcHK8",
        "outputId": "b34dd9c4-4315-47d0-95f6-dc22543cdb59"
      },
      "execution_count": 24,
      "outputs": [
        {
          "output_type": "stream",
          "name": "stdout",
          "text": [
            "Help on function add in module __main__:\n",
            "\n",
            "add(a, b)\n",
            "    this fucntion takes two arguments\n",
            "    a and b & adds them\n",
            "\n"
          ]
        }
      ]
    },
    {
      "cell_type": "code",
      "source": [],
      "metadata": {
        "id": "iD-pMPM_cHHz"
      },
      "execution_count": null,
      "outputs": []
    },
    {
      "cell_type": "code",
      "source": [],
      "metadata": {
        "id": "bJHhH851cHEy"
      },
      "execution_count": null,
      "outputs": []
    },
    {
      "cell_type": "code",
      "source": [],
      "metadata": {
        "id": "kXDEt7bJcHCK"
      },
      "execution_count": null,
      "outputs": []
    },
    {
      "cell_type": "code",
      "source": [],
      "metadata": {
        "id": "49OmiMJ4cG_L"
      },
      "execution_count": null,
      "outputs": []
    },
    {
      "cell_type": "markdown",
      "source": [
        "## Return\n",
        "<img src=\"https://media.giphy.com/media/LPemN8PSiCNyXQ1wxs/giphy.gif\" width=\"300px\" />"
      ],
      "metadata": {
        "id": "fIUhXgpwCqeO"
      }
    },
    {
      "cell_type": "code",
      "source": [
        "def add(a,b):\n",
        "  ''' this fucntion takes two arguments\n",
        "  a and b & adds them'''\n",
        "  print(a+b)"
      ],
      "metadata": {
        "id": "jobbd9nKH6fj"
      },
      "execution_count": 29,
      "outputs": []
    },
    {
      "cell_type": "code",
      "source": [
        "num1 = int(input())\n",
        "num2 = int(input())"
      ],
      "metadata": {
        "colab": {
          "base_uri": "https://localhost:8080/"
        },
        "id": "IsGDfoHAZJfQ",
        "outputId": "d31dd1cb-ab91-4762-fb0d-79500419ce6f"
      },
      "execution_count": 30,
      "outputs": [
        {
          "name": "stdout",
          "output_type": "stream",
          "text": [
            "3\n",
            "4\n"
          ]
        }
      ]
    },
    {
      "cell_type": "code",
      "source": [
        "result = add(num1,num2)"
      ],
      "metadata": {
        "colab": {
          "base_uri": "https://localhost:8080/"
        },
        "id": "qJhf49YcZJci",
        "outputId": "d5d58028-beda-48e8-f58b-75c16e19de21"
      },
      "execution_count": 31,
      "outputs": [
        {
          "output_type": "stream",
          "name": "stdout",
          "text": [
            "7\n"
          ]
        }
      ]
    },
    {
      "cell_type": "code",
      "source": [
        "print(result)"
      ],
      "metadata": {
        "colab": {
          "base_uri": "https://localhost:8080/"
        },
        "id": "7DMfMtWJZJZv",
        "outputId": "dc725de1-3aae-4815-f27d-de9183153cef"
      },
      "execution_count": 32,
      "outputs": [
        {
          "output_type": "stream",
          "name": "stdout",
          "text": [
            "None\n"
          ]
        }
      ]
    },
    {
      "cell_type": "code",
      "source": [
        "def double_amount(amount):\n",
        "  double = amount*2\n",
        "  print(double)"
      ],
      "metadata": {
        "id": "ebM8oMApINtl"
      },
      "execution_count": 33,
      "outputs": []
    },
    {
      "cell_type": "code",
      "source": [
        "bank_account = double_amount(10000)\n",
        "print(bank_account)"
      ],
      "metadata": {
        "id": "F00jS_jFGfLA",
        "colab": {
          "base_uri": "https://localhost:8080/"
        },
        "outputId": "6a605f9f-3155-4cc3-86b8-f40d89076e56"
      },
      "execution_count": 34,
      "outputs": [
        {
          "output_type": "stream",
          "name": "stdout",
          "text": [
            "100000\n",
            "None\n"
          ]
        }
      ]
    },
    {
      "cell_type": "code",
      "source": [
        "def double_amount(amount):\n",
        "  double = amount*2\n",
        "  print(double)\n",
        "  return double"
      ],
      "metadata": {
        "id": "maHXwKNcGfIA"
      },
      "execution_count": 35,
      "outputs": []
    },
    {
      "cell_type": "code",
      "source": [
        "bank_account = double_amount(10000)\n",
        "print(bank_account)"
      ],
      "metadata": {
        "id": "canj9tg9GfFX",
        "colab": {
          "base_uri": "https://localhost:8080/"
        },
        "outputId": "f1c93753-12ce-4835-829f-c4077e83f796"
      },
      "execution_count": 36,
      "outputs": [
        {
          "output_type": "stream",
          "name": "stdout",
          "text": [
            "20000\n",
            "20000\n"
          ]
        }
      ]
    },
    {
      "cell_type": "code",
      "source": [
        "def add(a,b):\n",
        "  print(a+b)\n",
        "  return a+b"
      ],
      "metadata": {
        "id": "m2Ck4ROoatj1"
      },
      "execution_count": 40,
      "outputs": []
    },
    {
      "cell_type": "code",
      "source": [
        "result = add(3,4)\n",
        "print(result+10)"
      ],
      "metadata": {
        "colab": {
          "base_uri": "https://localhost:8080/"
        },
        "id": "-eAmhckOathM",
        "outputId": "41e861ba-2ec5-4257-e664-0d66d3fb1121"
      },
      "execution_count": 41,
      "outputs": [
        {
          "output_type": "stream",
          "name": "stdout",
          "text": [
            "7\n",
            "17\n"
          ]
        }
      ]
    },
    {
      "cell_type": "code",
      "source": [
        "#quiz\n",
        "def add_2_nums_with_return(n1, n2):\n",
        "    return n1 + n2\n",
        "\n",
        "y = add_2_nums_with_return(5, 6)"
      ],
      "metadata": {
        "id": "iHAiG_5kateU"
      },
      "execution_count": 42,
      "outputs": []
    },
    {
      "cell_type": "code",
      "source": [
        "print(y)"
      ],
      "metadata": {
        "id": "E5kO1vxtGfB4",
        "colab": {
          "base_uri": "https://localhost:8080/"
        },
        "outputId": "01369be5-dab1-4924-ee57-ea8b869c920e"
      },
      "execution_count": 43,
      "outputs": [
        {
          "output_type": "stream",
          "name": "stdout",
          "text": [
            "11\n"
          ]
        }
      ]
    },
    {
      "cell_type": "code",
      "source": [
        "#quiz\n",
        "def add_2_nums_with_return(n1, n2):\n",
        "    print(n1 + n2)\n",
        "\n",
        "y = add_2_nums_with_return(5, 6)\n",
        "print(y)"
      ],
      "metadata": {
        "colab": {
          "base_uri": "https://localhost:8080/"
        },
        "id": "ts5OmswKczxS",
        "outputId": "0546d50c-9776-4803-d90a-d5dc9660d406"
      },
      "execution_count": 44,
      "outputs": [
        {
          "output_type": "stream",
          "name": "stdout",
          "text": [
            "11\n",
            "None\n"
          ]
        }
      ]
    },
    {
      "cell_type": "code",
      "source": [
        "#quiz\n",
        "#What is the output of the following code?\n",
        "res = addition(3, 5)\n",
        "print(res)\n",
        "\n",
        "def addition(x, y):\n",
        "    return x + y"
      ],
      "metadata": {
        "colab": {
          "base_uri": "https://localhost:8080/",
          "height": 239
        },
        "id": "mwrUEISGcztw",
        "outputId": "b1ddce3f-bb78-4440-cee1-93c6a75bd43d"
      },
      "execution_count": 45,
      "outputs": [
        {
          "output_type": "error",
          "ename": "NameError",
          "evalue": "ignored",
          "traceback": [
            "\u001b[0;31m---------------------------------------------------------------------------\u001b[0m",
            "\u001b[0;31mNameError\u001b[0m                                 Traceback (most recent call last)",
            "\u001b[0;32m<ipython-input-45-aecfa076013a>\u001b[0m in \u001b[0;36m<module>\u001b[0;34m\u001b[0m\n\u001b[1;32m      1\u001b[0m \u001b[0;31m#quiz\u001b[0m\u001b[0;34m\u001b[0m\u001b[0;34m\u001b[0m\u001b[0;34m\u001b[0m\u001b[0m\n\u001b[1;32m      2\u001b[0m \u001b[0;31m#What is the output of the following code?\u001b[0m\u001b[0;34m\u001b[0m\u001b[0;34m\u001b[0m\u001b[0;34m\u001b[0m\u001b[0m\n\u001b[0;32m----> 3\u001b[0;31m \u001b[0mres\u001b[0m \u001b[0;34m=\u001b[0m \u001b[0maddition\u001b[0m\u001b[0;34m(\u001b[0m\u001b[0;36m3\u001b[0m\u001b[0;34m,\u001b[0m \u001b[0;36m5\u001b[0m\u001b[0;34m)\u001b[0m\u001b[0;34m\u001b[0m\u001b[0;34m\u001b[0m\u001b[0m\n\u001b[0m\u001b[1;32m      4\u001b[0m \u001b[0mprint\u001b[0m\u001b[0;34m(\u001b[0m\u001b[0mres\u001b[0m\u001b[0;34m)\u001b[0m\u001b[0;34m\u001b[0m\u001b[0;34m\u001b[0m\u001b[0m\n\u001b[1;32m      5\u001b[0m \u001b[0;34m\u001b[0m\u001b[0m\n",
            "\u001b[0;31mNameError\u001b[0m: name 'addition' is not defined"
          ]
        }
      ]
    },
    {
      "cell_type": "code",
      "source": [
        "#quiz\n",
        "#What is the output of the following code?\n",
        "def foo_bar():\n",
        "    # inside the function\n",
        "    print('Foo')\n",
        "    return 1\n",
        "    print('Bar')\n",
        "\n",
        "res = foo_bar()\n",
        "print(res)"
      ],
      "metadata": {
        "colab": {
          "base_uri": "https://localhost:8080/"
        },
        "id": "fjj_6pUbczrH",
        "outputId": "f5ab5ed7-5ec7-4684-d54a-d074695f50f2"
      },
      "execution_count": 46,
      "outputs": [
        {
          "output_type": "stream",
          "name": "stdout",
          "text": [
            "Foo\n",
            "1\n"
          ]
        }
      ]
    },
    {
      "cell_type": "code",
      "source": [
        "#quiz\n",
        "# What is the output of the following code?\n",
        "def square(x):\n",
        "    return x*x\n",
        "\n",
        "a = square(3)\n",
        "b = square(5)\n",
        "\n",
        "print(a + b)"
      ],
      "metadata": {
        "colab": {
          "base_uri": "https://localhost:8080/"
        },
        "id": "K2ZOBy38czof",
        "outputId": "ef56967c-8d75-448e-fd2f-6cee3f25761f"
      },
      "execution_count": 47,
      "outputs": [
        {
          "output_type": "stream",
          "name": "stdout",
          "text": [
            "34\n"
          ]
        }
      ]
    },
    {
      "cell_type": "code",
      "source": [
        "#quiz\n",
        "#What will be the output of the following Python code?\n",
        "def print_max(a, b):\n",
        "    if a > b:\n",
        "        print(a, 'is maximum')\n",
        "    elif a == b:\n",
        "        print(a, 'is equal to', b)\n",
        "    else:\n",
        "        print(b, 'is maximum')\n",
        "print_max(3, 4)"
      ],
      "metadata": {
        "colab": {
          "base_uri": "https://localhost:8080/"
        },
        "id": "8T2aBlXNeZq3",
        "outputId": "07eb5814-c117-4490-cd29-7b1baad962a2"
      },
      "execution_count": 48,
      "outputs": [
        {
          "output_type": "stream",
          "name": "stdout",
          "text": [
            "4 is maximum\n"
          ]
        }
      ]
    },
    {
      "cell_type": "code",
      "source": [],
      "metadata": {
        "id": "c2aGBx39eZoI"
      },
      "execution_count": null,
      "outputs": []
    },
    {
      "cell_type": "code",
      "source": [],
      "metadata": {
        "id": "-1DmIvpBeZlP"
      },
      "execution_count": null,
      "outputs": []
    },
    {
      "cell_type": "code",
      "source": [],
      "metadata": {
        "id": "DmcwfAd3eZiO"
      },
      "execution_count": null,
      "outputs": []
    },
    {
      "cell_type": "code",
      "source": [],
      "metadata": {
        "id": "zvipE7-fczlm"
      },
      "execution_count": null,
      "outputs": []
    },
    {
      "cell_type": "markdown",
      "source": [
        "#Problem 4\n",
        "Write a function to convert the input temperature\n",
        "\n",
        " fahrenheit scale to celcius scale using the following formula \n",
        " \n",
        " c = 5/9 *(F-32) \n",
        " \n",
        " round the result in 2 decimal places"
      ],
      "metadata": {
        "id": "yhevuNRIcTO7"
      }
    },
    {
      "cell_type": "code",
      "source": [
        "round(3.456667,3)"
      ],
      "metadata": {
        "colab": {
          "base_uri": "https://localhost:8080/"
        },
        "id": "suRw7ZkFcYGH",
        "outputId": "687c3825-bcbb-41e0-fa9f-61b20f59911e"
      },
      "execution_count": 49,
      "outputs": [
        {
          "output_type": "execute_result",
          "data": {
            "text/plain": [
              "3.457"
            ]
          },
          "metadata": {},
          "execution_count": 49
        }
      ]
    },
    {
      "cell_type": "code",
      "source": [
        "round(3.456667,2)"
      ],
      "metadata": {
        "colab": {
          "base_uri": "https://localhost:8080/"
        },
        "id": "UTPDp_hzcYDP",
        "outputId": "31e8f5a4-a7bd-4b38-9c7c-4eff707bac53"
      },
      "execution_count": 50,
      "outputs": [
        {
          "output_type": "execute_result",
          "data": {
            "text/plain": [
              "3.46"
            ]
          },
          "metadata": {},
          "execution_count": 50
        }
      ]
    },
    {
      "cell_type": "code",
      "source": [
        "def faherenheit_to_celcius(f):\n",
        "  c = 5/9 * (f-32)\n",
        "  # print(round(c,2))\n",
        "  # kjgjkgkj\n",
        "  #kjhjkghjk\n",
        "  '''uiguigujg\n",
        "  nbvjhbvjh\n",
        "  jhvhjv'''\n",
        "  return round(c,2)\n",
        "\n",
        "f = float(input())\n",
        "celcius = faherenheit_to_celcius(f)\n",
        "print(celcius)\n"
      ],
      "metadata": {
        "colab": {
          "base_uri": "https://localhost:8080/"
        },
        "id": "kDlaqyOpcYAX",
        "outputId": "cae72769-fd98-4e06-9873-bd7c26ee691a"
      },
      "execution_count": 54,
      "outputs": [
        {
          "output_type": "stream",
          "name": "stdout",
          "text": [
            "102.54\n",
            "39.19\n"
          ]
        }
      ]
    },
    {
      "cell_type": "code",
      "source": [
        "#doubt\n",
        "def faherenheit_to_celcius(f):\n",
        "  c=5/9*(f-32)\n",
        "  return round(c,2)\n",
        "f=float(input())\n",
        "celcius = faherenheit_to_celcius(f)\n",
        "print(celcius)"
      ],
      "metadata": {
        "colab": {
          "base_uri": "https://localhost:8080/"
        },
        "id": "nx8Y8nmOcX9v",
        "outputId": "ccaeb6fa-a673-4af3-cbb0-f80fc88702fa"
      },
      "execution_count": 55,
      "outputs": [
        {
          "output_type": "stream",
          "name": "stdout",
          "text": [
            "104\n",
            "40.0\n",
            "<built-in function print>\n"
          ]
        }
      ]
    },
    {
      "cell_type": "code",
      "source": [
        "def greet(name):\n",
        "  print(\"Hello\",name)\n",
        "  print(\"Happy New Year\")"
      ],
      "metadata": {
        "id": "qF77qiIpcX6-"
      },
      "execution_count": 56,
      "outputs": []
    },
    {
      "cell_type": "code",
      "source": [
        "name = input()\n",
        "greet(name)"
      ],
      "metadata": {
        "colab": {
          "base_uri": "https://localhost:8080/"
        },
        "id": "qs5zBkircX32",
        "outputId": "658a0e78-4c39-4e72-974d-60bb507e2d9c"
      },
      "execution_count": 59,
      "outputs": [
        {
          "output_type": "stream",
          "name": "stdout",
          "text": [
            "sagar\n",
            "Hello sagar\n",
            "Happy New Year\n"
          ]
        }
      ]
    },
    {
      "cell_type": "code",
      "source": [
        "greet(name)"
      ],
      "metadata": {
        "id": "w3RdH9mLjvaq"
      },
      "execution_count": null,
      "outputs": []
    },
    {
      "cell_type": "code",
      "source": [
        "def print_max(a, b):\n",
        "    if True:\n",
        "       return 0\n",
        "    elif a == b:\n",
        "        print(a, 'is equal to', b)\n",
        "    else:\n",
        "        print(b, 'is maximum')\n",
        "res = print_max(3, 4)\n",
        "print(res)"
      ],
      "metadata": {
        "colab": {
          "base_uri": "https://localhost:8080/"
        },
        "id": "4LMzg1juj9I9",
        "outputId": "0a91fa83-ec01-45b0-dce1-03a0b27431b1"
      },
      "execution_count": 61,
      "outputs": [
        {
          "output_type": "stream",
          "name": "stdout",
          "text": [
            "0\n"
          ]
        }
      ]
    },
    {
      "cell_type": "code",
      "source": [
        "#What is the output of the following code?\n",
        "def foo_bar():\n",
        "    # inside the function\n",
        "    print('Foo')\n",
        "    return 0\n",
        "    print('Bar')\n",
        "\n",
        "res = foo_bar()\n",
        "print(res)"
      ],
      "metadata": {
        "colab": {
          "base_uri": "https://localhost:8080/"
        },
        "id": "6pPqii77khWN",
        "outputId": "57580f5c-5dcb-4e3c-8f6e-795ee94f0409"
      },
      "execution_count": 62,
      "outputs": [
        {
          "output_type": "stream",
          "name": "stdout",
          "text": [
            "Foo\n",
            "0\n"
          ]
        }
      ]
    }
  ]
}