{
  "nbformat": 4,
  "nbformat_minor": 0,
  "metadata": {
    "colab": {
      "provenance": [],
      "authorship_tag": "ABX9TyMgUOlwrRMgLGMh8e3lIosg",
      "include_colab_link": true
    },
    "kernelspec": {
      "name": "python3",
      "display_name": "Python 3"
    },
    "language_info": {
      "name": "python"
    }
  },
  "cells": [
    {
      "cell_type": "markdown",
      "metadata": {
        "id": "view-in-github",
        "colab_type": "text"
      },
      "source": [
        "<a href=\"https://colab.research.google.com/github/scaleracademy/BeginnersNovMon2-2022/blob/main/Intermediate_Problem_solving3.ipynb\" target=\"_parent\"><img src=\"https://colab.research.google.com/assets/colab-badge.svg\" alt=\"Open In Colab\"/></a>"
      ]
    },
    {
      "cell_type": "markdown",
      "source": [
        "\n",
        "# car and its cover\n",
        "```\n",
        "\n",
        "What will be the output of the following code snippet:\n",
        "\n",
        "\n",
        "```\n",
        "\n"
      ],
      "metadata": {
        "id": "J7WKZuWzkx1o"
      }
    },
    {
      "cell_type": "code",
      "source": [
        "class car:\n",
        "    def __init__(self):\n",
        "        self.price = 100\n",
        "        self.__cover = 5\n",
        "\n",
        "    def display(self):\n",
        "        print(self.__cover)\n",
        "\n",
        "obj=car()\n",
        "obj.display()"
      ],
      "metadata": {
        "colab": {
          "base_uri": "https://localhost:8080/"
        },
        "id": "6EGUMRf1k17U",
        "outputId": "865f7989-5835-4c9e-f46c-e354c263a5fe"
      },
      "execution_count": 1,
      "outputs": [
        {
          "output_type": "stream",
          "name": "stdout",
          "text": [
            "5\n"
          ]
        }
      ]
    },
    {
      "cell_type": "code",
      "source": [],
      "metadata": {
        "id": "QYAMykw1Okfu"
      },
      "execution_count": null,
      "outputs": []
    },
    {
      "cell_type": "markdown",
      "source": [
        "\n",
        "# Make noise\n",
        "```\n",
        "\n",
        "What will be the output of the following code?\n",
        "\n",
        "```\n",
        "\n"
      ],
      "metadata": {
        "id": "xHtEMc83lNZW"
      }
    },
    {
      "cell_type": "code",
      "source": [
        "\n",
        "class A:\n",
        " def __init__(self, name, sound=\"Grrrr\"):\n",
        "   self.name = name\n",
        "   self.sound = sound\n",
        "\n",
        " def make_noise(self):\n",
        "   print(\"{} says, {}\".format(self.name,self.sound))\n",
        "\n",
        "class B(A):\n",
        " def __init__(self, name=\"Rachel\"):\n",
        "   super().__init__(name, \"Meow!\")\n",
        "\n",
        " def make_noise(self,sound=\"Grrrr!\"):\n",
        "   print(\"{} says, {}\".format(self.name, sound))\n",
        "\n",
        "pet_cat = B()\n",
        "pet_cat.make_noise()"
      ],
      "metadata": {
        "colab": {
          "base_uri": "https://localhost:8080/"
        },
        "id": "3FK12HmjlV4a",
        "outputId": "e7856c5c-eb6c-4ec8-dc6a-d90d746f34f4"
      },
      "execution_count": 2,
      "outputs": [
        {
          "output_type": "stream",
          "name": "stdout",
          "text": [
            "Rachel says, Grrrr!\n"
          ]
        }
      ]
    },
    {
      "cell_type": "code",
      "source": [],
      "metadata": {
        "id": "9OxulRkoOlSj"
      },
      "execution_count": null,
      "outputs": []
    },
    {
      "cell_type": "markdown",
      "source": [
        "# multiply function\n",
        "\n",
        "```\n",
        "\n",
        "What will be the output of the following Python code?\n",
        "\n",
        "class A:\n",
        "    def __init__(self):\n",
        "        self.multiply(15)\n",
        "        print(self.i)\n",
        "\n",
        "    def multiply(self, i):\n",
        "        self.i = 4 * i\n",
        "\n",
        "class B(A):\n",
        "    def __init__(self):\n",
        "        super().__init__()\n",
        "\n",
        "    def multiply(self, i):\n",
        "        self.i = 2 * i;\n",
        "\n",
        "obj = B()\n",
        "```\n",
        "\n",
        "\n",
        "    A: 15\n",
        "    B: Exception thrown\n",
        "    C: 60\n",
        "    D: 30\n"
      ],
      "metadata": {
        "id": "EOVbW0lAi7rG"
      }
    },
    {
      "cell_type": "code",
      "source": [
        "class A:\n",
        "    def __init__(self):\n",
        "        self.multiply(15)\n",
        "        print(self.i)\n",
        "\n",
        "    def multiply(self, i):\n",
        "        self.i = 4 * i\n",
        "\n",
        "class B(A):\n",
        "    def __init__(self):\n",
        "        super().__init__()\n",
        "\n",
        "    def multiply(self, i):\n",
        "        self.i = 2 * i;\n",
        "\n",
        "obj = B()"
      ],
      "metadata": {
        "colab": {
          "base_uri": "https://localhost:8080/"
        },
        "id": "u_Yj9m1pld-i",
        "outputId": "e6ed4803-c4b8-4d0e-9e71-003d49b336c9"
      },
      "execution_count": 3,
      "outputs": [
        {
          "output_type": "stream",
          "name": "stdout",
          "text": [
            "30\n"
          ]
        }
      ]
    },
    {
      "cell_type": "code",
      "source": [
        "class A:\n",
        "    def __init__(self):\n",
        "        self.multiply(15)\n",
        "        print(self.i)\n",
        "\n",
        "    def multiply(self, i):\n",
        "        self.i = 4 * i\n",
        "\n",
        "class B(A):\n",
        "    def __init__(self):\n",
        "        super().__init__()\n",
        "\n",
        "    # def multiply(self, i):\n",
        "    #     self.i = 2 * i;\n",
        "\n",
        "obj = B()"
      ],
      "metadata": {
        "colab": {
          "base_uri": "https://localhost:8080/"
        },
        "id": "4S1ZEpnVldu2",
        "outputId": "b7bc555a-0cd2-46b0-b536-48de37c96b8e"
      },
      "execution_count": 4,
      "outputs": [
        {
          "output_type": "stream",
          "name": "stdout",
          "text": [
            "60\n"
          ]
        }
      ]
    },
    {
      "cell_type": "code",
      "source": [
        "class A:\n",
        "    def __init__(self):\n",
        "        self.multiply(15)\n",
        "        print(self.i)\n",
        "\n",
        "    # def multiply(self, i):\n",
        "    #     self.i = 4 * i\n",
        "\n",
        "class B(A):\n",
        "    def __init__(self):\n",
        "        super().__init__()\n",
        "\n",
        "    # def multiply(self, i):\n",
        "    #     self.i = 2 * i;\n",
        "\n",
        "obj = B()"
      ],
      "metadata": {
        "colab": {
          "base_uri": "https://localhost:8080/",
          "height": 352
        },
        "id": "iGvZRGromRjJ",
        "outputId": "4d69ed5d-eedd-4900-ca19-59086b78408c"
      },
      "execution_count": 5,
      "outputs": [
        {
          "output_type": "error",
          "ename": "AttributeError",
          "evalue": "ignored",
          "traceback": [
            "\u001b[0;31m---------------------------------------------------------------------------\u001b[0m",
            "\u001b[0;31mAttributeError\u001b[0m                            Traceback (most recent call last)",
            "\u001b[0;32m<ipython-input-5-b85f34c50251>\u001b[0m in \u001b[0;36m<module>\u001b[0;34m\u001b[0m\n\u001b[1;32m     14\u001b[0m     \u001b[0;31m#     self.i = 2 * i;\u001b[0m\u001b[0;34m\u001b[0m\u001b[0;34m\u001b[0m\u001b[0m\n\u001b[1;32m     15\u001b[0m \u001b[0;34m\u001b[0m\u001b[0m\n\u001b[0;32m---> 16\u001b[0;31m \u001b[0mobj\u001b[0m \u001b[0;34m=\u001b[0m \u001b[0mB\u001b[0m\u001b[0;34m(\u001b[0m\u001b[0;34m)\u001b[0m\u001b[0;34m\u001b[0m\u001b[0;34m\u001b[0m\u001b[0m\n\u001b[0m",
            "\u001b[0;32m<ipython-input-5-b85f34c50251>\u001b[0m in \u001b[0;36m__init__\u001b[0;34m(self)\u001b[0m\n\u001b[1;32m      9\u001b[0m \u001b[0;32mclass\u001b[0m \u001b[0mB\u001b[0m\u001b[0;34m(\u001b[0m\u001b[0mA\u001b[0m\u001b[0;34m)\u001b[0m\u001b[0;34m:\u001b[0m\u001b[0;34m\u001b[0m\u001b[0;34m\u001b[0m\u001b[0m\n\u001b[1;32m     10\u001b[0m     \u001b[0;32mdef\u001b[0m \u001b[0m__init__\u001b[0m\u001b[0;34m(\u001b[0m\u001b[0mself\u001b[0m\u001b[0;34m)\u001b[0m\u001b[0;34m:\u001b[0m\u001b[0;34m\u001b[0m\u001b[0;34m\u001b[0m\u001b[0m\n\u001b[0;32m---> 11\u001b[0;31m         \u001b[0msuper\u001b[0m\u001b[0;34m(\u001b[0m\u001b[0;34m)\u001b[0m\u001b[0;34m.\u001b[0m\u001b[0m__init__\u001b[0m\u001b[0;34m(\u001b[0m\u001b[0;34m)\u001b[0m\u001b[0;34m\u001b[0m\u001b[0;34m\u001b[0m\u001b[0m\n\u001b[0m\u001b[1;32m     12\u001b[0m \u001b[0;34m\u001b[0m\u001b[0m\n\u001b[1;32m     13\u001b[0m     \u001b[0;31m# def multiply(self, i):\u001b[0m\u001b[0;34m\u001b[0m\u001b[0;34m\u001b[0m\u001b[0m\n",
            "\u001b[0;32m<ipython-input-5-b85f34c50251>\u001b[0m in \u001b[0;36m__init__\u001b[0;34m(self)\u001b[0m\n\u001b[1;32m      1\u001b[0m \u001b[0;32mclass\u001b[0m \u001b[0mA\u001b[0m\u001b[0;34m:\u001b[0m\u001b[0;34m\u001b[0m\u001b[0;34m\u001b[0m\u001b[0m\n\u001b[1;32m      2\u001b[0m     \u001b[0;32mdef\u001b[0m \u001b[0m__init__\u001b[0m\u001b[0;34m(\u001b[0m\u001b[0mself\u001b[0m\u001b[0;34m)\u001b[0m\u001b[0;34m:\u001b[0m\u001b[0;34m\u001b[0m\u001b[0;34m\u001b[0m\u001b[0m\n\u001b[0;32m----> 3\u001b[0;31m         \u001b[0mself\u001b[0m\u001b[0;34m.\u001b[0m\u001b[0mmultiply\u001b[0m\u001b[0;34m(\u001b[0m\u001b[0;36m15\u001b[0m\u001b[0;34m)\u001b[0m\u001b[0;34m\u001b[0m\u001b[0;34m\u001b[0m\u001b[0m\n\u001b[0m\u001b[1;32m      4\u001b[0m         \u001b[0mprint\u001b[0m\u001b[0;34m(\u001b[0m\u001b[0mself\u001b[0m\u001b[0;34m.\u001b[0m\u001b[0mi\u001b[0m\u001b[0;34m)\u001b[0m\u001b[0;34m\u001b[0m\u001b[0;34m\u001b[0m\u001b[0m\n\u001b[1;32m      5\u001b[0m \u001b[0;34m\u001b[0m\u001b[0m\n",
            "\u001b[0;31mAttributeError\u001b[0m: 'B' object has no attribute 'multiply'"
          ]
        }
      ]
    },
    {
      "cell_type": "markdown",
      "source": [
        "# inheritance in python\n",
        "\n",
        "\n",
        "```\n",
        "\n",
        "class A:\n",
        "   def one(self):\n",
        "       return self.two()\n",
        "   def two(self):\n",
        "       return 'A'\n",
        "class B(A):\n",
        "   def two(self):\n",
        "       return 'B'\n",
        "obj= B()\n",
        "print(obj.one())\n",
        "```\n",
        "\n",
        " A: None<BR>\n",
        " B:  B<BR>\n",
        " C:   AB<BR>\n",
        " D:  A"
      ],
      "metadata": {
        "id": "jR2JexM1j89-"
      }
    },
    {
      "cell_type": "code",
      "source": [
        "class A:\n",
        "   def one(self):\n",
        "       return self.two()\n",
        "   def two(self):\n",
        "       return 'A'\n",
        "class B(A):\n",
        "   def two(self):\n",
        "       return 'B'\n",
        "obj= B()\n",
        "print(obj.one())"
      ],
      "metadata": {
        "colab": {
          "base_uri": "https://localhost:8080/"
        },
        "id": "V3mAmcfIm3Jb",
        "outputId": "d75a5cde-636e-4f6a-c766-513f6efd9620"
      },
      "execution_count": 6,
      "outputs": [
        {
          "output_type": "stream",
          "name": "stdout",
          "text": [
            "B\n"
          ]
        }
      ]
    },
    {
      "cell_type": "markdown",
      "source": [
        "\n",
        "\n",
        "```\n",
        "Fill in the blank space in the code snippet to get an output of 60?\n",
        "\n",
        "class Parent:\n",
        "  def __init__(self):\n",
        "    pass\n",
        "  def print(self):\n",
        "    print(\"60\")\n",
        "\n",
        "class Child(Parent):\n",
        "   ____________\n",
        "   ____________ # This block has to be completed.\n",
        "\n",
        "C=Child()\n",
        "C.type()\n",
        "\n",
        "*******Choose from below options******* \n",
        "#A. \n",
        "def __init__(self):\n",
        "  super().__init__()\n",
        "def type(self):\n",
        "  self.print()\n",
        "#B.\n",
        "def __init__(self):\n",
        "  super().__init__()\n",
        "def type(self):\n",
        "  self().print()\n",
        "#C.\n",
        "def __init__(self):\n",
        "  super().__init__()\n",
        "def type(self):\n",
        "  super().print()\n",
        "#D.\n",
        "None of these\n",
        "```\n",
        "\n"
      ],
      "metadata": {
        "id": "7IQzAoHvjp8X"
      }
    },
    {
      "cell_type": "code",
      "source": [],
      "metadata": {
        "id": "haVBlrb3NT8P"
      },
      "execution_count": null,
      "outputs": []
    },
    {
      "cell_type": "code",
      "source": [],
      "metadata": {
        "id": "GM096xe8NT5H"
      },
      "execution_count": null,
      "outputs": []
    },
    {
      "cell_type": "code",
      "source": [],
      "metadata": {
        "id": "GN5jRJNqNT2h"
      },
      "execution_count": null,
      "outputs": []
    },
    {
      "cell_type": "markdown",
      "source": [
        "\n",
        "# Total electricity bill\n",
        "```\n",
        "\n",
        "Create a class Bill and initialize it with the details: previous and current meter readings.\n",
        " Create a function total_bill() inside the Bill class which returns the total bill based on the following criteria:\n",
        "\n",
        "1. For the first 100 units consumed: 3.5 rs/unit\n",
        "\n",
        "2. For the next 100 units consumed: 5 rs/unit\n",
        "\n",
        "3. For remaining units consumed: 8 rs/unit\n",
        "\n",
        "4. Meter Charges: 150 rs (It's included only once but is mandatory)\n",
        "\n",
        "Example input:\n",
        "\n",
        "200 650\n",
        "Example output:\n",
        "\n",
        "3000.0\n",
        "Example explanation:\n",
        "\n",
        "previous_read= 200\n",
        "current_read= 650\n",
        "Unit_consumed= 650-200 = 450\n",
        "total_bill = 100*3.5 + 100*5 + 250*8 + 150(meter charges)= 3000.0 (output will be float)\n",
        "```\n",
        "\n"
      ],
      "metadata": {
        "id": "EehUMNnsaY8D"
      }
    },
    {
      "cell_type": "code",
      "source": [
        "class Bill():\n",
        "\n",
        "  def __init__(self, prev_read, cur_read):\n",
        "    self.prev_read= prev_read\n",
        "    self.cur_read= cur_read\n",
        "\n",
        "  def total_bill(self):\n",
        "    i=1\n",
        "    total=0 \n",
        "    price=3.5\n",
        "    meter_charge=150\n",
        "\n",
        "    consumed= self.cur_read - self.prev_read\n",
        "\n",
        "    if consumed>100:\n",
        "\n",
        "      while consumed//100>0:\n",
        "\n",
        "        if i==1:\n",
        "          price= 3.5\n",
        "        elif i==2:\n",
        "          price= 5\n",
        "        else:\n",
        "          price=8\n",
        "\n",
        "        total= total + 100*price\n",
        "        consumed= consumed-100\n",
        "        i=i+1\n",
        "\n",
        "        if consumed<100:\n",
        "          total= total+ consumed*price\n",
        "\n",
        "    else:\n",
        "      total= consumed*price\n",
        "\n",
        "    return total+ meter_charge"
      ],
      "metadata": {
        "id": "pUtLe6DaqcDO"
      },
      "execution_count": 7,
      "outputs": []
    },
    {
      "cell_type": "code",
      "source": [
        "b = Bill(200,650)"
      ],
      "metadata": {
        "id": "z_bNSDHqsT1q"
      },
      "execution_count": 8,
      "outputs": []
    },
    {
      "cell_type": "code",
      "source": [
        "b.total_bill()"
      ],
      "metadata": {
        "colab": {
          "base_uri": "https://localhost:8080/"
        },
        "id": "K8jpzOm8sYfG",
        "outputId": "9dbb1124-5ca8-4897-a6bb-87469c4499a0"
      },
      "execution_count": 9,
      "outputs": [
        {
          "output_type": "execute_result",
          "data": {
            "text/plain": [
              "3000.0"
            ]
          },
          "metadata": {},
          "execution_count": 9
        }
      ]
    },
    {
      "cell_type": "markdown",
      "source": [
        "# compute GPA\n",
        "\n",
        "```\n",
        "\n",
        "Problem Description\n",
        "Create a class Student and initialize it with the following class variables:\n",
        "\n",
        "\n",
        "marks in subject 1\n",
        "credit of subject 1\n",
        "marks in subject 2\n",
        "credit of subject 2\n",
        "\n",
        "Create a function gradepointaverage() \n",
        "for the Student class which computes the GPA rounded to two decimals, \n",
        "based on the following criteria of points in a subject :\n",
        "\n",
        "1. If marks>=90:10 points\n",
        "2. If 90>marks>=75: 9 points\n",
        "3. If 75>marks>=60: 8 points\n",
        "4. If 60>marks>=45: 7 points\n",
        "5. If marks<45: 0 points\n",
        "\n",
        "\n",
        "The points in a subject should be calculated \n",
        "according to the criteria mentioned in the question.\n",
        "Also, implement a special zero case to handle\n",
        " when credits of both subjects are 0, \n",
        " return \"Zero credits for both subjects\".\n",
        "\n",
        "Input Format\n",
        "Class Student takes input in the form (marks1,marks2,credits1,credits2)\n",
        "\n",
        "\n",
        "Output Format\n",
        "GPA value\n",
        "\n",
        "\n",
        "Example Input\n",
        "(85, 76, 3, 4)\n",
        "\n",
        "\n",
        "Example Output\n",
        "9.0\n",
        "```\n",
        "\n"
      ],
      "metadata": {
        "id": "AbsXAl-Ybn8h"
      }
    },
    {
      "cell_type": "markdown",
      "source": [
        "![image.png](data:image/png;base64,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)"
      ],
      "metadata": {
        "id": "sE--FmMGcFDO"
      }
    },
    {
      "cell_type": "code",
      "source": [
        "class Student:\n",
        "\n",
        "    def __init__(self, marks1, marks2, credits1, credits2):\n",
        "    \n",
        "        self.marks1= marks1\n",
        "        self.marks2= marks2\n",
        "        \n",
        "        self.credits1= credits1\n",
        "        self.credits2= credits2\n",
        "    def points(self, marks):\n",
        "    \n",
        "        if marks in range(90,100):\n",
        "          return 10\n",
        "        elif marks in range(75,90):\n",
        "          return 9\n",
        "        elif marks in range(60,75):\n",
        "          return 8\n",
        "        elif  marks in range(45,60):\n",
        "          return 7\n",
        "        else:\n",
        "          return 0\n",
        "    def grade_point_average(self):\n",
        "    \n",
        "        if self.credits1!=0 and self.credits2!=0:\n",
        "          \n",
        "          gpa= ((self.points(self.marks1)*self.credits1) + self.points(self.marks2)*self.credits2) / (self.credits1 + self.credits2) \n",
        "          \n",
        "          return round(gpa,2)\n",
        "    \n",
        "        else:\n",
        "          return \"Zero credits for both subjects\""
      ],
      "metadata": {
        "id": "A8iN1Jo7snMe"
      },
      "execution_count": 10,
      "outputs": []
    },
    {
      "cell_type": "code",
      "source": [
        "c=Student(85,76,3,4)\n",
        "c.grade_point_average()"
      ],
      "metadata": {
        "colab": {
          "base_uri": "https://localhost:8080/"
        },
        "id": "JdFz9eFeuOSO",
        "outputId": "df41b87f-bd83-47fa-a99f-6f39b3d6deb8"
      },
      "execution_count": 11,
      "outputs": [
        {
          "output_type": "execute_result",
          "data": {
            "text/plain": [
              "9.0"
            ]
          },
          "metadata": {},
          "execution_count": 11
        }
      ]
    },
    {
      "cell_type": "markdown",
      "source": [
        "# Smaller and larger class\n",
        "\n",
        "```\n",
        "\n",
        "Problem Description\n",
        "Complete the classes Smaller and Larger.\n",
        "\n",
        "Smaller class gets instantiated when the argument of the function (a:string) \n",
        "has a length smaller than 6 otherwise Larger is instantiated.\n",
        "Both the classes have the same two methods,\n",
        " display() printing the type of a (class), and\n",
        "evaluate() printing the number of vowels if the Name is Smaller otherwise it prints the number of consonants.\n",
        "\n",
        "\n",
        "Input Format\n",
        "For each testcase there will be a single line of input which will be a string.\n",
        "\n",
        "\n",
        "Output Format\n",
        "For each testcase there will be two lines of outputs. First line will write the type of object and second line will print the output of evaluate() according to the object type.\n",
        "\n",
        "\n",
        "Example Input\n",
        "\"aman\"\n",
        "\n",
        "\n",
        "Example Output\n",
        "The type of Name is smaller\n",
        "2\n",
        "\n",
        "\n",
        "Example Explanation\n",
        "Since the length of \"aman\" is 4 which is smaller than 6, therefore, it will be called with Smaller class and in the second line evaluate() will print the frequency of vowels in the Name.\n",
        "```\n",
        "\n"
      ],
      "metadata": {
        "id": "Cb_USVAOddal"
      }
    },
    {
      "cell_type": "code",
      "source": [
        "class Smaller:\n",
        "    def __init__(self,a):\n",
        "        self.string=a\n",
        "    \n",
        "    def display(self):\n",
        "        print(\"The type of Name is smaller\")\n",
        "    \n",
        "    def evaluate(self):\n",
        "        ans=0\n",
        "        \n",
        "        # YOUR CODE GOES HERE\n",
        "        vowels = \"AaEeIiOoUu\"\n",
        "        final = [each for each in self.string if each in vowels]\n",
        "        ans=len(final)\n",
        "        print(ans)\n",
        "        \n",
        "class Larger:\n",
        "    def __init__(self,a):\n",
        "        self.string=a\n",
        "    \n",
        "    def display(self):\n",
        "        print(\"The type of Name is larger\")\n",
        "    \n",
        "    def evaluate(self):\n",
        "        ans=0\n",
        "        \n",
        "        # YOUR CODE GOES HERE\n",
        "        vowels = \"AaEeIiOoUu\"\n",
        "        final = [each for each in self.string if each not in vowels]\n",
        "        ans=len(final)\n",
        "        print(ans)\n",
        "\n",
        "def main(a):\n",
        "    '''\n",
        "    input a is string\n",
        "    '''\n",
        "    if len(a)<6:\n",
        "        obj=Smaller(a)\n",
        "        obj.display()\n",
        "        obj.evaluate()\n",
        "    else:\n",
        "        obj=Larger(a)\n",
        "        obj.display()\n",
        "        obj.evaluate()"
      ],
      "metadata": {
        "id": "Gh6qH_pRvXwB"
      },
      "execution_count": null,
      "outputs": []
    }
  ]
}