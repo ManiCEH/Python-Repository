{
  "nbformat": 4,
  "nbformat_minor": 0,
  "metadata": {
    "colab": {
      "provenance": [],
      "authorship_tag": "ABX9TyNxTj65uf67oxAPynZCC3HU",
      "include_colab_link": true
    },
    "kernelspec": {
      "name": "python3",
      "display_name": "Python 3"
    },
    "language_info": {
      "name": "python"
    }
  },
  "cells": [
    {
      "cell_type": "markdown",
      "metadata": {
        "id": "view-in-github",
        "colab_type": "text"
      },
      "source": [
        "<a href=\"https://colab.research.google.com/github/scaleracademy/BeginnersNovMon2-2022/blob/main/ProblemSolving5.ipynb\" target=\"_parent\"><img src=\"https://colab.research.google.com/assets/colab-badge.svg\" alt=\"Open In Colab\"/></a>"
      ]
    },
    {
      "cell_type": "markdown",
      "source": [
        "## What will be the ouput of the following program?\n",
        "```python\n",
        "n = 100\n",
        "ans = 0\n",
        "for i in range(1,n+1):\n",
        "  if i % 2:\n",
        "    continue\n",
        "  if i > 50:\n",
        "    break\n",
        "  ans += i\n",
        "\n",
        "print(ans)\n",
        "```\n",
        "```\n",
        "A. 5050\n",
        "B. 4950\n",
        "C. 650 \n",
        "D. 625\n",
        "```"
      ],
      "metadata": {
        "id": "-32-Z2KTeqLy"
      }
    },
    {
      "cell_type": "code",
      "source": [
        "n = 100\n",
        "ans = 0\n",
        "for i in range(1,n+1):\n",
        "  if i % 2:\n",
        "    continue\n",
        "  if i > 50:\n",
        "    break\n",
        "  print(i)  \n",
        "  ans += i\n",
        "\n",
        "print(ans)"
      ],
      "metadata": {
        "id": "the53pPtewou",
        "colab": {
          "base_uri": "https://localhost:8080/"
        },
        "outputId": "c29fc685-c04e-4313-d47c-989acee7e085"
      },
      "execution_count": 2,
      "outputs": [
        {
          "output_type": "stream",
          "name": "stdout",
          "text": [
            "2\n",
            "4\n",
            "6\n",
            "8\n",
            "10\n",
            "12\n",
            "14\n",
            "16\n",
            "18\n",
            "20\n",
            "22\n",
            "24\n",
            "26\n",
            "28\n",
            "30\n",
            "32\n",
            "34\n",
            "36\n",
            "38\n",
            "40\n",
            "42\n",
            "44\n",
            "46\n",
            "48\n",
            "50\n",
            "650\n"
          ]
        }
      ]
    },
    {
      "cell_type": "code",
      "source": [],
      "metadata": {
        "id": "P390yG7bfqfH"
      },
      "execution_count": null,
      "outputs": []
    },
    {
      "cell_type": "code",
      "source": [],
      "metadata": {
        "id": "FcBQZzkcfqcO"
      },
      "execution_count": null,
      "outputs": []
    },
    {
      "cell_type": "code",
      "source": [],
      "metadata": {
        "id": "x_K1V8cTfqZW"
      },
      "execution_count": null,
      "outputs": []
    },
    {
      "cell_type": "code",
      "source": [],
      "metadata": {
        "id": "YPQK6dsDfqWe"
      },
      "execution_count": null,
      "outputs": []
    },
    {
      "cell_type": "markdown",
      "source": [
        "## Confusing booleans\n",
        "What will be the output of the following python code\n",
        "```python\n",
        "print(bool(False - 1))\n",
        "print(bool(True - 3))\n",
        "print(True + 3)\n",
        "```\n",
        "\n",
        "```\n",
        "A) \n",
        "True\n",
        "True\n",
        "4\n",
        "```\n",
        "```\n",
        "B) \n",
        "True\n",
        "False\n",
        "3\n",
        "```\n",
        "```\n",
        "C) \n",
        "False\n",
        "False\n",
        "None\n",
        "```\n",
        "```\n",
        "D) Error\n",
        "```"
      ],
      "metadata": {
        "id": "IZGrYh7xl7x9"
      }
    },
    {
      "cell_type": "code",
      "source": [],
      "metadata": {
        "id": "MrIzLjUPr8XD"
      },
      "execution_count": null,
      "outputs": []
    },
    {
      "cell_type": "code",
      "source": [],
      "metadata": {
        "id": "zAhbBZ-Hr8Ub"
      },
      "execution_count": null,
      "outputs": []
    },
    {
      "cell_type": "code",
      "source": [],
      "metadata": {
        "id": "R54xrS5nr8Ri"
      },
      "execution_count": null,
      "outputs": []
    },
    {
      "cell_type": "code",
      "source": [],
      "metadata": {
        "id": "zHoQ-W5Hr8PH"
      },
      "execution_count": null,
      "outputs": []
    },
    {
      "cell_type": "markdown",
      "source": [
        "## Same precedence\n",
        "What will be the output of the following python code\n",
        "```python\n",
        "a = 3 ** 2 ** 0.25 ** -0.5\n",
        "print(a)\n",
        "```\n",
        "\n",
        "```\n",
        "a. 1.0\n",
        "b. 2.828\n",
        "c. 81.0 \n",
        "d. Error\n",
        "```"
      ],
      "metadata": {
        "id": "4QAOMkXyr4xp"
      }
    },
    {
      "cell_type": "code",
      "source": [],
      "metadata": {
        "id": "SKABizZnsFeN"
      },
      "execution_count": null,
      "outputs": []
    },
    {
      "cell_type": "code",
      "source": [],
      "metadata": {
        "id": "mNN-4ZkOsFbe"
      },
      "execution_count": null,
      "outputs": []
    },
    {
      "cell_type": "code",
      "source": [],
      "metadata": {
        "id": "g8RrP2rPYMrF"
      },
      "execution_count": null,
      "outputs": []
    },
    {
      "cell_type": "code",
      "source": [],
      "metadata": {
        "id": "2WgkZpRBYMoV"
      },
      "execution_count": null,
      "outputs": []
    },
    {
      "cell_type": "code",
      "source": [],
      "metadata": {
        "id": "mKpSL3UWYMlX"
      },
      "execution_count": null,
      "outputs": []
    },
    {
      "cell_type": "markdown",
      "source": [
        "## stars II\n",
        "What will be the output of the following python code?\n",
        "\n",
        "```\n",
        "n = 10\n",
        "for i in range(1,n,2):\n",
        "  if not n%2:\n",
        "    print(\"*\"*i)\n",
        "```    \n",
        "\n",
        "\n",
        "\n",
        "A)\n",
        "```\n",
        "*********\n",
        "*********\n",
        "*********\n",
        "*********\n",
        "*********\n",
        "```\n",
        "B)\n",
        "```\n",
        "*\n",
        "\n",
        "*****\n",
        "\n",
        "*********\n",
        "```\n",
        "C) \n",
        "```\n",
        "*\n",
        "***\n",
        "*****\n",
        "*******\n",
        "*********\n",
        "```\n",
        "D)\n",
        "```\n",
        "None of the options\n",
        "```"
      ],
      "metadata": {
        "id": "UoGvopShfBsd"
      }
    },
    {
      "cell_type": "code",
      "source": [
        "n = 10\n",
        "for i in range(1,n,2):\n",
        "  if not n%2:\n",
        "    print(\"*\"*i)"
      ],
      "metadata": {
        "id": "0VdBSV3HewjD",
        "colab": {
          "base_uri": "https://localhost:8080/"
        },
        "outputId": "fb18f980-13bc-4dad-ce4c-08f84ba1957c"
      },
      "execution_count": 3,
      "outputs": [
        {
          "output_type": "stream",
          "name": "stdout",
          "text": [
            "*\n",
            "***\n",
            "*****\n",
            "*******\n",
            "*********\n"
          ]
        }
      ]
    },
    {
      "cell_type": "code",
      "source": [
        "n = 11\n",
        "for i in range(1,n,2):\n",
        "  if not n%2:\n",
        "    print(\"*\"*i)"
      ],
      "metadata": {
        "id": "EPsOSmvsewgS"
      },
      "execution_count": 4,
      "outputs": []
    },
    {
      "cell_type": "code",
      "source": [
        "n = 10\n",
        "for i in range(1,n,2):\n",
        "  if not n%2:\n",
        "    print(\"*\"*i,end='@')"
      ],
      "metadata": {
        "id": "GGvVGgYKewda",
        "colab": {
          "base_uri": "https://localhost:8080/"
        },
        "outputId": "cdbcc7e1-7d5d-44da-a84f-72df94d5797a"
      },
      "execution_count": 6,
      "outputs": [
        {
          "output_type": "stream",
          "name": "stdout",
          "text": [
            "*@***@*****@*******@*********@"
          ]
        }
      ]
    },
    {
      "cell_type": "code",
      "source": [],
      "metadata": {
        "id": "dXxJlFfqxwJ8"
      },
      "execution_count": null,
      "outputs": []
    },
    {
      "cell_type": "code",
      "source": [],
      "metadata": {
        "id": "tYa39y8LxwHK"
      },
      "execution_count": null,
      "outputs": []
    },
    {
      "cell_type": "code",
      "source": [],
      "metadata": {
        "id": "UqBRiTnkxwEN"
      },
      "execution_count": null,
      "outputs": []
    },
    {
      "cell_type": "code",
      "source": [],
      "metadata": {
        "id": "8hTSwmOFewac"
      },
      "execution_count": null,
      "outputs": []
    },
    {
      "cell_type": "markdown",
      "source": [
        "## Magic numbe - II\n",
        "If the sum of cube of digits of number is equal to the number itself then we can say that number is magical.\n",
        "\n",
        "Write a function to return True whether given number is magical else False.\n",
        "\n",
        "**Input format**:\n",
        "```\n",
        "Integer is given\n",
        "```\n",
        "\n",
        "**Output format**:\n",
        "```\n",
        "True if magical else False\n",
        "```\n",
        "\n",
        "**Input Sample**:\n",
        "```\n",
        "153\n",
        "```\n",
        "**Output Sample**:\n",
        "```\n",
        "True\n",
        "```\n",
        "\n",
        "**Sample Explanation**:\n",
        "```\n",
        "153 = 1^3 + 5^3 + 3^3 = 153\n",
        "```"
      ],
      "metadata": {
        "id": "kWjAyDHTrK7-"
      }
    },
    {
      "cell_type": "code",
      "source": [
        "def magical(num):\n",
        "  sum = 0\n",
        "  temp = num\n",
        "  while temp >0:\n",
        "    rem = temp%10\n",
        "    sum = sum + rem**3\n",
        "    temp = temp//10\n",
        "  return sum == num\n",
        "  \n",
        "    "
      ],
      "metadata": {
        "id": "WIcuPrK4rNTD"
      },
      "execution_count": 7,
      "outputs": []
    },
    {
      "cell_type": "code",
      "source": [
        "num = int(input())\n",
        "print(magical(num))"
      ],
      "metadata": {
        "id": "nxgZ2px6rNQO",
        "colab": {
          "base_uri": "https://localhost:8080/"
        },
        "outputId": "8e9b040d-4786-477d-9b18-da46cb78f067"
      },
      "execution_count": 11,
      "outputs": [
        {
          "output_type": "stream",
          "name": "stdout",
          "text": [
            "0\n",
            "True\n"
          ]
        }
      ]
    },
    {
      "cell_type": "code",
      "source": [
        "print(27 == 123)"
      ],
      "metadata": {
        "id": "lEfdsgnlrRYv",
        "colab": {
          "base_uri": "https://localhost:8080/"
        },
        "outputId": "2f3cb6b6-cdd6-4e61-fa2f-f74904641edf"
      },
      "execution_count": 10,
      "outputs": [
        {
          "output_type": "stream",
          "name": "stdout",
          "text": [
            "False\n"
          ]
        }
      ]
    },
    {
      "cell_type": "code",
      "source": [],
      "metadata": {
        "id": "nG-42tr2rRVf"
      },
      "execution_count": null,
      "outputs": []
    },
    {
      "cell_type": "code",
      "source": [],
      "metadata": {
        "id": "_wb73vr8rRSo"
      },
      "execution_count": null,
      "outputs": []
    },
    {
      "cell_type": "markdown",
      "source": [
        "##Pattern\n",
        "For a given input integer `n` write a python function to print the pattern as follows:\n",
        "\n",
        "\n",
        "**Sample Input**:\n",
        "```\n",
        "8\n",
        "```\n",
        "**Sample Output**\n",
        "```\n",
        "1 \n",
        "2 1 \n",
        "3 2 1 \n",
        "4 3 2 1 \n",
        "5 4 3 2 1 \n",
        "6 5 4 3 2 1 \n",
        "7 6 5 4 3 2 1 \n",
        "```\n",
        "**Sample Input**:\n",
        "```\n",
        "4\n",
        "```\n",
        "**Sample Output**\n",
        "```\n",
        "1 \n",
        "2 1 \n",
        "3 2 1 \n",
        "```"
      ],
      "metadata": {
        "id": "4WRzHxtZfjbf"
      }
    },
    {
      "cell_type": "code",
      "source": [
        "n = int(input())\n",
        "# row\n",
        "for i in range(1,n):\n",
        "  for j in range(i,0,-1):\n",
        "    print(j,end=' ')\n",
        "  print()  "
      ],
      "metadata": {
        "id": "ii-jwFggf6up",
        "colab": {
          "base_uri": "https://localhost:8080/"
        },
        "outputId": "7bf51595-660b-42e2-9f71-77b55dde92c0"
      },
      "execution_count": 12,
      "outputs": [
        {
          "output_type": "stream",
          "name": "stdout",
          "text": [
            "4\n",
            "1 \n",
            "2 1 \n",
            "3 2 1 \n"
          ]
        }
      ]
    },
    {
      "cell_type": "code",
      "source": [
        "n = int(input())\n",
        "for i in range (1,n):\n",
        "  for j in range(i,0,-1):\n",
        "      print(j,end=' ')\n",
        "  print()"
      ],
      "metadata": {
        "id": "_Vvqdicnf6rm",
        "colab": {
          "base_uri": "https://localhost:8080/"
        },
        "outputId": "51a30640-b645-4302-eff1-2797c1138a25"
      },
      "execution_count": 35,
      "outputs": [
        {
          "output_type": "stream",
          "name": "stdout",
          "text": [
            "8\n",
            "1 \n",
            "2 1 \n",
            "3 2 1 \n",
            "4 3 2 1 \n",
            "5 4 3 2 1 \n",
            "6 5 4 3 2 1 \n",
            "7 6 5 4 3 2 1 \n"
          ]
        }
      ]
    },
    {
      "cell_type": "code",
      "source": [],
      "metadata": {
        "id": "QK5YJPrOf6o9"
      },
      "execution_count": null,
      "outputs": []
    },
    {
      "cell_type": "code",
      "source": [],
      "metadata": {
        "id": "bptWjLblf6mH"
      },
      "execution_count": null,
      "outputs": []
    },
    {
      "cell_type": "code",
      "source": [],
      "metadata": {
        "id": "gYsNQmvujW5M"
      },
      "execution_count": null,
      "outputs": []
    },
    {
      "cell_type": "markdown",
      "source": [
        "## Dict theory III\n",
        "What will be the output of the following python code?\n",
        "```python\n",
        "info = {\n",
        "    \"name\": \"Python\",\n",
        "     \"father\": \"Charles Babbage\"\n",
        "}\n",
        "\n",
        "correction = {\n",
        "    \"father\": \"Guido van Rossum\",\n",
        "    \"DOB\": \"1991\"\n",
        "}\n",
        "\n",
        "info.update(correction)\n",
        "print(info)\n",
        "```\n",
        "\n",
        "```\n",
        "A. {'name': 'Python', 'father': 'Guido van Rossum'}\n",
        "B. {'name': 'Python', 'father': 'Charles Babbage', 'DOB': '1991'}\n",
        "C. {'name': 'Python', 'father': 'Guido van Rossum', 'DOB': '1991'} \n",
        "D. {'name': 'Python', 'DOB': 'Guido van Rossum', 'father': '1991'}\n",
        "```"
      ],
      "metadata": {
        "id": "bJrKorGVjL9C"
      }
    },
    {
      "cell_type": "code",
      "source": [],
      "metadata": {
        "id": "bJ2qT8cGi0rD"
      },
      "execution_count": null,
      "outputs": []
    },
    {
      "cell_type": "code",
      "source": [],
      "metadata": {
        "id": "HARLA-ysi0oc"
      },
      "execution_count": null,
      "outputs": []
    },
    {
      "cell_type": "code",
      "source": [],
      "metadata": {
        "id": "iCdPL6SPi0ll"
      },
      "execution_count": null,
      "outputs": []
    },
    {
      "cell_type": "code",
      "source": [],
      "metadata": {
        "id": "uBI2jvdoj-Ul"
      },
      "execution_count": null,
      "outputs": []
    },
    {
      "cell_type": "markdown",
      "source": [
        "## Sentence mapping\n",
        "You are given an english sentence as string. Write a python program that maps ith word to the (i+1)th word of sentence. where i denotes the current word. Each word is separated by spaces.\n",
        "\n",
        ">Note: For the last word map it to -1\n",
        "\n",
        "**Input Sample**:\n",
        "```\n",
        "Hello My Name is Alpha Omega\n",
        "```\n",
        "**Output Sample**:\n",
        "```\n",
        "{'Hello': 'My', 'My': 'Name', 'Name': 'is', 'is': 'Alpha', 'Alpha': 'Omega', 'Omega': -1}\n",
        "```"
      ],
      "metadata": {
        "id": "HsvhmzFRk5rM"
      }
    },
    {
      "cell_type": "code",
      "source": [
        "def mapping(sentence):\n",
        "  new_dict = {}\n",
        "  words = sentence.split()\n",
        "  for i in range(len(words)):\n",
        "    if i != len(words)-1:\n",
        "      new_dict[words[i]] = words[i+1]\n",
        "    else:\n",
        "      new_dict[words[i]] = -1\n",
        "  return new_dict        "
      ],
      "metadata": {
        "id": "XTN3EeiUmnDZ"
      },
      "execution_count": 13,
      "outputs": []
    },
    {
      "cell_type": "code",
      "source": [
        "n = input()\n",
        "print(mapping(n))"
      ],
      "metadata": {
        "id": "6w7DVzQ3mnAZ",
        "colab": {
          "base_uri": "https://localhost:8080/"
        },
        "outputId": "7ba0f20f-b740-4381-de98-99dddb4a6963"
      },
      "execution_count": 14,
      "outputs": [
        {
          "output_type": "stream",
          "name": "stdout",
          "text": [
            "my name is mayank\n",
            "{'my': 'name', 'name': 'is', 'is': 'mayank', 'mayank': -1}\n"
          ]
        }
      ]
    },
    {
      "cell_type": "code",
      "source": [],
      "metadata": {
        "id": "w97kX_cPmm9g"
      },
      "execution_count": null,
      "outputs": []
    },
    {
      "cell_type": "code",
      "source": [],
      "metadata": {
        "id": "loq5ZokPmm6x"
      },
      "execution_count": null,
      "outputs": []
    },
    {
      "cell_type": "code",
      "source": [],
      "metadata": {
        "id": "dnuGkbAMmm3i"
      },
      "execution_count": null,
      "outputs": []
    },
    {
      "cell_type": "markdown",
      "source": [
        "## Intersection of lists\n",
        "You are given two lists as input `A` and `B` respectively each with only unique elemets. Write python function that uses sets and try to find the elements of list `A` that are not in `B` and rerturn those elements in sorted manner within a list.\n",
        "\n",
        "**Input Format**:\n",
        "```\n",
        "A: list of unique elements\n",
        "B: list of unique elements\n",
        "```\n",
        "**Output Format**:\n",
        "```\n",
        "list of elemets that are in A but not in B\n",
        "```\n",
        "**Input Sample**:\n",
        "```\n",
        "[1,2,3,4,5,6,7,8,9]\n",
        "[2,7,1,4]\n",
        "```\n",
        "**Output Sample**:\n",
        "```\n",
        "[3, 5, 6, 8, 9]\n",
        "```"
      ],
      "metadata": {
        "id": "I-10shdToxdW"
      }
    },
    {
      "cell_type": "code",
      "source": [
        "def intersect(A,B):\n",
        "  set_a = set(A)\n",
        "  set_b = set(B)\n",
        "  return sorted(list(set_a - set_b))\n"
      ],
      "metadata": {
        "id": "FbabosUgp7iT"
      },
      "execution_count": 18,
      "outputs": []
    },
    {
      "cell_type": "code",
      "source": [
        "A = list(map(int,input().split()))\n",
        "B = list(map(int,input().split()))\n",
        "print(intersect(A,B))"
      ],
      "metadata": {
        "id": "pGLA5BLNp7fr",
        "colab": {
          "base_uri": "https://localhost:8080/"
        },
        "outputId": "5346f5fb-60b0-4c34-d956-9ff8107dea71"
      },
      "execution_count": 17,
      "outputs": [
        {
          "output_type": "stream",
          "name": "stdout",
          "text": [
            "1 2 3 4\n",
            "7 8 9 \n",
            "[1, 2, 3, 4]\n"
          ]
        }
      ]
    },
    {
      "cell_type": "code",
      "source": [
        "lst = [5,6,8,9,7]\n",
        "print(id(lst))"
      ],
      "metadata": {
        "id": "lmOa6EqYp7cq",
        "colab": {
          "base_uri": "https://localhost:8080/"
        },
        "outputId": "062ac550-bb1a-429b-9ec1-a0827b54baa6"
      },
      "execution_count": 25,
      "outputs": [
        {
          "output_type": "stream",
          "name": "stdout",
          "text": [
            "140694353279616\n"
          ]
        }
      ]
    },
    {
      "cell_type": "code",
      "source": [
        "lst.sort()\n",
        "print(id(lst))"
      ],
      "metadata": {
        "id": "ZkBuwAvSYUJ9",
        "colab": {
          "base_uri": "https://localhost:8080/"
        },
        "outputId": "a0017a37-c21e-4e46-bda5-654e658c283e"
      },
      "execution_count": 26,
      "outputs": [
        {
          "output_type": "stream",
          "name": "stdout",
          "text": [
            "140694353279616\n"
          ]
        }
      ]
    },
    {
      "cell_type": "code",
      "source": [
        "lst"
      ],
      "metadata": {
        "id": "vLhs5wAjYUG-",
        "colab": {
          "base_uri": "https://localhost:8080/"
        },
        "outputId": "91f11df8-e2f3-4458-9ea5-46f4d8513229"
      },
      "execution_count": 27,
      "outputs": [
        {
          "output_type": "execute_result",
          "data": {
            "text/plain": [
              "[5, 6, 7, 8, 9]"
            ]
          },
          "metadata": {},
          "execution_count": 27
        }
      ]
    },
    {
      "cell_type": "code",
      "source": [
        "lst = [5,6,8,9,7]\n",
        "print(id(lst))"
      ],
      "metadata": {
        "colab": {
          "base_uri": "https://localhost:8080/"
        },
        "id": "raJFEs1sD_A-",
        "outputId": "134a1cd0-fd67-4575-f2c4-2f310d35af06"
      },
      "execution_count": 31,
      "outputs": [
        {
          "output_type": "stream",
          "name": "stdout",
          "text": [
            "140694213761472\n"
          ]
        }
      ]
    },
    {
      "cell_type": "code",
      "source": [
        "print(id(sorted(lst)))"
      ],
      "metadata": {
        "colab": {
          "base_uri": "https://localhost:8080/"
        },
        "id": "oXm9SblfD95L",
        "outputId": "d86891c6-18f5-44cf-fef3-acc759b9d703"
      },
      "execution_count": 33,
      "outputs": [
        {
          "output_type": "stream",
          "name": "stdout",
          "text": [
            "140694213963968\n"
          ]
        }
      ]
    },
    {
      "cell_type": "code",
      "source": [
        "lst"
      ],
      "metadata": {
        "colab": {
          "base_uri": "https://localhost:8080/"
        },
        "id": "XnNOTs9AEDcj",
        "outputId": "1f41c57b-4eed-46e9-f7b9-83961147de10"
      },
      "execution_count": 30,
      "outputs": [
        {
          "output_type": "execute_result",
          "data": {
            "text/plain": [
              "[5, 6, 8, 9, 7]"
            ]
          },
          "metadata": {},
          "execution_count": 30
        }
      ]
    },
    {
      "cell_type": "markdown",
      "source": [
        "## existential crisis\n",
        "What will be the output of the following program?\n",
        "```python\n",
        "d = {\n",
        "    'name': 'Python',\n",
        "    'class': '12',\n",
        "}\n",
        "\n",
        "print(d.get(\"name\", \"C++\"), end=\" \")\n",
        "print(d.get(\"Class\", 30))\n",
        "```\n",
        "\n",
        "```\n",
        "A. C++ 12\n",
        "B. Python 30 \n",
        "C. C++ 30\n",
        "D. Python 12\n",
        "```"
      ],
      "metadata": {
        "id": "fX5IfiSBXwop"
      }
    },
    {
      "cell_type": "code",
      "source": [
        "d = {\n",
        "    'name': 'Python',\n",
        "    'class': '12',\n",
        "}\n",
        "\n",
        "print(d.get(\"name\", \"C++\"), end=\" \")\n",
        "print(d.get(\"Class\", 30))"
      ],
      "metadata": {
        "id": "AQ10tErTp7Z4",
        "colab": {
          "base_uri": "https://localhost:8080/"
        },
        "outputId": "5d4d73d2-14c2-4432-c282-4d1bd5ca418f"
      },
      "execution_count": 34,
      "outputs": [
        {
          "output_type": "stream",
          "name": "stdout",
          "text": [
            "Python 30\n"
          ]
        }
      ]
    },
    {
      "cell_type": "code",
      "source": [],
      "metadata": {
        "id": "4odL1b8VYVIo"
      },
      "execution_count": null,
      "outputs": []
    },
    {
      "cell_type": "code",
      "source": [],
      "metadata": {
        "id": "50Bl7M4SYVFf"
      },
      "execution_count": null,
      "outputs": []
    },
    {
      "cell_type": "code",
      "source": [],
      "metadata": {
        "id": "hyNT43tIYVDH"
      },
      "execution_count": null,
      "outputs": []
    },
    {
      "cell_type": "code",
      "source": [],
      "metadata": {
        "id": "Hq660aEiYU_Q"
      },
      "execution_count": null,
      "outputs": []
    }
  ]
}