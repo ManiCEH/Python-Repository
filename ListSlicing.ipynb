{
  "nbformat": 4,
  "nbformat_minor": 0,
  "metadata": {
    "colab": {
      "provenance": [],
      "authorship_tag": "ABX9TyMGcjMGBtTAh6Ctv+jMKuEf",
      "include_colab_link": true
    },
    "kernelspec": {
      "name": "python3",
      "display_name": "Python 3"
    },
    "language_info": {
      "name": "python"
    }
  },
  "cells": [
    {
      "cell_type": "markdown",
      "metadata": {
        "id": "view-in-github",
        "colab_type": "text"
      },
      "source": [
        "<a href=\"https://colab.research.google.com/github/scaleracademy/BeginnersNovMon2-2022/blob/main/ListSlicing.ipynb\" target=\"_parent\"><img src=\"https://colab.research.google.com/assets/colab-badge.svg\" alt=\"Open In Colab\"/></a>"
      ]
    },
    {
      "cell_type": "markdown",
      "source": [
        "1. odd matches"
      ],
      "metadata": {
        "id": "N2HCY0QxMAZL"
      }
    },
    {
      "cell_type": "code",
      "source": [
        "runs = [0,1,77,99,115,200,50,0,0,49]"
      ],
      "metadata": {
        "id": "nBoRttCaJHdi"
      },
      "execution_count": null,
      "outputs": []
    },
    {
      "cell_type": "code",
      "source": [
        "n = len(runs)\n",
        "for i in range(n):\n",
        "  if i%2==0:\n",
        "    print(runs[i],end=' ')"
      ],
      "metadata": {
        "colab": {
          "base_uri": "https://localhost:8080/"
        },
        "id": "MHbTdEQHJHaf",
        "outputId": "9d22ce20-3069-4850-f85e-cde200650746"
      },
      "execution_count": null,
      "outputs": [
        {
          "output_type": "stream",
          "name": "stdout",
          "text": [
            "0 77 115 50 0 "
          ]
        }
      ]
    },
    {
      "cell_type": "code",
      "source": [
        "n = len(runs)\n",
        "for i in range(0,n,2):\n",
        " \n",
        "    print(runs[i],end=' ')"
      ],
      "metadata": {
        "colab": {
          "base_uri": "https://localhost:8080/"
        },
        "id": "JSR77UCyJHXf",
        "outputId": "9e91b14e-c1ed-453e-aa36-621d7f667b0f"
      },
      "execution_count": null,
      "outputs": [
        {
          "output_type": "stream",
          "name": "stdout",
          "text": [
            "0 77 115 50 0 "
          ]
        }
      ]
    },
    {
      "cell_type": "markdown",
      "source": [
        "even matches"
      ],
      "metadata": {
        "id": "mJw-gBvAOX8U"
      }
    },
    {
      "cell_type": "code",
      "source": [
        "runs = [0,1,77,99,115,200,50,0,0,49]"
      ],
      "metadata": {
        "id": "6H8ChONCJHU7"
      },
      "execution_count": null,
      "outputs": []
    },
    {
      "cell_type": "code",
      "source": [
        "n = len(runs)\n",
        "for i in range(n):\n",
        "  if i%2==1:\n",
        "    print(runs[i],end=' ')"
      ],
      "metadata": {
        "colab": {
          "base_uri": "https://localhost:8080/"
        },
        "id": "weNn3wznJHSO",
        "outputId": "291176be-a767-4345-cf84-c9b78c37d874"
      },
      "execution_count": null,
      "outputs": [
        {
          "output_type": "stream",
          "name": "stdout",
          "text": [
            "1 99 200 0 49 "
          ]
        }
      ]
    },
    {
      "cell_type": "code",
      "source": [
        "n = len(runs)\n",
        "for i in range(1,n,2):\n",
        "  # if i%2==1:\n",
        "    print(runs[i],end=' ')"
      ],
      "metadata": {
        "colab": {
          "base_uri": "https://localhost:8080/"
        },
        "id": "PbP_tUVjOqas",
        "outputId": "e55e26c8-7910-4370-bc21-bcae666f2412"
      },
      "execution_count": null,
      "outputs": [
        {
          "output_type": "stream",
          "name": "stdout",
          "text": [
            "1 99 200 0 49 "
          ]
        }
      ]
    },
    {
      "cell_type": "markdown",
      "source": [
        "#first 5 matches"
      ],
      "metadata": {
        "id": "FoLhsbi8PKhO"
      }
    },
    {
      "cell_type": "code",
      "source": [
        "runs = [0,1,77,99,115,200,50,0,0,49]"
      ],
      "metadata": {
        "id": "aayCKUXiJHPL"
      },
      "execution_count": null,
      "outputs": []
    },
    {
      "cell_type": "code",
      "source": [
        "n = len(runs)\n",
        "for i in range(5):\n",
        " \n",
        "    print(runs[i],end=' ')"
      ],
      "metadata": {
        "colab": {
          "base_uri": "https://localhost:8080/"
        },
        "id": "tzV5eTR1JHMm",
        "outputId": "466a5015-5797-4c16-e65c-2d5b0f4a435f"
      },
      "execution_count": null,
      "outputs": [
        {
          "output_type": "stream",
          "name": "stdout",
          "text": [
            "0 1 77 99 115 "
          ]
        }
      ]
    },
    {
      "cell_type": "code",
      "source": [
        "for i in range(1,6):\n",
        " \n",
        "    print(runs[i],end=' ')"
      ],
      "metadata": {
        "colab": {
          "base_uri": "https://localhost:8080/"
        },
        "id": "wjsNApk_JHJp",
        "outputId": "2663864c-10ac-48f6-8d1c-6ca2e22735e5"
      },
      "execution_count": null,
      "outputs": [
        {
          "output_type": "stream",
          "name": "stdout",
          "text": [
            "1 77 99 115 200 "
          ]
        }
      ]
    },
    {
      "cell_type": "code",
      "source": [
        "for i in runs:\n",
        "  print(i,end=' ')"
      ],
      "metadata": {
        "colab": {
          "base_uri": "https://localhost:8080/"
        },
        "id": "DJc-5Z-sJHGs",
        "outputId": "1467f018-1de7-49a5-f008-078fb886724e"
      },
      "execution_count": null,
      "outputs": [
        {
          "output_type": "stream",
          "name": "stdout",
          "text": [
            "0 1 77 99 115 200 50 0 0 49 "
          ]
        }
      ]
    },
    {
      "cell_type": "markdown",
      "source": [
        "#store the results in new list"
      ],
      "metadata": {
        "id": "WxAVrdmcVTMV"
      }
    },
    {
      "cell_type": "code",
      "source": [
        "new_list = []\n",
        "for i in range(5):\n",
        "    new_list.append(runs[i])"
      ],
      "metadata": {
        "id": "v7O15_q2VVsT"
      },
      "execution_count": null,
      "outputs": []
    },
    {
      "cell_type": "code",
      "source": [
        "new_list"
      ],
      "metadata": {
        "colab": {
          "base_uri": "https://localhost:8080/"
        },
        "id": "3x5XN6PTVeI9",
        "outputId": "e961751f-821b-4fd4-92f3-ae866aac46b1"
      },
      "execution_count": null,
      "outputs": [
        {
          "output_type": "execute_result",
          "data": {
            "text/plain": [
              "[0, 1, 77, 99, 115]"
            ]
          },
          "metadata": {},
          "execution_count": 34
        }
      ]
    },
    {
      "cell_type": "markdown",
      "source": [
        "#last 3 matches"
      ],
      "metadata": {
        "id": "NvxjyJIWQOLe"
      }
    },
    {
      "cell_type": "code",
      "source": [
        "runs = [0,1,77,99,115,200,50,0,0,49]"
      ],
      "metadata": {
        "id": "j-pUDbEhJHEJ"
      },
      "execution_count": null,
      "outputs": []
    },
    {
      "cell_type": "code",
      "source": [
        "for i in range(-3,0):\n",
        "  print(runs[i],end=' ')"
      ],
      "metadata": {
        "colab": {
          "base_uri": "https://localhost:8080/"
        },
        "id": "OjDOCWrzJG-o",
        "outputId": "87160bec-8025-4403-f5f8-64260ee41b53"
      },
      "execution_count": null,
      "outputs": [
        {
          "output_type": "stream",
          "name": "stdout",
          "text": [
            "0 0 49 "
          ]
        }
      ]
    },
    {
      "cell_type": "code",
      "source": [
        "for i in range(7,10):\n",
        "  print(runs[i],end=' ')"
      ],
      "metadata": {
        "colab": {
          "base_uri": "https://localhost:8080/"
        },
        "id": "gI6h_RZmJG8G",
        "outputId": "d5ed77ec-a286-4858-eadb-0b626d732264"
      },
      "execution_count": null,
      "outputs": [
        {
          "output_type": "stream",
          "name": "stdout",
          "text": [
            "0 0 49 "
          ]
        }
      ]
    },
    {
      "cell_type": "code",
      "source": [
        "runs = [0,1,77,99,115,200,50,0,0,49,30,45,67,88]\n",
        "runs"
      ],
      "metadata": {
        "colab": {
          "base_uri": "https://localhost:8080/"
        },
        "id": "V1ZOP0F5RNFe",
        "outputId": "1457460a-9708-4504-9325-56c74dc6aa7f"
      },
      "execution_count": null,
      "outputs": [
        {
          "output_type": "execute_result",
          "data": {
            "text/plain": [
              "[0, 1, 77, 99, 115, 200, 50, 0, 0, 49, 30, 45, 67, 88]"
            ]
          },
          "metadata": {},
          "execution_count": 21
        }
      ]
    },
    {
      "cell_type": "code",
      "source": [
        "len(runs)"
      ],
      "metadata": {
        "colab": {
          "base_uri": "https://localhost:8080/"
        },
        "id": "Fgur_B1ySVC4",
        "outputId": "695e3d5f-32c7-4023-ab74-f2f786a9f54e"
      },
      "execution_count": null,
      "outputs": [
        {
          "output_type": "execute_result",
          "data": {
            "text/plain": [
              "14"
            ]
          },
          "metadata": {},
          "execution_count": 24
        }
      ]
    },
    {
      "cell_type": "code",
      "source": [
        "n = len(runs)\n",
        "for i in range(n-3,n):\n",
        "  print(runs[i],end=' ')"
      ],
      "metadata": {
        "colab": {
          "base_uri": "https://localhost:8080/"
        },
        "id": "xZAqyp1wRNCO",
        "outputId": "3b67f60e-562f-439b-f1c2-11158c8735f0"
      },
      "execution_count": null,
      "outputs": [
        {
          "output_type": "stream",
          "name": "stdout",
          "text": [
            "45 67 88 "
          ]
        }
      ]
    },
    {
      "cell_type": "code",
      "source": [
        "#last 5 matches\n",
        "n = len(runs)\n",
        "for i in range(n-5,n):\n",
        "  print(runs[i],end=' ')"
      ],
      "metadata": {
        "colab": {
          "base_uri": "https://localhost:8080/"
        },
        "id": "L4mDlQTcSxXn",
        "outputId": "f5ef772c-263f-4090-ecbe-f103464497ad"
      },
      "execution_count": null,
      "outputs": [
        {
          "output_type": "stream",
          "name": "stdout",
          "text": [
            "49 30 45 67 88 "
          ]
        }
      ]
    },
    {
      "cell_type": "code",
      "source": [
        "runs = [0,1,77,99,115,200,50,0,0,49,30,45,67,88]\n",
        "runs"
      ],
      "metadata": {
        "colab": {
          "base_uri": "https://localhost:8080/"
        },
        "id": "vhxstrPxTAsr",
        "outputId": "9ec49d64-2b68-4193-cb90-e9a5ee9eb113"
      },
      "execution_count": null,
      "outputs": [
        {
          "output_type": "execute_result",
          "data": {
            "text/plain": [
              "[0, 1, 77, 99, 115, 200, 50, 0, 0, 49, 30, 45, 67, 88]"
            ]
          },
          "metadata": {},
          "execution_count": 27
        }
      ]
    },
    {
      "cell_type": "code",
      "source": [
        "n = len(runs)\n",
        "for i in range(-5,0):\n",
        "  print(runs[i],end=' ')"
      ],
      "metadata": {
        "colab": {
          "base_uri": "https://localhost:8080/"
        },
        "id": "-Nhnc4W8S4lW",
        "outputId": "dfac6fd0-01c5-4da3-d0fc-d7dcf54291fd"
      },
      "execution_count": null,
      "outputs": [
        {
          "output_type": "stream",
          "name": "stdout",
          "text": [
            "49 30 45 67 88 "
          ]
        }
      ]
    },
    {
      "cell_type": "markdown",
      "source": [
        "#slicing\n",
        "\n"
      ],
      "metadata": {
        "id": "fJOrIeJ0Uq-8"
      }
    },
    {
      "cell_type": "code",
      "source": [
        "#first 5 matches\n",
        "runs = [0,1,77,99,115,200,50,0,0,49]"
      ],
      "metadata": {
        "id": "3HvWzUKSUsou"
      },
      "execution_count": null,
      "outputs": []
    },
    {
      "cell_type": "code",
      "source": [
        "runs[0:5:1]"
      ],
      "metadata": {
        "colab": {
          "base_uri": "https://localhost:8080/"
        },
        "id": "zPjcizLjUx29",
        "outputId": "a93e5a6c-2718-454a-ce2b-c501c50a35cb"
      },
      "execution_count": null,
      "outputs": [
        {
          "output_type": "execute_result",
          "data": {
            "text/plain": [
              "[0, 1, 77, 99, 115]"
            ]
          },
          "metadata": {},
          "execution_count": 29
        }
      ]
    },
    {
      "cell_type": "code",
      "source": [
        "runs"
      ],
      "metadata": {
        "colab": {
          "base_uri": "https://localhost:8080/"
        },
        "id": "blq3xQSAVFFp",
        "outputId": "a6d0c790-2f83-4f34-bc8a-6b7ddcf0b781"
      },
      "execution_count": null,
      "outputs": [
        {
          "output_type": "execute_result",
          "data": {
            "text/plain": [
              "[0, 1, 77, 99, 115, 200, 50, 0, 0, 49]"
            ]
          },
          "metadata": {},
          "execution_count": 30
        }
      ]
    },
    {
      "cell_type": "code",
      "source": [
        "new_runs = runs[0:5:1]"
      ],
      "metadata": {
        "id": "FLfi-QIuVJa8"
      },
      "execution_count": null,
      "outputs": []
    },
    {
      "cell_type": "code",
      "source": [
        "new_runs"
      ],
      "metadata": {
        "colab": {
          "base_uri": "https://localhost:8080/"
        },
        "id": "33KXdu6kVNiB",
        "outputId": "70c71e6f-cfbb-441b-a20c-c50881ea8f4e"
      },
      "execution_count": null,
      "outputs": [
        {
          "output_type": "execute_result",
          "data": {
            "text/plain": [
              "[0, 1, 77, 99, 115]"
            ]
          },
          "metadata": {},
          "execution_count": 32
        }
      ]
    },
    {
      "cell_type": "markdown",
      "source": [
        "#even matches"
      ],
      "metadata": {
        "id": "fRA2h-ehWAAH"
      }
    },
    {
      "cell_type": "code",
      "source": [
        "n = len(runs)\n",
        "runs[1:n:2]"
      ],
      "metadata": {
        "colab": {
          "base_uri": "https://localhost:8080/"
        },
        "id": "nHzdLVSlV_zp",
        "outputId": "7e43b460-2aee-4189-ce50-0189682a8a3e"
      },
      "execution_count": null,
      "outputs": [
        {
          "output_type": "execute_result",
          "data": {
            "text/plain": [
              "[1, 99, 200, 0, 49]"
            ]
          },
          "metadata": {},
          "execution_count": 35
        }
      ]
    },
    {
      "cell_type": "code",
      "source": [
        "runs[1:len(runs):2]"
      ],
      "metadata": {
        "colab": {
          "base_uri": "https://localhost:8080/"
        },
        "id": "TOTp9eSFWiAq",
        "outputId": "abebbfdb-e872-4745-f440-9fcec7f264a7"
      },
      "execution_count": null,
      "outputs": [
        {
          "output_type": "execute_result",
          "data": {
            "text/plain": [
              "[1, 99, 200, 0, 49]"
            ]
          },
          "metadata": {},
          "execution_count": 36
        }
      ]
    },
    {
      "cell_type": "markdown",
      "source": [
        "#odd matches"
      ],
      "metadata": {
        "id": "QbZqnKP4WnDk"
      }
    },
    {
      "cell_type": "code",
      "source": [
        "runs[0:len(runs):2]"
      ],
      "metadata": {
        "colab": {
          "base_uri": "https://localhost:8080/"
        },
        "id": "l_95-x_sWpNC",
        "outputId": "fe18e5ae-d7b2-4cec-8091-f1c3371bd9e5"
      },
      "execution_count": null,
      "outputs": [
        {
          "output_type": "execute_result",
          "data": {
            "text/plain": [
              "[0, 77, 115, 50, 0]"
            ]
          },
          "metadata": {},
          "execution_count": 37
        }
      ]
    },
    {
      "cell_type": "code",
      "source": [
        "runs"
      ],
      "metadata": {
        "colab": {
          "base_uri": "https://localhost:8080/"
        },
        "id": "icioQ0rxWu_R",
        "outputId": "bda1d958-691d-46c1-916f-8c9480358247"
      },
      "execution_count": null,
      "outputs": [
        {
          "output_type": "execute_result",
          "data": {
            "text/plain": [
              "[0, 1, 77, 99, 115, 200, 50, 0, 0, 49]"
            ]
          },
          "metadata": {},
          "execution_count": 38
        }
      ]
    },
    {
      "cell_type": "code",
      "source": [
        "id(runs)"
      ],
      "metadata": {
        "colab": {
          "base_uri": "https://localhost:8080/"
        },
        "id": "WIevPq1JWw6W",
        "outputId": "2346eb00-e631-41de-cb5b-95aaf3cc1ab6"
      },
      "execution_count": null,
      "outputs": [
        {
          "output_type": "execute_result",
          "data": {
            "text/plain": [
              "140484595722688"
            ]
          },
          "metadata": {},
          "execution_count": 39
        }
      ]
    },
    {
      "cell_type": "code",
      "source": [
        "id(runs[0:len(runs):2])"
      ],
      "metadata": {
        "colab": {
          "base_uri": "https://localhost:8080/"
        },
        "id": "efXycRLFXHvd",
        "outputId": "f791d5b2-941e-4584-8c47-e74fc612cbd2"
      },
      "execution_count": null,
      "outputs": [
        {
          "output_type": "execute_result",
          "data": {
            "text/plain": [
              "140484595708672"
            ]
          },
          "metadata": {},
          "execution_count": 40
        }
      ]
    },
    {
      "cell_type": "code",
      "source": [
        "new_even_matches = runs[0:len(runs):2]\n",
        "new_even_matches"
      ],
      "metadata": {
        "colab": {
          "base_uri": "https://localhost:8080/"
        },
        "id": "wnkrlIXeXWo0",
        "outputId": "ffe7ed99-7726-4ab3-be74-6e8606af8003"
      },
      "execution_count": null,
      "outputs": [
        {
          "output_type": "execute_result",
          "data": {
            "text/plain": [
              "[0, 77, 115, 50, 0]"
            ]
          },
          "metadata": {},
          "execution_count": 41
        }
      ]
    },
    {
      "cell_type": "code",
      "source": [
        "#quiz\n",
        "nums = [0, 25, 50, 75, 100]\n",
        "# The result of evaluating  nums[0:5:2] is [25, 75]."
      ],
      "metadata": {
        "id": "2E8BjeTUZ_tp"
      },
      "execution_count": null,
      "outputs": []
    },
    {
      "cell_type": "code",
      "source": [
        "nums[0:5:2]"
      ],
      "metadata": {
        "colab": {
          "base_uri": "https://localhost:8080/"
        },
        "id": "BXVMmSrkaexF",
        "outputId": "7d126c56-f445-403d-e868-3dd7144bb86b"
      },
      "execution_count": null,
      "outputs": [
        {
          "output_type": "execute_result",
          "data": {
            "text/plain": [
              "[0, 50, 100]"
            ]
          },
          "metadata": {},
          "execution_count": 43
        }
      ]
    },
    {
      "cell_type": "code",
      "source": [
        "nums[1:5:2]"
      ],
      "metadata": {
        "colab": {
          "base_uri": "https://localhost:8080/"
        },
        "id": "J6fbtmOAasPY",
        "outputId": "4ad046d8-eaa7-4849-b672-25d516756fbc"
      },
      "execution_count": null,
      "outputs": [
        {
          "output_type": "execute_result",
          "data": {
            "text/plain": [
              "[25, 75]"
            ]
          },
          "metadata": {},
          "execution_count": 44
        }
      ]
    },
    {
      "cell_type": "code",
      "source": [
        "#quiz\n",
        "nums = [1, 1, 2, 3, 5, 8, 13] \n",
        "# What is the result of nums[1:5:1]?"
      ],
      "metadata": {
        "id": "7xylBqrma0Vs"
      },
      "execution_count": null,
      "outputs": []
    },
    {
      "cell_type": "code",
      "source": [
        "nums[1:5:1]"
      ],
      "metadata": {
        "colab": {
          "base_uri": "https://localhost:8080/"
        },
        "id": "JKZmyLvIa24F",
        "outputId": "e52fdae7-d6d7-4aa8-a5ae-f711c6c7339c"
      },
      "execution_count": null,
      "outputs": [
        {
          "output_type": "execute_result",
          "data": {
            "text/plain": [
              "[1, 2, 3, 5]"
            ]
          },
          "metadata": {},
          "execution_count": 46
        }
      ]
    },
    {
      "cell_type": "code",
      "source": [
        "lst = [5,1,2,7,6,3,4]\n"
      ],
      "metadata": {
        "id": "8fu3b9Gfcrgk"
      },
      "execution_count": null,
      "outputs": []
    },
    {
      "cell_type": "code",
      "source": [
        "lst[0:5:1]"
      ],
      "metadata": {
        "colab": {
          "base_uri": "https://localhost:8080/"
        },
        "id": "gFA028B3cv7t",
        "outputId": "0b595521-300c-47a0-9d18-5baa5731060a"
      },
      "execution_count": null,
      "outputs": [
        {
          "output_type": "execute_result",
          "data": {
            "text/plain": [
              "[5, 1, 2, 7, 6]"
            ]
          },
          "metadata": {},
          "execution_count": 48
        }
      ]
    },
    {
      "cell_type": "code",
      "source": [
        "#default stepsize =+1\n",
        "lst[0:5]"
      ],
      "metadata": {
        "colab": {
          "base_uri": "https://localhost:8080/"
        },
        "id": "c7f8Uhbbc2Ln",
        "outputId": "a2c9a781-6f64-4234-ea59-3a2ab42ffdb4"
      },
      "execution_count": null,
      "outputs": [
        {
          "output_type": "execute_result",
          "data": {
            "text/plain": [
              "[5, 1, 2, 7, 6]"
            ]
          },
          "metadata": {},
          "execution_count": 49
        }
      ]
    },
    {
      "cell_type": "code",
      "source": [
        "#default start value\n",
        "lst[5]"
      ],
      "metadata": {
        "colab": {
          "base_uri": "https://localhost:8080/"
        },
        "id": "orgYKNx-c6lN",
        "outputId": "318d8f4f-3146-40a3-f9a3-9cf331db4f52"
      },
      "execution_count": null,
      "outputs": [
        {
          "output_type": "execute_result",
          "data": {
            "text/plain": [
              "3"
            ]
          },
          "metadata": {},
          "execution_count": 50
        }
      ]
    },
    {
      "cell_type": "code",
      "source": [
        "lst[:5]"
      ],
      "metadata": {
        "colab": {
          "base_uri": "https://localhost:8080/"
        },
        "id": "Affkn-agc_LY",
        "outputId": "673c8834-aadb-4f61-fbb6-2f48fb13d9cf"
      },
      "execution_count": null,
      "outputs": [
        {
          "output_type": "execute_result",
          "data": {
            "text/plain": [
              "[5, 1, 2, 7, 6]"
            ]
          },
          "metadata": {},
          "execution_count": 51
        }
      ]
    },
    {
      "cell_type": "code",
      "source": [
        "lst = [5,1,2,7,6,3,4]\n",
        "lst[:3]"
      ],
      "metadata": {
        "colab": {
          "base_uri": "https://localhost:8080/"
        },
        "id": "K3c-H5OrdG1P",
        "outputId": "d721d555-e380-4526-c45a-6449728f7745"
      },
      "execution_count": null,
      "outputs": [
        {
          "output_type": "execute_result",
          "data": {
            "text/plain": [
              "[5, 1, 2]"
            ]
          },
          "metadata": {},
          "execution_count": 52
        }
      ]
    },
    {
      "cell_type": "code",
      "source": [
        "lst[:]"
      ],
      "metadata": {
        "colab": {
          "base_uri": "https://localhost:8080/"
        },
        "id": "2IvATruIedNg",
        "outputId": "1bb6c205-fd16-4e96-915b-f89331cba30f"
      },
      "execution_count": null,
      "outputs": [
        {
          "output_type": "execute_result",
          "data": {
            "text/plain": [
              "[5, 1, 2, 7, 6, 3, 4]"
            ]
          },
          "metadata": {},
          "execution_count": 53
        }
      ]
    },
    {
      "cell_type": "code",
      "source": [
        "#quiz\n",
        "nums = [1, 1, 2, 3, 5, 8, 13] \n",
        "# What is the result of \n",
        "nums[:5]"
      ],
      "metadata": {
        "colab": {
          "base_uri": "https://localhost:8080/"
        },
        "id": "V9FKQnvNedFU",
        "outputId": "89dbf0e2-0d11-40c0-f1cd-566db598dd94"
      },
      "execution_count": null,
      "outputs": [
        {
          "output_type": "execute_result",
          "data": {
            "text/plain": [
              "[1, 1, 2, 3, 5]"
            ]
          },
          "metadata": {},
          "execution_count": 55
        }
      ]
    },
    {
      "cell_type": "code",
      "source": [
        "nums = [1, 1, 2, 3, 5, 8, 13] \n",
        "nums2 = nums[:]\n",
        "nums2"
      ],
      "metadata": {
        "colab": {
          "base_uri": "https://localhost:8080/"
        },
        "id": "Qcy0oTQlfYsg",
        "outputId": "b50031f0-469b-402e-defd-7bcb29dab644"
      },
      "execution_count": null,
      "outputs": [
        {
          "output_type": "execute_result",
          "data": {
            "text/plain": [
              "[1, 1, 2, 3, 5, 8, 13]"
            ]
          },
          "metadata": {},
          "execution_count": 57
        }
      ]
    },
    {
      "cell_type": "code",
      "source": [
        "runs = [5,1,2,7,6,3,4]\n",
        "runs[0:7:1]"
      ],
      "metadata": {
        "colab": {
          "base_uri": "https://localhost:8080/"
        },
        "id": "k_0ayE3KfigN",
        "outputId": "a1c09e24-ee1c-4a11-82c5-1f8458c9f75c"
      },
      "execution_count": null,
      "outputs": [
        {
          "output_type": "execute_result",
          "data": {
            "text/plain": [
              "[5, 1, 2, 7, 6, 3, 4]"
            ]
          },
          "metadata": {},
          "execution_count": 58
        }
      ]
    },
    {
      "cell_type": "code",
      "source": [
        "runs[0:7]"
      ],
      "metadata": {
        "colab": {
          "base_uri": "https://localhost:8080/"
        },
        "id": "N1K257BbfxHY",
        "outputId": "e5519a9d-47c2-46c3-ce98-2643b43db8d6"
      },
      "execution_count": null,
      "outputs": [
        {
          "output_type": "execute_result",
          "data": {
            "text/plain": [
              "[5, 1, 2, 7, 6, 3, 4]"
            ]
          },
          "metadata": {},
          "execution_count": 59
        }
      ]
    },
    {
      "cell_type": "code",
      "source": [
        "runs[:7]"
      ],
      "metadata": {
        "colab": {
          "base_uri": "https://localhost:8080/"
        },
        "id": "ENlhuCizfztS",
        "outputId": "07f3d5c8-4b18-4155-de4a-d9e75bfa963b"
      },
      "execution_count": null,
      "outputs": [
        {
          "output_type": "execute_result",
          "data": {
            "text/plain": [
              "[5, 1, 2, 7, 6, 3, 4]"
            ]
          },
          "metadata": {},
          "execution_count": 60
        }
      ]
    },
    {
      "cell_type": "code",
      "source": [
        "runs[:]"
      ],
      "metadata": {
        "colab": {
          "base_uri": "https://localhost:8080/"
        },
        "id": "E1lQWTYrf10z",
        "outputId": "a6d4bce3-08f4-40be-cfec-8019a8f06c1f"
      },
      "execution_count": null,
      "outputs": [
        {
          "output_type": "execute_result",
          "data": {
            "text/plain": [
              "[5, 1, 2, 7, 6, 3, 4]"
            ]
          },
          "metadata": {},
          "execution_count": 61
        }
      ]
    },
    {
      "cell_type": "code",
      "source": [
        "runs = [5,1,2,7,6,3,4]\n",
        "runs[::2]"
      ],
      "metadata": {
        "colab": {
          "base_uri": "https://localhost:8080/"
        },
        "id": "wBuIJhmjf4nx",
        "outputId": "c944bf28-6220-4d4d-bd4a-1a4738540e7f"
      },
      "execution_count": null,
      "outputs": [
        {
          "output_type": "execute_result",
          "data": {
            "text/plain": [
              "[5, 2, 6, 4]"
            ]
          },
          "metadata": {},
          "execution_count": 62
        }
      ]
    },
    {
      "cell_type": "code",
      "source": [
        "runs[:5:]"
      ],
      "metadata": {
        "colab": {
          "base_uri": "https://localhost:8080/"
        },
        "id": "UYfgNa4JgK6K",
        "outputId": "2169e726-a800-431e-86fc-2cf4a082ae1f"
      },
      "execution_count": null,
      "outputs": [
        {
          "output_type": "execute_result",
          "data": {
            "text/plain": [
              "[5, 1, 2, 7, 6]"
            ]
          },
          "metadata": {},
          "execution_count": 63
        }
      ]
    },
    {
      "cell_type": "code",
      "source": [
        "runs[2:15:2]"
      ],
      "metadata": {
        "colab": {
          "base_uri": "https://localhost:8080/"
        },
        "id": "Dl7fkDk3gXlC",
        "outputId": "02b73a9e-4de5-4a58-f628-de0c5e3b9627"
      },
      "execution_count": null,
      "outputs": [
        {
          "output_type": "execute_result",
          "data": {
            "text/plain": [
              "[2, 6, 4]"
            ]
          },
          "metadata": {},
          "execution_count": 64
        }
      ]
    },
    {
      "cell_type": "code",
      "source": [
        "for i in range(15):\n",
        "  print(runs[i])"
      ],
      "metadata": {
        "colab": {
          "base_uri": "https://localhost:8080/",
          "height": 312
        },
        "id": "Qr8CuXnEg0GH",
        "outputId": "863cf56d-af3e-4cba-b616-4768d77b1bed"
      },
      "execution_count": null,
      "outputs": [
        {
          "output_type": "stream",
          "name": "stdout",
          "text": [
            "5\n",
            "1\n",
            "2\n",
            "7\n",
            "6\n",
            "3\n",
            "4\n"
          ]
        },
        {
          "output_type": "error",
          "ename": "IndexError",
          "evalue": "ignored",
          "traceback": [
            "\u001b[0;31m---------------------------------------------------------------------------\u001b[0m",
            "\u001b[0;31mIndexError\u001b[0m                                Traceback (most recent call last)",
            "\u001b[0;32m<ipython-input-65-5b1febc35321>\u001b[0m in \u001b[0;36m<module>\u001b[0;34m\u001b[0m\n\u001b[1;32m      1\u001b[0m \u001b[0;32mfor\u001b[0m \u001b[0mi\u001b[0m \u001b[0;32min\u001b[0m \u001b[0mrange\u001b[0m\u001b[0;34m(\u001b[0m\u001b[0;36m15\u001b[0m\u001b[0;34m)\u001b[0m\u001b[0;34m:\u001b[0m\u001b[0;34m\u001b[0m\u001b[0;34m\u001b[0m\u001b[0m\n\u001b[0;32m----> 2\u001b[0;31m   \u001b[0mprint\u001b[0m\u001b[0;34m(\u001b[0m\u001b[0mruns\u001b[0m\u001b[0;34m[\u001b[0m\u001b[0mi\u001b[0m\u001b[0;34m]\u001b[0m\u001b[0;34m)\u001b[0m\u001b[0;34m\u001b[0m\u001b[0;34m\u001b[0m\u001b[0m\n\u001b[0m",
            "\u001b[0;31mIndexError\u001b[0m: list index out of range"
          ]
        }
      ]
    },
    {
      "cell_type": "markdown",
      "source": [
        "#reverse"
      ],
      "metadata": {
        "id": "wJco23PAk14M"
      }
    },
    {
      "cell_type": "code",
      "source": [
        "lst = [5,1,2,7,6,3,4]"
      ],
      "metadata": {
        "id": "j4KzeaGYk3G9"
      },
      "execution_count": null,
      "outputs": []
    },
    {
      "cell_type": "code",
      "source": [
        "lst[6::-1]"
      ],
      "metadata": {
        "colab": {
          "base_uri": "https://localhost:8080/"
        },
        "id": "mSmmMCjhk1p3",
        "outputId": "78bf6858-7bb1-4224-c6df-82d9b3e881b2"
      },
      "execution_count": null,
      "outputs": [
        {
          "output_type": "execute_result",
          "data": {
            "text/plain": [
              "[4, 3, 6, 7, 2, 1, 5]"
            ]
          },
          "metadata": {},
          "execution_count": 68
        }
      ]
    },
    {
      "cell_type": "code",
      "source": [
        "lst[-1:-8:-1]"
      ],
      "metadata": {
        "colab": {
          "base_uri": "https://localhost:8080/"
        },
        "id": "CZHQjCFBlIPG",
        "outputId": "134e010f-c49c-4168-db06-b3cae9779961"
      },
      "execution_count": null,
      "outputs": [
        {
          "output_type": "execute_result",
          "data": {
            "text/plain": [
              "[4, 3, 6, 7, 2, 1, 5]"
            ]
          },
          "metadata": {},
          "execution_count": 69
        }
      ]
    },
    {
      "cell_type": "code",
      "source": [
        "lst[-1::-1]"
      ],
      "metadata": {
        "id": "S57lGHzilNEA",
        "outputId": "c8a2499c-4467-4d1e-c967-f84a97a586b6",
        "colab": {
          "base_uri": "https://localhost:8080/"
        }
      },
      "execution_count": null,
      "outputs": [
        {
          "output_type": "execute_result",
          "data": {
            "text/plain": [
              "[4, 3, 6, 7, 2, 1, 5]"
            ]
          },
          "metadata": {},
          "execution_count": 70
        }
      ]
    },
    {
      "cell_type": "code",
      "source": [
        "lst[::-1]"
      ],
      "metadata": {
        "colab": {
          "base_uri": "https://localhost:8080/"
        },
        "id": "GmlEszI8mRPs",
        "outputId": "ab9ffe06-ec14-4503-a85f-490ec8a47455"
      },
      "execution_count": 71,
      "outputs": [
        {
          "output_type": "execute_result",
          "data": {
            "text/plain": [
              "[4, 3, 6, 7, 2, 1, 5]"
            ]
          },
          "metadata": {},
          "execution_count": 71
        }
      ]
    },
    {
      "cell_type": "code",
      "source": [
        "lst"
      ],
      "metadata": {
        "colab": {
          "base_uri": "https://localhost:8080/"
        },
        "id": "tLttvb8fmsce",
        "outputId": "88d2fdac-af0a-4e4e-e5f4-eaa26467901a"
      },
      "execution_count": 73,
      "outputs": [
        {
          "output_type": "execute_result",
          "data": {
            "text/plain": [
              "[5, 1, 2, 7, 6, 3, 4]"
            ]
          },
          "metadata": {},
          "execution_count": 73
        }
      ]
    },
    {
      "cell_type": "code",
      "source": [
        "lst[::1]"
      ],
      "metadata": {
        "colab": {
          "base_uri": "https://localhost:8080/"
        },
        "id": "YJ2GW_43mp3c",
        "outputId": "31c77f7a-0ac1-4379-9676-d8721ed16b50"
      },
      "execution_count": 72,
      "outputs": [
        {
          "output_type": "execute_result",
          "data": {
            "text/plain": [
              "[5, 1, 2, 7, 6, 3, 4]"
            ]
          },
          "metadata": {},
          "execution_count": 72
        }
      ]
    },
    {
      "cell_type": "code",
      "source": [
        "lst[::2]"
      ],
      "metadata": {
        "colab": {
          "base_uri": "https://localhost:8080/"
        },
        "id": "LZnYaOuGm9FK",
        "outputId": "f3cb4fe2-c5a2-496e-bf3d-33025b3af7cb"
      },
      "execution_count": 74,
      "outputs": [
        {
          "output_type": "execute_result",
          "data": {
            "text/plain": [
              "[5, 2, 6, 4]"
            ]
          },
          "metadata": {},
          "execution_count": 74
        }
      ]
    },
    {
      "cell_type": "code",
      "source": [
        "lst[::-2]"
      ],
      "metadata": {
        "colab": {
          "base_uri": "https://localhost:8080/"
        },
        "id": "C23-X55EnKnr",
        "outputId": "a28d8188-28f9-4369-c840-b22f53bd2b45"
      },
      "execution_count": 75,
      "outputs": [
        {
          "output_type": "execute_result",
          "data": {
            "text/plain": [
              "[4, 6, 2, 5]"
            ]
          },
          "metadata": {},
          "execution_count": 75
        }
      ]
    },
    {
      "cell_type": "code",
      "source": [
        "lst[::]"
      ],
      "metadata": {
        "colab": {
          "base_uri": "https://localhost:8080/"
        },
        "id": "BelOvDzanm6C",
        "outputId": "9ac2bc76-6e27-49fe-a307-98bd789e1f95"
      },
      "execution_count": 76,
      "outputs": [
        {
          "output_type": "execute_result",
          "data": {
            "text/plain": [
              "[5, 1, 2, 7, 6, 3, 4]"
            ]
          },
          "metadata": {},
          "execution_count": 76
        }
      ]
    },
    {
      "cell_type": "code",
      "source": [
        "len(lst)"
      ],
      "metadata": {
        "colab": {
          "base_uri": "https://localhost:8080/"
        },
        "id": "MZbmmZXsn1Cw",
        "outputId": "e2a4b131-354c-43e3-8150-c56482611989"
      },
      "execution_count": 77,
      "outputs": [
        {
          "output_type": "execute_result",
          "data": {
            "text/plain": [
              "7"
            ]
          },
          "metadata": {},
          "execution_count": 77
        }
      ]
    },
    {
      "cell_type": "code",
      "source": [],
      "metadata": {
        "id": "VYgX3hgRpDbS"
      },
      "execution_count": null,
      "outputs": []
    }
  ]
}