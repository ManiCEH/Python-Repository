{
  "nbformat": 4,
  "nbformat_minor": 0,
  "metadata": {
    "colab": {
      "provenance": [],
      "authorship_tag": "ABX9TyNciRv7R6J+Czkk1BAGDYd0",
      "include_colab_link": true
    },
    "kernelspec": {
      "name": "python3",
      "display_name": "Python 3"
    },
    "language_info": {
      "name": "python"
    }
  },
  "cells": [
    {
      "cell_type": "markdown",
      "metadata": {
        "id": "view-in-github",
        "colab_type": "text"
      },
      "source": [
        "<a href=\"https://colab.research.google.com/github/scaleracademy/BeginnersNovMon2-2022/blob/main/PatternPrinting_ProblemSolving.ipynb\" target=\"_parent\"><img src=\"https://colab.research.google.com/assets/colab-badge.svg\" alt=\"Open In Colab\"/></a>"
      ]
    },
    {
      "cell_type": "markdown",
      "source": [
        "## Pattern Printing:\n",
        "\n",
        "<img src='https://www.techarge.in/wp-content/uploads/2021/02/55984_1580817324.png' width=500>"
      ],
      "metadata": {
        "id": "MB6lIPao_qvx"
      }
    },
    {
      "cell_type": "code",
      "source": [
        "n = int(input())\n",
        "for i in range(1,n+1):#rows\n",
        "   #spaces\n",
        "   for j in range(n-i):\n",
        "     print(' ',end='')\n",
        "   #stars\n",
        "   for k in range(i):\n",
        "     print('*',end='')  \n",
        "   print()  "
      ],
      "metadata": {
        "id": "Cc47MRC7vF22",
        "colab": {
          "base_uri": "https://localhost:8080/"
        },
        "outputId": "78e182d0-b524-474b-aa04-f5cbc9b76dac"
      },
      "execution_count": 1,
      "outputs": [
        {
          "output_type": "stream",
          "name": "stdout",
          "text": [
            "5\n",
            "    *\n",
            "   **\n",
            "  ***\n",
            " ****\n",
            "*****\n"
          ]
        }
      ]
    },
    {
      "cell_type": "code",
      "source": [
        "n = int(input())\n",
        "for i in range(1,n+1):\n",
        "  #spaces\n",
        "  for j in range(i-1):\n",
        "    print(' ',end='')\n",
        "  #stars\n",
        "  for k in range(n-i+1):\n",
        "    print('*',end='')\n",
        "  print()    "
      ],
      "metadata": {
        "id": "Faa4UPhQvF0W",
        "colab": {
          "base_uri": "https://localhost:8080/"
        },
        "outputId": "3c10079c-191f-4394-d074-485212fed102"
      },
      "execution_count": 4,
      "outputs": [
        {
          "output_type": "stream",
          "name": "stdout",
          "text": [
            "5\n",
            "*****\n",
            " ****\n",
            "  ***\n",
            "   **\n",
            "    *\n"
          ]
        }
      ]
    },
    {
      "cell_type": "code",
      "source": [
        "n = int(input())\n",
        "for i in range(1,n+1):\n",
        "  #part1- stars\n",
        "  for j in range(n-i+1):\n",
        "    print('*',end='')\n",
        "  #part2 - spaces\n",
        "  for k in range(2*(i-1)):\n",
        "    print(' ',end='')\n",
        "  #part3 -stars\n",
        "  for j in range(n-i+1):\n",
        "    print('*',end='')\n",
        "  print()  \n"
      ],
      "metadata": {
        "id": "DB4O9f9-vFxn",
        "colab": {
          "base_uri": "https://localhost:8080/"
        },
        "outputId": "8374e3de-6a11-419f-8f12-e65a9a29ad4d"
      },
      "execution_count": 6,
      "outputs": [
        {
          "output_type": "stream",
          "name": "stdout",
          "text": [
            "4\n",
            "********\n",
            "***  ***\n",
            "**    **\n",
            "*      *\n"
          ]
        }
      ]
    },
    {
      "cell_type": "code",
      "source": [
        "n = int(input())\n",
        "for i in range(1,n+1):\n",
        "  #part1 stars\n",
        "  for j in range(i):\n",
        "    print('*',end='')\n",
        "  #part2 spaces\n",
        "  for k in range(2*(n-i)):\n",
        "    print(' ',end='')\n",
        "  #part3 stars\n",
        "  for l in range(i):\n",
        "    print('*',end='')\n",
        "  print()      "
      ],
      "metadata": {
        "id": "KspCknK_vFvA",
        "colab": {
          "base_uri": "https://localhost:8080/"
        },
        "outputId": "32f3e11b-6bdc-4262-92ce-2ce93f6f4a48"
      },
      "execution_count": 7,
      "outputs": [
        {
          "output_type": "stream",
          "name": "stdout",
          "text": [
            "4\n",
            "*      *\n",
            "**    **\n",
            "***  ***\n",
            "********\n"
          ]
        }
      ]
    },
    {
      "cell_type": "code",
      "source": [
        "n = int(input())\n",
        "for i in range(1,n+1):\n",
        "  #part1- stars\n",
        "  for j in range(n-i+1):\n",
        "    print('*',end='')\n",
        "  #part2 - spaces\n",
        "  for k in range(2*(i-1)):\n",
        "    print(' ',end='')\n",
        "  #part3 -stars\n",
        "  for j in range(n-i+1):\n",
        "    print('*',end='')\n",
        "  print()  \n",
        "for i in range(2,n+1):\n",
        "  #part1 stars\n",
        "  for j in range(i):\n",
        "    print('*',end='')\n",
        "  #part2 spaces\n",
        "  for k in range(2*(n-i)):\n",
        "    print(' ',end='')\n",
        "  #part3 stars\n",
        "  for l in range(i):\n",
        "    print('*',end='')\n",
        "  print()  "
      ],
      "metadata": {
        "colab": {
          "base_uri": "https://localhost:8080/"
        },
        "id": "Y0GsHp4HhnCC",
        "outputId": "92ae2a84-1ac1-4a99-ece7-c4cfdf3d4437"
      },
      "execution_count": 9,
      "outputs": [
        {
          "output_type": "stream",
          "name": "stdout",
          "text": [
            "4\n",
            "********\n",
            "***  ***\n",
            "**    **\n",
            "*      *\n",
            "**    **\n",
            "***  ***\n",
            "********\n"
          ]
        }
      ]
    },
    {
      "cell_type": "code",
      "source": [
        "n = int(input())\n",
        "for i in range(1,n+1):\n",
        "  #part1- stars\n",
        "  for j in range(n-i+1):\n",
        "    print(' ',end='')\n",
        "  #part2 - spaces\n",
        "  for k in range(2*(i-1)):\n",
        "    print('*',end='')\n",
        "  #part3 -stars\n",
        "  for j in range(n-i+1):\n",
        "    print(' ',end='')\n",
        "  print()  \n",
        "for i in range(2,n+1):\n",
        "  #part1 stars\n",
        "  for j in range(i):\n",
        "    print(' ',end='')\n",
        "  #part2 spaces\n",
        "  for k in range(2*(n-i)):\n",
        "    print('*',end='')\n",
        "  #part3 stars\n",
        "  for l in range(i):\n",
        "    print(' ',end='')\n",
        "  print()  "
      ],
      "metadata": {
        "colab": {
          "base_uri": "https://localhost:8080/"
        },
        "id": "7QwXUY6IuOcA",
        "outputId": "3cef2479-e3f1-497d-a0b2-798fe7889e62"
      },
      "execution_count": 10,
      "outputs": [
        {
          "output_type": "stream",
          "name": "stdout",
          "text": [
            "4\n",
            "        \n",
            "   **   \n",
            "  ****  \n",
            " ****** \n",
            "  ****  \n",
            "   **   \n",
            "        \n"
          ]
        }
      ]
    },
    {
      "cell_type": "code",
      "source": [],
      "metadata": {
        "id": "ub-75kAOuOY3"
      },
      "execution_count": null,
      "outputs": []
    },
    {
      "cell_type": "code",
      "source": [],
      "metadata": {
        "id": "wiBA1vmPuOV4"
      },
      "execution_count": null,
      "outputs": []
    },
    {
      "cell_type": "code",
      "source": [],
      "metadata": {
        "id": "homkKq-shm-r"
      },
      "execution_count": null,
      "outputs": []
    },
    {
      "cell_type": "code",
      "source": [],
      "metadata": {
        "id": "j9VJ4HsEhm8D"
      },
      "execution_count": null,
      "outputs": []
    },
    {
      "cell_type": "markdown",
      "source": [
        "## Full pyramid\n",
        "Problem Description\n",
        "\n",
        "Given an integer N, print the corresponding Full Pyramid pattern for N.\n",
        "\n",
        "For example if N = 5 then pattern will be like:\n",
        "\n",
        "```\n",
        "    * \n",
        "   * * \n",
        "  * * * \n",
        " * * * * \n",
        "* * * * *\n",
        "```\n",
        "\n",
        "\n",
        "NOTE: There should be exactly one extra space after each * for each row."
      ],
      "metadata": {
        "id": "GYn2dUWhMJCf"
      }
    },
    {
      "cell_type": "code",
      "source": [],
      "metadata": {
        "id": "By302cHThohj"
      },
      "execution_count": null,
      "outputs": []
    },
    {
      "cell_type": "code",
      "source": [],
      "metadata": {
        "id": "gq9bm22whoe1"
      },
      "execution_count": null,
      "outputs": []
    },
    {
      "cell_type": "code",
      "source": [],
      "metadata": {
        "id": "yL3AgJEHuUJo"
      },
      "execution_count": null,
      "outputs": []
    },
    {
      "cell_type": "code",
      "source": [],
      "metadata": {
        "id": "jXX9v2EuuUGJ"
      },
      "execution_count": null,
      "outputs": []
    },
    {
      "cell_type": "code",
      "source": [],
      "metadata": {
        "id": "p2rQ76GvuUC_"
      },
      "execution_count": null,
      "outputs": []
    },
    {
      "cell_type": "code",
      "source": [],
      "metadata": {
        "id": "TOGHmpsPuUAK"
      },
      "execution_count": null,
      "outputs": []
    },
    {
      "cell_type": "code",
      "source": [
        "N = int(input())\n",
        "for i in range(1,N+1):\n",
        "    for j in range(N-i):\n",
        "        print(' ', end = '')\n",
        "\n",
        "    for j in range(i):\n",
        "        print('* ', end = '')\n",
        "    print()"
      ],
      "metadata": {
        "colab": {
          "base_uri": "https://localhost:8080/"
        },
        "id": "WxP0GPOl-ocC",
        "outputId": "cf627b56-cf37-4fa4-b621-0ccad97f1cbb"
      },
      "execution_count": null,
      "outputs": [
        {
          "output_type": "stream",
          "name": "stdout",
          "text": [
            "5\n",
            "    * \n",
            "   * * \n",
            "  * * * \n",
            " * * * * \n",
            "* * * * * \n"
          ]
        }
      ]
    },
    {
      "cell_type": "code",
      "source": [],
      "metadata": {
        "id": "GzEAFBxXQ6_Z"
      },
      "execution_count": null,
      "outputs": []
    },
    {
      "cell_type": "code",
      "source": [],
      "metadata": {
        "id": "zy4T__DTSGsj"
      },
      "execution_count": null,
      "outputs": []
    },
    {
      "cell_type": "code",
      "source": [],
      "metadata": {
        "id": "rF5cSqXWSGp1"
      },
      "execution_count": null,
      "outputs": []
    },
    {
      "cell_type": "code",
      "source": [],
      "metadata": {
        "id": "ge6Y7qhKSGnO"
      },
      "execution_count": null,
      "outputs": []
    },
    {
      "cell_type": "code",
      "source": [],
      "metadata": {
        "id": "cEXvuMNtIJm5"
      },
      "execution_count": null,
      "outputs": []
    },
    {
      "cell_type": "markdown",
      "source": [
        "##Problem#4: Integer in Words\n",
        "\n",
        "Problem Description\n",
        "\n",
        "You are given an integer A. You have to print A in word form.\n",
        "\n",
        "Following are the words which should be replaced in place of a digit:\n",
        "\n",
        "For digit = 0, word = zero<br>\n",
        "For digit = 1, word = one<br>\n",
        "For digit = 2, word = two<br>\n",
        "For digit = 3, word = three<br>\n",
        "For digit = 4, word = four<br>\n",
        "For digit = 5, word = five<br>\n",
        "For digit = 6, word = six<br>\n",
        "For digit = 7, word = seven<br>\n",
        "For digit = 8, word = eight<br>\n",
        "For digit = 9, word = nine<br>\n",
        "For eg., If A = 2634, you should print two six three four.\n",
        "\n",
        "NOTE: Words should be seperated by a single space. Also, the output is case sensitive.\n",
        "\n",
        "Problem Constraints\n",
        "1 <= A <= 10^6\n",
        "\n",
        "Input Format<br>\n",
        "First and the only line consists of a single integer A.\n",
        "\n",
        "\n",
        "\n",
        "Output Format<br>\n",
        "Print the integer in word form on a single line.\n",
        "\n",
        "Example Input<br>\n",
        "Input 1:\n",
        "\n",
        " 1234 <br>\n",
        "Input 2:\n",
        "\n",
        " 3 \n",
        "\n",
        "\n",
        "Example Output<br>\n",
        "Output 1:\n",
        "\n",
        " one two three four <br>\n",
        "Output 2:\n",
        "\n",
        " three \n",
        "\n",
        "\n",
        "Example Explanation<br>\n",
        "Explanation 1:\n",
        "\n",
        " A = 1234 can be written as \"one two three four\" in words.<br>\n",
        "Explanation 2:<br>\n",
        "\n",
        " A = 3 can be written as \"three\" in words."
      ],
      "metadata": {
        "id": "UVntyVKC7GTE"
      }
    },
    {
      "cell_type": "code",
      "source": [
        "A=int(input())\n",
        "temp=A\n",
        "digits=0\n",
        "while temp > 0:\n",
        "   rem = temp%10\n",
        "   digits+=1\n",
        "   temp=temp//10\n",
        "print(digits)"
      ],
      "metadata": {
        "id": "8i3-GX9fGMCE"
      },
      "execution_count": null,
      "outputs": []
    },
    {
      "cell_type": "code",
      "source": [
        "A=int(input())\n",
        "temp=A\n",
        "digits=0\n",
        "while temp > 0:\n",
        "   digits+=1\n",
        "   temp=temp//10\n",
        "\n",
        "\n",
        "for i in range(1,digits+1):\n",
        "\n",
        "  num = A // (10**(digits-i))\n",
        "  \n",
        "  if  num == 0:\n",
        "      print(\"zero\", end = ' ')\n",
        "  elif num == 1:\n",
        "      print(\"one\", end = ' ')\n",
        "  elif  num == 2:\n",
        "      print(\"two\", end = ' ')\n",
        "  elif  num == 3:\n",
        "      print(\"three\", end = ' ')\n",
        "  elif  num == 4:\n",
        "      print(\"four\", end = ' ')\n",
        "  elif  num == 5:\n",
        "      print(\"five\", end = ' ')\n",
        "  elif  num == 6:\n",
        "      print(\"six\", end = ' ')\n",
        "  elif  num == 7:\n",
        "      print(\"seven\", end = ' ')\n",
        "  elif  num == 8:\n",
        "      print(\"eight\", end = ' ')\n",
        "  elif  num == 9:\n",
        "      print(\"nine\", end = ' ')\n",
        "  A = A%(10**(digits-i))\n",
        " \n",
        "  "
      ],
      "metadata": {
        "id": "oaBDJ9XsG9dF",
        "colab": {
          "base_uri": "https://localhost:8080/"
        },
        "outputId": "a03d5286-3b70-4ea6-f6a8-36d3b7e079ce"
      },
      "execution_count": 12,
      "outputs": [
        {
          "output_type": "stream",
          "name": "stdout",
          "text": [
            "1234\n",
            "one two three four "
          ]
        }
      ]
    },
    {
      "cell_type": "markdown",
      "source": [
        "## Problem#5: "
      ],
      "metadata": {
        "id": "E5ZuGyw-UDyY"
      }
    },
    {
      "cell_type": "markdown",
      "source": [
        "Problem Description\n",
        "\n",
        "Given an integer N, print the corresponding Full Numeric Pyramid pattern for N.\n",
        "\n",
        "For example if N = 5 then pattern will be like:\n",
        "\n",
        "0 0 0 0 1 0 0 0 0 <br>\n",
        "0 0 0 2 3 2 0 0 0 <br>\n",
        "0 0 3 4 5 4 3 0 0 <br>\n",
        "0 4 5 6 7 6 5 4 0 <br>\n",
        "5 6 7 8 9 8 7 6 5 <br>\n"
      ],
      "metadata": {
        "id": "xaV9BEcxjbGl"
      }
    },
    {
      "cell_type": "code",
      "source": [
        "n=int(input())\n",
        "for i in range(1,n+1):\n",
        "  #zeros in starting\n",
        "  \n",
        "  for j in range(n-i):\n",
        "      print(\"0 \",end=\"\")\n",
        "  #increment \n",
        "  lim=2*i - 1\n",
        "  for j in range(i,lim+1):\n",
        "      print(j,end=\"\")\n",
        "      print(\" \",end=\"\")\n",
        "  #decrement\n",
        "  for j in range(lim-1,i-1,-1):\n",
        "      print(j,end=\"\")\n",
        "      print(\" \",end=\"\")\n",
        "  #same number of zeros in end\n",
        "  for j in range(n-i):\n",
        "      print(\"0 \",end=\"\")\n",
        "  print()"
      ],
      "metadata": {
        "id": "5FkJ87tWY9nD",
        "colab": {
          "base_uri": "https://localhost:8080/"
        },
        "outputId": "982b233a-f031-4a05-ec66-379b2fc4ccc5"
      },
      "execution_count": 11,
      "outputs": [
        {
          "output_type": "stream",
          "name": "stdout",
          "text": [
            "3\n",
            "0 0 1 0 0 \n",
            "0 2 3 2 0 \n",
            "3 4 5 4 3 \n"
          ]
        }
      ]
    },
    {
      "cell_type": "code",
      "source": [],
      "metadata": {
        "id": "nW63YMU0AVET"
      },
      "execution_count": null,
      "outputs": []
    },
    {
      "cell_type": "code",
      "source": [],
      "metadata": {
        "id": "tZxG4KyWAVBi"
      },
      "execution_count": null,
      "outputs": []
    },
    {
      "cell_type": "code",
      "source": [],
      "metadata": {
        "id": "SRxZuiA3AU-0"
      },
      "execution_count": null,
      "outputs": []
    },
    {
      "cell_type": "markdown",
      "source": [
        "## Homework:"
      ],
      "metadata": {
        "id": "zO5IAUsnARiE"
      }
    },
    {
      "cell_type": "markdown",
      "source": [
        "<img src='https://javainterviewpoint.com/wp-content/uploads/2019/03/Star-Pattern-Programs-In-Java-1.png'>"
      ],
      "metadata": {
        "id": "17Km_bnlABnS"
      }
    },
    {
      "cell_type": "markdown",
      "source": [
        "Exercises to follow: \n",
        "\n",
        "https://pynative.com/print-pattern-python-examples/"
      ],
      "metadata": {
        "id": "yQunqdUWux-2"
      }
    },
    {
      "cell_type": "code",
      "source": [
        "n = 1.3335678909"
      ],
      "metadata": {
        "id": "mzFxUbCWSIZM"
      },
      "execution_count": 13,
      "outputs": []
    },
    {
      "cell_type": "code",
      "source": [
        "round(n,4)"
      ],
      "metadata": {
        "id": "V8b9cLP7hTX4",
        "colab": {
          "base_uri": "https://localhost:8080/"
        },
        "outputId": "e69f5125-6b93-4a14-e07a-a0f510429b71"
      },
      "execution_count": 15,
      "outputs": [
        {
          "output_type": "execute_result",
          "data": {
            "text/plain": [
              "1.3336"
            ]
          },
          "metadata": {},
          "execution_count": 15
        }
      ]
    },
    {
      "cell_type": "code",
      "source": [
        "import math\n",
        "math.ceil(-1.6)"
      ],
      "metadata": {
        "colab": {
          "base_uri": "https://localhost:8080/"
        },
        "id": "AQQqPygGDEV4",
        "outputId": "84da6b7c-ce1c-4a87-84ca-c9cbe035ab73"
      },
      "execution_count": 17,
      "outputs": [
        {
          "output_type": "execute_result",
          "data": {
            "text/plain": [
              "-1"
            ]
          },
          "metadata": {},
          "execution_count": 17
        }
      ]
    },
    {
      "cell_type": "code",
      "source": [
        "math.floor(-1.6)"
      ],
      "metadata": {
        "colab": {
          "base_uri": "https://localhost:8080/"
        },
        "id": "9ef5SkMGDWz3",
        "outputId": "1380d23c-0d22-460a-fc04-e014ab33cc59"
      },
      "execution_count": 18,
      "outputs": [
        {
          "output_type": "execute_result",
          "data": {
            "text/plain": [
              "-2"
            ]
          },
          "metadata": {},
          "execution_count": 18
        }
      ]
    },
    {
      "cell_type": "code",
      "source": [
        "round(3.2)"
      ],
      "metadata": {
        "colab": {
          "base_uri": "https://localhost:8080/"
        },
        "id": "Hj1wCXUjDiQZ",
        "outputId": "4800cf0c-c15e-4cf0-a87c-2ead256d70a3"
      },
      "execution_count": 21,
      "outputs": [
        {
          "output_type": "execute_result",
          "data": {
            "text/plain": [
              "3"
            ]
          },
          "metadata": {},
          "execution_count": 21
        }
      ]
    },
    {
      "cell_type": "code",
      "source": [
        "n = int(input())\n",
        "for i in range(1,n+1):\n",
        "    for j in range(n-i):\n",
        "    #zeros in starting for j in range(n-i):\n",
        "       print(\"0 \",end=\"\")\n",
        "    #increment\n",
        "    lim=2*i - 1\n",
        "    for j in range(i,lim+1):\n",
        "      print(j,end=\"\")\n",
        "      print(\" \",end=\"\")\n",
        "    #decrement\n",
        "    for j in range(lim-1,i-1,-1):\n",
        "      print(j,end=\"\")\n",
        "      print(\" \",end=\"\")\n",
        "    #same number of zeros in end\n",
        "    for j in range(n-i):\n",
        "      print(\"0 \",end=\"\")\n",
        "    print()"
      ],
      "metadata": {
        "id": "TifBFACKDtSQ"
      },
      "execution_count": null,
      "outputs": []
    }
  ]
}