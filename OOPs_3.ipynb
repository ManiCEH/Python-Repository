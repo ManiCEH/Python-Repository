{
  "nbformat": 4,
  "nbformat_minor": 0,
  "metadata": {
    "colab": {
      "provenance": [],
      "authorship_tag": "ABX9TyNN4FQ2JlF0GyOjuAQAbiaQ",
      "include_colab_link": true
    },
    "kernelspec": {
      "name": "python3",
      "display_name": "Python 3"
    },
    "language_info": {
      "name": "python"
    }
  },
  "cells": [
    {
      "cell_type": "markdown",
      "metadata": {
        "id": "view-in-github",
        "colab_type": "text"
      },
      "source": [
        "<a href=\"https://colab.research.google.com/github/scaleracademy/BeginnersNovMon2-2022/blob/main/OOPs_3.ipynb\" target=\"_parent\"><img src=\"https://colab.research.google.com/assets/colab-badge.svg\" alt=\"Open In Colab\"/></a>"
      ]
    },
    {
      "cell_type": "code",
      "execution_count": 7,
      "metadata": {
        "id": "HzZLEakFnsdD"
      },
      "outputs": [],
      "source": [
        "class Account:\n",
        "  counter = 0\n",
        "  def __init__(self,openingBal=0):\n",
        "    Account.counter += 1\n",
        "    self.id = Account.counter\n",
        "    self.bal = openingBal\n",
        "    "
      ]
    },
    {
      "cell_type": "code",
      "source": [
        "a1 = Account(100)"
      ],
      "metadata": {
        "id": "CLE5MmAdsVSl"
      },
      "execution_count": 8,
      "outputs": []
    },
    {
      "cell_type": "code",
      "source": [
        "a1.bal"
      ],
      "metadata": {
        "colab": {
          "base_uri": "https://localhost:8080/"
        },
        "id": "ts7w2VWjsVPJ",
        "outputId": "f9b65c06-c5f6-40eb-9c49-6eccc049269e"
      },
      "execution_count": 9,
      "outputs": [
        {
          "output_type": "execute_result",
          "data": {
            "text/plain": [
              "100"
            ]
          },
          "metadata": {},
          "execution_count": 9
        }
      ]
    },
    {
      "cell_type": "code",
      "source": [
        "a1.id"
      ],
      "metadata": {
        "colab": {
          "base_uri": "https://localhost:8080/"
        },
        "id": "DiinUXBbsVL7",
        "outputId": "90bdca2d-f677-481e-9cfa-95cf9e7881d8"
      },
      "execution_count": 10,
      "outputs": [
        {
          "output_type": "execute_result",
          "data": {
            "text/plain": [
              "1"
            ]
          },
          "metadata": {},
          "execution_count": 10
        }
      ]
    },
    {
      "cell_type": "code",
      "source": [
        "a2 = Account()\n",
        "a2.bal"
      ],
      "metadata": {
        "colab": {
          "base_uri": "https://localhost:8080/"
        },
        "id": "t0N7ed51sVI_",
        "outputId": "797eadfd-acd2-495e-f5c7-e6ab3dc3bc5d"
      },
      "execution_count": 11,
      "outputs": [
        {
          "output_type": "execute_result",
          "data": {
            "text/plain": [
              "0"
            ]
          },
          "metadata": {},
          "execution_count": 11
        }
      ]
    },
    {
      "cell_type": "code",
      "source": [
        "a2.id"
      ],
      "metadata": {
        "colab": {
          "base_uri": "https://localhost:8080/"
        },
        "id": "P-PfX1G3sV83",
        "outputId": "0fe0b5dd-6a7b-43d3-c00b-82802e4b2d26"
      },
      "execution_count": 12,
      "outputs": [
        {
          "output_type": "execute_result",
          "data": {
            "text/plain": [
              "2"
            ]
          },
          "metadata": {},
          "execution_count": 12
        }
      ]
    },
    {
      "cell_type": "code",
      "source": [
        "a3 = Account(500)\n",
        "a3.id"
      ],
      "metadata": {
        "colab": {
          "base_uri": "https://localhost:8080/"
        },
        "id": "OLul77l-sV6D",
        "outputId": "f51dbe49-0dd0-4022-8144-f0c07597c050"
      },
      "execution_count": 13,
      "outputs": [
        {
          "output_type": "execute_result",
          "data": {
            "text/plain": [
              "3"
            ]
          },
          "metadata": {},
          "execution_count": 13
        }
      ]
    },
    {
      "cell_type": "code",
      "source": [
        "a3.bal"
      ],
      "metadata": {
        "colab": {
          "base_uri": "https://localhost:8080/"
        },
        "id": "0xt53IgpsV3P",
        "outputId": "013f317d-8255-4291-f386-4b5f6896ad81"
      },
      "execution_count": 14,
      "outputs": [
        {
          "output_type": "execute_result",
          "data": {
            "text/plain": [
              "500"
            ]
          },
          "metadata": {},
          "execution_count": 14
        }
      ]
    },
    {
      "cell_type": "code",
      "source": [
        "print(a1)"
      ],
      "metadata": {
        "colab": {
          "base_uri": "https://localhost:8080/"
        },
        "id": "9vkLQ4F3sV0S",
        "outputId": "30ee8383-c340-4861-b23f-8a9a2e1f32b2"
      },
      "execution_count": 15,
      "outputs": [
        {
          "output_type": "stream",
          "name": "stdout",
          "text": [
            "<__main__.Account object at 0x7f5939633be0>\n"
          ]
        }
      ]
    },
    {
      "cell_type": "code",
      "source": [
        "class Account:\n",
        "  counter = 0\n",
        "  def __init__(self,openingBal=0):\n",
        "    Account.counter += 1\n",
        "    self.id = Account.counter\n",
        "    self.bal = openingBal\n",
        "\n",
        "  def __str__(self):\n",
        "    return f\"Account {self.id} has rs{self.bal}\"  "
      ],
      "metadata": {
        "id": "B07qAFAWv9Br"
      },
      "execution_count": 17,
      "outputs": []
    },
    {
      "cell_type": "code",
      "source": [
        "a1 = Account(1000)\n"
      ],
      "metadata": {
        "id": "67R_yWv2wRL0"
      },
      "execution_count": 18,
      "outputs": []
    },
    {
      "cell_type": "code",
      "source": [
        "print(a1)"
      ],
      "metadata": {
        "colab": {
          "base_uri": "https://localhost:8080/"
        },
        "id": "UJ3MwXH6wV6F",
        "outputId": "5705cd1b-5f9e-4a7d-da0f-248a0d19544f"
      },
      "execution_count": 19,
      "outputs": [
        {
          "output_type": "stream",
          "name": "stdout",
          "text": [
            "Account 1 has rs1000\n"
          ]
        }
      ]
    },
    {
      "cell_type": "code",
      "source": [
        "a2 =  Account(300)\n",
        "print(a2)"
      ],
      "metadata": {
        "colab": {
          "base_uri": "https://localhost:8080/"
        },
        "id": "Z4vrG8NFwnE-",
        "outputId": "ae2471c0-27ab-46e6-de25-b62e20146c7b"
      },
      "execution_count": 20,
      "outputs": [
        {
          "output_type": "stream",
          "name": "stdout",
          "text": [
            "Account 2 has rs300\n"
          ]
        }
      ]
    },
    {
      "cell_type": "code",
      "source": [
        "class Account:\n",
        "  counter = 0\n",
        "  def __init__(self,openingBal=0):\n",
        "    Account.counter += 1\n",
        "    self.id = Account.counter\n",
        "    self.bal = openingBal\n",
        "    self.passbook = []\n",
        "  def deposit(self,amount):\n",
        "    self.bal += amount\n",
        "    self.passbook.append(('credited',amount))\n",
        "\n",
        "\n",
        "\n",
        "  def __str__(self):\n",
        "    return f\"Account {self.id} has rs{self.bal}\" "
      ],
      "metadata": {
        "id": "KTH58Ytbx_Nn"
      },
      "execution_count": 25,
      "outputs": []
    },
    {
      "cell_type": "code",
      "source": [
        "a1 = Account(100)\n",
        "a2 = Account()"
      ],
      "metadata": {
        "id": "rJii-nD6y5v4"
      },
      "execution_count": 26,
      "outputs": []
    },
    {
      "cell_type": "code",
      "source": [
        "print(a1)"
      ],
      "metadata": {
        "colab": {
          "base_uri": "https://localhost:8080/"
        },
        "id": "yWm9RTLWy-mR",
        "outputId": "e56b5700-012a-486c-9810-d6d3a0b0e900"
      },
      "execution_count": 27,
      "outputs": [
        {
          "output_type": "stream",
          "name": "stdout",
          "text": [
            "Account 1 has rs100\n"
          ]
        }
      ]
    },
    {
      "cell_type": "code",
      "source": [
        "a1.deposit(500)\n",
        "print(a1)"
      ],
      "metadata": {
        "colab": {
          "base_uri": "https://localhost:8080/"
        },
        "id": "1jDGk0s0zAyq",
        "outputId": "497c2670-ddd7-4f0a-856c-b28c1b41480e"
      },
      "execution_count": 28,
      "outputs": [
        {
          "output_type": "stream",
          "name": "stdout",
          "text": [
            "Account 1 has rs600\n"
          ]
        }
      ]
    },
    {
      "cell_type": "code",
      "source": [
        "a1.passbook"
      ],
      "metadata": {
        "colab": {
          "base_uri": "https://localhost:8080/"
        },
        "id": "OadfQExozsUo",
        "outputId": "b1444fcb-4f70-4855-a93b-0bb10d8e2548"
      },
      "execution_count": 29,
      "outputs": [
        {
          "output_type": "execute_result",
          "data": {
            "text/plain": [
              "[('credited', 500)]"
            ]
          },
          "metadata": {},
          "execution_count": 29
        }
      ]
    },
    {
      "cell_type": "code",
      "source": [
        "a1.deposit(1000)\n",
        "print(a1)"
      ],
      "metadata": {
        "colab": {
          "base_uri": "https://localhost:8080/"
        },
        "id": "-ztB_3EIz2OF",
        "outputId": "c3ede0ea-83cd-4afe-a27d-92fffce89d78"
      },
      "execution_count": 30,
      "outputs": [
        {
          "output_type": "stream",
          "name": "stdout",
          "text": [
            "Account 1 has rs1600\n"
          ]
        }
      ]
    },
    {
      "cell_type": "code",
      "source": [
        "a1.passbook"
      ],
      "metadata": {
        "colab": {
          "base_uri": "https://localhost:8080/"
        },
        "id": "jYyVYGy4z8nK",
        "outputId": "d90eb6b9-5fc9-4e79-db79-02b5fb8396cc"
      },
      "execution_count": 31,
      "outputs": [
        {
          "output_type": "execute_result",
          "data": {
            "text/plain": [
              "[('credited', 500), ('credited', 1000)]"
            ]
          },
          "metadata": {},
          "execution_count": 31
        }
      ]
    },
    {
      "cell_type": "code",
      "source": [
        "class Account:\n",
        "  counter = 0\n",
        "  def __init__(self,openingBal=0):\n",
        "    Account.counter += 1\n",
        "    self.id = Account.counter\n",
        "    self.bal = openingBal\n",
        "    self.passbook = []\n",
        "  def deposit(self,amount):\n",
        "    self.bal += amount\n",
        "    self.passbook.append(('credited',amount))\n",
        "\n",
        "  def withdraw(self,amount):\n",
        "    self.bal -= amount\n",
        "    self.passbook.append(('debited',amount))  \n",
        "\n",
        "\n",
        "\n",
        "  def __str__(self):\n",
        "    return f\"Account {self.id} has rs{self.bal}\" "
      ],
      "metadata": {
        "id": "hoULDMk-0Icq"
      },
      "execution_count": 39,
      "outputs": []
    },
    {
      "cell_type": "code",
      "source": [
        "a1 = Account(100)\n",
        "a2 = Account()"
      ],
      "metadata": {
        "id": "Cs-ERihg0crE"
      },
      "execution_count": 33,
      "outputs": []
    },
    {
      "cell_type": "code",
      "source": [
        "print(a1)"
      ],
      "metadata": {
        "colab": {
          "base_uri": "https://localhost:8080/"
        },
        "id": "cU2HBZKj0hVE",
        "outputId": "a30eb766-76ed-46ab-ebea-2ec57bd96dc9"
      },
      "execution_count": 34,
      "outputs": [
        {
          "output_type": "stream",
          "name": "stdout",
          "text": [
            "Account 1 has rs100\n"
          ]
        }
      ]
    },
    {
      "cell_type": "code",
      "source": [
        "a1.deposit(100)\n",
        "print(a1)"
      ],
      "metadata": {
        "colab": {
          "base_uri": "https://localhost:8080/"
        },
        "id": "q6wLOsEL0jT1",
        "outputId": "6f7b834c-34de-4a29-c426-de2db436b23f"
      },
      "execution_count": 35,
      "outputs": [
        {
          "output_type": "stream",
          "name": "stdout",
          "text": [
            "Account 1 has rs200\n"
          ]
        }
      ]
    },
    {
      "cell_type": "code",
      "source": [
        "a1.withdraw(50)\n",
        "print(a1)"
      ],
      "metadata": {
        "colab": {
          "base_uri": "https://localhost:8080/"
        },
        "id": "rS-3B98O0o_N",
        "outputId": "132c0d90-7d63-4597-9ec3-f690cfa24d54"
      },
      "execution_count": 36,
      "outputs": [
        {
          "output_type": "stream",
          "name": "stdout",
          "text": [
            "Account 1 has rs150\n"
          ]
        }
      ]
    },
    {
      "cell_type": "code",
      "source": [
        "a1.passbook"
      ],
      "metadata": {
        "colab": {
          "base_uri": "https://localhost:8080/"
        },
        "id": "DzfLi6Vz0t2x",
        "outputId": "ec624aba-a7d6-4d45-86b5-934eb6d99394"
      },
      "execution_count": 37,
      "outputs": [
        {
          "output_type": "execute_result",
          "data": {
            "text/plain": [
              "[('credited', 100), ('debited', 50)]"
            ]
          },
          "metadata": {},
          "execution_count": 37
        }
      ]
    },
    {
      "cell_type": "code",
      "source": [
        "a1.bal = 97398649832648923689\n"
      ],
      "metadata": {
        "id": "JmkDbqck04Dl"
      },
      "execution_count": 44,
      "outputs": []
    },
    {
      "cell_type": "code",
      "source": [
        "a1.bal"
      ],
      "metadata": {
        "colab": {
          "base_uri": "https://localhost:8080/"
        },
        "id": "vwUS65hb1LPP",
        "outputId": "c1cec5da-5c2a-4aaf-83b0-037e5fbe4d66"
      },
      "execution_count": 45,
      "outputs": [
        {
          "output_type": "execute_result",
          "data": {
            "text/plain": [
              "97398649832648923689"
            ]
          },
          "metadata": {},
          "execution_count": 45
        }
      ]
    },
    {
      "cell_type": "code",
      "source": [
        "print(a1)"
      ],
      "metadata": {
        "colab": {
          "base_uri": "https://localhost:8080/"
        },
        "id": "ly-SgNNI1VPx",
        "outputId": "f980e33f-d13d-4844-c28d-38123eb9487c"
      },
      "execution_count": 46,
      "outputs": [
        {
          "output_type": "stream",
          "name": "stdout",
          "text": [
            "Account 1 has rs97398649832648923689\n"
          ]
        }
      ]
    },
    {
      "cell_type": "code",
      "source": [
        "class Account:\n",
        "  counter = 0\n",
        "  def __init__(self,openingBal=0):\n",
        "    Account.counter += 1\n",
        "    self.id = Account.counter\n",
        "    self.__bal = openingBal\n",
        "    self.passbook = []\n",
        "  def deposit(self,amount):\n",
        "    self.__bal += amount\n",
        "    self.passbook.append(('credited',amount))\n",
        "\n",
        "  def withdraw(self,amount):\n",
        "    self.__bal -= amount\n",
        "    self.passbook.append(('debited',amount))  \n",
        "\n",
        "\n",
        "\n",
        "  def __str__(self):\n",
        "    return f\"Account {self.id} has rs{self.__bal}\""
      ],
      "metadata": {
        "id": "CVVfR0fP1rle"
      },
      "execution_count": 47,
      "outputs": []
    },
    {
      "cell_type": "code",
      "source": [
        "a1 = Account()"
      ],
      "metadata": {
        "id": "KnbOq-fx1tzb"
      },
      "execution_count": 48,
      "outputs": []
    },
    {
      "cell_type": "code",
      "source": [
        "a1.bal"
      ],
      "metadata": {
        "colab": {
          "base_uri": "https://localhost:8080/",
          "height": 168
        },
        "id": "kacIAbKZ1089",
        "outputId": "55400633-dc69-47e1-d70f-54397c3cc397"
      },
      "execution_count": 49,
      "outputs": [
        {
          "output_type": "error",
          "ename": "AttributeError",
          "evalue": "ignored",
          "traceback": [
            "\u001b[0;31m---------------------------------------------------------------------------\u001b[0m",
            "\u001b[0;31mAttributeError\u001b[0m                            Traceback (most recent call last)",
            "\u001b[0;32m<ipython-input-49-a41cff972a8d>\u001b[0m in \u001b[0;36m<module>\u001b[0;34m\u001b[0m\n\u001b[0;32m----> 1\u001b[0;31m \u001b[0ma1\u001b[0m\u001b[0;34m.\u001b[0m\u001b[0mbal\u001b[0m\u001b[0;34m\u001b[0m\u001b[0;34m\u001b[0m\u001b[0m\n\u001b[0m",
            "\u001b[0;31mAttributeError\u001b[0m: 'Account' object has no attribute 'bal'"
          ]
        }
      ]
    },
    {
      "cell_type": "code",
      "source": [
        "a1._Account__bal"
      ],
      "metadata": {
        "colab": {
          "base_uri": "https://localhost:8080/"
        },
        "id": "SA-4MpVT19i-",
        "outputId": "5e2c09e1-ff45-4ae5-eeea-7a24e4b6840d"
      },
      "execution_count": 51,
      "outputs": [
        {
          "output_type": "execute_result",
          "data": {
            "text/plain": [
              "0"
            ]
          },
          "metadata": {},
          "execution_count": 51
        }
      ]
    },
    {
      "cell_type": "code",
      "source": [
        "class Account:\n",
        "  counter = 0\n",
        "  def __init__(self,openingBal=0):\n",
        "    Account.counter += 1\n",
        "    self.id = Account.counter\n",
        "    self.bal = openingBal\n",
        "    self.passbook = []\n",
        "  def deposit(self,amount):\n",
        "    self.bal += amount\n",
        "    self.passbook.append(('credited',amount))\n",
        "\n",
        "  def withdraw(self,amount):\n",
        "    self.bal -= amount\n",
        "    self.passbook.append(('debited',amount))  \n",
        "\n",
        "\n",
        "\n",
        "  def __str__(self):\n",
        "    return f\"Account {self.id} has rs{self.bal}\" "
      ],
      "metadata": {
        "id": "5V8ifHmP2Ub1"
      },
      "execution_count": 52,
      "outputs": []
    },
    {
      "cell_type": "code",
      "source": [
        "a2 = Account()\n",
        "print(a2)"
      ],
      "metadata": {
        "colab": {
          "base_uri": "https://localhost:8080/"
        },
        "id": "wfkgen712Vwc",
        "outputId": "54a7c1d7-4673-4939-cf03-ea8e2cc2136a"
      },
      "execution_count": 54,
      "outputs": [
        {
          "output_type": "stream",
          "name": "stdout",
          "text": [
            "Account 2 has rs0\n"
          ]
        }
      ]
    },
    {
      "cell_type": "code",
      "source": [
        "a2.withdraw(50)"
      ],
      "metadata": {
        "id": "pSqJqagl2Xhg"
      },
      "execution_count": 55,
      "outputs": []
    },
    {
      "cell_type": "code",
      "source": [
        "print(a2)"
      ],
      "metadata": {
        "colab": {
          "base_uri": "https://localhost:8080/"
        },
        "id": "uKATGIEe2qrR",
        "outputId": "1b8c6af4-29db-4425-97d0-7b18526d7273"
      },
      "execution_count": 56,
      "outputs": [
        {
          "output_type": "stream",
          "name": "stdout",
          "text": [
            "Account 2 has rs-50\n"
          ]
        }
      ]
    },
    {
      "cell_type": "code",
      "source": [
        "a2.deposit(-100)\n"
      ],
      "metadata": {
        "id": "uW_XVbwy2veZ"
      },
      "execution_count": 57,
      "outputs": []
    },
    {
      "cell_type": "code",
      "source": [
        "print(a2)"
      ],
      "metadata": {
        "colab": {
          "base_uri": "https://localhost:8080/"
        },
        "id": "1xzayElY3B8U",
        "outputId": "8c79a135-e06d-4a44-b918-a394484b4ce3"
      },
      "execution_count": 58,
      "outputs": [
        {
          "output_type": "stream",
          "name": "stdout",
          "text": [
            "Account 2 has rs-150\n"
          ]
        }
      ]
    },
    {
      "cell_type": "code",
      "source": [
        "class Account:\n",
        "  counter = 0\n",
        "  def __init__(self,openingBal=0):\n",
        "    Account.counter += 1\n",
        "    self.id = Account.counter\n",
        "    self.bal = openingBal\n",
        "    self.passbook = []\n",
        "  def deposit(self,amount):\n",
        "    if amount > 0:\n",
        "      self.bal += amount\n",
        "      self.passbook.append(('credited',amount))\n",
        "\n",
        "  def withdraw(self,amount):\n",
        "    if self.bal > amount and amount > 0:\n",
        "      self.bal -= amount\n",
        "      self.passbook.append(('debited',amount))  \n",
        "\n",
        "  def __str__(self):\n",
        "    return f\"Account {self.id} has rs{self.bal}\" "
      ],
      "metadata": {
        "id": "r629t92i3L_V"
      },
      "execution_count": 59,
      "outputs": []
    },
    {
      "cell_type": "code",
      "source": [
        "a1 =  Account(100)\n",
        "a2 = Account()"
      ],
      "metadata": {
        "id": "OXy-yT6b3wYK"
      },
      "execution_count": 60,
      "outputs": []
    },
    {
      "cell_type": "code",
      "source": [
        "a1.deposit(100)\n",
        "print(a1)"
      ],
      "metadata": {
        "colab": {
          "base_uri": "https://localhost:8080/"
        },
        "id": "-QR061ZG32hQ",
        "outputId": "7f250159-c02b-4e4a-d6a4-2c8f9a5e4d8b"
      },
      "execution_count": 61,
      "outputs": [
        {
          "output_type": "stream",
          "name": "stdout",
          "text": [
            "Account 1 has rs200\n"
          ]
        }
      ]
    },
    {
      "cell_type": "code",
      "source": [
        "a1.deposit(-1000)\n",
        "print(a1)"
      ],
      "metadata": {
        "colab": {
          "base_uri": "https://localhost:8080/"
        },
        "id": "WwaUQL1v35cY",
        "outputId": "37c70c91-65b8-4d33-9e70-18da557c16f9"
      },
      "execution_count": 62,
      "outputs": [
        {
          "output_type": "stream",
          "name": "stdout",
          "text": [
            "Account 1 has rs200\n"
          ]
        }
      ]
    },
    {
      "cell_type": "code",
      "source": [
        "a1.withdraw(80)\n",
        "print(a1)"
      ],
      "metadata": {
        "colab": {
          "base_uri": "https://localhost:8080/"
        },
        "id": "OQTa0fqj4A2_",
        "outputId": "7bad9df4-99c9-43b9-8a3f-75e5c828638e"
      },
      "execution_count": 63,
      "outputs": [
        {
          "output_type": "stream",
          "name": "stdout",
          "text": [
            "Account 1 has rs120\n"
          ]
        }
      ]
    },
    {
      "cell_type": "code",
      "source": [
        "a1.withdraw(200)\n",
        "print(a1)"
      ],
      "metadata": {
        "colab": {
          "base_uri": "https://localhost:8080/"
        },
        "id": "dXhCF2Et4Giq",
        "outputId": "d21135e4-b174-4b73-836c-d2e00df576ef"
      },
      "execution_count": 64,
      "outputs": [
        {
          "output_type": "stream",
          "name": "stdout",
          "text": [
            "Account 1 has rs120\n"
          ]
        }
      ]
    },
    {
      "cell_type": "code",
      "source": [
        "a1.passbook"
      ],
      "metadata": {
        "colab": {
          "base_uri": "https://localhost:8080/"
        },
        "id": "GAMSOea74MQL",
        "outputId": "a8e085da-d2d4-4545-e0b5-d5c8ecd56efd"
      },
      "execution_count": 65,
      "outputs": [
        {
          "output_type": "execute_result",
          "data": {
            "text/plain": [
              "[('credited', 100), ('debited', 80)]"
            ]
          },
          "metadata": {},
          "execution_count": 65
        }
      ]
    },
    {
      "cell_type": "code",
      "source": [
        "class Account:\n",
        "  counter = 0\n",
        "  def __init__(self,openingBal=0):\n",
        "    Account.counter += 1\n",
        "    self.id = Account.counter\n",
        "    self.bal = openingBal\n",
        "    self.passbook = []\n",
        "  def deposit(self,amount):\n",
        "    if amount > 0:\n",
        "      self.bal += amount\n",
        "      self.passbook.append(('credited',amount))\n",
        "\n",
        "  def withdraw(self,amount):\n",
        "    if self.bal > amount and amount > 0:\n",
        "      self.bal -= amount\n",
        "      self.passbook.append(('debited',amount))  \n",
        "\n",
        "  def __str__(self):\n",
        "    return f\"Account {self.id} has rs{self.bal}\" \n",
        "\n",
        "class SavingsAccount(Account):\n",
        "  pass\n",
        "\n",
        "\n",
        "class CurrentAccount(Account):\n",
        "  pass  \n"
      ],
      "metadata": {
        "id": "jh8OVCSR7Zqd"
      },
      "execution_count": 66,
      "outputs": []
    },
    {
      "cell_type": "code",
      "source": [
        "sa1 = SavingsAccount(100)\n",
        "print(sa1)"
      ],
      "metadata": {
        "colab": {
          "base_uri": "https://localhost:8080/"
        },
        "id": "61_flgmJ7xq_",
        "outputId": "20402434-fde1-47f4-bd3d-763f733f3ec8"
      },
      "execution_count": 67,
      "outputs": [
        {
          "output_type": "stream",
          "name": "stdout",
          "text": [
            "Account 1 has rs100\n"
          ]
        }
      ]
    },
    {
      "cell_type": "code",
      "source": [
        "ca1 = CurrentAccount()\n",
        "print(ca1)"
      ],
      "metadata": {
        "colab": {
          "base_uri": "https://localhost:8080/"
        },
        "id": "MWtUzYbr8TSc",
        "outputId": "21b2231f-f1c0-4521-c217-5ba593c55ad8"
      },
      "execution_count": 68,
      "outputs": [
        {
          "output_type": "stream",
          "name": "stdout",
          "text": [
            "Account 2 has rs0\n"
          ]
        }
      ]
    },
    {
      "cell_type": "code",
      "source": [
        "class Account:\n",
        "  counter = 0\n",
        "  def __init__(self,openingBal=0):\n",
        "    Account.counter += 1\n",
        "    self.id = Account.counter\n",
        "    self.bal = openingBal\n",
        "    self.passbook = []\n",
        "    self.numTrans = 0\n",
        "    self.maxTrans = 2\n",
        "  def deposit(self,amount):\n",
        "    if amount > 0 and self.numTrans < self.maxTrans:\n",
        "      self.bal += amount\n",
        "      self.passbook.append(('credited',amount))\n",
        "      self.numTrans += 1\n",
        "  def withdraw(self,amount):\n",
        "    if self.bal > amount and amount > 0 and self.numTrans < self.maxTrans :\n",
        "      self.bal -= amount\n",
        "      self.passbook.append(('debited',amount))  \n",
        "      self.numTrans += 1\n",
        "\n",
        "  def __str__(self):\n",
        "    return f\"Account {self.id} has rs{self.bal}\" \n",
        "\n",
        "class SavingsAccount(Account):\n",
        "  pass \n",
        "\n",
        "\n",
        "class CurrentAccount(Account):\n",
        "  pass "
      ],
      "metadata": {
        "id": "TWeeB7o-8oyP"
      },
      "execution_count": 75,
      "outputs": []
    },
    {
      "cell_type": "code",
      "source": [
        "sa1 = SavingsAccount(100)\n",
        "print(sa1)\n"
      ],
      "metadata": {
        "colab": {
          "base_uri": "https://localhost:8080/"
        },
        "id": "bpddLSuZ-CeM",
        "outputId": "8d8da068-4426-453f-85b1-c50bcfbcc2fb"
      },
      "execution_count": 76,
      "outputs": [
        {
          "output_type": "stream",
          "name": "stdout",
          "text": [
            "Account 1 has rs100\n"
          ]
        }
      ]
    },
    {
      "cell_type": "code",
      "source": [
        "sa1.deposit(100)\n",
        "print(sa1)"
      ],
      "metadata": {
        "colab": {
          "base_uri": "https://localhost:8080/"
        },
        "id": "4B9OPE2U-Q8e",
        "outputId": "93965440-135f-4dcf-b210-fa8d435b94d9"
      },
      "execution_count": 77,
      "outputs": [
        {
          "output_type": "stream",
          "name": "stdout",
          "text": [
            "Account 1 has rs200\n"
          ]
        }
      ]
    },
    {
      "cell_type": "code",
      "source": [
        "sa1.deposit(100)\n",
        "print(sa1)"
      ],
      "metadata": {
        "colab": {
          "base_uri": "https://localhost:8080/"
        },
        "id": "c48rnadj-WBT",
        "outputId": "ac1cc5b4-0a21-4b63-d7e7-95227a8206ec"
      },
      "execution_count": 78,
      "outputs": [
        {
          "output_type": "stream",
          "name": "stdout",
          "text": [
            "Account 1 has rs300\n"
          ]
        }
      ]
    },
    {
      "cell_type": "code",
      "source": [
        "sa1.deposit(100)\n",
        "print(sa1)"
      ],
      "metadata": {
        "colab": {
          "base_uri": "https://localhost:8080/"
        },
        "id": "yEO2jX3O-XZG",
        "outputId": "c692a7a3-a353-473b-adc2-8c3d39f689d4"
      },
      "execution_count": 79,
      "outputs": [
        {
          "output_type": "stream",
          "name": "stdout",
          "text": [
            "Account 1 has rs300\n"
          ]
        }
      ]
    },
    {
      "cell_type": "code",
      "source": [
        "sa1.passbook"
      ],
      "metadata": {
        "colab": {
          "base_uri": "https://localhost:8080/"
        },
        "id": "yPbJpcRy-qko",
        "outputId": "57d82374-57ec-4c0f-d161-fcd0ec56530a"
      },
      "execution_count": 80,
      "outputs": [
        {
          "output_type": "execute_result",
          "data": {
            "text/plain": [
              "[('credited', 100), ('credited', 100)]"
            ]
          },
          "metadata": {},
          "execution_count": 80
        }
      ]
    },
    {
      "cell_type": "code",
      "source": [
        "ca1 =  CurrentAccount()\n",
        "print(ca1)"
      ],
      "metadata": {
        "colab": {
          "base_uri": "https://localhost:8080/"
        },
        "id": "bYJXIL68-xsS",
        "outputId": "f035d414-6db4-414f-8005-d40ed1d39e74"
      },
      "execution_count": 81,
      "outputs": [
        {
          "output_type": "stream",
          "name": "stdout",
          "text": [
            "Account 2 has rs0\n"
          ]
        }
      ]
    },
    {
      "cell_type": "code",
      "source": [
        "ca1.deposit(100)"
      ],
      "metadata": {
        "id": "pczfXrM6-4Ux"
      },
      "execution_count": 82,
      "outputs": []
    },
    {
      "cell_type": "code",
      "source": [
        "print(ca1)"
      ],
      "metadata": {
        "colab": {
          "base_uri": "https://localhost:8080/"
        },
        "id": "m6aCup9z-6VL",
        "outputId": "73ef60fb-dccb-465d-80f0-9b3470cce008"
      },
      "execution_count": 83,
      "outputs": [
        {
          "output_type": "stream",
          "name": "stdout",
          "text": [
            "Account 2 has rs100\n"
          ]
        }
      ]
    },
    {
      "cell_type": "code",
      "source": [
        "ca1.withdraw(50)\n",
        "print(ca1)"
      ],
      "metadata": {
        "colab": {
          "base_uri": "https://localhost:8080/"
        },
        "id": "ncFiaAAy-8rx",
        "outputId": "e36e6577-e88c-4edd-84a3-0ab965d83f00"
      },
      "execution_count": 84,
      "outputs": [
        {
          "output_type": "stream",
          "name": "stdout",
          "text": [
            "Account 2 has rs50\n"
          ]
        }
      ]
    },
    {
      "cell_type": "code",
      "source": [
        "ca1.deposit(500)\n",
        "print(ca1)"
      ],
      "metadata": {
        "colab": {
          "base_uri": "https://localhost:8080/"
        },
        "id": "ECRJyeU9_AMC",
        "outputId": "496f8382-7a1e-4e55-8dd0-2a7bad64d357"
      },
      "execution_count": 85,
      "outputs": [
        {
          "output_type": "stream",
          "name": "stdout",
          "text": [
            "Account 2 has rs50\n"
          ]
        }
      ]
    },
    {
      "cell_type": "code",
      "source": [
        "ca1.passbook"
      ],
      "metadata": {
        "colab": {
          "base_uri": "https://localhost:8080/"
        },
        "id": "UzCRSqQV_Eep",
        "outputId": "7f3c028b-41c2-4e5e-a884-5837e9aec611"
      },
      "execution_count": 86,
      "outputs": [
        {
          "output_type": "execute_result",
          "data": {
            "text/plain": [
              "[('credited', 100), ('debited', 50)]"
            ]
          },
          "metadata": {},
          "execution_count": 86
        }
      ]
    },
    {
      "cell_type": "code",
      "source": [
        "class Account:\n",
        "  counter = 0\n",
        "  def __init__(self,openingBal=0):\n",
        "    Account.counter += 1\n",
        "    self.id = Account.counter\n",
        "    self.bal = openingBal\n",
        "    self.passbook = []\n",
        "    self.numTrans = 0\n",
        "    self.maxTrans = 2\n",
        "  def deposit(self,amount):\n",
        "    if amount > 0 and self.numTrans < self.maxTrans:\n",
        "      self.bal += amount\n",
        "      self.passbook.append(('credited',amount))\n",
        "      self.numTrans += 1\n",
        "  def withdraw(self,amount):\n",
        "    if self.bal > amount and amount > 0 and self.numTrans < self.maxTrans :\n",
        "      self.bal -= amount\n",
        "      self.passbook.append(('debited',amount))  \n",
        "      self.numTrans += 1\n",
        "\n",
        "  def __str__(self):\n",
        "    return f\"Account {self.id} has rs{self.bal}\" \n",
        "\n",
        "class SavingsAccount(Account):\n",
        "  pass \n",
        "\n",
        "\n",
        "class CurrentAccount(Account):\n",
        "  def __init__(self,openingBal = 0):\n",
        "    # Account.__init__(openingBal)\n",
        "    self.maxTrans =  1000"
      ],
      "metadata": {
        "id": "yijwQE2G_d3Q"
      },
      "execution_count": 87,
      "outputs": []
    },
    {
      "cell_type": "code",
      "source": [
        "ca1 = CurrentAccount(100)\n",
        "print(ca1)"
      ],
      "metadata": {
        "colab": {
          "base_uri": "https://localhost:8080/",
          "height": 186
        },
        "id": "_fUwG2TC_v0P",
        "outputId": "32d4b2b2-e083-4383-8e7b-dac66edfc285"
      },
      "execution_count": 88,
      "outputs": [
        {
          "output_type": "error",
          "ename": "TypeError",
          "evalue": "ignored",
          "traceback": [
            "\u001b[0;31m---------------------------------------------------------------------------\u001b[0m",
            "\u001b[0;31mTypeError\u001b[0m                                 Traceback (most recent call last)",
            "\u001b[0;32m<ipython-input-88-cb22c15f164c>\u001b[0m in \u001b[0;36m<module>\u001b[0;34m\u001b[0m\n\u001b[0;32m----> 1\u001b[0;31m \u001b[0mca1\u001b[0m \u001b[0;34m=\u001b[0m \u001b[0mCurrentAccount\u001b[0m\u001b[0;34m(\u001b[0m\u001b[0;36m100\u001b[0m\u001b[0;34m)\u001b[0m\u001b[0;34m\u001b[0m\u001b[0;34m\u001b[0m\u001b[0m\n\u001b[0m\u001b[1;32m      2\u001b[0m \u001b[0mprint\u001b[0m\u001b[0;34m(\u001b[0m\u001b[0mca1\u001b[0m\u001b[0;34m)\u001b[0m\u001b[0;34m\u001b[0m\u001b[0;34m\u001b[0m\u001b[0m\n",
            "\u001b[0;31mTypeError\u001b[0m: __init__() takes 1 positional argument but 2 were given"
          ]
        }
      ]
    },
    {
      "cell_type": "code",
      "source": [
        "class Account:\n",
        "  counter = 0\n",
        "  def __init__(self,openingBal=0):\n",
        "    Account.counter += 1\n",
        "    self.id = Account.counter\n",
        "    self.bal = openingBal\n",
        "    self.passbook = []\n",
        "    self.numTrans = 0\n",
        "    self.maxTrans = 2\n",
        "  def deposit(self,amount):\n",
        "    if amount > 0 and self.numTrans < self.maxTrans:\n",
        "      self.bal += amount\n",
        "      self.passbook.append(('credited',amount))\n",
        "      self.numTrans += 1\n",
        "  def withdraw(self,amount):\n",
        "    if self.bal > amount and amount > 0 and self.numTrans < self.maxTrans :\n",
        "      self.bal -= amount\n",
        "      self.passbook.append(('debited',amount))  \n",
        "      self.numTrans += 1\n",
        "\n",
        "  def __str__(self):\n",
        "    return f\"Account {self.id} has rs{self.bal}\" \n",
        "\n",
        "class SavingsAccount(Account):\n",
        "  pass \n",
        "\n",
        "\n",
        "class CurrentAccount(Account):\n",
        "  def __init__(self,openingBal = 0):\n",
        "    super().__init__(openingBal)\n",
        "    self.maxTrans =  1000"
      ],
      "metadata": {
        "id": "tg0FfN31AaFU"
      },
      "execution_count": 93,
      "outputs": []
    },
    {
      "cell_type": "code",
      "source": [
        "ca1 = CurrentAccount(100)\n",
        "print(ca1)"
      ],
      "metadata": {
        "colab": {
          "base_uri": "https://localhost:8080/"
        },
        "id": "6TT61SO-A50R",
        "outputId": "08796024-0864-4877-ff58-7d4d95bd5881"
      },
      "execution_count": 94,
      "outputs": [
        {
          "output_type": "stream",
          "name": "stdout",
          "text": [
            "Account 1 has rs100\n"
          ]
        }
      ]
    },
    {
      "cell_type": "code",
      "source": [
        "class Account:\n",
        "  counter = 0\n",
        "  def __init__(self,openingBal=0):\n",
        "    Account.counter += 1\n",
        "    self.id = Account.counter\n",
        "    self.bal = openingBal\n",
        "    self.passbook = []\n",
        "    self.numTrans = 0\n",
        "    self.maxTrans = 2\n",
        "  def deposit(self,amount):\n",
        "    if amount > 0 and self.numTrans < self.maxTrans:\n",
        "      self.bal += amount\n",
        "      self.passbook.append(('credited',amount))\n",
        "      self.numTrans += 1\n",
        "  def withdraw(self,amount):\n",
        "    if self.bal > amount and amount > 0 and self.numTrans < self.maxTrans :\n",
        "      self.bal -= amount\n",
        "      self.passbook.append(('debited',amount))  \n",
        "      self.numTrans += 1\n",
        "\n",
        "  def __str__(self):\n",
        "    return f\"Account {self.id} has rs{self.bal}\" \n",
        "\n",
        "class SavingsAccount(Account):\n",
        "  def getInterest(self):\n",
        "    interest = self.bal * 0.05\n",
        "    print(interest)\n",
        "\n",
        "\n",
        "class CurrentAccount(Account):\n",
        "  def __init__(self,openingBal = 0):\n",
        "    super().__init__(openingBal)\n",
        "    self.maxTrans =  1000\n",
        "\n",
        "  def getInterest(self):\n",
        "    interest = self.bal * 0.01\n",
        "    print(interest)  "
      ],
      "metadata": {
        "id": "BPP8Z0BTDm0_"
      },
      "execution_count": 102,
      "outputs": []
    },
    {
      "cell_type": "code",
      "source": [
        "sa1 = SavingsAccount(100)\n",
        "print(sa1)"
      ],
      "metadata": {
        "colab": {
          "base_uri": "https://localhost:8080/"
        },
        "id": "TPUMdouoELSD",
        "outputId": "246cab21-1138-48a2-afe7-a17e27ae6e1b"
      },
      "execution_count": 103,
      "outputs": [
        {
          "output_type": "stream",
          "name": "stdout",
          "text": [
            "Account 1 has rs100\n"
          ]
        }
      ]
    },
    {
      "cell_type": "code",
      "source": [
        "sa1.getInterest()"
      ],
      "metadata": {
        "colab": {
          "base_uri": "https://localhost:8080/"
        },
        "id": "0D-Bjv5xERh2",
        "outputId": "b24f168c-2ed1-4977-8aef-e99ab7688365"
      },
      "execution_count": 104,
      "outputs": [
        {
          "output_type": "stream",
          "name": "stdout",
          "text": [
            "5.0\n"
          ]
        }
      ]
    },
    {
      "cell_type": "code",
      "source": [
        "ca1 = CurrentAccount(100)\n",
        "print(ca1)"
      ],
      "metadata": {
        "colab": {
          "base_uri": "https://localhost:8080/"
        },
        "id": "ua33GH1vEVfD",
        "outputId": "0c2c2d14-c8cf-4a4c-d73e-3843c940b6a2"
      },
      "execution_count": 105,
      "outputs": [
        {
          "output_type": "stream",
          "name": "stdout",
          "text": [
            "Account 2 has rs100\n"
          ]
        }
      ]
    },
    {
      "cell_type": "code",
      "source": [
        "ca1.getInterest()"
      ],
      "metadata": {
        "colab": {
          "base_uri": "https://localhost:8080/"
        },
        "id": "scEWC0eMEZwC",
        "outputId": "555bdf08-e213-4514-8082-4473671ebf45"
      },
      "execution_count": 106,
      "outputs": [
        {
          "output_type": "stream",
          "name": "stdout",
          "text": [
            "1.0\n"
          ]
        }
      ]
    }
  ]
}