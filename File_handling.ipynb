{
  "nbformat": 4,
  "nbformat_minor": 0,
  "metadata": {
    "colab": {
      "provenance": [],
      "authorship_tag": "ABX9TyOpo7k6qPiFUqGMT9G0ZUGC",
      "include_colab_link": true
    },
    "kernelspec": {
      "name": "python3",
      "display_name": "Python 3"
    },
    "language_info": {
      "name": "python"
    }
  },
  "cells": [
    {
      "cell_type": "markdown",
      "metadata": {
        "id": "view-in-github",
        "colab_type": "text"
      },
      "source": [
        "<a href=\"https://colab.research.google.com/github/scaleracademy/BeginnersNovMon2-2022/blob/main/File_handling.ipynb\" target=\"_parent\"><img src=\"https://colab.research.google.com/assets/colab-badge.svg\" alt=\"Open In Colab\"/></a>"
      ]
    },
    {
      "cell_type": "markdown",
      "source": [
        "### File Access Modes\n",
        "\n",
        "Access modes control how Python operates on an opened file. With a file, there are two major operations possible: `read` and `write`. Apart from these modes, additional modes are provided to make our life easier while working with files. They are listed below.\n",
        "\n",
        "  1. __Read Only__(`'r'`): Open a text file for reading. The cursor is positioned at the start of the file. Raises a `FileNotFoundError` if the file does not exist. This is also the default mode used in the `open()` function.\n",
        "\n",
        "\n",
        "  2. __Read and Write__(`'r+'`): Open a text file for reading and writing. The cursor is placed at the start of the file. Raises a `FileNotFoundError` if the file does not exist. \n",
        "\n",
        "\n",
        "  3. __Write Only__(`'w'`): Open a text for writing. If the file already exists, the contents of the file are deleted first, and a new file is written. Creates a new file if the file does not exist.\n",
        "\n",
        "\n",
        "  4. __Write and Read__(`w+`): Open a file for both reading and writing. The cursor is placed at the _beginning_ of the file. Creates a new file if the file does not exist. If the file already exists, the contents of the file are deleted first, and a new file is written.\n",
        "\n",
        "\n",
        "  5. __Append only__(`a`): Open a file for writing. The cursor is placed at the _end_ of the file. Creates a new file if the file does not exist. If the file already exists, the contents of the file are _not deleted_. New text is added to the end of the file.\n",
        "\n",
        "\n",
        "  6. __Append and Read__(`a+`): Open the file for reading and writing. The cursor is placed at the _end_ of the file. Creates a new file if the file does not exist. If the file already exists, the contents of the file are _not deleted_. New text is added to the end of the file.\n",
        "  "
      ],
      "metadata": {
        "id": "C-a3evJFs0Nn"
      }
    },
    {
      "cell_type": "markdown",
      "source": [
        "#open a file"
      ],
      "metadata": {
        "id": "XaSd7rKnbdJQ"
      }
    },
    {
      "cell_type": "code",
      "source": [
        "file = open('sample.txt','r')"
      ],
      "metadata": {
        "colab": {
          "base_uri": "https://localhost:8080/",
          "height": 168
        },
        "id": "-Suu7aViSH7o",
        "outputId": "ebe1faee-d061-445b-a295-a8dd146b2c58"
      },
      "execution_count": 1,
      "outputs": [
        {
          "output_type": "error",
          "ename": "FileNotFoundError",
          "evalue": "ignored",
          "traceback": [
            "\u001b[0;31m---------------------------------------------------------------------------\u001b[0m",
            "\u001b[0;31mFileNotFoundError\u001b[0m                         Traceback (most recent call last)",
            "\u001b[0;32m<ipython-input-1-eec36a1b79db>\u001b[0m in \u001b[0;36m<cell line: 1>\u001b[0;34m()\u001b[0m\n\u001b[0;32m----> 1\u001b[0;31m \u001b[0mfile\u001b[0m \u001b[0;34m=\u001b[0m \u001b[0mopen\u001b[0m\u001b[0;34m(\u001b[0m\u001b[0;34m'sample.txt'\u001b[0m\u001b[0;34m,\u001b[0m\u001b[0;34m'r'\u001b[0m\u001b[0;34m)\u001b[0m\u001b[0;34m\u001b[0m\u001b[0;34m\u001b[0m\u001b[0m\n\u001b[0m",
            "\u001b[0;31mFileNotFoundError\u001b[0m: [Errno 2] No such file or directory: 'sample.txt'"
          ]
        }
      ]
    },
    {
      "cell_type": "code",
      "source": [
        "file = open('sample.txt')"
      ],
      "metadata": {
        "colab": {
          "base_uri": "https://localhost:8080/",
          "height": 168
        },
        "id": "xxbKmowLSH4_",
        "outputId": "db8a268e-1250-4925-a266-3932955529c3"
      },
      "execution_count": 2,
      "outputs": [
        {
          "output_type": "error",
          "ename": "FileNotFoundError",
          "evalue": "ignored",
          "traceback": [
            "\u001b[0;31m---------------------------------------------------------------------------\u001b[0m",
            "\u001b[0;31mFileNotFoundError\u001b[0m                         Traceback (most recent call last)",
            "\u001b[0;32m<ipython-input-2-f6ba2f8106c2>\u001b[0m in \u001b[0;36m<cell line: 1>\u001b[0;34m()\u001b[0m\n\u001b[0;32m----> 1\u001b[0;31m \u001b[0mfile\u001b[0m \u001b[0;34m=\u001b[0m \u001b[0mopen\u001b[0m\u001b[0;34m(\u001b[0m\u001b[0;34m'sample.txt'\u001b[0m\u001b[0;34m)\u001b[0m\u001b[0;34m\u001b[0m\u001b[0;34m\u001b[0m\u001b[0m\n\u001b[0m",
            "\u001b[0;31mFileNotFoundError\u001b[0m: [Errno 2] No such file or directory: 'sample.txt'"
          ]
        }
      ]
    },
    {
      "cell_type": "code",
      "source": [
        "file = open('sample.txt','r+')"
      ],
      "metadata": {
        "colab": {
          "base_uri": "https://localhost:8080/",
          "height": 168
        },
        "id": "9VuB4ow3SH2P",
        "outputId": "36dfeff9-7941-443a-c137-cb30812648fa"
      },
      "execution_count": 3,
      "outputs": [
        {
          "output_type": "error",
          "ename": "FileNotFoundError",
          "evalue": "ignored",
          "traceback": [
            "\u001b[0;31m---------------------------------------------------------------------------\u001b[0m",
            "\u001b[0;31mFileNotFoundError\u001b[0m                         Traceback (most recent call last)",
            "\u001b[0;32m<ipython-input-3-a4d6cbe59e67>\u001b[0m in \u001b[0;36m<cell line: 1>\u001b[0;34m()\u001b[0m\n\u001b[0;32m----> 1\u001b[0;31m \u001b[0mfile\u001b[0m \u001b[0;34m=\u001b[0m \u001b[0mopen\u001b[0m\u001b[0;34m(\u001b[0m\u001b[0;34m'sample.txt'\u001b[0m\u001b[0;34m,\u001b[0m\u001b[0;34m'r+'\u001b[0m\u001b[0;34m)\u001b[0m\u001b[0;34m\u001b[0m\u001b[0;34m\u001b[0m\u001b[0m\n\u001b[0m",
            "\u001b[0;31mFileNotFoundError\u001b[0m: [Errno 2] No such file or directory: 'sample.txt'"
          ]
        }
      ]
    },
    {
      "cell_type": "code",
      "source": [
        "file = open('sample.txt','w+')"
      ],
      "metadata": {
        "id": "3lFzm43BSHzs"
      },
      "execution_count": 4,
      "outputs": []
    },
    {
      "cell_type": "code",
      "source": [
        "type(file)"
      ],
      "metadata": {
        "colab": {
          "base_uri": "https://localhost:8080/"
        },
        "id": "oUv2dQr7SHxG",
        "outputId": "42fd2f2b-c400-4369-c774-a8b187ec5c34"
      },
      "execution_count": 5,
      "outputs": [
        {
          "output_type": "execute_result",
          "data": {
            "text/plain": [
              "_io.TextIOWrapper"
            ]
          },
          "metadata": {},
          "execution_count": 5
        }
      ]
    },
    {
      "cell_type": "markdown",
      "source": [
        "#writing to a file"
      ],
      "metadata": {
        "id": "YyW59mB2cntZ"
      }
    },
    {
      "cell_type": "code",
      "source": [
        "#add single line/string at a time\n",
        "file.write(\"hello evryone, thos is a random string.\")"
      ],
      "metadata": {
        "colab": {
          "base_uri": "https://localhost:8080/"
        },
        "id": "qvjovig4SHuu",
        "outputId": "0d0adae9-0e89-44b0-b46e-e4432b21f032"
      },
      "execution_count": 6,
      "outputs": [
        {
          "output_type": "execute_result",
          "data": {
            "text/plain": [
              "38"
            ]
          },
          "metadata": {},
          "execution_count": 6
        }
      ]
    },
    {
      "cell_type": "code",
      "source": [
        "file.close()"
      ],
      "metadata": {
        "id": "whJYw6xlSHsN"
      },
      "execution_count": 7,
      "outputs": []
    },
    {
      "cell_type": "code",
      "source": [
        "#add multiple lines to my files at the same time"
      ],
      "metadata": {
        "id": "VB6KVWTxSHp_"
      },
      "execution_count": null,
      "outputs": []
    },
    {
      "cell_type": "code",
      "source": [
        "file2 = open('sample2.txt','w+')"
      ],
      "metadata": {
        "id": "xgBpp-ulSHns"
      },
      "execution_count": 8,
      "outputs": []
    },
    {
      "cell_type": "code",
      "source": [
        "file2.writelines(['line 1 \\n','line 2\\n','line 3\\n'])"
      ],
      "metadata": {
        "id": "P3cG693JSHlU"
      },
      "execution_count": 10,
      "outputs": []
    },
    {
      "cell_type": "code",
      "source": [
        "file2.close()"
      ],
      "metadata": {
        "id": "mzQN9S4OSHif"
      },
      "execution_count": 11,
      "outputs": []
    },
    {
      "cell_type": "code",
      "source": [
        "file2 = open('sample2.txt','w+')\n",
        "#if the file already exits , it overwrites or delete the previous content first"
      ],
      "metadata": {
        "id": "J6g8qWCSffDS"
      },
      "execution_count": 12,
      "outputs": []
    },
    {
      "cell_type": "code",
      "source": [
        "file2.writelines(['line 1 \\n','line 2\\n','line 3\\n'])"
      ],
      "metadata": {
        "id": "bjI-T19Vfrds"
      },
      "execution_count": 13,
      "outputs": []
    },
    {
      "cell_type": "code",
      "source": [
        "file2.close()"
      ],
      "metadata": {
        "id": "GbKupyD6f8R0"
      },
      "execution_count": 14,
      "outputs": []
    },
    {
      "cell_type": "markdown",
      "source": [
        "#reading from a file"
      ],
      "metadata": {
        "id": "XIvr04TUgjhv"
      }
    },
    {
      "cell_type": "code",
      "source": [
        "file1 = open('sample.txt','r+')\n"
      ],
      "metadata": {
        "id": "BBF9fcc5go9V"
      },
      "execution_count": 15,
      "outputs": []
    },
    {
      "cell_type": "code",
      "source": [
        "#read all the contents of a given file\n",
        "file1.read()"
      ],
      "metadata": {
        "colab": {
          "base_uri": "https://localhost:8080/",
          "height": 36
        },
        "id": "ByxB-pZBg6d7",
        "outputId": "f155ec97-536a-483c-9cb3-dfb3235bb851"
      },
      "execution_count": 16,
      "outputs": [
        {
          "output_type": "execute_result",
          "data": {
            "text/plain": [
              "'hello evryone, thos is a random string'"
            ],
            "application/vnd.google.colaboratory.intrinsic+json": {
              "type": "string"
            }
          },
          "metadata": {},
          "execution_count": 16
        }
      ]
    },
    {
      "cell_type": "code",
      "source": [
        "file1.read()"
      ],
      "metadata": {
        "colab": {
          "base_uri": "https://localhost:8080/",
          "height": 36
        },
        "id": "di6jxvJAhCTi",
        "outputId": "939a64e3-0914-4643-8cc4-93d7fa6b29bc"
      },
      "execution_count": 17,
      "outputs": [
        {
          "output_type": "execute_result",
          "data": {
            "text/plain": [
              "''"
            ],
            "application/vnd.google.colaboratory.intrinsic+json": {
              "type": "string"
            }
          },
          "metadata": {},
          "execution_count": 17
        }
      ]
    },
    {
      "cell_type": "code",
      "source": [
        "file1.seek(0)"
      ],
      "metadata": {
        "colab": {
          "base_uri": "https://localhost:8080/"
        },
        "id": "ULx4N272h7-k",
        "outputId": "713fe5e8-ae1f-4e53-ab36-df21614ff97f"
      },
      "execution_count": 18,
      "outputs": [
        {
          "output_type": "execute_result",
          "data": {
            "text/plain": [
              "0"
            ]
          },
          "metadata": {},
          "execution_count": 18
        }
      ]
    },
    {
      "cell_type": "code",
      "source": [
        "file1.read()"
      ],
      "metadata": {
        "colab": {
          "base_uri": "https://localhost:8080/",
          "height": 36
        },
        "id": "gTsTt7e4iQIF",
        "outputId": "0f0547ca-f346-4057-bc0e-6567c8472712"
      },
      "execution_count": 19,
      "outputs": [
        {
          "output_type": "execute_result",
          "data": {
            "text/plain": [
              "'hello evryone, thos is a random string'"
            ],
            "application/vnd.google.colaboratory.intrinsic+json": {
              "type": "string"
            }
          },
          "metadata": {},
          "execution_count": 19
        }
      ]
    },
    {
      "cell_type": "code",
      "source": [
        "file1.seek(6)"
      ],
      "metadata": {
        "colab": {
          "base_uri": "https://localhost:8080/"
        },
        "id": "iE0oody4iU3_",
        "outputId": "7872251a-c0b6-42db-ab5d-b54ff0d53ecf"
      },
      "execution_count": 20,
      "outputs": [
        {
          "output_type": "execute_result",
          "data": {
            "text/plain": [
              "6"
            ]
          },
          "metadata": {},
          "execution_count": 20
        }
      ]
    },
    {
      "cell_type": "code",
      "source": [
        "file1.read()"
      ],
      "metadata": {
        "colab": {
          "base_uri": "https://localhost:8080/",
          "height": 36
        },
        "id": "WEUlJZOzigPR",
        "outputId": "b022a09a-3399-4db9-e9c4-9ab0410b80de"
      },
      "execution_count": 21,
      "outputs": [
        {
          "output_type": "execute_result",
          "data": {
            "text/plain": [
              "'evryone, thos is a random string'"
            ],
            "application/vnd.google.colaboratory.intrinsic+json": {
              "type": "string"
            }
          },
          "metadata": {},
          "execution_count": 21
        }
      ]
    },
    {
      "cell_type": "code",
      "source": [
        "file2 = open('sample2.txt','r+')"
      ],
      "metadata": {
        "id": "_DRp5eJUktII"
      },
      "execution_count": 23,
      "outputs": []
    },
    {
      "cell_type": "code",
      "source": [
        "file2.read()"
      ],
      "metadata": {
        "colab": {
          "base_uri": "https://localhost:8080/",
          "height": 36
        },
        "id": "_9zMEZvWlOaR",
        "outputId": "2bfb335e-9463-4dac-94b0-97f73839638a"
      },
      "execution_count": 24,
      "outputs": [
        {
          "output_type": "execute_result",
          "data": {
            "text/plain": [
              "'line 1 \\nline 2\\nline 3\\n'"
            ],
            "application/vnd.google.colaboratory.intrinsic+json": {
              "type": "string"
            }
          },
          "metadata": {},
          "execution_count": 24
        }
      ]
    },
    {
      "cell_type": "code",
      "source": [
        "file2.close()"
      ],
      "metadata": {
        "id": "rXsPg2JQlTJo"
      },
      "execution_count": 25,
      "outputs": []
    },
    {
      "cell_type": "code",
      "source": [
        "file2 = open('sample2.txt','a+')"
      ],
      "metadata": {
        "id": "cIsJmDp4lV_F"
      },
      "execution_count": 26,
      "outputs": []
    },
    {
      "cell_type": "code",
      "source": [
        "file2.read()"
      ],
      "metadata": {
        "colab": {
          "base_uri": "https://localhost:8080/",
          "height": 36
        },
        "id": "A24y3kGelXvP",
        "outputId": "29181fad-c48b-4af0-c5be-d7c95af049b9"
      },
      "execution_count": 27,
      "outputs": [
        {
          "output_type": "execute_result",
          "data": {
            "text/plain": [
              "''"
            ],
            "application/vnd.google.colaboratory.intrinsic+json": {
              "type": "string"
            }
          },
          "metadata": {},
          "execution_count": 27
        }
      ]
    },
    {
      "cell_type": "code",
      "source": [
        "file2.write(' this is a new string added')"
      ],
      "metadata": {
        "colab": {
          "base_uri": "https://localhost:8080/"
        },
        "id": "hxXaJVshlnj3",
        "outputId": "e11d752e-3fee-4b8f-a93e-3efb408ca323"
      },
      "execution_count": 28,
      "outputs": [
        {
          "output_type": "execute_result",
          "data": {
            "text/plain": [
              "27"
            ]
          },
          "metadata": {},
          "execution_count": 28
        }
      ]
    },
    {
      "cell_type": "code",
      "source": [
        "file2.close()"
      ],
      "metadata": {
        "id": "TljywmkRltLJ"
      },
      "execution_count": 29,
      "outputs": []
    },
    {
      "cell_type": "code",
      "source": [
        "file = open('sample2.txt','r+')"
      ],
      "metadata": {
        "id": "KrmyhMYHl2_6"
      },
      "execution_count": 30,
      "outputs": []
    },
    {
      "cell_type": "code",
      "source": [
        "file.read()\n",
        "#read all the content"
      ],
      "metadata": {
        "colab": {
          "base_uri": "https://localhost:8080/",
          "height": 36
        },
        "id": "zNOmeGVKl92J",
        "outputId": "df33265b-02ba-4003-b244-4d497eff5246"
      },
      "execution_count": 31,
      "outputs": [
        {
          "output_type": "execute_result",
          "data": {
            "text/plain": [
              "'line 1 \\nline 2\\nline 3\\n this is a new string added'"
            ],
            "application/vnd.google.colaboratory.intrinsic+json": {
              "type": "string"
            }
          },
          "metadata": {},
          "execution_count": 31
        }
      ]
    },
    {
      "cell_type": "code",
      "source": [
        "file.seek(0)"
      ],
      "metadata": {
        "colab": {
          "base_uri": "https://localhost:8080/"
        },
        "id": "622cqKAQmZ6G",
        "outputId": "a3884cb2-557c-4c0b-9b84-8a4cfde397a6"
      },
      "execution_count": 32,
      "outputs": [
        {
          "output_type": "execute_result",
          "data": {
            "text/plain": [
              "0"
            ]
          },
          "metadata": {},
          "execution_count": 32
        }
      ]
    },
    {
      "cell_type": "code",
      "source": [
        "file.readline()\n",
        "#it will read line by line"
      ],
      "metadata": {
        "colab": {
          "base_uri": "https://localhost:8080/",
          "height": 36
        },
        "id": "DkoOJZbYmdyr",
        "outputId": "2ab12f81-0f81-46ff-d144-c90dc92cbdae"
      },
      "execution_count": 33,
      "outputs": [
        {
          "output_type": "execute_result",
          "data": {
            "text/plain": [
              "'line 1 \\n'"
            ],
            "application/vnd.google.colaboratory.intrinsic+json": {
              "type": "string"
            }
          },
          "metadata": {},
          "execution_count": 33
        }
      ]
    },
    {
      "cell_type": "code",
      "source": [
        "file.readline()"
      ],
      "metadata": {
        "colab": {
          "base_uri": "https://localhost:8080/",
          "height": 36
        },
        "id": "ijq8yUqVmwgX",
        "outputId": "3cfc192c-dbc2-474b-ad6e-79b140389b99"
      },
      "execution_count": 34,
      "outputs": [
        {
          "output_type": "execute_result",
          "data": {
            "text/plain": [
              "'line 2\\n'"
            ],
            "application/vnd.google.colaboratory.intrinsic+json": {
              "type": "string"
            }
          },
          "metadata": {},
          "execution_count": 34
        }
      ]
    },
    {
      "cell_type": "code",
      "source": [
        "file.readline()"
      ],
      "metadata": {
        "colab": {
          "base_uri": "https://localhost:8080/",
          "height": 36
        },
        "id": "OrARXLhEmzu1",
        "outputId": "9f5dace0-f332-41eb-a5b5-df50e8771fe1"
      },
      "execution_count": 35,
      "outputs": [
        {
          "output_type": "execute_result",
          "data": {
            "text/plain": [
              "'line 3\\n'"
            ],
            "application/vnd.google.colaboratory.intrinsic+json": {
              "type": "string"
            }
          },
          "metadata": {},
          "execution_count": 35
        }
      ]
    },
    {
      "cell_type": "code",
      "source": [
        "file.readline()"
      ],
      "metadata": {
        "colab": {
          "base_uri": "https://localhost:8080/",
          "height": 36
        },
        "id": "T09dIJ-Wm0zX",
        "outputId": "6ecb4fa1-6b73-4bc9-eaf4-82608cad49e4"
      },
      "execution_count": 36,
      "outputs": [
        {
          "output_type": "execute_result",
          "data": {
            "text/plain": [
              "' this is a new string added'"
            ],
            "application/vnd.google.colaboratory.intrinsic+json": {
              "type": "string"
            }
          },
          "metadata": {},
          "execution_count": 36
        }
      ]
    },
    {
      "cell_type": "code",
      "source": [
        "file.readline()"
      ],
      "metadata": {
        "colab": {
          "base_uri": "https://localhost:8080/",
          "height": 36
        },
        "id": "tZjW-W3um2m1",
        "outputId": "081031ee-732e-4f9d-a9d8-f65864959c96"
      },
      "execution_count": 37,
      "outputs": [
        {
          "output_type": "execute_result",
          "data": {
            "text/plain": [
              "''"
            ],
            "application/vnd.google.colaboratory.intrinsic+json": {
              "type": "string"
            }
          },
          "metadata": {},
          "execution_count": 37
        }
      ]
    },
    {
      "cell_type": "code",
      "source": [
        "file.seek(0)"
      ],
      "metadata": {
        "colab": {
          "base_uri": "https://localhost:8080/"
        },
        "id": "ds5WVD9dm8lY",
        "outputId": "69154020-86bf-4fa1-86cd-060c74409379"
      },
      "execution_count": 38,
      "outputs": [
        {
          "output_type": "execute_result",
          "data": {
            "text/plain": [
              "0"
            ]
          },
          "metadata": {},
          "execution_count": 38
        }
      ]
    },
    {
      "cell_type": "code",
      "source": [
        "file1 = open('sample.txt','r+')"
      ],
      "metadata": {
        "id": "83Qy0EBnnVl4"
      },
      "execution_count": 39,
      "outputs": []
    },
    {
      "cell_type": "code",
      "source": [
        "file1.readline()"
      ],
      "metadata": {
        "colab": {
          "base_uri": "https://localhost:8080/",
          "height": 36
        },
        "id": "m6yTEWe6nYrO",
        "outputId": "08549ed0-5464-4f2b-9071-8fa66a4135b2"
      },
      "execution_count": 40,
      "outputs": [
        {
          "output_type": "execute_result",
          "data": {
            "text/plain": [
              "'hello evryone, thos is a random string'"
            ],
            "application/vnd.google.colaboratory.intrinsic+json": {
              "type": "string"
            }
          },
          "metadata": {},
          "execution_count": 40
        }
      ]
    },
    {
      "cell_type": "code",
      "source": [
        "file.seek(0)"
      ],
      "metadata": {
        "colab": {
          "base_uri": "https://localhost:8080/"
        },
        "id": "UhiFp0WfnjD9",
        "outputId": "d73c9244-147e-43af-e76b-cb4fc3ee6832"
      },
      "execution_count": 41,
      "outputs": [
        {
          "output_type": "execute_result",
          "data": {
            "text/plain": [
              "0"
            ]
          },
          "metadata": {},
          "execution_count": 41
        }
      ]
    },
    {
      "cell_type": "code",
      "source": [
        "s = file.readline()\n",
        "lines = []\n",
        "while s!='':\n",
        "  lines.append(s)\n",
        "  s = file.readline()\n",
        "\n",
        "print(lines)  "
      ],
      "metadata": {
        "colab": {
          "base_uri": "https://localhost:8080/"
        },
        "id": "kjocs-H2n1rb",
        "outputId": "87d31b1c-da15-4790-f55b-8ba628b75580"
      },
      "execution_count": 42,
      "outputs": [
        {
          "output_type": "stream",
          "name": "stdout",
          "text": [
            "['line 1 \\n', 'line 2\\n', 'line 3\\n', ' this is a new string added']\n"
          ]
        }
      ]
    },
    {
      "cell_type": "code",
      "source": [
        "file.seek(0)"
      ],
      "metadata": {
        "colab": {
          "base_uri": "https://localhost:8080/"
        },
        "id": "18uOCp9rpGAS",
        "outputId": "d6040952-313e-4117-8fa0-7312662c83be"
      },
      "execution_count": 43,
      "outputs": [
        {
          "output_type": "execute_result",
          "data": {
            "text/plain": [
              "0"
            ]
          },
          "metadata": {},
          "execution_count": 43
        }
      ]
    },
    {
      "cell_type": "code",
      "source": [
        "file.readlines() #list of strings that is present in your file"
      ],
      "metadata": {
        "colab": {
          "base_uri": "https://localhost:8080/"
        },
        "id": "jOAs8riupK3T",
        "outputId": "eefae4f6-a117-47c6-dbe3-7780bff318ec"
      },
      "execution_count": 44,
      "outputs": [
        {
          "output_type": "execute_result",
          "data": {
            "text/plain": [
              "['line 1 \\n', 'line 2\\n', 'line 3\\n', ' this is a new string added']"
            ]
          },
          "metadata": {},
          "execution_count": 44
        }
      ]
    },
    {
      "cell_type": "code",
      "source": [
        "file.seek(0)"
      ],
      "metadata": {
        "colab": {
          "base_uri": "https://localhost:8080/"
        },
        "id": "M-iJ073ipero",
        "outputId": "599530cd-ba6c-435d-ad9e-cff27e21834f"
      },
      "execution_count": 45,
      "outputs": [
        {
          "output_type": "execute_result",
          "data": {
            "text/plain": [
              "0"
            ]
          },
          "metadata": {},
          "execution_count": 45
        }
      ]
    },
    {
      "cell_type": "code",
      "source": [
        "for l in file:\n",
        "  print(l)"
      ],
      "metadata": {
        "colab": {
          "base_uri": "https://localhost:8080/"
        },
        "id": "Ty_Q_HGmqG4h",
        "outputId": "6f4a4e2f-31b6-4f5c-d0a2-6298f3fc0010"
      },
      "execution_count": 47,
      "outputs": [
        {
          "output_type": "stream",
          "name": "stdout",
          "text": [
            "line 1 \n",
            "\n",
            "line 2\n",
            "\n",
            "line 3\n",
            "\n",
            " this is a new string added\n"
          ]
        }
      ]
    },
    {
      "cell_type": "code",
      "source": [
        "file.seek(0)"
      ],
      "metadata": {
        "colab": {
          "base_uri": "https://localhost:8080/"
        },
        "id": "twyiJGD0qhzK",
        "outputId": "28514c7d-dfcd-4cba-850b-a596c1184d50"
      },
      "execution_count": 49,
      "outputs": [
        {
          "output_type": "execute_result",
          "data": {
            "text/plain": [
              "0"
            ]
          },
          "metadata": {},
          "execution_count": 49
        }
      ]
    },
    {
      "cell_type": "code",
      "source": [
        "for l in file:\n",
        "  print(l,end='')"
      ],
      "metadata": {
        "colab": {
          "base_uri": "https://localhost:8080/"
        },
        "id": "YUfVVABjqezQ",
        "outputId": "8da709a8-0fa8-40fa-805a-d797549ada29"
      },
      "execution_count": 50,
      "outputs": [
        {
          "output_type": "stream",
          "name": "stdout",
          "text": [
            "line 1 \n",
            "line 2\n",
            "line 3\n",
            " this is a new string added"
          ]
        }
      ]
    },
    {
      "cell_type": "markdown",
      "source": [
        "#smarter way of opening a file:"
      ],
      "metadata": {
        "id": "2KzExi3Zqvqa"
      }
    },
    {
      "cell_type": "code",
      "source": [
        "with open('sample.txt') as file:\n",
        "  print(file.read(10))\n",
        "  file.seek(5)\n",
        "  print(file.read(15))"
      ],
      "metadata": {
        "colab": {
          "base_uri": "https://localhost:8080/"
        },
        "id": "MfObEVjgqz0h",
        "outputId": "c7ee1a53-0090-46b4-ec00-6b311efad54b"
      },
      "execution_count": 51,
      "outputs": [
        {
          "output_type": "stream",
          "name": "stdout",
          "text": [
            "hello evry\n",
            " evryone, thos \n"
          ]
        }
      ]
    },
    {
      "cell_type": "markdown",
      "source": [
        "#binary files"
      ],
      "metadata": {
        "id": "Q08rliJvsUH8"
      }
    },
    {
      "cell_type": "code",
      "source": [
        "file1 = open('sample.jpg','rb+')"
      ],
      "metadata": {
        "colab": {
          "base_uri": "https://localhost:8080/",
          "height": 168
        },
        "id": "qKN53IEer_pu",
        "outputId": "3c623506-e852-417a-c64e-632e93d09aaa"
      },
      "execution_count": 52,
      "outputs": [
        {
          "output_type": "error",
          "ename": "FileNotFoundError",
          "evalue": "ignored",
          "traceback": [
            "\u001b[0;31m---------------------------------------------------------------------------\u001b[0m",
            "\u001b[0;31mFileNotFoundError\u001b[0m                         Traceback (most recent call last)",
            "\u001b[0;32m<ipython-input-52-b9ed9373ea3a>\u001b[0m in \u001b[0;36m<cell line: 1>\u001b[0;34m()\u001b[0m\n\u001b[0;32m----> 1\u001b[0;31m \u001b[0mfile1\u001b[0m \u001b[0;34m=\u001b[0m \u001b[0mopen\u001b[0m\u001b[0;34m(\u001b[0m\u001b[0;34m'sample.jpg'\u001b[0m\u001b[0;34m,\u001b[0m\u001b[0;34m'rb+'\u001b[0m\u001b[0;34m)\u001b[0m\u001b[0;34m\u001b[0m\u001b[0;34m\u001b[0m\u001b[0m\n\u001b[0m",
            "\u001b[0;31mFileNotFoundError\u001b[0m: [Errno 2] No such file or directory: 'sample.jpg'"
          ]
        }
      ]
    },
    {
      "cell_type": "code",
      "source": [
        "file1 = open('sample.jpg','rb+')"
      ],
      "metadata": {
        "id": "cfp2m_JMs0hl"
      },
      "execution_count": 3,
      "outputs": []
    },
    {
      "cell_type": "code",
      "source": [
        "file2 = open('sample_copy.jpg','wb+')"
      ],
      "metadata": {
        "id": "U_xeZZ2us3x_"
      },
      "execution_count": 4,
      "outputs": []
    },
    {
      "cell_type": "code",
      "source": [
        "while True:\n",
        "  chunk = file1.read(100)\n",
        "  if not chunk:\n",
        "    break\n",
        "  file2.write(chunk)  "
      ],
      "metadata": {
        "id": "5dAnLzNNtKNL"
      },
      "execution_count": 5,
      "outputs": []
    },
    {
      "cell_type": "code",
      "source": [
        "file1.close()\n",
        "file2.close()"
      ],
      "metadata": {
        "id": "Rn_DCBrRtnF9"
      },
      "execution_count": 6,
      "outputs": []
    },
    {
      "cell_type": "code",
      "source": [],
      "metadata": {
        "id": "Lysmd-SqvAtI"
      },
      "execution_count": null,
      "outputs": []
    }
  ]
}