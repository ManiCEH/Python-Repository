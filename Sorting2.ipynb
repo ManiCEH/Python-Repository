{
  "nbformat": 4,
  "nbformat_minor": 0,
  "metadata": {
    "colab": {
      "provenance": [],
      "authorship_tag": "ABX9TyMha4+sy5DPd5tpkNy10fVn",
      "include_colab_link": true
    },
    "kernelspec": {
      "name": "python3",
      "display_name": "Python 3"
    },
    "language_info": {
      "name": "python"
    }
  },
  "cells": [
    {
      "cell_type": "markdown",
      "metadata": {
        "id": "view-in-github",
        "colab_type": "text"
      },
      "source": [
        "<a href=\"https://colab.research.google.com/github/scaleracademy/BeginnersNovMon2-2022/blob/main/Sorting2.ipynb\" target=\"_parent\"><img src=\"https://colab.research.google.com/assets/colab-badge.svg\" alt=\"Open In Colab\"/></a>"
      ]
    },
    {
      "cell_type": "markdown",
      "source": [
        "#Insertion sort"
      ],
      "metadata": {
        "id": "ILuydHLVvOT8"
      }
    },
    {
      "cell_type": "code",
      "execution_count": 1,
      "metadata": {
        "id": "11apE2Nqbxr8"
      },
      "outputs": [],
      "source": [
        "def insertionsort(arr):\n",
        "  n = len(arr)\n",
        "  for i in range(1,n):\n",
        "    j = i-1\n",
        "    key = arr[i]\n",
        "    while j>=0 and key <= arr[j]:\n",
        "      arr[j+1] = arr[j]\n",
        "      j = j-1\n",
        "    arr[j+1] = key   \n"
      ]
    },
    {
      "cell_type": "code",
      "source": [
        "arr = [6,5,3,1,8,7,2,4]\n",
        "insertionsort(arr)\n",
        "print(arr)"
      ],
      "metadata": {
        "colab": {
          "base_uri": "https://localhost:8080/"
        },
        "id": "z8A3nurVwRLK",
        "outputId": "b6220aa9-4855-4f5e-f557-e9453dc838e9"
      },
      "execution_count": 2,
      "outputs": [
        {
          "output_type": "stream",
          "name": "stdout",
          "text": [
            "[1, 2, 3, 4, 5, 6, 7, 8]\n"
          ]
        }
      ]
    },
    {
      "cell_type": "markdown",
      "source": [
        "#selection sort"
      ],
      "metadata": {
        "id": "Ztpxi9ZG4wfB"
      }
    },
    {
      "cell_type": "code",
      "source": [
        "def selectionsort(arr):\n",
        "  n = len(arr)\n",
        "  for i in range(n):\n",
        "    min_idx = i\n",
        "    for j in range(i+1,n):\n",
        "      if arr[j]<arr[min_idx]:\n",
        "        min_idx = j\n",
        "    arr[i],arr[min_idx]=arr[min_idx],arr[i]    "
      ],
      "metadata": {
        "id": "-6QZNhET4ycc"
      },
      "execution_count": 3,
      "outputs": []
    },
    {
      "cell_type": "code",
      "source": [
        "arr = [6,5,3,1,8,7,2,4]\n",
        "selectionsort(arr)\n",
        "print(arr)"
      ],
      "metadata": {
        "colab": {
          "base_uri": "https://localhost:8080/"
        },
        "id": "Qd2Uu6_U5Pyq",
        "outputId": "53bb1894-7490-447f-e715-515b456accd6"
      },
      "execution_count": 4,
      "outputs": [
        {
          "output_type": "stream",
          "name": "stdout",
          "text": [
            "[1, 2, 3, 4, 5, 6, 7, 8]\n"
          ]
        }
      ]
    }
  ]
}