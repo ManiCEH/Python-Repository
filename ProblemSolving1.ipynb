{
  "nbformat": 4,
  "nbformat_minor": 0,
  "metadata": {
    "colab": {
      "provenance": [],
      "authorship_tag": "ABX9TyMkHzLdY/84xL3UnokfpZHn",
      "include_colab_link": true
    },
    "kernelspec": {
      "name": "python3",
      "display_name": "Python 3"
    },
    "language_info": {
      "name": "python"
    }
  },
  "cells": [
    {
      "cell_type": "markdown",
      "metadata": {
        "id": "view-in-github",
        "colab_type": "text"
      },
      "source": [
        "<a href=\"https://colab.research.google.com/github/scaleracademy/BeginnersNovMon2-2022/blob/main/ProblemSolving1.ipynb\" target=\"_parent\"><img src=\"https://colab.research.google.com/assets/colab-badge.svg\" alt=\"Open In Colab\"/></a>"
      ]
    },
    {
      "cell_type": "markdown",
      "source": [
        "## Problem#1: Factorial of a number:\n",
        "\n",
        "<img src='https://www.w3resource.com/w3r_images/python-functions-image-exercise-5.svg'>"
      ],
      "metadata": {
        "id": "Na_2trUwNcyI"
      }
    },
    {
      "cell_type": "code",
      "source": [
        "n = int(input())\n",
        "i = 1\n",
        "result = 1\n",
        "while i<=n:\n",
        "  result = result*i\n",
        "  i = i+1\n",
        "print(result)  "
      ],
      "metadata": {
        "id": "ZtcS0d_ZRPkn",
        "colab": {
          "base_uri": "https://localhost:8080/"
        },
        "outputId": "04a07a60-edff-45b9-a2c0-75f2e4751e6a"
      },
      "execution_count": 3,
      "outputs": [
        {
          "output_type": "stream",
          "name": "stdout",
          "text": [
            "3\n",
            "6\n"
          ]
        }
      ]
    },
    {
      "cell_type": "code",
      "source": [],
      "metadata": {
        "id": "Eeq1RYI9RPiH"
      },
      "execution_count": null,
      "outputs": []
    },
    {
      "cell_type": "code",
      "source": [],
      "metadata": {
        "id": "ZYYfGvC2RPfh"
      },
      "execution_count": null,
      "outputs": []
    },
    {
      "cell_type": "code",
      "source": [],
      "metadata": {
        "id": "gbwLDmU454-g"
      },
      "execution_count": null,
      "outputs": []
    },
    {
      "cell_type": "code",
      "source": [],
      "metadata": {
        "id": "BeVCYBQi541F"
      },
      "execution_count": null,
      "outputs": []
    },
    {
      "cell_type": "code",
      "source": [],
      "metadata": {
        "id": "BQTf4oNH54yY"
      },
      "execution_count": null,
      "outputs": []
    },
    {
      "cell_type": "markdown",
      "source": [
        "## Problem#2: Factor of a number:\n",
        "<img src='https://cdn-skill.splashmath.com/panel-uploads/GlossaryTerm/99e5cd321696436c80a781b68b4b758a/1564730390_2-01.png'>"
      ],
      "metadata": {
        "id": "j-uQRz6ENwx0"
      }
    },
    {
      "cell_type": "code",
      "source": [
        "n = int(input())\n",
        "i = 1\n",
        "while i<=n:\n",
        "  if n%i == 0:\n",
        "    print(i,end=' ')\n",
        "  i = i+1  "
      ],
      "metadata": {
        "id": "L-sbI8zcOHhn",
        "colab": {
          "base_uri": "https://localhost:8080/"
        },
        "outputId": "4530582d-331b-4e76-ce2a-f26907a8d069"
      },
      "execution_count": 5,
      "outputs": [
        {
          "output_type": "stream",
          "name": "stdout",
          "text": [
            "8\n",
            "1 2 4 8 "
          ]
        }
      ]
    },
    {
      "cell_type": "code",
      "source": [],
      "metadata": {
        "id": "R79EfBLl3tS0"
      },
      "execution_count": null,
      "outputs": []
    },
    {
      "cell_type": "code",
      "source": [],
      "metadata": {
        "id": "J2G3fxpo3tP0"
      },
      "execution_count": null,
      "outputs": []
    },
    {
      "cell_type": "code",
      "source": [],
      "metadata": {
        "id": "QcpjdcE63tM9"
      },
      "execution_count": null,
      "outputs": []
    },
    {
      "cell_type": "code",
      "source": [],
      "metadata": {
        "id": "3F6kIQsm56Vg"
      },
      "execution_count": null,
      "outputs": []
    },
    {
      "cell_type": "code",
      "source": [],
      "metadata": {
        "id": "OQOVkLMe56Sg"
      },
      "execution_count": null,
      "outputs": []
    },
    {
      "cell_type": "code",
      "source": [],
      "metadata": {
        "id": "vmKBUkbV56P6"
      },
      "execution_count": null,
      "outputs": []
    },
    {
      "cell_type": "markdown",
      "source": [
        "## Problem#3: Count the number of digits:\n",
        "\n",
        "\n",
        "\n",
        "```\n",
        "Count the digits\n",
        "Problem Description\n",
        "Mr. Q has a diary in which he has written a lot of numbers. He is confused about the number of digits in every number he has written. Mr. Q will provide the different numbers written in the diary and then you have to write a code to find the number of digits in every number he has written.\n",
        "\n",
        "Note: Total different Numbers are T and for every number (let's say N) you need to find the total number of digits.\n",
        "\n",
        "Problem Constraints\n",
        "\n",
        "1 <= T <= 100\n",
        "0 <= N <= 100000000\n",
        "Input Format\n",
        "\n",
        "The first line is the number T which denotes the total numbers written in the diary.\n",
        "Next T lines contain an integer N for which you have to find the number of digits.\n",
        "Output Format\n",
        "\n",
        "For T different Numbers, Print the number of digits in T in different lines.</div>\n",
        "```\n",
        "\n",
        "\n",
        "<img src='https://pencilprogrammer.com/wp-content/uploads/2019/01/Count-number-of-digits-in-python-min.png'>"
      ],
      "metadata": {
        "id": "xjVNkp5COLfr"
      }
    },
    {
      "cell_type": "code",
      "source": [
        "T = int(input())\n",
        "i = 1\n",
        "while i<=T:\n",
        "  n = int(input())\n",
        "  count = 0\n",
        "  if n==0:\n",
        "    count = count+1\n",
        "  while n>0:\n",
        "    rem = n%10\n",
        "    count = count+1\n",
        "    n = n//10\n",
        "  print(count)  \n",
        "  i = i+1\n"
      ],
      "metadata": {
        "id": "D28olFOEROaI",
        "colab": {
          "base_uri": "https://localhost:8080/"
        },
        "outputId": "f708700f-54b2-4652-c7b1-4b06b72b9483"
      },
      "execution_count": 10,
      "outputs": [
        {
          "output_type": "stream",
          "name": "stdout",
          "text": [
            "1\n",
            "0\n",
            "1\n"
          ]
        }
      ]
    },
    {
      "cell_type": "code",
      "source": [],
      "metadata": {
        "id": "5rnj3sJvROLU"
      },
      "execution_count": null,
      "outputs": []
    },
    {
      "cell_type": "code",
      "source": [],
      "metadata": {
        "id": "VkIOdBJyROIr"
      },
      "execution_count": null,
      "outputs": []
    },
    {
      "cell_type": "code",
      "source": [],
      "metadata": {
        "id": "_otN1-kUROF-"
      },
      "execution_count": null,
      "outputs": []
    },
    {
      "cell_type": "code",
      "source": [],
      "metadata": {
        "id": "zRw0mVbL57LT"
      },
      "execution_count": null,
      "outputs": []
    },
    {
      "cell_type": "code",
      "source": [],
      "metadata": {
        "id": "kLdvyNmq57IS"
      },
      "execution_count": null,
      "outputs": []
    },
    {
      "cell_type": "code",
      "source": [],
      "metadata": {
        "id": "0DETWIA357Fj"
      },
      "execution_count": null,
      "outputs": []
    },
    {
      "cell_type": "code",
      "source": [],
      "metadata": {
        "id": "yjsnmbDd57Cy"
      },
      "execution_count": null,
      "outputs": []
    },
    {
      "cell_type": "markdown",
      "source": [
        "## Problem#4: Sum of digits ?\n",
        "\n",
        "\n",
        "```\n",
        "Problem Description\n",
        "Mr. Q has a diary in which a lot of numbers are written. He wants to know the sum of digits for every number. First Ask Mr. Q about the numbers written in the diary and then write a code to find the sum of digits for every number.\n",
        "Note: Total different Numbers are T and for every number (let's say N) you need to find the Sum of digits.\n",
        "\n",
        "Problem Constraints\n",
        "\n",
        "1 <= T <= 1000\n",
        "0 <= N <= 100000000\n",
        "Input Format\n",
        "\n",
        "The first line is T which means the count of numbers.\n",
        "Each of the next T lines contain an integer N.\n",
        ". Output Format\n",
        "\n",
        "**T** lines each containing one integer representing the sum of the digits of the input integer.\n",
        "```\n",
        "\n",
        "\n",
        "\n",
        "<img src='https://www.w3resource.com/w3r_images/python-basic-image-exercise-68.png' height=300>"
      ],
      "metadata": {
        "id": "nCM0ZseNNOgY"
      }
    },
    {
      "cell_type": "code",
      "source": [
        "T = int(input())\n",
        "i =1 \n",
        "while i<=T:\n",
        "  n = int(input())\n",
        "  count = 0\n",
        "  while n>0:\n",
        "     rem =  n%10\n",
        "     count = count+rem\n",
        "     n = n//10\n",
        "  print(count)\n",
        "  i = i+1   "
      ],
      "metadata": {
        "id": "4HOTrgy9RLwE",
        "colab": {
          "base_uri": "https://localhost:8080/"
        },
        "outputId": "a3c1f298-2dd1-4368-de19-06048a59e935"
      },
      "execution_count": 15,
      "outputs": [
        {
          "output_type": "stream",
          "name": "stdout",
          "text": [
            "1\n",
            "2022\n",
            "6\n"
          ]
        }
      ]
    },
    {
      "cell_type": "code",
      "source": [],
      "metadata": {
        "id": "yYBgJ1sLRLtS"
      },
      "execution_count": null,
      "outputs": []
    },
    {
      "cell_type": "code",
      "source": [],
      "metadata": {
        "id": "7aywlr8n2FPV"
      },
      "execution_count": null,
      "outputs": []
    },
    {
      "cell_type": "code",
      "source": [],
      "metadata": {
        "id": "-V9pbSP82STO"
      },
      "execution_count": null,
      "outputs": []
    },
    {
      "cell_type": "code",
      "source": [],
      "metadata": {
        "id": "his7-q0O58Fe"
      },
      "execution_count": null,
      "outputs": []
    },
    {
      "cell_type": "code",
      "source": [],
      "metadata": {
        "id": "HxBBKB0h58B1"
      },
      "execution_count": null,
      "outputs": []
    },
    {
      "cell_type": "code",
      "source": [],
      "metadata": {
        "id": "e_qFcPo9577_"
      },
      "execution_count": null,
      "outputs": []
    },
    {
      "cell_type": "markdown",
      "source": [
        "## problem #5: binary to decimal"
      ],
      "metadata": {
        "id": "26ITk4o6MwY7"
      }
    },
    {
      "cell_type": "code",
      "source": [
        "n = int(input())\n",
        "i =0\n",
        "count = 0\n",
        "while n>0:\n",
        "  rem = n%10\n",
        "  count = count + rem*2**i\n",
        "  n = n//10\n",
        "  i = i+1\n",
        "print(count)  \n",
        "\n"
      ],
      "metadata": {
        "id": "WnFmC-JH2Iik",
        "colab": {
          "base_uri": "https://localhost:8080/"
        },
        "outputId": "30abc6ae-0f22-4172-f151-d03b86563615"
      },
      "execution_count": 16,
      "outputs": [
        {
          "output_type": "stream",
          "name": "stdout",
          "text": [
            "1101\n",
            "13\n"
          ]
        }
      ]
    },
    {
      "cell_type": "code",
      "source": [],
      "metadata": {
        "id": "jfVl5Gyh2Ifr"
      },
      "execution_count": null,
      "outputs": []
    },
    {
      "cell_type": "code",
      "source": [],
      "metadata": {
        "id": "HPXJ4ybd2Ie_"
      },
      "execution_count": null,
      "outputs": []
    },
    {
      "cell_type": "code",
      "source": [],
      "metadata": {
        "id": "aeN7xChQ58vG"
      },
      "execution_count": null,
      "outputs": []
    },
    {
      "cell_type": "code",
      "source": [],
      "metadata": {
        "id": "nDVjuFpC58sO"
      },
      "execution_count": null,
      "outputs": []
    },
    {
      "cell_type": "code",
      "source": [],
      "metadata": {
        "id": "qlwGGKbG58pm"
      },
      "execution_count": null,
      "outputs": []
    },
    {
      "cell_type": "code",
      "source": [],
      "metadata": {
        "id": "BTJmpbMq58m2"
      },
      "execution_count": null,
      "outputs": []
    },
    {
      "cell_type": "markdown",
      "source": [
        "## Homework: Number is armstrong number or not ?"
      ],
      "metadata": {
        "id": "E7SG--yPOCji"
      }
    },
    {
      "cell_type": "code",
      "source": [
        "#doubts\n",
        "n = int(input())\n",
        "i = 1\n",
        "while i<=n:\n",
        "  if n%i == 0:\n",
        "      print(i,end = \" \")\n",
        "  i = i+1    "
      ],
      "metadata": {
        "id": "a2KyCjsoOBMi",
        "colab": {
          "base_uri": "https://localhost:8080/"
        },
        "outputId": "a3e689e3-57da-44fe-85be-7bf8618b94f7"
      },
      "execution_count": 19,
      "outputs": [
        {
          "output_type": "stream",
          "name": "stdout",
          "text": [
            "8\n",
            "1 2 4 8 "
          ]
        }
      ]
    },
    {
      "cell_type": "code",
      "source": [
        "str1 = \"geeks\"\n",
        "print(len(str1))\n"
      ],
      "metadata": {
        "colab": {
          "base_uri": "https://localhost:8080/"
        },
        "id": "ux2EUFzofNMs",
        "outputId": "8bee0ba4-4110-4343-a2a2-090f737bf4fd"
      },
      "execution_count": 20,
      "outputs": [
        {
          "output_type": "stream",
          "name": "stdout",
          "text": [
            "5\n"
          ]
        }
      ]
    }
  ]
}