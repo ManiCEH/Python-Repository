{
  "nbformat": 4,
  "nbformat_minor": 0,
  "metadata": {
    "colab": {
      "provenance": [],
      "authorship_tag": "ABX9TyPCyiPvwxpGfZtwsjTZsTf1",
      "include_colab_link": true
    },
    "kernelspec": {
      "name": "python3",
      "display_name": "Python 3"
    },
    "language_info": {
      "name": "python"
    }
  },
  "cells": [
    {
      "cell_type": "markdown",
      "metadata": {
        "id": "view-in-github",
        "colab_type": "text"
      },
      "source": [
        "<a href=\"https://colab.research.google.com/github/scaleracademy/BeginnersNovMon2-2022/blob/main/ProblemSolving1.ipynb\" target=\"_parent\"><img src=\"https://colab.research.google.com/assets/colab-badge.svg\" alt=\"Open In Colab\"/></a>"
      ]
    },
    {
      "cell_type": "markdown",
      "source": [
        "First Occurence of element in sorted array:\n"
      ],
      "metadata": {
        "id": "dHPvXkrjEayR"
      }
    },
    {
      "cell_type": "code",
      "source": [
        "def firstoccurence(arr,n,target):\n",
        "  start = 0\n",
        "  end = n-1\n",
        "  result = -1\n",
        "  while start<=end:\n",
        "    mid = (start+end)//2\n",
        "    if arr[mid]==target:\n",
        "      result = mid\n",
        "      end = mid -1\n",
        "    elif target<arr[mid]:\n",
        "      end = mid -1\n",
        "    else:\n",
        "      start = mid+1    \n",
        "  return result   "
      ],
      "metadata": {
        "id": "0gmKfuc2CgCV"
      },
      "execution_count": 4,
      "outputs": []
    },
    {
      "cell_type": "code",
      "source": [
        "arr = [2,5,5,5,5,5,5,6,8,8,9,9]\n",
        "target =8\n",
        "firstoccurence(arr,len(arr),target)\n"
      ],
      "metadata": {
        "colab": {
          "base_uri": "https://localhost:8080/"
        },
        "id": "kBEodRc6Cf_f",
        "outputId": "b19d4d9a-3fe3-4f12-dbb4-566c712323f2"
      },
      "execution_count": 6,
      "outputs": [
        {
          "output_type": "execute_result",
          "data": {
            "text/plain": [
              "8"
            ]
          },
          "metadata": {},
          "execution_count": 6
        }
      ]
    },
    {
      "cell_type": "markdown",
      "source": [
        "Last Occurence"
      ],
      "metadata": {
        "id": "xuNiCtDYIohP"
      }
    },
    {
      "cell_type": "code",
      "source": [
        "def lastoccurence(arr,n,target):\n",
        "  start = 0\n",
        "  end = n-1\n",
        "  result = -1\n",
        "  while start<=end:\n",
        "    mid = (start+end)//2\n",
        "    if arr[mid]==target:\n",
        "      result = mid\n",
        "      start = mid + 1\n",
        "    elif target<arr[mid]:\n",
        "      end = mid -1\n",
        "    else:\n",
        "      start = mid+1    \n",
        "  return result "
      ],
      "metadata": {
        "id": "gIqCazdgCf5M"
      },
      "execution_count": 7,
      "outputs": []
    },
    {
      "cell_type": "code",
      "source": [
        "arr = [2,5,5,5,5,5,5,6,8,8,9,9]\n",
        "target =5\n",
        "lastoccurence(arr,len(arr),target)"
      ],
      "metadata": {
        "colab": {
          "base_uri": "https://localhost:8080/"
        },
        "id": "nv0kycZpCf2L",
        "outputId": "9ea07168-c3be-4d44-f10b-82a2cb3a7bda"
      },
      "execution_count": 9,
      "outputs": [
        {
          "output_type": "execute_result",
          "data": {
            "text/plain": [
              "6"
            ]
          },
          "metadata": {},
          "execution_count": 9
        }
      ]
    },
    {
      "cell_type": "markdown",
      "source": [
        "#Count the number of occurences of given element present in sorted array"
      ],
      "metadata": {
        "id": "sGWVonAMKa5-"
      }
    },
    {
      "cell_type": "code",
      "source": [
        "def count_occurence(arr,n,target):\n",
        "  first = firstoccurence(arr,n,target)\n",
        "  last = lastoccurence(arr,n,target)\n",
        "  count = last-first+1\n",
        "  return count"
      ],
      "metadata": {
        "id": "0LrkeUZWCfzL"
      },
      "execution_count": 10,
      "outputs": []
    },
    {
      "cell_type": "code",
      "source": [
        "arr = [2,5,5,5,5,5,5,6,8,8,9,9]\n",
        "target =5\n",
        "count_occurence(arr,len(arr),target)"
      ],
      "metadata": {
        "colab": {
          "base_uri": "https://localhost:8080/"
        },
        "id": "9IDoCkByCfwS",
        "outputId": "0b5ab141-9e21-4ac9-90e8-4cc1cf6d485e"
      },
      "execution_count": 11,
      "outputs": [
        {
          "output_type": "execute_result",
          "data": {
            "text/plain": [
              "6"
            ]
          },
          "metadata": {},
          "execution_count": 11
        }
      ]
    },
    {
      "cell_type": "code",
      "source": [],
      "metadata": {
        "id": "xGaGz6hhCftb"
      },
      "execution_count": null,
      "outputs": []
    },
    {
      "cell_type": "code",
      "source": [],
      "metadata": {
        "id": "zUNNaE77CfqS"
      },
      "execution_count": null,
      "outputs": []
    },
    {
      "cell_type": "code",
      "source": [],
      "metadata": {
        "id": "kz8MPAocCflB"
      },
      "execution_count": null,
      "outputs": []
    },
    {
      "cell_type": "code",
      "source": [],
      "metadata": {
        "id": "3I7-WzrNCfiI"
      },
      "execution_count": null,
      "outputs": []
    },
    {
      "cell_type": "code",
      "source": [],
      "metadata": {
        "id": "ku2sErMdCffQ"
      },
      "execution_count": null,
      "outputs": []
    },
    {
      "cell_type": "code",
      "source": [],
      "metadata": {
        "id": "VCYdDBi7Cfcq"
      },
      "execution_count": null,
      "outputs": []
    },
    {
      "cell_type": "code",
      "source": [],
      "metadata": {
        "id": "LLxRuCmJCfZ3"
      },
      "execution_count": null,
      "outputs": []
    },
    {
      "cell_type": "code",
      "source": [],
      "metadata": {
        "id": "Dk1ghFEWCfXG"
      },
      "execution_count": null,
      "outputs": []
    },
    {
      "cell_type": "code",
      "source": [],
      "metadata": {
        "id": "Endz2JHgCfUR"
      },
      "execution_count": null,
      "outputs": []
    },
    {
      "cell_type": "markdown",
      "source": [
        "# first and last element\n",
        "\n",
        "```\n",
        "\n",
        "Problem Description\n",
        "Given an unsorted list of integers.\n",
        "Return the sum of the first and last elements of the list after\n",
        "sorting the first k elements of the list using Bubble Sort.\n",
        "\n",
        "\n",
        "Example Input\n",
        "64 34 25 12 22 11 90\n",
        "4\n",
        "\n",
        "\n",
        "Example Output\n",
        "102\n",
        "\n",
        "\n",
        "```\n",
        "\n"
      ],
      "metadata": {
        "id": "yqv9TUsvBuID"
      }
    },
    {
      "cell_type": "code",
      "execution_count": 8,
      "metadata": {
        "id": "dUBuZhHGM7pp"
      },
      "outputs": [],
      "source": [
        "def bubbleSort(arr,k):\n",
        "    \"\"\"\n",
        "    argument arr is list, k is int\n",
        "    store result in res\n",
        "    \"\"\"\n",
        "    \n",
        "    res=0\n",
        "  \n",
        "    for i in range(k):\n",
        "        for j in range(0, k-i-1):\n",
        "            if arr[j] > arr[j + 1] :\n",
        "                arr[j], arr[j + 1] = arr[j + 1], arr[j]\n",
        "    \n",
        "    res= arr[0]+arr[-1]\n",
        "    \n",
        "    return res"
      ]
    },
    {
      "cell_type": "code",
      "source": [
        "arr= [64, 34, 25, 12, 22, 11, 90]\n",
        "k = 4\n",
        "bubbleSort(arr,4)"
      ],
      "metadata": {
        "colab": {
          "base_uri": "https://localhost:8080/"
        },
        "id": "nZBxrpA1BWza",
        "outputId": "2f26b56a-3056-4c75-bb88-57da9cd33bce"
      },
      "execution_count": 9,
      "outputs": [
        {
          "output_type": "execute_result",
          "data": {
            "text/plain": [
              "102"
            ]
          },
          "metadata": {},
          "execution_count": 9
        }
      ]
    },
    {
      "cell_type": "code",
      "source": [
        "print(arr)"
      ],
      "metadata": {
        "colab": {
          "base_uri": "https://localhost:8080/"
        },
        "id": "25k2-HwnBkRD",
        "outputId": "ef03ed8f-e03f-4689-ff5e-277f2347894d"
      },
      "execution_count": 10,
      "outputs": [
        {
          "output_type": "stream",
          "name": "stdout",
          "text": [
            "[12, 25, 34, 64, 22, 11, 90]\n"
          ]
        }
      ]
    }
  ]
}