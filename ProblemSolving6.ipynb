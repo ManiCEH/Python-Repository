{
  "nbformat": 4,
  "nbformat_minor": 0,
  "metadata": {
    "colab": {
      "provenance": [],
      "authorship_tag": "ABX9TyP9A+IlltYy7M1kEPZ3cgmD",
      "include_colab_link": true
    },
    "kernelspec": {
      "name": "python3",
      "display_name": "Python 3"
    },
    "language_info": {
      "name": "python"
    }
  },
  "cells": [
    {
      "cell_type": "markdown",
      "metadata": {
        "id": "view-in-github",
        "colab_type": "text"
      },
      "source": [
        "<a href=\"https://colab.research.google.com/github/scaleracademy/BeginnersNovMon2-2022/blob/main/ProblemSolving6.ipynb\" target=\"_parent\"><img src=\"https://colab.research.google.com/assets/colab-badge.svg\" alt=\"Open In Colab\"/></a>"
      ]
    },
    {
      "cell_type": "markdown",
      "source": [
        "## Where the storage is\n",
        "What will be the output of the following code\n",
        "```python\n",
        "a = 10\n",
        "b = a+5\n",
        "a += 5\n",
        "print(id(a) == id(b))\n",
        "```\n",
        "Note: id(a) returns the memory location for the value stored in the variable a\n",
        "\n",
        "```\n",
        "a. False \n",
        "b. True\n",
        "c. Error\n",
        "d. None of the options\n",
        "```"
      ],
      "metadata": {
        "id": "ybeUJpjDllyB"
      }
    },
    {
      "cell_type": "code",
      "source": [
        "a = 10\n",
        "b = a+5\n",
        "print(id(b))\n",
        "print(id(a))\n",
        "a += 5\n",
        "print(id(a))\n",
        "print(id(a) == id(b))"
      ],
      "metadata": {
        "colab": {
          "base_uri": "https://localhost:8080/"
        },
        "id": "A6ddpj-CTbtm",
        "outputId": "7bb44735-c615-43eb-f5d5-de29135d9bbc"
      },
      "execution_count": 27,
      "outputs": [
        {
          "output_type": "stream",
          "name": "stdout",
          "text": [
            "9793536\n",
            "9793376\n",
            "9793536\n",
            "True\n"
          ]
        }
      ]
    },
    {
      "cell_type": "code",
      "source": [],
      "metadata": {
        "id": "B07_yLSQTbqI"
      },
      "execution_count": null,
      "outputs": []
    },
    {
      "cell_type": "code",
      "source": [],
      "metadata": {
        "id": "w_CiCROeTbnF"
      },
      "execution_count": null,
      "outputs": []
    },
    {
      "cell_type": "code",
      "source": [],
      "metadata": {
        "id": "-y06IK1cTbkI"
      },
      "execution_count": null,
      "outputs": []
    },
    {
      "cell_type": "markdown",
      "source": [
        "## Negative Remainder\n",
        "\n",
        "What will be the output of the following python expression\n",
        "```python\n",
        "print(-50 % 7) \n",
        "```\n",
        "\n",
        "```\n",
        "a. 7\n",
        "b. 1\n",
        "c. 6 \n",
        "d. 13\n",
        "```"
      ],
      "metadata": {
        "id": "QChRo-dKlzdJ"
      }
    },
    {
      "cell_type": "code",
      "source": [
        "print(-50 % 7) "
      ],
      "metadata": {
        "colab": {
          "base_uri": "https://localhost:8080/"
        },
        "id": "JzX9KKMJTdCM",
        "outputId": "7f2c7f95-b89f-4c82-8d8c-5cb741877e34"
      },
      "execution_count": 28,
      "outputs": [
        {
          "output_type": "stream",
          "name": "stdout",
          "text": [
            "6\n"
          ]
        }
      ]
    },
    {
      "cell_type": "code",
      "source": [],
      "metadata": {
        "id": "yrUWjOlCZs2O"
      },
      "execution_count": null,
      "outputs": []
    },
    {
      "cell_type": "code",
      "source": [],
      "metadata": {
        "id": "a_xjIivaZszJ"
      },
      "execution_count": null,
      "outputs": []
    },
    {
      "cell_type": "code",
      "source": [],
      "metadata": {
        "id": "cqzr7VBOTc_R"
      },
      "execution_count": null,
      "outputs": []
    },
    {
      "cell_type": "code",
      "source": [],
      "metadata": {
        "id": "2HNGkEQFTc8d"
      },
      "execution_count": null,
      "outputs": []
    },
    {
      "cell_type": "code",
      "source": [],
      "metadata": {
        "id": "ILwbNBhEfwWT"
      },
      "execution_count": null,
      "outputs": []
    },
    {
      "cell_type": "markdown",
      "source": [
        "##  Type confusion\n",
        "What will be the output of the following code\n",
        "```python\n",
        "a = True\n",
        "a -= 1\n",
        "print(type(a))\n",
        "```\n",
        "```\n",
        "a. <class 'bool'>\n",
        "b. <class 'int'> \n",
        "c. Error: -= is not applicable for booleans\n",
        "d. None of the options\n",
        "```"
      ],
      "metadata": {
        "id": "3VGTaCFbmM4f"
      }
    },
    {
      "cell_type": "code",
      "source": [
        "a = True\n",
        "a -= 1\n",
        "print(a)\n",
        "print(type(a))"
      ],
      "metadata": {
        "id": "vzipQPSOmwza",
        "colab": {
          "base_uri": "https://localhost:8080/"
        },
        "outputId": "e25ac506-69fd-4b1a-e5ce-22e9c421bf76"
      },
      "execution_count": 30,
      "outputs": [
        {
          "output_type": "stream",
          "name": "stdout",
          "text": [
            "0\n",
            "<class 'int'>\n"
          ]
        }
      ]
    },
    {
      "cell_type": "code",
      "source": [],
      "metadata": {
        "id": "Pn2s_x4gmwwr"
      },
      "execution_count": null,
      "outputs": []
    },
    {
      "cell_type": "code",
      "source": [],
      "metadata": {
        "id": "b8mLZTNkTgfn"
      },
      "execution_count": null,
      "outputs": []
    },
    {
      "cell_type": "code",
      "source": [],
      "metadata": {
        "id": "hw91ukwwTgcl"
      },
      "execution_count": null,
      "outputs": []
    },
    {
      "cell_type": "code",
      "source": [],
      "metadata": {
        "id": "xXSAHlQ0TgZn"
      },
      "execution_count": null,
      "outputs": []
    },
    {
      "cell_type": "markdown",
      "source": [
        "## Friend or No Friend\n",
        "Hulk is 200 years old and wants to make friends but due to his immense power he needs some safety check for his friends. Hulk will become some person's friend only if that person's age when squared and added to 10 times of his original age is greater than Hulk's age.\n",
        "\n",
        "Hulk need Tony's help to write a program and you are Tony Stark so help him.\n",
        "\n",
        "**Sample Input:**\n",
        "```\n",
        "Age of person in integer\n",
        "```\n",
        "\n",
        "**Sample Output:**\n",
        "```\n",
        "True if they can be friend else False\n",
        "```\n",
        "\n",
        "**Sample Input:**\n",
        "```\n",
        "10\n",
        "```\n",
        "**Sample Output:**\n",
        "```\n",
        "False\n",
        "```\n",
        "\n",
        "**Sample Explanation:**\n",
        "```\n",
        "10^2 = 100\n",
        "10 * 10 + 100 > hulk's age\n",
        "hence they can be friend\n",
        "```"
      ],
      "metadata": {
        "id": "wauP4ifamTlb"
      }
    },
    {
      "cell_type": "code",
      "source": [
        "age = int(input())\n",
        "hulk_age = 200\n",
        "age = age*10 + age**2\n",
        "print(age>hulk_age)"
      ],
      "metadata": {
        "colab": {
          "base_uri": "https://localhost:8080/"
        },
        "id": "8nS7kxSfTh0G",
        "outputId": "2b1b66da-e351-4b70-8010-8ebfa7b2ff1a"
      },
      "execution_count": 34,
      "outputs": [
        {
          "output_type": "stream",
          "name": "stdout",
          "text": [
            "100\n",
            "True\n"
          ]
        }
      ]
    },
    {
      "cell_type": "code",
      "source": [],
      "metadata": {
        "id": "b4Z7Y_uhThuW"
      },
      "execution_count": null,
      "outputs": []
    },
    {
      "cell_type": "code",
      "source": [],
      "metadata": {
        "id": "0-K_JCt7Thri"
      },
      "execution_count": null,
      "outputs": []
    },
    {
      "cell_type": "code",
      "source": [],
      "metadata": {
        "id": "kpSPEw8BmyZr"
      },
      "execution_count": null,
      "outputs": []
    },
    {
      "cell_type": "code",
      "source": [],
      "metadata": {
        "id": "g_yCPA9vmyWs"
      },
      "execution_count": null,
      "outputs": []
    },
    {
      "cell_type": "code",
      "source": [],
      "metadata": {
        "id": "OoFYlI4cmyTk"
      },
      "execution_count": null,
      "outputs": []
    },
    {
      "cell_type": "markdown",
      "source": [
        "## What will be the output of the following python program\n",
        "\n",
        "```python\n",
        "num = 10\n",
        "\n",
        "if num%2:\n",
        "  print(\"OHH\")\n",
        "else:\n",
        "  print(\"NOO\")\n",
        "elif num > 2:\n",
        "  print(\"WHYY\")\n",
        "```\n",
        "\n",
        "A)\n",
        "```\n",
        "OHH\n",
        "NOO\n",
        "WHY\n",
        "```\n",
        "B)\n",
        "```\n",
        "OHH\n",
        "WHY\n",
        "```\n",
        "C)\n",
        "```\n",
        "NOO\n",
        "WHY\n",
        "```\n",
        "D)\n",
        "```\n",
        "SyntaxError\n",
        "```"
      ],
      "metadata": {
        "id": "ZyyZSMkymr1s"
      }
    },
    {
      "cell_type": "code",
      "source": [
        "num = 10\n",
        "\n",
        "if num%2:\n",
        "  print(\"OHH\")\n",
        "else:\n",
        "  print(\"NOO\")\n",
        "elif num > 2:\n",
        "  print(\"WHYY\")"
      ],
      "metadata": {
        "colab": {
          "base_uri": "https://localhost:8080/",
          "height": 132
        },
        "id": "0GIC1r_0TkFp",
        "outputId": "6f78d7b9-825c-47e5-d569-9afbd55c6ea1"
      },
      "execution_count": 35,
      "outputs": [
        {
          "output_type": "error",
          "ename": "SyntaxError",
          "evalue": "ignored",
          "traceback": [
            "\u001b[0;36m  File \u001b[0;32m\"<ipython-input-35-a04933d942ba>\"\u001b[0;36m, line \u001b[0;32m7\u001b[0m\n\u001b[0;31m    elif num > 2:\u001b[0m\n\u001b[0m    ^\u001b[0m\n\u001b[0;31mSyntaxError\u001b[0m\u001b[0;31m:\u001b[0m invalid syntax\n"
          ]
        }
      ]
    },
    {
      "cell_type": "code",
      "source": [],
      "metadata": {
        "id": "TKgaLuPTTkCi"
      },
      "execution_count": null,
      "outputs": []
    },
    {
      "cell_type": "code",
      "source": [],
      "metadata": {
        "id": "vYlIy1ZFTj_2"
      },
      "execution_count": null,
      "outputs": []
    },
    {
      "cell_type": "code",
      "source": [],
      "metadata": {
        "id": "LxuJoHZyTj86"
      },
      "execution_count": null,
      "outputs": []
    },
    {
      "cell_type": "code",
      "source": [],
      "metadata": {
        "id": "gF4tPLTgTj6G"
      },
      "execution_count": null,
      "outputs": []
    },
    {
      "cell_type": "code",
      "source": [],
      "metadata": {
        "id": "jBADuuVcTj3M"
      },
      "execution_count": null,
      "outputs": []
    },
    {
      "cell_type": "markdown",
      "source": [
        "## 6. last k digits\n",
        "Write a program that takes two inputs. First is the integer number and second is the integer **k**. As ouput program should print the last k digits of the given number.\n",
        "\n",
        "**Input format**:\n",
        "```\n",
        "First input is the number itself\n",
        "Second input the k (digits to print)\n",
        "```\n",
        "\n",
        "**Output format**:\n",
        "```\n",
        "Last k digits of the input number\n",
        "```\n",
        "\n",
        "**Input sample**:\n",
        "```\n",
        "12345\n",
        "3\n",
        "```\n",
        "***Output Sample**:\n",
        "```\n",
        "345\n",
        "```"
      ],
      "metadata": {
        "id": "aPMEcKafm9xC"
      }
    },
    {
      "cell_type": "code",
      "source": [
        "num = int(input())\n",
        "k = int(input())\n",
        "print(num%10**k)"
      ],
      "metadata": {
        "id": "ZL6lIRQ3sK23",
        "colab": {
          "base_uri": "https://localhost:8080/"
        },
        "outputId": "e7c9d856-219e-40be-befb-54b54597b8fd"
      },
      "execution_count": 37,
      "outputs": [
        {
          "output_type": "stream",
          "name": "stdout",
          "text": [
            "38970\n",
            "4\n",
            "8970\n"
          ]
        }
      ]
    },
    {
      "cell_type": "code",
      "source": [],
      "metadata": {
        "id": "g3PPN6BqsK0A"
      },
      "execution_count": null,
      "outputs": []
    },
    {
      "cell_type": "code",
      "source": [],
      "metadata": {
        "id": "wwleDtBasKxL"
      },
      "execution_count": null,
      "outputs": []
    },
    {
      "cell_type": "code",
      "source": [],
      "metadata": {
        "id": "3j2mKTmGTlvp"
      },
      "execution_count": null,
      "outputs": []
    },
    {
      "cell_type": "code",
      "source": [],
      "metadata": {
        "id": "Hfbgmu_tTlsk"
      },
      "execution_count": null,
      "outputs": []
    },
    {
      "cell_type": "code",
      "source": [],
      "metadata": {
        "id": "RiXlGZzITlpY"
      },
      "execution_count": null,
      "outputs": []
    },
    {
      "cell_type": "markdown",
      "source": [
        "## if-else OP\n",
        "\n",
        "What is the output of the following program?\n",
        "\n",
        "```python\n",
        "num = 100\n",
        "if num == 100:\n",
        "  print(\"lolo\", end=\" \")\n",
        "if num > 50:\n",
        "  print(\"momo\", end=\" \")\n",
        "  if num%3:\n",
        "    print(\"rono\", end=\" \")\n",
        "elif num%10 == 0:\n",
        "   print(\"nono\", end=\" \")\n",
        "else:\n",
        "  print(\"homo\", end=\" \")\n",
        "```\n",
        "\n",
        "```\n",
        "A. lolo momo rono nono \n",
        "B. lolo momo rono homo\n",
        "C. lolo momo rono \n",
        "D. lolo rono  nono\n",
        "```"
      ],
      "metadata": {
        "id": "FRdnLmULnS2p"
      }
    },
    {
      "cell_type": "code",
      "source": [],
      "metadata": {
        "id": "RBXV9EXuozyQ"
      },
      "execution_count": null,
      "outputs": []
    },
    {
      "cell_type": "code",
      "source": [],
      "metadata": {
        "id": "7i7UYKeKozv6"
      },
      "execution_count": null,
      "outputs": []
    },
    {
      "cell_type": "code",
      "source": [],
      "metadata": {
        "id": "JFXmjrCjoztT"
      },
      "execution_count": null,
      "outputs": []
    },
    {
      "cell_type": "code",
      "source": [],
      "metadata": {
        "id": "Oxj1cdtoTm0I"
      },
      "execution_count": null,
      "outputs": []
    },
    {
      "cell_type": "code",
      "source": [],
      "metadata": {
        "id": "fyvw4SLWTmwz"
      },
      "execution_count": null,
      "outputs": []
    },
    {
      "cell_type": "markdown",
      "source": [
        "\n",
        "## What is the ouput of the following python program?\n",
        "```python\n",
        "n = 5\n",
        "i = 1\n",
        "while n >= i and i <= n:\n",
        "  i += 1\n",
        "  n -= 1\n",
        "  print(\"*\"*n)\n",
        "  print(\"*\"*i)\n",
        "```\n",
        "\n",
        "A) \n",
        "```\n",
        "****\n",
        "**\n",
        "***\n",
        "***\n",
        "**\n",
        "****\n",
        "```\n",
        "B)\n",
        "```\n",
        "*****\n",
        "****\n",
        "***\n",
        "**\n",
        "*\n",
        "```\n",
        "C)\n",
        "```\n",
        "*****\n",
        "*****\n",
        "*****\n",
        "*****\n",
        "*****\n",
        "```\n",
        "D)\n",
        "```\n",
        "*\n",
        "**\n",
        "***\n",
        "****\n",
        "*****\n",
        "```"
      ],
      "metadata": {
        "id": "0I6DlIL8nyk6"
      }
    },
    {
      "cell_type": "code",
      "source": [],
      "metadata": {
        "id": "cvfO3WpRo0xc"
      },
      "execution_count": null,
      "outputs": []
    },
    {
      "cell_type": "code",
      "source": [],
      "metadata": {
        "id": "33W6dpGjjEEa"
      },
      "execution_count": null,
      "outputs": []
    },
    {
      "cell_type": "code",
      "source": [],
      "metadata": {
        "id": "ePjNPVHojEBf"
      },
      "execution_count": null,
      "outputs": []
    },
    {
      "cell_type": "code",
      "source": [],
      "metadata": {
        "id": "I2DwqkHKToh3"
      },
      "execution_count": null,
      "outputs": []
    },
    {
      "cell_type": "code",
      "source": [],
      "metadata": {
        "id": "vWjkcTR0Toeq"
      },
      "execution_count": null,
      "outputs": []
    },
    {
      "cell_type": "code",
      "source": [],
      "metadata": {
        "id": "ody7z6BtTob_"
      },
      "execution_count": null,
      "outputs": []
    },
    {
      "cell_type": "markdown",
      "source": [
        "## 4. Sort the dictionary\n",
        "You are given a dictionary as input, sort the input dictionary in increasing order of the values for keys\n",
        "\n",
        "**Input Sample**:\n",
        "```\n",
        "{1: 2, 3: 4, 4: 3, 2: 1, 0: 0}\n",
        "```\n",
        "**Output Sample**\n",
        "```\n",
        "{0: 0, 2: 1, 1: 2, 4: 3, 3: 4}\n",
        "```"
      ],
      "metadata": {
        "id": "P_ZOk0_JpwPh"
      }
    },
    {
      "cell_type": "code",
      "source": [],
      "metadata": {
        "id": "UW0a_IVGTrqY"
      },
      "execution_count": null,
      "outputs": []
    },
    {
      "cell_type": "code",
      "source": [],
      "metadata": {
        "id": "nzrBcIhzTrnT"
      },
      "execution_count": null,
      "outputs": []
    },
    {
      "cell_type": "code",
      "source": [],
      "metadata": {
        "id": "ymDtF9dWTrkW"
      },
      "execution_count": null,
      "outputs": []
    },
    {
      "cell_type": "code",
      "source": [],
      "metadata": {
        "id": "yDbuP5VETrhb"
      },
      "execution_count": null,
      "outputs": []
    },
    {
      "cell_type": "code",
      "source": [],
      "metadata": {
        "id": "NXQqHNSzTred"
      },
      "execution_count": null,
      "outputs": []
    },
    {
      "cell_type": "code",
      "source": [],
      "metadata": {
        "id": "MiqQWanVTrba"
      },
      "execution_count": null,
      "outputs": []
    },
    {
      "cell_type": "code",
      "source": [],
      "metadata": {
        "id": "hueZurwcTrYk"
      },
      "execution_count": null,
      "outputs": []
    },
    {
      "cell_type": "code",
      "source": [],
      "metadata": {
        "id": "1szg13hxTrVw"
      },
      "execution_count": null,
      "outputs": []
    },
    {
      "cell_type": "markdown",
      "source": [
        "## Spiral matrix\n",
        "\n",
        "You are given a Square matrix, write python program to print this matrix in sprial format in clockwise rotation.\n",
        "\n",
        "**Input format**:\n",
        "\n",
        "```\n",
        "Square matrix\n",
        "```\n",
        "\n",
        "**Output format**\n",
        "\n",
        "```\n",
        "print the matrix in spiral order clockwise\n",
        "```\n",
        "\n",
        "**Input sample**:\n",
        "\n",
        "```\n",
        "[[1, 2, 3, 4],[5, 6, 7, 8],[9, 10, 11, 12],[13, 14, 15, 16]]\n",
        "```\n",
        "\n",
        "**Output sample**:\n",
        "\n",
        "```\n",
        "1 2 3 4 8 12 16 15 14 13 9 5 6 7 11 10 \n",
        "```"
      ],
      "metadata": {
        "id": "cjr13tJTr8cy"
      }
    },
    {
      "cell_type": "code",
      "source": [
        "def solve(matrix):\n",
        "    rows = len(matrix) \n",
        "    columns = len(matrix[0])\n",
        "    m = rows-1\n",
        "    n = columns-1\n",
        "    k = 0\n",
        "    l = 0\n",
        "\n",
        "    while (k <= m and l <= n):\n",
        "\n",
        "        # Print the first row from\n",
        "        # the remaining rows\n",
        "        for i in range(l, n+1):\n",
        "            print(matrix[k][i], end=\" \")\n",
        "\n",
        "        k += 1\n",
        "\n",
        "        # Print the last column from\n",
        "        # the remaining columns\n",
        "        for i in range(k, m+1):\n",
        "            print(matrix[i][n], end=\" \")\n",
        "\n",
        "        n -= 1\n",
        "\n",
        "        # Print the last row from\n",
        "        # the remaining rows\n",
        "        if (k <= m):\n",
        "\n",
        "            for i in range(n, (l - 1), -1):\n",
        "                print(matrix[m][i], end=\" \")\n",
        "\n",
        "            m -= 1\n",
        "\n",
        "        # Print the first column from\n",
        "        # the remaining columns\n",
        "        if (l <= n):\n",
        "            for i in range(m, k - 1, -1):\n",
        "                print(matrix[i][l], end=\" \")\n",
        "            l += 1\n",
        "\n",
        "\n",
        "matrix = eval(input())\n",
        "solve(matrix)"
      ],
      "metadata": {
        "id": "KW7-ZU--TuCk"
      },
      "execution_count": null,
      "outputs": []
    },
    {
      "cell_type": "code",
      "source": [],
      "metadata": {
        "id": "C0I3ZmVRTt_P"
      },
      "execution_count": null,
      "outputs": []
    },
    {
      "cell_type": "code",
      "source": [],
      "metadata": {
        "id": "c3-zrVXCTt8i"
      },
      "execution_count": null,
      "outputs": []
    },
    {
      "cell_type": "code",
      "source": [],
      "metadata": {
        "id": "iYpSIZqqTt5u"
      },
      "execution_count": null,
      "outputs": []
    },
    {
      "cell_type": "code",
      "source": [],
      "metadata": {
        "id": "Iky0bTViTt25"
      },
      "execution_count": null,
      "outputs": []
    },
    {
      "cell_type": "code",
      "source": [],
      "metadata": {
        "id": "wz4-erR6Ttz9"
      },
      "execution_count": null,
      "outputs": []
    },
    {
      "cell_type": "code",
      "source": [],
      "metadata": {
        "id": "xr4-II8JTtw9"
      },
      "execution_count": null,
      "outputs": []
    }
  ]
}